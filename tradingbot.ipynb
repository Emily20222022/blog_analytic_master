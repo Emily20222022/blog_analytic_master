{
  "nbformat": 4,
  "nbformat_minor": 0,
  "metadata": {
    "colab": {
      "provenance": [],
      "mount_file_id": "1tkYcNpJpY9bN0OVugysweI1mxhybMPag",
      "authorship_tag": "ABX9TyOd4DHpv7VLmyupk0lAREi5",
      "include_colab_link": true
    },
    "kernelspec": {
      "name": "python3",
      "display_name": "Python 3"
    },
    "language_info": {
      "name": "python"
    }
  },
  "cells": [
    {
      "cell_type": "markdown",
      "metadata": {
        "id": "view-in-github",
        "colab_type": "text"
      },
      "source": [
        "<a href=\"https://colab.research.google.com/github/Emily20222022/blog_analytic_master/blob/master/tradingbot.ipynb\" target=\"_parent\"><img src=\"https://colab.research.google.com/assets/colab-badge.svg\" alt=\"Open In Colab\"/></a>"
      ]
    },
    {
      "cell_type": "code",
      "source": [
        "# %% [code]\n",
        "import pandas as pd\n",
        "import numpy as np\n",
        "from matplotlib import pyplot as plt\n",
        "%matplotlib inline\n",
        "\n",
        "# %% [code]\n",
        "from zipline.data.data_portal import DataPortal\n",
        "from zipline.data import bundles\n",
        "from zipline.utils.calendars import get_calendar\n",
        "\n",
        "# %% [code]\n",
        "bundle_data = bundles.load(\"quandl\")\n",
        "\n",
        "# %% [code]\n",
        "print(type(bundle_data))\n",
        "# 実行出力\n",
        "# 0KB\n",
        "# \tStream\n",
        "# \t\t<class 'zipline.data.bundles.core.BundleData'>\n",
        "\n",
        "# %% [code]\n",
        "end_date = pd.Timestamp(\"2014-01-01\", tz=\"utc\")\n",
        "\n",
        "# %% [code]\n",
        "bundle_data.equity_daily_bar_reader.first_trading_day\n",
        "# 実行出力\n",
        "# 0KB\n",
        "# \ttext/plain\n",
        "# \t\tTimestamp('1990-01-02 00:00:00+0000', tz='UTC')\n",
        "\n",
        "# %% [code]\n",
        "data_por = DataPortal(\n",
        "    asset_finder=bundle_data.asset_finder, \n",
        "    trading_calendar=get_calendar(\"NYSE\"),\n",
        "    first_trading_day=bundle_data.equity_daily_bar_reader.first_trading_day,\n",
        "    equity_daily_reader=bundle_data.equity_daily_bar_reader\n",
        ")\n",
        "\n",
        "# %% [code]\n",
        "TSLA = data_por.asset_finder.lookup_symbol(\n",
        "    \"TSLA\",\n",
        "    as_of_date=None\n",
        ")\n",
        "\n",
        "# %% [code]\n",
        "df = data_por.get_history_window(\n",
        "    assets=[TSLA],\n",
        "    end_dt=end_date,\n",
        "    bar_count=31 * 12,\n",
        "    frequency='1d',\n",
        "    data_frequency='daily',\n",
        "    field=\"open\"\n",
        ")\n",
        "\n",
        "# %% [code]\n",
        "df.head()\n",
        "# 実行出力\n",
        "# 1KB\n",
        "# \ttext/plain\n",
        "# \t\tEquity(2862 [TSLA])\n",
        "# \t\t2012-07-11 00:00:00+00:00                31.57\n",
        "# \t\t2012-07-12 00:00:00+00:00                31.29\n",
        "# \t\t2012-07-13 00:00:00+00:00                32.97\n",
        "# \t\t2012-07-16 00:00:00+00:00                34.32\n",
        "# \t\t2012-07-17 00:00:00+00:00                35.00\n",
        "\n",
        "# %% [code]\n",
        "df.describe()\n",
        "# 実行出力\n",
        "# 2KB\n",
        "# \ttext/plain\n",
        "# \t\tEquity(2862 [TSLA])\n",
        "# \t\tcount           372.000000\n",
        "# \t\tmean             80.908038\n",
        "# \t\tstd              55.761551\n",
        "# \t\tmin              26.840000\n",
        "# \t\t25%              32.780000\n",
        "# \t\t50%              42.730000\n",
        "# \t\t75%             136.442500\n",
        "# \t\tmax             193.960000\n",
        "\n",
        "# %% [code]\n",
        "df.index = pd.DatetimeIndex(df.index)\n",
        "\n",
        "# %% [code]\n",
        "list(df.columns)[0]\n",
        "# 実行出力\n",
        "# 0KB\n",
        "# \ttext/plain\n",
        "# \t\tEquity(2862 [TSLA])\n",
        "\n",
        "# %% [code]\n",
        "df['open'] = df[list(df.columns)[0]]\n",
        "\n",
        "# %% [code]\n",
        "df.head()\n",
        "# 実行出力\n",
        "# 2KB\n",
        "# \ttext/plain\n",
        "# \t\tEquity(2862 [TSLA])   open\n",
        "# \t\t2012-07-11 00:00:00+00:00                31.57  31.57\n",
        "# \t\t2012-07-12 00:00:00+00:00                31.29  31.29\n",
        "# \t\t2012-07-13 00:00:00+00:00                32.97  32.97\n",
        "# \t\t2012-07-16 00:00:00+00:00                34.32  34.32\n",
        "# \t\t2012-07-17 00:00:00+00:00                35.00  35.00\n",
        "\n",
        "# %% [code]\n",
        "df = df.drop(columns=[list(df.columns)[0]])\n",
        "\n",
        "# %% [code]\n",
        "df.head()\n",
        "# 実行出力\n",
        "# 1KB\n",
        "# \ttext/plain\n",
        "# \t\topen\n",
        "# \t\t2012-07-11 00:00:00+00:00  31.57\n",
        "# \t\t2012-07-12 00:00:00+00:00  31.29\n",
        "# \t\t2012-07-13 00:00:00+00:00  32.97\n",
        "# \t\t2012-07-16 00:00:00+00:00  34.32\n",
        "# \t\t2012-07-17 00:00:00+00:00  35.00\n",
        "\n",
        "# %% [code]\n",
        "df['close'] = data_por.get_history_window(\n",
        "    assets=[TSLA],\n",
        "    end_dt=end_date,\n",
        "    bar_count=31 * 12,\n",
        "    frequency='1d',\n",
        "    data_frequency='daily',\n",
        "    field=\"close\"\n",
        ")\n",
        "\n",
        "# %% [code]\n",
        "df['low'] = data_por.get_history_window(\n",
        "    assets=[TSLA],\n",
        "    end_dt=end_date,\n",
        "    bar_count=31 * 12,\n",
        "    frequency='1d',\n",
        "    data_frequency='daily',\n",
        "    field=\"low\"\n",
        ")\n",
        "\n",
        "# %% [code]\n",
        "df['high'] = data_por.get_history_window(\n",
        "    assets=[TSLA],\n",
        "    end_dt=end_date,\n",
        "    bar_count=31 * 12,\n",
        "    frequency='1d',\n",
        "    data_frequency='daily',\n",
        "    field=\"high\"\n",
        ")\n",
        "\n",
        "# %% [code]\n",
        "df.head()\n",
        "# 実行出力\n",
        "# 2KB\n",
        "# \ttext/plain\n",
        "# \t\topen  close    low   high\n",
        "# \t\t2012-07-11 00:00:00+00:00  31.57  31.51  31.01  31.68\n",
        "# \t\t2012-07-12 00:00:00+00:00  31.29  32.70  30.80  33.01\n",
        "# \t\t2012-07-13 00:00:00+00:00  32.97  34.25  32.83  34.40\n",
        "# \t\t2012-07-16 00:00:00+00:00  34.32  35.96  33.90  36.00\n",
        "# \t\t2012-07-17 00:00:00+00:00  35.00  33.35  32.38  35.21\n",
        "\n",
        "# %% [code]\n",
        "df.tail()\n",
        "# 実行出力\n",
        "# 2KB\n",
        "# \ttext/plain\n",
        "# \t\topen    close      low     high\n",
        "# \t\t2013-12-26 00:00:00+00:00  155.04  155.500  154.290  158.000\n",
        "# \t\t2013-12-27 00:00:00+00:00  155.30  151.120  150.800  155.499\n",
        "# \t\t2013-12-30 00:00:00+00:00  151.12  152.440  150.750  154.810\n",
        "# \t\t2013-12-31 00:00:00+00:00  152.32  150.429  148.661  153.200\n",
        "# \t\t2014-01-02 00:00:00+00:00  149.80  150.100  146.550  152.476\n",
        "\n",
        "\n",
        "# %% [code]\n",
        "from zipline.data.data_portal import OHLCV_FIELDS\n",
        "\n",
        "print(OHLCV_FIELDS)\n",
        "\n",
        "# 0KB\n",
        "# \tStream\n",
        "# \t\tfrozenset({'volume', 'high', 'open', 'low', 'close'})\n",
        "\n",
        "\n",
        "# %% [code]\n",
        "from matplotlib.dates import MonthLocator, date2num, DateFormatter\n",
        "\n",
        "fig, ax = plt.subplots()\n",
        "\n",
        "fig.subplots_adjust(bottom=0.3)\n",
        "\n",
        "fig.set_figwidth(16)\n",
        "fig.set_figheight(8)\n",
        "\n",
        "ax.plot(df.index, df.open)\n",
        "ax.plot(df.index, df.close)\n",
        "\n",
        "lctr = MonthLocator()  # every month\n",
        "frmt = DateFormatter('%b')  # %b gives us Jan, Feb...\n",
        "\n",
        "ax.xaxis.set_major_locator(lctr)\n",
        "ax.xaxis.set_major_formatter(frmt)\n",
        "\n",
        "ax.legend()\n",
        "\n",
        "plt.xticks(rotation=70)\n",
        "plt.tight_layout()\n",
        "plt.show();\n",
        "\n",
        "\n",
        "# %% [markdown]\n",
        "#### Link <a href=\"https://www.forbes.com/sites/jimgorzelany/2013/10/02/tesla-model-s-catches-fire-stock-price-drops/#27f44d49781a\"> Read More </a>\n",
        "\n",
        "\n",
        "# %% [code]\n",
        "from mpl_finance import candlestick2_ohlc\n",
        "\n",
        "fig, ax = plt.subplots()\n",
        "\n",
        "fig.subplots_adjust(bottom=0.3)\n",
        "\n",
        "fig.set_figwidth(16)\n",
        "fig.set_figheight(8)\n",
        "\n",
        "lctr = MonthLocator()  # every month\n",
        "frmt = DateFormatter('%b')  # %b gives us Jan, Feb...\n",
        "\n",
        "ax.xaxis.set_major_locator(lctr)\n",
        "ax.xaxis.set_major_formatter(frmt)\n",
        "\n",
        "candlestick2_ohlc(ax,\n",
        "                 opens=df.open,\n",
        "                 closes=df.close,\n",
        "                 highs=df.high,\n",
        "                 lows=df.low,\n",
        "                 width=0.8,\n",
        "                 colorup='r',\n",
        "                 colordown='k')\n",
        "\n",
        "plt.xticks(rotation=70)\n",
        "plt.tight_layout()\n",
        "plt.show()\n",
        "# 実行出力\n",
        "# 20KB\n",
        "# \ttext/plain\n",
        "# \t\t<Figure size 1152x576 with 1 Axes>\n",
        "\n",
        "\n",
        "# %% [code]\n",
        "\n",
        "\n",
        "\n",
        "# %% [code]\n",
        "\n",
        "\n"
      ],
      "metadata": {
        "colab": {
          "base_uri": "https://localhost:8080/",
          "height": 374
        },
        "id": "gdKocXVvq8i_",
        "outputId": "428f52a3-c2b9-45bf-af8b-93abb9d3f8d0"
      },
      "execution_count": 20,
      "outputs": [
        {
          "output_type": "error",
          "ename": "ModuleNotFoundError",
          "evalue": "ignored",
          "traceback": [
            "\u001b[0;31m---------------------------------------------------------------------------\u001b[0m",
            "\u001b[0;31mModuleNotFoundError\u001b[0m                       Traceback (most recent call last)",
            "\u001b[0;32m<ipython-input-20-a82e217c52ef>\u001b[0m in \u001b[0;36m<cell line: 8>\u001b[0;34m()\u001b[0m\n\u001b[1;32m      6\u001b[0m \u001b[0;34m\u001b[0m\u001b[0m\n\u001b[1;32m      7\u001b[0m \u001b[0;31m# %% [code]\u001b[0m\u001b[0;34m\u001b[0m\u001b[0;34m\u001b[0m\u001b[0m\n\u001b[0;32m----> 8\u001b[0;31m \u001b[0;32mfrom\u001b[0m \u001b[0mzipline\u001b[0m\u001b[0;34m.\u001b[0m\u001b[0mdata\u001b[0m\u001b[0;34m.\u001b[0m\u001b[0mdata_portal\u001b[0m \u001b[0;32mimport\u001b[0m \u001b[0mDataPortal\u001b[0m\u001b[0;34m\u001b[0m\u001b[0;34m\u001b[0m\u001b[0m\n\u001b[0m\u001b[1;32m      9\u001b[0m \u001b[0;32mfrom\u001b[0m \u001b[0mzipline\u001b[0m\u001b[0;34m.\u001b[0m\u001b[0mdata\u001b[0m \u001b[0;32mimport\u001b[0m \u001b[0mbundles\u001b[0m\u001b[0;34m\u001b[0m\u001b[0;34m\u001b[0m\u001b[0m\n\u001b[1;32m     10\u001b[0m \u001b[0;32mfrom\u001b[0m \u001b[0mzipline\u001b[0m\u001b[0;34m.\u001b[0m\u001b[0mutils\u001b[0m\u001b[0;34m.\u001b[0m\u001b[0mcalendars\u001b[0m \u001b[0;32mimport\u001b[0m \u001b[0mget_calendar\u001b[0m\u001b[0;34m\u001b[0m\u001b[0;34m\u001b[0m\u001b[0m\n",
            "\u001b[0;31mModuleNotFoundError\u001b[0m: No module named 'zipline'",
            "",
            "\u001b[0;31m---------------------------------------------------------------------------\u001b[0;32m\nNOTE: If your import is failing due to a missing package, you can\nmanually install dependencies using either !pip or !apt.\n\nTo view examples of installing some common dependencies, click the\n\"Open Examples\" button below.\n\u001b[0;31m---------------------------------------------------------------------------\u001b[0m\n"
          ],
          "errorDetails": {
            "actions": [
              {
                "action": "open_url",
                "actionText": "Open Examples",
                "url": "/notebooks/snippets/importing_libraries.ipynb"
              }
            ]
          }
        }
      ]
    },
    {
      "cell_type": "code",
      "source": [
        "!pip install --upgrade pip setuptools"
      ],
      "metadata": {
        "colab": {
          "base_uri": "https://localhost:8080/"
        },
        "id": "p-d3NG_ZxD8g",
        "outputId": "bac80c41-0a89-4aac-b277-6e05289dc7aa"
      },
      "execution_count": 19,
      "outputs": [
        {
          "output_type": "stream",
          "name": "stdout",
          "text": [
            "Looking in indexes: https://pypi.org/simple, https://us-python.pkg.dev/colab-wheels/public/simple/\n",
            "Requirement already satisfied: pip in /usr/local/lib/python3.9/dist-packages (23.0.1)\n",
            "Collecting pip\n",
            "  Downloading pip-23.1-py3-none-any.whl (2.1 MB)\n",
            "\u001b[2K     \u001b[90m━━━━━━━━━━━━━━━━━━━━━━━━━━━━━━━━━━━━━━━━\u001b[0m \u001b[32m2.1/2.1 MB\u001b[0m \u001b[31m35.2 MB/s\u001b[0m eta \u001b[36m0:00:00\u001b[0m\n",
            "\u001b[?25hRequirement already satisfied: setuptools in /usr/local/lib/python3.9/dist-packages (67.6.1)\n",
            "Installing collected packages: pip\n",
            "  Attempting uninstall: pip\n",
            "    Found existing installation: pip 23.0.1\n",
            "    Uninstalling pip-23.0.1:\n",
            "      Successfully uninstalled pip-23.0.1\n",
            "Successfully installed pip-23.1\n"
          ]
        }
      ]
    },
    {
      "cell_type": "code",
      "source": [
        "!zipline ingest -b <bundle-name>"
      ],
      "metadata": {
        "colab": {
          "base_uri": "https://localhost:8080/"
        },
        "id": "G6bzpfW3v5M7",
        "outputId": "8fa11984-656f-4de4-954b-7f1b95e2eefa"
      },
      "execution_count": 17,
      "outputs": [
        {
          "output_type": "stream",
          "name": "stdout",
          "text": [
            "/bin/bash: -c: line 0: syntax error near unexpected token `newline'\n",
            "/bin/bash: -c: line 0: `zipline ingest -b <bundle-name>'\n"
          ]
        }
      ]
    },
    {
      "cell_type": "code",
      "source": [
        "!pip install zipline"
      ],
      "metadata": {
        "colab": {
          "base_uri": "https://localhost:8080/"
        },
        "id": "dvzANDiYvu_e",
        "outputId": "1b288aa8-7af9-4662-be89-e63677c0c73c"
      },
      "execution_count": 1,
      "outputs": [
        {
          "output_type": "stream",
          "name": "stdout",
          "text": [
            "Looking in indexes: https://pypi.org/simple, https://us-python.pkg.dev/colab-wheels/public/simple/\n",
            "Collecting zipline\n",
            "  Downloading zipline-1.4.1.tar.gz (5.4 MB)\n",
            "\u001b[2K     \u001b[90m━━━━━━━━━━━━━━━━━━━━━━━━━━━━━━━━━━━━━━━━\u001b[0m \u001b[32m5.4/5.4 MB\u001b[0m \u001b[31m10.9 MB/s\u001b[0m eta \u001b[36m0:00:00\u001b[0m\n",
            "\u001b[?25h  Preparing metadata (setup.py) ... \u001b[?25l\u001b[?25hdone\n",
            "Requirement already satisfied: pip>=7.1.0 in /usr/local/lib/python3.9/dist-packages (from zipline) (23.0.1)\n",
            "Requirement already satisfied: setuptools>18.0 in /usr/local/lib/python3.9/dist-packages (from zipline) (67.6.1)\n",
            "Collecting Logbook>=0.12.5\n",
            "  Downloading Logbook-1.5.3.tar.gz (85 kB)\n",
            "\u001b[2K     \u001b[90m━━━━━━━━━━━━━━━━━━━━━━━━━━━━━━━━━━━━━━━━\u001b[0m \u001b[32m85.8/85.8 kB\u001b[0m \u001b[31m5.8 MB/s\u001b[0m eta \u001b[36m0:00:00\u001b[0m\n",
            "\u001b[?25h  Preparing metadata (setup.py) ... \u001b[?25l\u001b[?25hdone\n",
            "Requirement already satisfied: click>=4.0.0 in /usr/local/lib/python3.9/dist-packages (from zipline) (8.1.3)\n",
            "Requirement already satisfied: six>=1.10.0 in /usr/local/lib/python3.9/dist-packages (from zipline) (1.16.0)\n",
            "Collecting python-interface>=1.5.3\n",
            "  Downloading python-interface-1.6.1.tar.gz (19 kB)\n",
            "  Preparing metadata (setup.py) ... \u001b[?25l\u001b[?25hdone\n",
            "Requirement already satisfied: multipledispatch>=0.6.0 in /usr/local/lib/python3.9/dist-packages (from zipline) (0.6.0)\n",
            "Requirement already satisfied: toolz>=0.8.2 in /usr/local/lib/python3.9/dist-packages (from zipline) (0.12.0)\n",
            "Requirement already satisfied: numpy>=1.11.3 in /usr/local/lib/python3.9/dist-packages (from zipline) (1.22.4)\n",
            "Collecting pandas<=0.22,>=0.18.1\n",
            "  Downloading pandas-0.22.0.tar.gz (11.3 MB)\n",
            "\u001b[2K     \u001b[90m━━━━━━━━━━━━━━━━━━━━━━━━━━━━━━━━━━━━━━━━\u001b[0m \u001b[32m11.3/11.3 MB\u001b[0m \u001b[31m36.8 MB/s\u001b[0m eta \u001b[36m0:00:00\u001b[0m\n",
            "\u001b[?25h  \u001b[1;31merror\u001b[0m: \u001b[1msubprocess-exited-with-error\u001b[0m\n",
            "  \n",
            "  \u001b[31m×\u001b[0m \u001b[32mpip subprocess to install build dependencies\u001b[0m did not run successfully.\n",
            "  \u001b[31m│\u001b[0m exit code: \u001b[1;36m1\u001b[0m\n",
            "  \u001b[31m╰─>\u001b[0m See above for output.\n",
            "  \n",
            "  \u001b[1;35mnote\u001b[0m: This error originates from a subprocess, and is likely not a problem with pip.\n",
            "  Installing build dependencies ... \u001b[?25l\u001b[?25herror\n",
            "\u001b[1;31merror\u001b[0m: \u001b[1msubprocess-exited-with-error\u001b[0m\n",
            "\n",
            "\u001b[31m×\u001b[0m \u001b[32mpip subprocess to install build dependencies\u001b[0m did not run successfully.\n",
            "\u001b[31m│\u001b[0m exit code: \u001b[1;36m1\u001b[0m\n",
            "\u001b[31m╰─>\u001b[0m See above for output.\n",
            "\n",
            "\u001b[1;35mnote\u001b[0m: This error originates from a subprocess, and is likely not a problem with pip.\n"
          ]
        }
      ]
    },
    {
      "cell_type": "code",
      "source": [
        "!pip install numpy pandas scipy cython"
      ],
      "metadata": {
        "colab": {
          "base_uri": "https://localhost:8080/"
        },
        "id": "lC7Ka9xhuuXw",
        "outputId": "03cfcf64-181b-47d0-b190-4f82a293cb04"
      },
      "execution_count": 14,
      "outputs": [
        {
          "output_type": "stream",
          "name": "stdout",
          "text": [
            "Looking in indexes: https://pypi.org/simple, https://us-python.pkg.dev/colab-wheels/public/simple/\n",
            "Requirement already satisfied: numpy in /usr/local/lib/python3.9/dist-packages (1.22.4)\n",
            "Requirement already satisfied: pandas in /usr/local/lib/python3.9/dist-packages (1.5.3)\n",
            "Requirement already satisfied: scipy in /usr/local/lib/python3.9/dist-packages (1.10.1)\n",
            "Requirement already satisfied: cython in /usr/local/lib/python3.9/dist-packages (0.29.34)\n",
            "Requirement already satisfied: pytz>=2020.1 in /usr/local/lib/python3.9/dist-packages (from pandas) (2022.7.1)\n",
            "Requirement already satisfied: python-dateutil>=2.8.1 in /usr/local/lib/python3.9/dist-packages (from pandas) (2.8.2)\n",
            "Requirement already satisfied: six>=1.5 in /usr/local/lib/python3.9/dist-packages (from python-dateutil>=2.8.1->pandas) (1.16.0)\n"
          ]
        }
      ]
    },
    {
      "cell_type": "code",
      "source": [
        "!pip install matplotlib-venn"
      ],
      "metadata": {
        "colab": {
          "base_uri": "https://localhost:8080/"
        },
        "id": "tcipZm4WsORE",
        "outputId": "2cd237fc-649c-4b3d-e748-4a085b657cfe"
      },
      "execution_count": 5,
      "outputs": [
        {
          "output_type": "stream",
          "name": "stdout",
          "text": [
            "Looking in indexes: https://pypi.org/simple, https://us-python.pkg.dev/colab-wheels/public/simple/\n",
            "Requirement already satisfied: matplotlib-venn in /usr/local/lib/python3.9/dist-packages (0.11.9)\n",
            "Requirement already satisfied: scipy in /usr/local/lib/python3.9/dist-packages (from matplotlib-venn) (1.10.1)\n",
            "Requirement already satisfied: numpy in /usr/local/lib/python3.9/dist-packages (from matplotlib-venn) (1.22.4)\n",
            "Requirement already satisfied: matplotlib in /usr/local/lib/python3.9/dist-packages (from matplotlib-venn) (3.7.1)\n",
            "Requirement already satisfied: cycler>=0.10 in /usr/local/lib/python3.9/dist-packages (from matplotlib->matplotlib-venn) (0.11.0)\n",
            "Requirement already satisfied: pyparsing>=2.3.1 in /usr/local/lib/python3.9/dist-packages (from matplotlib->matplotlib-venn) (3.0.9)\n",
            "Requirement already satisfied: importlib-resources>=3.2.0 in /usr/local/lib/python3.9/dist-packages (from matplotlib->matplotlib-venn) (5.12.0)\n",
            "Requirement already satisfied: packaging>=20.0 in /usr/local/lib/python3.9/dist-packages (from matplotlib->matplotlib-venn) (23.0)\n",
            "Requirement already satisfied: contourpy>=1.0.1 in /usr/local/lib/python3.9/dist-packages (from matplotlib->matplotlib-venn) (1.0.7)\n",
            "Requirement already satisfied: kiwisolver>=1.0.1 in /usr/local/lib/python3.9/dist-packages (from matplotlib->matplotlib-venn) (1.4.4)\n",
            "Requirement already satisfied: python-dateutil>=2.7 in /usr/local/lib/python3.9/dist-packages (from matplotlib->matplotlib-venn) (2.8.2)\n",
            "Requirement already satisfied: pillow>=6.2.0 in /usr/local/lib/python3.9/dist-packages (from matplotlib->matplotlib-venn) (8.4.0)\n",
            "Requirement already satisfied: fonttools>=4.22.0 in /usr/local/lib/python3.9/dist-packages (from matplotlib->matplotlib-venn) (4.39.3)\n",
            "Requirement already satisfied: zipp>=3.1.0 in /usr/local/lib/python3.9/dist-packages (from importlib-resources>=3.2.0->matplotlib->matplotlib-venn) (3.15.0)\n",
            "Requirement already satisfied: six>=1.5 in /usr/local/lib/python3.9/dist-packages (from python-dateutil>=2.7->matplotlib->matplotlib-venn) (1.16.0)\n"
          ]
        }
      ]
    },
    {
      "cell_type": "code",
      "source": [
        "# https://pypi.python.org/pypi/libarchive\n",
        "!apt-get -qq install -y libarchive-dev && pip install -U libarchive\n",
        "import libarchive"
      ],
      "metadata": {
        "colab": {
          "base_uri": "https://localhost:8080/"
        },
        "id": "4tc_0wbUt6NX",
        "outputId": "30ceefa0-9e59-4be5-9e77-d3b8d5265e02"
      },
      "execution_count": 7,
      "outputs": [
        {
          "output_type": "stream",
          "name": "stdout",
          "text": [
            "Selecting previously unselected package libarchive-dev:amd64.\n",
            "(Reading database ... 122349 files and directories currently installed.)\n",
            "Preparing to unpack .../libarchive-dev_3.4.0-2ubuntu1.2_amd64.deb ...\n",
            "Unpacking libarchive-dev:amd64 (3.4.0-2ubuntu1.2) ...\n",
            "Setting up libarchive-dev:amd64 (3.4.0-2ubuntu1.2) ...\n",
            "Processing triggers for man-db (2.9.1-1) ...\n",
            "Looking in indexes: https://pypi.org/simple, https://us-python.pkg.dev/colab-wheels/public/simple/\n",
            "Collecting libarchive\n",
            "  Downloading libarchive-0.4.7.tar.gz (23 kB)\n",
            "  Preparing metadata (setup.py) ... \u001b[?25l\u001b[?25hdone\n",
            "Collecting nose\n",
            "  Downloading nose-1.3.7-py3-none-any.whl (154 kB)\n",
            "\u001b[2K     \u001b[90m━━━━━━━━━━━━━━━━━━━━━━━━━━━━━━━━━━━━━━━\u001b[0m \u001b[32m154.7/154.7 kB\u001b[0m \u001b[31m8.6 MB/s\u001b[0m eta \u001b[36m0:00:00\u001b[0m\n",
            "\u001b[?25hBuilding wheels for collected packages: libarchive\n",
            "  Building wheel for libarchive (setup.py) ... \u001b[?25l\u001b[?25hdone\n",
            "  Created wheel for libarchive: filename=libarchive-0.4.7-py3-none-any.whl size=31644 sha256=28a0bc5e6d4b1eba6ad9589903ce8e09f44aeb932e64a30c6b02cd0a57133f20\n",
            "  Stored in directory: /root/.cache/pip/wheels/c9/a5/cc/cb20f1314d4cdec0001fd72baa1efe93e1542a81bdea2fc639\n",
            "Successfully built libarchive\n",
            "Installing collected packages: nose, libarchive\n",
            "Successfully installed libarchive-0.4.7 nose-1.3.7\n"
          ]
        }
      ]
    },
    {
      "cell_type": "code",
      "source": [
        "# https://pypi.python.org/pypi/pydot\n",
        "!apt-get -qq install -y graphviz && pip install pydot\n",
        "import pydot"
      ],
      "metadata": {
        "colab": {
          "base_uri": "https://localhost:8080/"
        },
        "id": "6-gov0b8uB7V",
        "outputId": "4998c98a-7f37-44a6-898e-581c47892c2f"
      },
      "execution_count": 8,
      "outputs": [
        {
          "output_type": "stream",
          "name": "stdout",
          "text": [
            "Looking in indexes: https://pypi.org/simple, https://us-python.pkg.dev/colab-wheels/public/simple/\n",
            "Requirement already satisfied: pydot in /usr/local/lib/python3.9/dist-packages (1.4.2)\n",
            "Requirement already satisfied: pyparsing>=2.1.4 in /usr/local/lib/python3.9/dist-packages (from pydot) (3.0.9)\n"
          ]
        }
      ]
    },
    {
      "cell_type": "code",
      "source": [
        "!pip install cartopy\n",
        "import cartopy"
      ],
      "metadata": {
        "colab": {
          "base_uri": "https://localhost:8080/"
        },
        "id": "sBUsbeAJuQFm",
        "outputId": "279d844a-9304-4ffc-d220-606e1c17df96"
      },
      "execution_count": 9,
      "outputs": [
        {
          "output_type": "stream",
          "name": "stdout",
          "text": [
            "Looking in indexes: https://pypi.org/simple, https://us-python.pkg.dev/colab-wheels/public/simple/\n",
            "Collecting cartopy\n",
            "  Downloading Cartopy-0.21.1.tar.gz (10.9 MB)\n",
            "\u001b[2K     \u001b[90m━━━━━━━━━━━━━━━━━━━━━━━━━━━━━━━━━━━━━━━━\u001b[0m \u001b[32m10.9/10.9 MB\u001b[0m \u001b[31m68.8 MB/s\u001b[0m eta \u001b[36m0:00:00\u001b[0m\n",
            "\u001b[?25h  Installing build dependencies ... \u001b[?25l\u001b[?25hdone\n",
            "  Getting requirements to build wheel ... \u001b[?25l\u001b[?25hdone\n",
            "  Preparing metadata (pyproject.toml) ... \u001b[?25l\u001b[?25hdone\n",
            "Collecting pyshp>=2.1\n",
            "  Downloading pyshp-2.3.1-py2.py3-none-any.whl (46 kB)\n",
            "\u001b[2K     \u001b[90m━━━━━━━━━━━━━━━━━━━━━━━━━━━━━━━━━━━━━━━━\u001b[0m \u001b[32m46.5/46.5 kB\u001b[0m \u001b[31m3.6 MB/s\u001b[0m eta \u001b[36m0:00:00\u001b[0m\n",
            "\u001b[?25hCollecting pyproj>=3.0.0\n",
            "  Downloading pyproj-3.5.0-cp39-cp39-manylinux_2_17_x86_64.manylinux2014_x86_64.whl (7.8 MB)\n",
            "\u001b[2K     \u001b[90m━━━━━━━━━━━━━━━━━━━━━━━━━━━━━━━━━━━━━━━━\u001b[0m \u001b[32m7.8/7.8 MB\u001b[0m \u001b[31m71.2 MB/s\u001b[0m eta \u001b[36m0:00:00\u001b[0m\n",
            "\u001b[?25hRequirement already satisfied: shapely>=1.6.4 in /usr/local/lib/python3.9/dist-packages (from cartopy) (2.0.1)\n",
            "Requirement already satisfied: numpy>=1.18 in /usr/local/lib/python3.9/dist-packages (from cartopy) (1.22.4)\n",
            "Requirement already satisfied: matplotlib>=3.1 in /usr/local/lib/python3.9/dist-packages (from cartopy) (3.7.1)\n",
            "Requirement already satisfied: pyparsing>=2.3.1 in /usr/local/lib/python3.9/dist-packages (from matplotlib>=3.1->cartopy) (3.0.9)\n",
            "Requirement already satisfied: cycler>=0.10 in /usr/local/lib/python3.9/dist-packages (from matplotlib>=3.1->cartopy) (0.11.0)\n",
            "Requirement already satisfied: packaging>=20.0 in /usr/local/lib/python3.9/dist-packages (from matplotlib>=3.1->cartopy) (23.0)\n",
            "Requirement already satisfied: python-dateutil>=2.7 in /usr/local/lib/python3.9/dist-packages (from matplotlib>=3.1->cartopy) (2.8.2)\n",
            "Requirement already satisfied: kiwisolver>=1.0.1 in /usr/local/lib/python3.9/dist-packages (from matplotlib>=3.1->cartopy) (1.4.4)\n",
            "Requirement already satisfied: importlib-resources>=3.2.0 in /usr/local/lib/python3.9/dist-packages (from matplotlib>=3.1->cartopy) (5.12.0)\n",
            "Requirement already satisfied: contourpy>=1.0.1 in /usr/local/lib/python3.9/dist-packages (from matplotlib>=3.1->cartopy) (1.0.7)\n",
            "Requirement already satisfied: pillow>=6.2.0 in /usr/local/lib/python3.9/dist-packages (from matplotlib>=3.1->cartopy) (8.4.0)\n",
            "Requirement already satisfied: fonttools>=4.22.0 in /usr/local/lib/python3.9/dist-packages (from matplotlib>=3.1->cartopy) (4.39.3)\n",
            "Requirement already satisfied: certifi in /usr/local/lib/python3.9/dist-packages (from pyproj>=3.0.0->cartopy) (2022.12.7)\n",
            "Requirement already satisfied: zipp>=3.1.0 in /usr/local/lib/python3.9/dist-packages (from importlib-resources>=3.2.0->matplotlib>=3.1->cartopy) (3.15.0)\n",
            "Requirement already satisfied: six>=1.5 in /usr/local/lib/python3.9/dist-packages (from python-dateutil>=2.7->matplotlib>=3.1->cartopy) (1.16.0)\n",
            "Building wheels for collected packages: cartopy\n",
            "  Building wheel for cartopy (pyproject.toml) ... \u001b[?25l\u001b[?25hdone\n",
            "  Created wheel for cartopy: filename=Cartopy-0.21.1-cp39-cp39-linux_x86_64.whl size=11113640 sha256=9c519a77c56a4822ac560757b7aecc2ea6d1a067322a82422448f83d5bc68db1\n",
            "  Stored in directory: /root/.cache/pip/wheels/74/b9/f5/2c94acd7cd21480e6cf63169144d7aac3e8d9cf638225ed578\n",
            "Successfully built cartopy\n",
            "Installing collected packages: pyshp, pyproj, cartopy\n",
            "Successfully installed cartopy-0.21.1 pyproj-3.5.0 pyshp-2.3.1\n"
          ]
        }
      ]
    },
    {
      "cell_type": "code",
      "source": [],
      "metadata": {
        "id": "t82Q0eRWuVNx"
      },
      "execution_count": null,
      "outputs": []
    }
  ]
}