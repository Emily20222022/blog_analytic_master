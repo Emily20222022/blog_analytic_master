{
  "nbformat": 4,
  "nbformat_minor": 0,
  "metadata": {
    "colab": {
      "provenance": [],
      "authorship_tag": "ABX9TyN7Oq0n9gHRDNp3gqlEyfic",
      "include_colab_link": true
    },
    "kernelspec": {
      "name": "python3",
      "display_name": "Python 3"
    },
    "language_info": {
      "name": "python"
    }
  },
  "cells": [
    {
      "cell_type": "markdown",
      "metadata": {
        "id": "view-in-github",
        "colab_type": "text"
      },
      "source": [
        "<a href=\"https://colab.research.google.com/github/Emily20222022/blog_analytic_master/blob/master/Khan_Math_Lessons_for_Statistics_and_Probability.ipynb\" target=\"_parent\"><img src=\"https://colab.research.google.com/assets/colab-badge.svg\" alt=\"Open In Colab\"/></a>"
      ]
    },
    {
      "cell_type": "markdown",
      "source": [
        "Here is a list of widely used Python libraries for data analysis along with their respective purposes:\n",
        "\n",
        "1. NumPy - Numerical computing library that provides support for arrays and matrices, and operations on them.\n",
        "\n",
        "NumPy\n",
        "\n",
        "1-1. Creating an array: arr = numpy.array([1, 2, 3])\n",
        "\n",
        "1-2. Reshaping an array: arr.reshape((3, 1))\n",
        "\n",
        "1-3. Finding the mean of an array: numpy.mean(arr)\n",
        "\n",
        "1-4. Generating random numbers: numpy.random.rand(3, 2)\n",
        "\n",
        "2. Pandas - Data manipulation library that provides support for data cleaning, transformation, and analysis.\n",
        "\n",
        "Pandas\n",
        "\n",
        "2-1. Reading a CSV file: df = pandas.read_csv('filename.csv')\n",
        "\n",
        "2-2. Filtering rows by a condition: df[df['column'] > 10]\n",
        "\n",
        "2-3. Grouping data by a column: df.groupby('column').mean()\n",
        "\n",
        "2-4. Adding a new column: df['new_column'] = df['column1'] + df['column2']\n",
        "\n",
        "\n",
        "3. Matplotlib - Data visualization library for creating static, interactive, and dynamic plots.\n",
        "\n",
        "Matplotlib\n",
        "\n",
        "3-1. Creating a line plot: matplotlib.pyplot.plot(x_values, y_values)\n",
        "\n",
        "3-2. Creating a scatter plot: matplotlib.pyplot.scatter(x_values, y_values)\n",
        "\n",
        "3-3. Adding labels to the plot: matplotlib.pyplot.xlabel('x_label')\n",
        "\n",
        "3-4. Saving a plot to a file: matplotlib.pyplot.savefig('filename.png')\n",
        "\n",
        "4. Seaborn - Data visualization library based on Matplotlib that provides support for advanced statistical visualization.\n",
        "\n",
        "Seaborn\n",
        "\n",
        "4-1. Creating a scatter plot with regression line: \n",
        "seaborn.regplot(x='column1', y='column2', data=df)\n",
        "\n",
        "4-2. Creating a box plot: \n",
        "seaborn.boxplot(x='column1', y='column2', data=df)\n",
        "\n",
        "4-3. Creating a histogram: \n",
        "seaborn.histplot(x='column', data=df)\n",
        "\n",
        "4-4. Changing the style of the plot: \n",
        "seaborn.set_style('darkgrid')\n",
        "\n",
        "\n",
        "5. SciPy - Scientific computing library that provides support for optimization, integration, and statistical analysis.\n",
        "\n",
        "SciPy\n",
        "\n",
        "5-1. Finding the minimum of a function: \n",
        "scipy.optimize.minimize(fun, x0)\n",
        "\n",
        "5-2. Performing integration: \n",
        "scipy.integrate.quad(func, a, b)\n",
        "\n",
        "5-3. Performing hypothesis testing: \n",
        "scipy.stats.ttest_ind(df1['column'], df2['column'])\n",
        "\n",
        "5-4. Fitting a curve to data: \n",
        "scipy.optimize.curve_fit(func, x_data, y_data)\n",
        "\n",
        "\n",
        "6. Scikit-learn - Machine learning library that provides support for supervised and unsupervised learning algorithms, feature selection, and data preprocessing.\n",
        "\n",
        "Scikit-learn\n",
        "\n",
        "6-1. Splitting data into training and testing sets: \n",
        "train_test_split(X, y, test_size=0.2)\n",
        "\n",
        "6-2. Scaling data: \n",
        "StandardScaler().fit_transform(X)\n",
        "\n",
        "6-3. Training a linear regression model: \n",
        "LinearRegression().fit(X, y)\n",
        "\n",
        "6-4. Training a decision tree model: \n",
        "DecisionTreeClassifier().fit(X, y)\n",
        "\n",
        "\n",
        "7. Statsmodels - Statistical modeling library that provides support for linear regression, time series analysis, and hypothesis testing.\n",
        "\n",
        "Statsmodels\n",
        "\n",
        "7-1. Performing linear regression: \n",
        "statsmodels.formula.api.ols('y ~ x', data=df).fit()\n",
        "\n",
        "7-2. Performing time series analysis: \n",
        "statsmodels.tsa.arima.model.ARIMA(y, order=(1, 1, 1)).fit()\n",
        "\n",
        "7-3. Performing hypothesis testing: \n",
        "statsmodels.stats.weightstats.ttest_ind(df1['column'], df2['column'])\n",
        "\n",
        "7-4. Fitting a generalized linear model: \n",
        "statsmodels.genmod.api.GLM(y, X, family=statsmodels.genmod.families.Poisson()).fit()\n",
        "\n",
        "\n",
        "8. TensorFlow - Machine learning library that provides support for deep learning algorithms and neural networks.\n",
        "\n",
        "TensorFlow\n",
        "\n",
        "8-1. Defining a neural network architecture: \n",
        "tf.keras.Sequential([tf.keras.layers.Dense(10, activation='relu', input_shape=(input_size,)), tf.keras.layers.Dense(1)])\n",
        "\n",
        "8-2. Compiling a neural network model: \n",
        "model.compile(loss='mse', optimizer='adam')\n",
        "\n",
        "8-3. Training a neural network model: \n",
        "model.fit(X_train, y_train, epochs=10, validation_data=(X_val, y_val))\n",
        "\n",
        "8-4. Evaluating a neural network model: \n",
        "model.evaluate(X_test, y_test)\n",
        "\n",
        "\n",
        "9. Keras - High-level neural networks API that runs on top of TensorFlow.\n",
        "\n",
        "Keras\n",
        "\n",
        "9-1. Defining a convolutional neural network architecture: \n",
        "tf.keras.Sequential([tf.keras.layers.Conv2D(32, (3, 3), activation\n",
        "\n",
        "\n",
        "10. NLTK - Natural Language Processing (NLP) library that provides support for text preprocessing, sentiment analysis, and language modeling.\n",
        "\n",
        "\n",
        "There are many other Python libraries that can be useful for data analysis depending on the specific research question and type of data. However, these libraries are widely used and provide a good starting point for most data analysis tasks."
      ],
      "metadata": {
        "id": "fNmPGp11gSii"
      }
    },
    {
      "cell_type": "markdown",
      "source": [
        "Data manipulation with NumPy and Pandas:\n",
        "\n",
        "1. Importing NumPy and Pandas: import numpy as np, import pandas as pd\n",
        "2. Reading in a CSV file with Pandas: df = pd.read_csv('filename.csv')\n",
        "3. Selecting a column from a Pandas DataFrame: df['column_name']\n",
        "4. Filtering a Pandas DataFrame: df[df['column_name'] > 10]\n",
        "5. Creating a NumPy array: np.array([1, 2, 3])\n",
        "6. Reshaping a NumPy array: np.reshape(arr, (3, 1))\n",
        "\n",
        "Data visualization with Matplotlib and Seaborn:\n",
        "\n",
        "1. Importing Matplotlib and Seaborn: import matplotlib.pyplot as plt, import seaborn as sns\n",
        "2. Creating a line plot with Matplotlib: plt.plot(x_values, y_values)\n",
        "Creating a scatter plot with Seaborn: sns.scatterplot(x='column_name', y='column_name', data=df)\n",
        "3. Adding labels to a Matplotlib plot: plt.xlabel('x_label')\n",
        "4. Changing the style of a Seaborn plot: sns.set_style('darkgrid')\n",
        "\n",
        "Statistical analysis with SciPy and Statsmodels:\n",
        "\n",
        "1. Importing SciPy and Statsmodels: import scipy, import statsmodels.api as sm\n",
        "2. Performing a t-test with SciPy: scipy.stats.ttest_ind(df1['column_name'], df2['column_name'])\n",
        "3. Performing a linear regression with Statsmodels: model = sm.OLS(y, X).fit()\n",
        "4. Performing a hypothesis test with Statsmodels: sm.stats.ttest_ind(df1['column_name'], df2['column_name'])\n",
        "5. Fitting a curve to data with SciPy: popt, pcov = scipy.optimize.curve_fit(func, x_data, y_data)\n",
        "\n",
        "Machine learning with Scikit-learn and TensorFlow:\n",
        "\n",
        "1. Importing Scikit-learn and TensorFlow: from sklearn import datasets, import tensorflow as tf\n",
        "2. Splitting data into training and testing sets with Scikit-learn: X_train, X_test, y_train, y_test = train_test_split(X, y, test_size=0.2)\n",
        "3. Training a linear regression model with Scikit-learn: model = LinearRegression().fit(X_train, y_train)\n",
        "4. Defining a neural network architecture with TensorFlow: model = tf.keras.Sequential([tf.keras.layers.Dense(10, activation='relu', input_shape=(input_size,)), tf.keras.layers.Dense(1)])\n",
        "5. Training a neural network model with TensorFlow: model.fit(X_train, y_train, epochs=10, validation_data=(X_val, y_val))\n",
        "\n",
        "Data preparation:\n",
        "\n",
        "1. Importing necessary libraries: import numpy as np, import pandas as pd, import scipy.stats as stats\n",
        "2. Reading in data with Pandas: data = pd.read_csv('filename.csv')\n",
        "Cleaning data by removing missing values: data.dropna(inplace=True)\n",
        "3. Transforming data by taking logarithms or standardizing: data['log_column'] = np.log(data['column'])\n",
        "\n",
        "Descriptive statistics:\n",
        "\n",
        "1. Calculating measures of central tendency: mean = np.mean(data['column']), median = np.median(data['column']), mode = stats.mode(data['column'])\n",
        "2. Calculating measures of dispersion: range = np.max(data['column']) - np.min(data['column']), variance = np.var(data['column']), standard_deviation = np.std(data['column'])\n",
        "3. Creating visualizations: plt.hist(data['column'], bins=10), sns.boxplot(x='category', y='column', data=data)\n",
        "\n",
        "Probability distributions:\n",
        "\n",
        "1. Generating random numbers from a uniform distribution: np.random.uniform(low=0, high=1, size=10)\n",
        "2. Generating random numbers from a normal distribution: np.random.normal(loc=0, scale=1, size=10)\n",
        "3. Calculating probabilities using the cumulative distribution function: stats.norm.cdf(x, loc=0, scale=1)\n",
        "4. Calculating quantiles using the inverse cumulative distribution function: stats.norm.ppf(p, loc=0, scale=1)\n",
        "\n",
        "Statistical inference:\n",
        "\n",
        "1. Performing hypothesis tests: t_statistic, p_value = stats.ttest_ind(data1['column'], data2['column'])\n",
        "2. Calculating confidence intervals: ci_low, ci_high = stats.t.interval(alpha=0.95, df=len(data)-1, loc=mean, scale=standard_error)\n",
        "3. Performing linear regression: slope, intercept, r_value, p_value, std_err = stats.linregress(x, y)\n",
        "4. Fitting a probability distribution to data: distribution_params = stats.norm.fit(data['column'])\n",
        "\n",
        "Note that these are just examples of common steps and code snippets for statistical and probability analysis, and there may be other steps and code that are specific to a particular analysis.\n"
      ],
      "metadata": {
        "id": "L8kOUFqxhWJz"
      }
    },
    {
      "cell_type": "code",
      "source": [
        "#TABLE DATA/CREATE/SAVE/etc.\n",
        "\n",
        "import pandas as pd\n",
        "\n",
        "# Create a dictionary of data\n",
        "data = {'Name': ['John', 'Emily', 'William', 'Sarah', 'Michael'],\n",
        "        'Age': [25, 28, 31, 27, 29],\n",
        "        'Gender': ['M', 'F', 'M', 'F', 'M'],\n",
        "        'Salary': [50000, 60000, 70000, 55000, 65000]}\n",
        "\n",
        "# Create a DataFrame from the dictionary\n",
        "df = pd.DataFrame(data)\n",
        "\n",
        "# Save the DataFrame as a CSV file\n",
        "df.to_csv('data.csv', index=False)"
      ],
      "metadata": {
        "id": "7ccW2t2mK0zW"
      },
      "execution_count": 5,
      "outputs": []
    },
    {
      "cell_type": "code",
      "source": [
        "#TABLE DATA/READ/OPEN/etc.\n",
        "\n",
        "import csv\n",
        "\n",
        "with open('data.csv', 'r') as file:\n",
        "    reader = csv.reader(file)\n",
        "    for row in reader:\n",
        "        print(row)"
      ],
      "metadata": {
        "colab": {
          "base_uri": "https://localhost:8080/"
        },
        "id": "i8mM8CvALQ2U",
        "outputId": "adb6cc85-6815-44ce-f476-9bb4debb1444"
      },
      "execution_count": 6,
      "outputs": [
        {
          "output_type": "stream",
          "name": "stdout",
          "text": [
            "['Name', 'Age', 'Gender', 'Salary']\n",
            "['John', '25', 'M', '50000']\n",
            "['Emily', '28', 'F', '60000']\n",
            "['William', '31', 'M', '70000']\n",
            "['Sarah', '27', 'F', '55000']\n",
            "['Michael', '29', 'M', '65000']\n"
          ]
        }
      ]
    },
    {
      "cell_type": "code",
      "source": [
        "#TABLE DATA frame display from .csv\n",
        "\n",
        "import pandas as pd\n",
        "\n",
        "# Load the CSV file into a pandas DataFrame\n",
        "df = pd.read_csv('data.csv')\n",
        "\n",
        "# Display the DataFrame in a table format\n",
        "print(df)\n"
      ],
      "metadata": {
        "id": "mEqUsPsfUFEG",
        "outputId": "0ad23c07-3d80-4f5a-e0be-652b62e57bce",
        "colab": {
          "base_uri": "https://localhost:8080/"
        }
      },
      "execution_count": 53,
      "outputs": [
        {
          "output_type": "stream",
          "name": "stdout",
          "text": [
            "      Name  Age Gender  Salary\n",
            "0     John   25      M   50000\n",
            "1    Emily   28      F   60000\n",
            "2  William   31      M   70000\n",
            "3    Sarah   27      F   55000\n",
            "4  Michael   29      M   65000\n"
          ]
        }
      ]
    },
    {
      "cell_type": "code",
      "source": [
        "#TABLE DATA/CREATE/WRITE/etc.\n",
        "\n",
        "import csv\n",
        "\n",
        "data = [\n",
        "    ['Name', 'Age', 'Gender'],\n",
        "    ['Alice', 25, 'Female'],\n",
        "    ['Bob', 30, 'Male'],\n",
        "    ['Charlie', 35, 'Male']\n",
        "]\n",
        "\n",
        "with open('new_data.csv', 'w', newline='') as file:\n",
        "    writer = csv.writer(file)\n",
        "    for row in data:\n",
        "        writer.writerow(row)\n"
      ],
      "metadata": {
        "id": "kCa8672QLwfE"
      },
      "execution_count": 7,
      "outputs": []
    },
    {
      "cell_type": "code",
      "source": [
        "#DATA OPERATION and ANALYSIS PRACTICE#\n",
        "\n",
        "# import pandas as pd\n",
        "\n",
        "# # read the .csv file and create a dataframe\n",
        "# df = pd.read_csv('data.csv')\n",
        "\n",
        "# # update values in the dataframe\n",
        "# df.loc[df['column_name'] == 'value_to_update', 'column_name'] = 'new_value'\n",
        "\n",
        "# # add new column to the dataframe\n",
        "# df['new_column_name'] = ['new_value_1', 'new_value_2', ...]\n",
        "\n",
        "# # drop a column from the dataframe\n",
        "# df.drop('column_name', axis=1, inplace=True)\n",
        "\n",
        "# # write the updated dataframe to a new .csv file\n",
        "# df.to_csv('updated_data.csv', index=False)\n",
        "\n",
        "import pandas as pd\n",
        "\n",
        "# read the .csv file and create a dataframe\n",
        "df = pd.read_csv('data.csv')\n",
        "\n",
        "#UPDATE VALUE IN THE DATA FRAME, change John age from 25 to 22 into a new file name####\n",
        "df.loc[df['Name'] == 'John', 'Age'] = '22'\n",
        "\n",
        "# ADD NEW COLUMN TO DATAFRAME\n",
        "df['Address'] = ['Japan', 'China', 'Japan', 'China', 'Japan']\n",
        "df['Marital_status'] = ['Single', 'Single', 'Single', 'Single', 'Married']\n",
        "\n",
        "# DROP COLUMN TO DATAFRAME\n",
        "df.drop('Address', axis=1, inplace=True)\n",
        "\n",
        "# write the updated dataframe to a new .csv file\n",
        "df.to_csv('updated_data.csv', index=False)\n",
        "\n",
        "#TO SHOW and CHECK THE UPDATED CONTENTS#####\n",
        "\n",
        "# Load the CSV file into a pandas DataFrame\n",
        "df = pd.read_csv('updated_data.csv')\n",
        "\n",
        "# Display the DataFrame in a table format\n",
        "print(df)\n",
        "\n",
        "#TO FILTER age above 30 with salary above 50000####\n",
        "\n",
        "# read the csv file and create a dataframe\n",
        "# df = pd.read_csv('data.csv')\n",
        "\n",
        "# filter the dataframe based on the specified criteria\n",
        "filtered_df = df[(df['Age'] > 30) & (df['Salary'] > 50000)]\n",
        "\n",
        "# filter the DataFrame by marital_status\n",
        "# filter where Marital_status is \"Married\"\n",
        "filtered_df2 = df[df['Marital_status'] == 'Married']\n",
        "\n",
        "# filter the \"Gender\" and \"Salary\" columns\n",
        "filtered_df3 = df[['Gender', 'Salary']]\n",
        "\n",
        "import pandas as pd\n",
        "import matplotlib.pyplot as plt\n",
        "\n",
        "# filter data by gender\n",
        "male_data = df[df['Gender'] == 'M']\n",
        "female_data = df[df['Gender'] == 'F']\n",
        "\n",
        "# create subplots for multiple plots##############\n",
        "fig, axs = plt.subplots(1, 2, figsize=(10, 5))\n",
        "\n",
        "# plot salary distribution for males\n",
        "axs[0].hist(male_data['Salary'], bins=10, alpha=0.5, label='Male')\n",
        "axs[0].set_xlabel('Salary')\n",
        "axs[0].set_ylabel('Frequency')\n",
        "axs[0].set_title('Salary Distribution - Males')\n",
        "axs[0].legend()\n",
        "\n",
        "# plot salary distribution for females\n",
        "axs[1].hist(female_data['Salary'], bins=10, alpha=0.5, label='Female')\n",
        "axs[1].set_xlabel('Salary')\n",
        "axs[1].set_ylabel('Frequency')\n",
        "axs[1].set_title('Salary Distribution - Females')\n",
        "axs[1].legend()\n",
        "\n",
        "plt.show()\n",
        "\n",
        "# create a sample dataframe\n",
        "# data = {'Gender': ['M', 'F', 'F', 'M', 'M', 'F', 'F', 'M', 'F', 'M'],\n",
        "#         'Salary': [50000, 60000, 70000, 55000, 65000, 75000, 80000, 60000, 90000, 55000]}\n",
        "# df = pd.DataFrame(data)\n",
        "\n",
        "# group the dataframe by gender and calculate the total salary for each group####################\n",
        "grouped = df.groupby('Gender')['Salary'].sum().reset_index()\n",
        "\n",
        "# create a bar plot#######\n",
        "plt.bar(grouped['Gender'], grouped['Salary'])\n",
        "\n",
        "# set labels and title\n",
        "plt.xlabel('Gender')\n",
        "plt.ylabel('Total Salary')\n",
        "plt.title('Total Salary Comparison by Gender')\n",
        "\n",
        "# show the plot\n",
        "plt.show()\n",
        "\n",
        "# read the dataset into a pandas dataframe\n",
        "df = pd.read_csv('data.csv')\n",
        "\n",
        "# create a scatter plot of age vs salary#######\n",
        "plt.scatter(df['Age'], df['Salary'])\n",
        "plt.xlabel('Age')\n",
        "plt.ylabel('Salary')\n",
        "plt.title('Age vs Salary')\n",
        "plt.show()\n",
        "\n",
        "# print the filtered dataframe\n",
        "print(filtered_df)\n",
        "print(filtered_df2)\n",
        "print(filtered_df3)"
      ],
      "metadata": {
        "id": "LbNTwIVKU8lA",
        "outputId": "1f7b88b1-4004-4b5a-9e6d-beb334ec9fb5",
        "colab": {
          "base_uri": "https://localhost:8080/",
          "height": 1000
        }
      },
      "execution_count": 8,
      "outputs": [
        {
          "output_type": "stream",
          "name": "stdout",
          "text": [
            "      Name  Age Gender  Salary Marital_status\n",
            "0     John   22      M   50000         Single\n",
            "1    Emily   28      F   60000         Single\n",
            "2  William   31      M   70000         Single\n",
            "3    Sarah   27      F   55000         Single\n",
            "4  Michael   29      M   65000        Married\n"
          ]
        },
        {
          "output_type": "display_data",
          "data": {
            "text/plain": [
              "<Figure size 1000x500 with 2 Axes>"
            ],
            "image/png": "[encoded data removed]"
          },
          "metadata": {}
        },
        {
          "output_type": "display_data",
          "data": {
            "text/plain": [
              "<Figure size 640x480 with 1 Axes>"
            ],
            "image/png": "[encoded data removed]"
          },
          "metadata": {}
        },
        {
          "output_type": "display_data",
          "data": {
            "text/plain": [
              "<Figure size 640x480 with 1 Axes>"
            ],
            "image/png": "[encoded data removed]"
          },
          "metadata": {}
        },
        {
          "output_type": "stream",
          "name": "stdout",
          "text": [
            "      Name  Age Gender  Salary Marital_status\n",
            "2  William   31      M   70000         Single\n",
            "      Name  Age Gender  Salary Marital_status\n",
            "4  Michael   29      M   65000        Married\n",
            "  Gender  Salary\n",
            "0      M   50000\n",
            "1      F   60000\n",
            "2      M   70000\n",
            "3      F   55000\n",
            "4      M   65000\n"
          ]
        }
      ]
    },
    {
      "cell_type": "code",
      "source": [
        "import pandas as pd\n",
        "\n",
        "# read the .csv file and create a dataframe\n",
        "df = pd.read_csv('updated_data.csv')\n",
        "\n",
        "# replace 'Married' with 1 and 'Single' with 0 in the 'Marital_status' column\n",
        "df['Marital_status'].replace({'Married': 1, 'Single': 0}, inplace=True)\n",
        "df['Gender'].replace({'M': 1, 'F': 0}, inplace=True)\n",
        "\n",
        "# write the updated dataframe to a new .csv file\n",
        "df.to_csv('updated_data.csv', index=False)\n",
        "\n",
        "print(df)\n"
      ],
      "metadata": {
        "id": "4bZDomiNqBdN",
        "outputId": "8fab2255-6b88-40f7-e040-0e12822d45ac",
        "colab": {
          "base_uri": "https://localhost:8080/"
        }
      },
      "execution_count": 12,
      "outputs": [
        {
          "output_type": "stream",
          "name": "stdout",
          "text": [
            "      Name  Age  Gender  Salary  Marital_status\n",
            "0     John   22       1   50000               0\n",
            "1    Emily   28       0   60000               0\n",
            "2  William   31       1   70000               0\n",
            "3    Sarah   27       0   55000               0\n",
            "4  Michael   29       1   65000               1\n"
          ]
        }
      ]
    },
    {
      "cell_type": "code",
      "source": [
        "##TABLE DATA/DOWNLOAD/etc. from WEBsite\n",
        "\n",
        "import urllib.request\n",
        "\n",
        "url = 'https://www.kaggle.com/datasets/kreeshrajani/3k-conversations-dataset-for-chatbot?resource=download'\n",
        "filename = 'Conversation.csv'\n",
        "\n",
        "urllib.request.urlretrieve(url, filename)\n"
      ],
      "metadata": {
        "colab": {
          "base_uri": "https://localhost:8080/"
        },
        "id": "kjQU1GGpMXIA",
        "outputId": "395b09b5-df72-42bf-e333-8fde4464d991"
      },
      "execution_count": 3,
      "outputs": [
        {
          "output_type": "execute_result",
          "data": {
            "text/plain": [
              "('Conversation.csv', <http.client.HTTPMessage at 0x7fbb1c9cca30>)"
            ]
          },
          "metadata": {},
          "execution_count": 3
        }
      ]
    },
    {
      "cell_type": "code",
      "source": [
        "#Download csv file from github\n",
        "\n",
        "import requests\n",
        "\n",
        "url = \"https://gist.githubusercontent.com/jaidevd/23aef12e9bf56c618c41/raw/0a39cb56d07b9e47929c8f0c4ba4b4cafe680891/book.csv\"\n",
        "response = requests.get(url)\n",
        "\n",
        "with open(\"book.csv\", \"wb\") as f:\n",
        "    f.write(response.content)"
      ],
      "metadata": {
        "id": "uFE_y8dBNs0j"
      },
      "execution_count": 4,
      "outputs": []
    },
    {
      "cell_type": "markdown",
      "source": [
        "MEAN, MEDIAN, MODE"
      ],
      "metadata": {
        "id": "3sWTGnpPMtjb"
      }
    },
    {
      "cell_type": "code",
      "source": [],
      "metadata": {
        "id": "Z3VZc5BLMUlu"
      },
      "execution_count": null,
      "outputs": []
    },
    {
      "cell_type": "code",
      "source": [],
      "metadata": {
        "id": "R9jWZ4MWMVWb"
      },
      "execution_count": null,
      "outputs": []
    },
    {
      "cell_type": "code",
      "source": [
        "#Finding the mean, median, and mode of a dataset: \n",
        "\n",
        "import numpy as np\n",
        "from scipy import stats\n",
        "\n",
        "data = np.array([1, 2, 3, 4, 5])\n",
        "\n",
        "# Calculate the mean\n",
        "mean = np.mean(data)\n",
        "\n",
        "# Calculate the median\n",
        "median = np.median(data)\n",
        "\n",
        "# Calculate the mode\n",
        "mode = stats.mode(data)\n",
        "\n",
        "print(\"Mean:\", mean)\n",
        "print(\"Median:\", median)\n",
        "print(\"Mode:\", mode)"
      ],
      "metadata": {
        "colab": {
          "base_uri": "https://localhost:8080/"
        },
        "id": "Qz0bxSxZktyK",
        "outputId": "180312a8-c0fd-45f8-8035-bee3bc28e523"
      },
      "execution_count": 5,
      "outputs": [
        {
          "output_type": "stream",
          "name": "stdout",
          "text": [
            "Mean: 3.0\n",
            "Median: 3.0\n",
            "Mode: ModeResult(mode=array([1]), count=array([1]))\n"
          ]
        },
        {
          "output_type": "stream",
          "name": "stderr",
          "text": [
            "<ipython-input-5-8d8bf3c7f127>:15: FutureWarning: Unlike other reduction functions (e.g. `skew`, `kurtosis`), the default behavior of `mode` typically preserves the axis it acts along. In SciPy 1.11.0, this behavior will change: the default value of `keepdims` will become False, the `axis` over which the statistic is taken will be eliminated, and the value None will no longer be accepted. Set `keepdims` to True or False to avoid this warning.\n",
            "  mode = stats.mode(data)\n"
          ]
        }
      ]
    },
    {
      "cell_type": "markdown",
      "source": [
        "VARIANCE and STANDARD DEVIATION of DATASET"
      ],
      "metadata": {
        "id": "2iipi5sJM1CQ"
      }
    },
    {
      "cell_type": "code",
      "source": [
        "#Calculating the variance and standard deviation of a dataset:\n",
        "\n",
        "import numpy as np\n",
        "\n",
        "data = np.array([1, 2, 3, 4, 5])\n",
        "\n",
        "# Calculate the variance\n",
        "variance = np.var(data)\n",
        "\n",
        "# Calculate the standard deviation\n",
        "std_deviation = np.std(data)\n",
        "\n",
        "print(\"Variance:\", variance)\n",
        "print(\"Standard deviation:\", std_deviation)"
      ],
      "metadata": {
        "colab": {
          "base_uri": "https://localhost:8080/"
        },
        "id": "iUus0YfQLu_D",
        "outputId": "e9a24edf-1f3b-4e1c-eb53-0c126232088c"
      },
      "execution_count": 10,
      "outputs": [
        {
          "output_type": "stream",
          "name": "stdout",
          "text": [
            "Variance: 2.0\n",
            "Standard deviation: 1.4142135623730951\n"
          ]
        }
      ]
    },
    {
      "cell_type": "markdown",
      "source": [
        "PROBABILITY of an EVENT OCCURRING"
      ],
      "metadata": {
        "id": "FGFM5XcTM-7j"
      }
    },
    {
      "cell_type": "code",
      "source": [
        "#Calculating the probability of an event occurring:\n",
        "\n",
        "import numpy as np\n",
        "\n",
        "# Define the number of trials and probability of success\n",
        "num_trials = 10\n",
        "p_success = 0.5\n",
        "\n",
        "# Simulate the trials and count the number of successes\n",
        "trials = np.random.binomial(num_trials, p_success, size=10000)\n",
        "num_successes = np.count_nonzero(trials == 5)\n",
        "\n",
        "# Calculate the probability of exactly 5 successes\n",
        "p_five_successes = num_successes / 10000\n",
        "\n",
        "print(p_five_successes)"
      ],
      "metadata": {
        "colab": {
          "base_uri": "https://localhost:8080/"
        },
        "id": "bbS5HST5MU0u",
        "outputId": "62b8e656-18d9-484c-d2a8-07db49eac91b"
      },
      "execution_count": 11,
      "outputs": [
        {
          "output_type": "stream",
          "name": "stdout",
          "text": [
            "0.2419\n"
          ]
        }
      ]
    },
    {
      "cell_type": "markdown",
      "source": [
        "Performing a HYPOTHESIS TEST"
      ],
      "metadata": {
        "id": "fGvbiKsQNIc1"
      }
    },
    {
      "cell_type": "code",
      "source": [
        "#Performing a hypothesis test\n",
        "\n",
        "import numpy as np\n",
        "from scipy import stats\n",
        "\n",
        "# Define the null and alternative hypotheses\n",
        "null_hypothesis = \"The population mean is equal to 50\"\n",
        "alternative_hypothesis = \"The population mean is greater than 50\"\n",
        "\n",
        "# Simulate the data and calculate the test statistic and p-value\n",
        "sample_data = np.random.normal(loc=55, scale=10, size=100)\n",
        "test_statistic, p_value = stats.ttest_1samp(sample_data, popmean=50)\n",
        "\n",
        "# Compare the p-value to the significance level\n",
        "significance_level = 0.05\n",
        "if p_value < significance_level:\n",
        "    print(\"Reject the null hypothesis because p_value is less than 0.05\")\n",
        "else:\n",
        "    print(\"Fail to reject the null hypothesis\")\n",
        "\n",
        "\n",
        "print(test_statistic, p_value)\n"
      ],
      "metadata": {
        "colab": {
          "base_uri": "https://localhost:8080/"
        },
        "id": "0klPZ8gmMmu-",
        "outputId": "03dad0e8-2bc6-4241-bf8d-cafa4ee79f51"
      },
      "execution_count": 16,
      "outputs": [
        {
          "output_type": "stream",
          "name": "stdout",
          "text": [
            "Reject the null hypothesis because p_value is less than 0.05\n",
            "4.0038687654148495 0.00012054401453929912\n"
          ]
        }
      ]
    },
    {
      "cell_type": "markdown",
      "source": [
        "Unit 16: ANALYSIS of VARIANCE (ANOVA)\n",
        "\n",
        "1.   Calculating the p-value of a hypothesis test for the difference between two population proportions\n",
        "2.  An example Python code for conducting a one-way ANOVA\n",
        "3. An example Python code for conducting a two-way ANOVA\n",
        "4. An example Python code for conducting a repeating measures ANOVA"
      ],
      "metadata": {
        "id": "HfbsLhn4Mx3v"
      }
    },
    {
      "cell_type": "code",
      "source": [],
      "metadata": {
        "id": "Wah9k2FqLkgT"
      },
      "execution_count": null,
      "outputs": []
    },
    {
      "cell_type": "code",
      "execution_count": 4,
      "metadata": {
        "colab": {
          "base_uri": "https://localhost:8080/"
        },
        "id": "z3r8mrfzMa7T",
        "outputId": "182987ad-ecdb-41fa-e65c-625b6a11f7dd"
      },
      "outputs": [
        {
          "output_type": "stream",
          "name": "stdout",
          "text": [
            "The test statistic is: 2.324254905199887\n",
            "The p-value is: 0.02011183616753609\n"
          ]
        }
      ],
      "source": [
        "#an example Python code for calculating the p-value of a hypothesis test for the difference between two population proportions:\n",
        "\n",
        "# In this example, we have two samples with sample sizes of 100 and 150, and observed proportions of 0.60 and 0.45, respectively. \n",
        "# We calculate the pooled sample proportion, the standard error of the difference between two proportions, and the test statistic. \n",
        "# Finally, we calculate the two-tailed p-value using the cumulative distribution function of the standard normal distribution.\n",
        "\n",
        "import numpy as np\n",
        "import scipy.stats as stats\n",
        "\n",
        "# Define the sample sizes and observed proportions for two samples\n",
        "n1 = 100\n",
        "n2 = 150\n",
        "p1 = 0.60\n",
        "p2 = 0.45\n",
        "\n",
        "# Calculate the pooled sample proportion\n",
        "p_pool = (n1 * p1 + n2 * p2) / (n1 + n2)\n",
        "\n",
        "# Calculate the standard error of the difference between two proportions\n",
        "se_diff = np.sqrt(p_pool * (1 - p_pool) * (1/n1 + 1/n2))\n",
        "\n",
        "# Calculate the test statistic\n",
        "z_stat = (p1 - p2) / se_diff\n",
        "\n",
        "# Calculate the two-tailed p-value\n",
        "p_value = 2 * (1 - stats.norm.cdf(np.abs(z_stat)))\n",
        "\n",
        "print(\"The test statistic is:\", z_stat)\n",
        "print(\"The p-value is:\", p_value)\n"
      ]
    },
    {
      "cell_type": "code",
      "source": [
        "# In this example, we assume that the data is stored in a CSV file called 'data.csv', with each column representing a different group. \n",
        "# We use the pandas library to load the data into a DataFrame, and then use the f_oneway() function from the scipy.stats library to perform the one-way ANOVA. \n",
        "# The f_oneway() function takes each group as a separate argument. The function returns the F-statistic and the p-value for the ANOVA test. \n",
        "# We then print out the results.\n",
        "\n",
        "import pandas as pd\n",
        "import scipy.stats as stats\n",
        "\n",
        "# load the data into a pandas DataFrame\n",
        "df = pd.read_csv('data.csv')\n",
        "\n",
        "# perform one-way ANOVA\n",
        "f_statistic, p_value = stats.f_oneway(df['Group 1'], df['Group 2'], df['Group 3'])\n",
        "\n",
        "# print the results\n",
        "print('F-statistic:', f_statistic)\n",
        "print('p-value:', p_value)"
      ],
      "metadata": {
        "id": "xGk9VrYaNVK6"
      },
      "execution_count": 7,
      "outputs": []
    },
    {
      "cell_type": "code",
      "source": [
        "# In this example, we assume that the data is stored in a CSV file called 'data.csv', with one column representing the outcome variable, \n",
        "# one column representing the treatment variable, and one column representing the gender variable. \n",
        "# We use the pandas library to load the data into a DataFrame, and then use the statsmodels library to fit the ANOVA model. \n",
        "# We use the ols() function to specify the model formula, and the fit() method to fit the model. \n",
        "# We then use the anova_lm() function to compute the ANOVA table. The typ=2 argument specifies that we want to use the Type II sum of squares method. \n",
        "# We then print out the ANOVA table.\n",
        "\n",
        "import pandas as pd\n",
        "import statsmodels.api as sm\n",
        "from statsmodels.formula.api import ols\n",
        "\n",
        "# load the data into a pandas DataFrame\n",
        "df = pd.read_csv('data.csv')\n",
        "\n",
        "# fit the ANOVA model\n",
        "model = ols('Outcome ~ C(Treatment) + C(Gender) + C(Treatment):C(Gender)', data=df).fit()\n",
        "anova_table = sm.stats.anova_lm(model, typ=2)\n",
        "\n",
        "# print the results\n",
        "print(anova_table)\n"
      ],
      "metadata": {
        "id": "c9v-su3oPqsV"
      },
      "execution_count": 17,
      "outputs": []
    },
    {
      "cell_type": "code",
      "source": [
        "#In this example, we assume that the data is stored in a CSV file called 'data.csv', with one column representing the outcome variable, \n",
        "# one column representing the time variable, one column representing the treatment variable, and one column representing the subject variable. \n",
        "# We use the pandas library to load the data into a DataFrame, and then use the statsmodels library to fit the repeated measures ANOVA model. \n",
        "# We use the mixedlm() function to specify the model formula, and the fit() method to fit the model. \n",
        "# We then use the summary() method to print out the results.\n",
        "\n",
        "import pandas as pd\n",
        "import statsmodels.api as sm\n",
        "from statsmodels.formula.api import mixedlm\n",
        "\n",
        "# load the data into a pandas DataFrame\n",
        "df = pd.read_csv('data.csv')\n",
        "\n",
        "# fit the repeated measures ANOVA model\n",
        "model = mixedlm('Outcome ~ Time * Treatment', data=df, groups=df['Subject'], re_formula='~Time')\n",
        "result = model.fit()\n",
        "\n",
        "# print the results\n",
        "print(result.summary())\n"
      ],
      "metadata": {
        "id": "aBkhWeRGQdz6"
      },
      "execution_count": null,
      "outputs": []
    },
    {
      "cell_type": "code",
      "source": [],
      "metadata": {
        "id": "UAfZWk7xQ1G-"
      },
      "execution_count": null,
      "outputs": []
    },
    {
      "cell_type": "markdown",
      "source": [
        "Unit 15: Python code examples for advanced regression techniques\n",
        "1. Nonlinear Regression using SciPy:\n",
        "2. Inference of Slope using StatsModels:\n",
        "3. Transformation and Regression using Pandas:\n"
      ],
      "metadata": {
        "id": "3xYhNSqRQ1hj"
      }
    },
    {
      "cell_type": "code",
      "source": [
        "from scipy.optimize import curve_fit\n",
        "import numpy as np\n",
        "\n",
        "def func(x, a, b, c):\n",
        "    return a * np.exp(-b * x) + c\n",
        "\n",
        "xdata = np.array([1.0, 2.0, 3.0, 4.0, 5.0])\n",
        "ydata = np.array([1.1, 1.9, 3.0, 3.9, 5.1])\n",
        "\n",
        "popt, pcov = curve_fit(func, xdata, ydata)\n",
        "\n",
        "print(popt) # array([ 5.21783112,  1.01276768, -0.14438398])"
      ],
      "metadata": {
        "id": "9tT4xfNWRXQE"
      },
      "execution_count": 11,
      "outputs": []
    },
    {
      "cell_type": "code",
      "source": [
        "import statsmodels.api as sm\n",
        "\n",
        "x = sm.add_constant(x) # Add a constant to the x variable\n",
        "model = sm.OLS(y, x)\n",
        "results = model.fit()\n",
        "\n",
        "print(results.summary())\n"
      ],
      "metadata": {
        "id": "zkuHel-MRgOt"
      },
      "execution_count": null,
      "outputs": []
    },
    {
      "cell_type": "code",
      "source": [
        "import pandas as pd\n",
        "import numpy as np\n",
        "import statsmodels.formula.api as smf\n",
        "\n",
        "df = pd.read_csv('data.csv')\n",
        "df['log_x'] = np.log(df['x'])\n",
        "df['log_y'] = np.log(df['y'])\n",
        "\n",
        "model = smf.ols(formula='log_y ~ log_x', data=df)\n",
        "results = model.fit()\n",
        "\n",
        "print(results.summary())\n"
      ],
      "metadata": {
        "id": "IqeeU1O7R6z0"
      },
      "execution_count": null,
      "outputs": []
    },
    {
      "cell_type": "code",
      "source": [
        "#  Inference for numerical data: regression\n",
        "# Fit a linear regression model:\n",
        "\n",
        "import scipy.stats\n",
        "\n",
        "x = [1, 2, 3, 4, 5]\n",
        "y = [2, 4, 6, 8, 10]\n",
        "slope, intercept, r_value, p_value, std_err = scipy.stats.linregress(x, y)\n",
        "print(\"Slope:\", slope)\n",
        "print(\"Intercept:\", intercept)"
      ],
      "metadata": {
        "colab": {
          "base_uri": "https://localhost:8080/"
        },
        "id": "v2--BdsaR_Jx",
        "outputId": "1b4744a5-971d-44ee-f26e-633795a75fc9"
      },
      "execution_count": 32,
      "outputs": [
        {
          "output_type": "stream",
          "name": "stdout",
          "text": [
            "Slope: 2.0\n",
            "Intercept: 0.0\n"
          ]
        }
      ]
    },
    {
      "cell_type": "code",
      "source": [
        "#Predict a response using a fitted regression model:\n",
        "\n",
        "import scipy.stats\n",
        "\n",
        "x = [1, 2, 3, 4, 5]\n",
        "y = [2, 4, 6, 8, 10]\n",
        "slope, intercept, r_value, p_value, std_err = scipy.stats.linregress(x, y)\n",
        "new_x = 6\n",
        "predicted_y = slope * new_x + intercept\n",
        "print(\"Predicted y:\", predicted_y)"
      ],
      "metadata": {
        "colab": {
          "base_uri": "https://localhost:8080/"
        },
        "id": "RCtmVlCRFHCT",
        "outputId": "b73ca86a-8c66-4551-9598-0760c5b4babf"
      },
      "execution_count": 33,
      "outputs": [
        {
          "output_type": "stream",
          "name": "stdout",
          "text": [
            "Predicted y: 12.0\n"
          ]
        }
      ]
    },
    {
      "cell_type": "code",
      "source": [
        "# Multiple Regression\n",
        "# Here's an example Python code for multiple regression using statsmodels library:\n",
        "\n",
        "import statsmodels.api as sm\n",
        "import pandas as pd\n",
        "\n",
        "# input data\n",
        "data = pd.read_csv('data.csv')\n",
        "X = data[['x1', 'x2', 'x3']]\n",
        "y = data['y']\n",
        "\n",
        "# add a constant column to the input data\n",
        "X = sm.add_constant(X)\n",
        "\n",
        "# create a multiple regression model and fit the data\n",
        "model = sm.OLS(y, X).fit()\n",
        "\n",
        "# print the summary of the model\n",
        "print(model.summary())\n",
        "\n",
        "# predict the output for a new input\n",
        "X_new = pd.DataFrame({'const': 1, 'x1': [1], 'x2': [2], 'x3': [3]})\n",
        "y_new = model.predict(X_new)\n",
        "print(\"Predicted output for new input:\", y_new)"
      ],
      "metadata": {
        "id": "tV0hFCbuGwu5"
      },
      "execution_count": 40,
      "outputs": []
    },
    {
      "cell_type": "code",
      "source": [
        "#Calculate a confidence interval for the slope or intercept of a regression model:\n",
        "\n",
        "import numpy as np\n",
        "import statsmodels.api as sm\n",
        "\n",
        "# Generate some sample data\n",
        "x = np.array([1, 2, 3, 4, 5])\n",
        "y = np.array([2, 4, 5, 7, 8])\n",
        "\n",
        "# Fit a simple linear regression model\n",
        "X = sm.add_constant(x)\n",
        "model = sm.OLS(y, X).fit()\n",
        "\n",
        "# Calculate the confidence interval for the slope\n",
        "alpha = 0.05  # significance level\n",
        "n = len(x)\n",
        "t = stats.t.ppf(1 - alpha / 2, n - 2)  # t-distribution value\n",
        "s_x = np.sqrt(np.sum((x - np.mean(x))**2) / (n - 1))  # sample standard deviation of x\n",
        "se = np.sqrt((1 / (n - 2)) * np.sum((y - model.predict(X))**2) / np.sum((x - np.mean(x))**2))  # standard error of the estimate\n",
        "CI = (model.params[1] - t * se * s_x, model.params[1] + t * se * s_x)  # confidence interval for the slope\n",
        "\n",
        "print(\"Confidence interval for the slope: ({:.3f}, {:.3f})\".format(CI[0], CI[1]))"
      ],
      "metadata": {
        "colab": {
          "base_uri": "https://localhost:8080/"
        },
        "id": "Tl7qA1qSFTz6",
        "outputId": "a2f049d9-7df4-4edd-a4b1-ec0bb80c534e"
      },
      "execution_count": 43,
      "outputs": [
        {
          "output_type": "stream",
          "name": "stdout",
          "text": [
            "Confidence interval for the slope: (0.997, 2.003)\n"
          ]
        }
      ]
    },
    {
      "cell_type": "code",
      "source": [
        "#Python code for linear regression using scikit-learn library:\n",
        "\n",
        "from sklearn.linear_model import LinearRegression\n",
        "import numpy as np\n",
        "\n",
        "# input data\n",
        "X = np.array([[1, 2], [2, 4], [3, 6], [4, 8], [5, 10]])\n",
        "y = np.array([3, 6, 9, 12, 15])\n",
        "\n",
        "# create a linear regression model and fit the data\n",
        "model = LinearRegression().fit(X, y)\n",
        "\n",
        "# print the intercept and coefficients\n",
        "print(\"Intercept:\", model.intercept_)\n",
        "print(\"Coefficients:\", model.coef_)\n",
        "\n",
        "# predict the output for a new input\n",
        "X_new = np.array([[6, 12]])\n",
        "y_new = model.predict(X_new)\n",
        "print(\"Predicted output for new input:\", y_new)"
      ],
      "metadata": {
        "colab": {
          "base_uri": "https://localhost:8080/"
        },
        "id": "uams1pTBGg_W",
        "outputId": "1b740512-0456-4839-f490-fdbb494633e7"
      },
      "execution_count": 38,
      "outputs": [
        {
          "output_type": "stream",
          "name": "stdout",
          "text": [
            "Intercept: 1.7763568394002505e-15\n",
            "Coefficients: [0.6 1.2]\n",
            "Predicted output for new input: [18.]\n"
          ]
        }
      ]
    },
    {
      "cell_type": "markdown",
      "source": [
        "Unit 14: Inference for categorical data (chi-square tests)\n",
        "\n",
        "1. Chi-square goodness-of-fit tests: \n",
        "    Inference for categorical data (chi-square tests)\n",
        "2. Chi-square tests for relationships\n",
        "3. Chi-square test for independence:\n"
      ],
      "metadata": {
        "id": "lA1OBYy7SoD8"
      }
    },
    {
      "cell_type": "markdown",
      "source": [
        "Inference for numerical data: correlation\n",
        "\n",
        "\n",
        "1. Calculate the correlation coefficient: \n",
        "numpy.corrcoef(), scipy.stats.pearsonr()\n",
        "\n",
        "2. Calculate a confidence interval for the correlation coefficient: \n",
        "scipy.stats.pearsonr()\n",
        "\n",
        "3. Test the null hypothesis of no correlation: scipy.stats.pearsonr()\n",
        "\n",
        "\n",
        "Inference for numerical data: regression\n",
        "\n",
        "\n",
        "1. Fit a linear regression model: \n",
        "scipy.stats.linregress()\n",
        "\n",
        "2. Predict a response using a fitted regression model: \n",
        "scipy.stats.linregress()\n",
        "\n",
        "3. Calculate a confidence interval for the slope or intercept of a regression model: \n",
        "scipy.stats.linregress()\n",
        "\n",
        "4. Test the null hypothesis of no association in a regression model: \n",
        "scipy.stats.linregress()\n",
        "\n",
        "\n",
        "Comparing groups\n",
        "\n",
        "\n",
        "1. Test the null hypothesis of no difference between two means: \n",
        "scipy.stats.ttest_ind(), scipy.stats.ttest_1samp()\n",
        "\n",
        "2. Calculate a confidence interval for the difference between two means: \n",
        "scipy.stats.ttest_ind()\n",
        "\n",
        "3. Test the null hypothesis of no difference between two proportions: \n",
        "scipy.stats.chi2_contingency()\n",
        "\n",
        "4. Calculate a confidence interval for the difference between two proportions: scipy.stats.chi2_contingency()\n",
        "\n",
        "Inference for categorical data: Chi-square tests\n",
        "\n",
        "\n",
        "1. Test the null hypothesis of no association between two categorical variables: \n",
        "scipy.stats.chi2_contingency()\n",
        "\n",
        "2. Calculate a confidence interval for the difference between two proportions: scipy.stats.chi2_contingency()\n",
        "\n",
        "Inference for categorical data: Chi-square tests\n",
        "\n",
        "\n",
        "1. Test the null hypothesis of no association between two categorical variables: \n",
        "scipy.stats.chi2_contingency()\n",
        "\n",
        "2. Calculate a confidence interval for the difference between two proportions: scipy.stats.chi2_contingency()\n",
        "\n",
        "3. Inference for numerical data: \n",
        "bootstrapping\n",
        "\n",
        "\n",
        "Generate bootstrap samples: numpy.random.choice()\n",
        "\n",
        "1. Calculate a bootstrap confidence interval for a population parameter: \n",
        "numpy.percentile()\n",
        "\n",
        "Multiple testing\n",
        "\n",
        "\n",
        "1. Correct for multiple testing using the Bonferroni correction: \n",
        "statsmodels.stats.multitest.multipletests()\n",
        "\n",
        "2. Correct for multiple testing using the false discovery rate: \n",
        "statsmodels.stats.multitest.fdrcorrection()\n",
        "\n",
        "Experimental design and inference\n",
        "\n",
        "\n",
        "1. Calculate power and sample size for a hypothesis test: \n",
        "statsmodels.stats.power.tt_ind_solve_power(), statsmodels.stats.power.tt_solve_power()\n",
        "\n",
        "2. Design an experiment using randomization: \n",
        "numpy.random.permutation(), numpy.random.shuffle()"
      ],
      "metadata": {
        "id": "8RdEWDzQTKb9"
      }
    },
    {
      "cell_type": "code",
      "source": [
        "from scipy.stats import chisquare\n",
        "\n",
        "observed = [10, 15, 25, 20, 30]\n",
        "expected = [12, 15, 20, 22, 21]\n",
        "\n",
        "test_stat, p_value = chisquare(observed, expected)\n",
        "\n",
        "print(\"Test statistic: \", test_stat)\n",
        "print(\"P-value: \", p_value)\n"
      ],
      "metadata": {
        "id": "bXFOkpVGS4c_"
      },
      "execution_count": 13,
      "outputs": []
    },
    {
      "cell_type": "code",
      "source": [
        "import pandas as pd\n",
        "import scipy.stats as stats\n",
        "\n",
        "df = pd.read_csv('data.csv')\n",
        "\n",
        "cont_table = pd.crosstab(df['col1'], df['col2'])\n",
        "chi2, p, dof, expected = stats.chi2_contingency(cont_table)\n",
        "\n",
        "print(\"Chi-square statistic: \", chi2)\n",
        "print(\"P-value: \", p)\n"
      ],
      "metadata": {
        "id": "CKo12dyUS8Sx"
      },
      "execution_count": null,
      "outputs": []
    },
    {
      "cell_type": "code",
      "source": [
        "import pandas as pd\n",
        "import scipy.stats as stats\n",
        "\n",
        "df = pd.read_csv('data.csv')\n",
        "\n",
        "cont_table = pd.crosstab(df['col1'], df['col2'])\n",
        "chi2, p, dof, expected = stats.chi2_contingency(cont_table)\n",
        "\n",
        "print(\"Chi-square statistic: \", chi2)\n",
        "print(\"P-value: \", p)\n"
      ],
      "metadata": {
        "id": "R6refk9rTQZe"
      },
      "execution_count": null,
      "outputs": []
    },
    {
      "cell_type": "code",
      "source": [
        "#Inference for numerical data: correlation\n",
        "#Calculate the correlation coefficient:\n",
        "\n",
        "import numpy as np\n",
        "import scipy.stats\n",
        "\n",
        "x = np.array([1, 2, 3, 4, 5])\n",
        "y = np.array([2, 4, 6, 8, 10])\n",
        "corr_coef = np.corrcoef(x, y)[0, 1]\n",
        "# Alternatively, use scipy.stats.pearsonr(x, y)[0]\n",
        "print(corr_coef)\n"
      ],
      "metadata": {
        "colab": {
          "base_uri": "https://localhost:8080/"
        },
        "id": "ap3fksaoTSNx",
        "outputId": "331bb896-f49a-4619-a29e-aea843520fdb"
      },
      "execution_count": 29,
      "outputs": [
        {
          "output_type": "stream",
          "name": "stdout",
          "text": [
            "0.9999999999999999\n"
          ]
        }
      ]
    },
    {
      "cell_type": "code",
      "source": [
        "#Calculate a confidence interval for the correlation coefficient:\n",
        "\n",
        "import scipy.stats\n",
        "\n",
        "x = [1, 2, 3, 4, 5]\n",
        "y = [2, 4, 6, 8, 10]\n",
        "corr_coef, p_value = scipy.stats.pearsonr(x, y)\n",
        "n = len(x)\n",
        "t_star = scipy.stats.t.ppf(0.975, n-2) # for a 95% confidence interval\n",
        "se = 1 / np.sqrt(n-2)\n",
        "ci_low = corr_coef - t_star * se\n",
        "ci_high = corr_coef + t_star * se\n",
        "print(\"Correlation coefficient:\", corr_coef)\n",
        "print(\"Confidence interval:\", (ci_low, ci_high))"
      ],
      "metadata": {
        "colab": {
          "base_uri": "https://localhost:8080/"
        },
        "id": "O4jcKwJxEMlM",
        "outputId": "047833d9-d6ec-49f0-ab7b-db35041fb0dd"
      },
      "execution_count": 30,
      "outputs": [
        {
          "output_type": "stream",
          "name": "stdout",
          "text": [
            "Correlation coefficient: 1.0\n",
            "Confidence interval: (-0.8373862310373994, 2.8373862310373994)\n"
          ]
        }
      ]
    },
    {
      "cell_type": "code",
      "source": [
        "#Test the null hypothesis of no correlation:\n",
        "\n",
        "import scipy.stats\n",
        "\n",
        "x = [1, 2, 3, 4, 5]\n",
        "y = [2, 4, 6, 8, 10]\n",
        "corr_coef, p_value = scipy.stats.pearsonr(x, y)\n",
        "print(\"Correlation coefficient:\", corr_coef)\n",
        "print(\"p-value:\", p_value)\n",
        "if p_value < 0.05:\n",
        "    print(\"Reject the null hypothesis of no correlation.\")\n",
        "else:\n",
        "    print(\"Fail to reject the null hypothesis of no correlation.\")"
      ],
      "metadata": {
        "colab": {
          "base_uri": "https://localhost:8080/"
        },
        "id": "B1CmOgYfEcP-",
        "outputId": "aa8f7f71-494c-4751-a980-f4767f023a2c"
      },
      "execution_count": 31,
      "outputs": [
        {
          "output_type": "stream",
          "name": "stdout",
          "text": [
            "Correlation coefficient: 1.0\n",
            "p-value: 0.0\n",
            "Reject the null hypothesis of no correlation.\n"
          ]
        }
      ]
    },
    {
      "cell_type": "code",
      "source": [],
      "metadata": {
        "id": "pqRzgOFrEq9b"
      },
      "execution_count": null,
      "outputs": []
    },
    {
      "cell_type": "markdown",
      "source": [
        "Unit 13: Two-sample inference for the difference between groups\n",
        "\n",
        "1. Comparing two proportions: \n",
        "    Two-sample inference for the difference between groups\n",
        "2. Comparing two means"
      ],
      "metadata": {
        "id": "jWmTmaXzT8-Q"
      }
    },
    {
      "cell_type": "code",
      "source": [
        "import pandas as pd\n",
        "import scipy.stats as stats\n",
        "\n",
        "group1 = [24, 26, 28, 30, 32]\n",
        "group2 = [23, 27, 29, 31, 33]\n",
        "\n",
        "test_stat, p_value = stats.ttest_ind(group1, group2)\n",
        "\n",
        "print(\"Test statistic: \", test_stat)\n",
        "print(\"P-value: \", p_value)\n"
      ],
      "metadata": {
        "colab": {
          "base_uri": "https://localhost:8080/"
        },
        "id": "YSZpClOxUG6z",
        "outputId": "c5cf7beb-983b-4743-b5fa-e52e045550b5"
      },
      "execution_count": 35,
      "outputs": [
        {
          "output_type": "stream",
          "name": "stdout",
          "text": [
            "Test statistic:  -0.26940795304016296\n",
            "P-value:  0.7944340962084293\n"
          ]
        }
      ]
    },
    {
      "cell_type": "code",
      "source": [
        "import pandas as pd\n",
        "import statsmodels.api as sm\n",
        "\n",
        "success1 = 500\n",
        "nobs1 = 1000\n",
        "success2 = 550\n",
        "nobs2 = 1000\n",
        "\n",
        "z_stat, p_value = sm.stats.proportions_ztest([success1, success2], [nobs1, nobs2])\n",
        "\n",
        "print(\"Z statistic: \", z_stat)\n",
        "print(\"P-value: \", p_value)\n"
      ],
      "metadata": {
        "colab": {
          "base_uri": "https://localhost:8080/"
        },
        "id": "HYOiGNYjUkFX",
        "outputId": "b772d372-78e1-43d3-a6d4-b58b994adf14"
      },
      "execution_count": 34,
      "outputs": [
        {
          "output_type": "stream",
          "name": "stdout",
          "text": [
            "Z statistic:  -2.238868314198227\n",
            "P-value:  0.025164485700318397\n"
          ]
        }
      ]
    },
    {
      "cell_type": "code",
      "source": [
        "import pandas as pd\n",
        "import scipy.stats as stats\n",
        "\n",
        "data1 = [24, 26, 28, 30, 32]\n",
        "data2 = [23, 27, 29, 31, 33]\n",
        "\n",
        "test_stat, p_value = stats.ttest_ind(data1, data2)\n",
        "\n",
        "print(\"Test statistic: \", test_stat)\n",
        "print(\"P-value: \", p_value)\n"
      ],
      "metadata": {
        "colab": {
          "base_uri": "https://localhost:8080/"
        },
        "id": "_fWpLgX-UnYW",
        "outputId": "bd1d3cd3-7dbb-4fd0-9a63-bd2b7c517ef2"
      },
      "execution_count": 33,
      "outputs": [
        {
          "output_type": "stream",
          "name": "stdout",
          "text": [
            "Test statistic:  -0.26940795304016296\n",
            "P-value:  0.7944340962084293\n"
          ]
        }
      ]
    },
    {
      "cell_type": "code",
      "source": [],
      "metadata": {
        "id": "4Z9rRz0zUqlh"
      },
      "execution_count": null,
      "outputs": []
    },
    {
      "cell_type": "markdown",
      "source": [
        "Unit 12: Significance tests (hypothesis testing)\n",
        "\n",
        "1. The idea of significance tests: Significance tests (hypothesis testing)\n",
        "2. Error probabilities and power: Significance tests (hypothesis testing)\n",
        "3. Tests about a population proportion: Significance tests (hypothesis testing)\n",
        "4. Tests about a population mean: Significance tests (hypothesis testing)\n",
        "5. More significance testing videos"
      ],
      "metadata": {
        "id": "g9QINYZ8Uwti"
      }
    },
    {
      "cell_type": "code",
      "source": [
        "import numpy as np\n",
        "from scipy.stats import ttest_1samp\n",
        "\n",
        "# create a sample dataset\n",
        "data = np.random.normal(0, 1, 100)\n",
        "\n",
        "# set up null hypothesis\n",
        "null_mean = 0\n",
        "\n",
        "# conduct t-test\n",
        "t_statistic, p_value = ttest_1samp(data, null_mean)\n",
        "\n",
        "# print results\n",
        "print(\"t-statistic:\", t_statistic)\n",
        "print(\"p-value:\", p_value)\n"
      ],
      "metadata": {
        "colab": {
          "base_uri": "https://localhost:8080/"
        },
        "id": "vOQ-ERJVVkF9",
        "outputId": "c9e9eac9-9788-4b6f-b4e6-19d13385618c"
      },
      "execution_count": 14,
      "outputs": [
        {
          "output_type": "stream",
          "name": "stdout",
          "text": [
            "t-statistic: -0.654121404397415\n",
            "p-value: 0.5145502386576002\n"
          ]
        }
      ]
    },
    {
      "cell_type": "code",
      "source": [
        "import numpy as np\n",
        "from statsmodels.stats.power import TTestIndPower\n",
        "\n",
        "# set up parameters for power analysis\n",
        "effect_size = 0.5\n",
        "alpha = 0.05\n",
        "power = 0.8\n",
        "\n",
        "# conduct power analysis\n",
        "analysis = TTestIndPower()\n",
        "sample_size = analysis.solve_power(effect_size, power=power, alpha=alpha)\n",
        "\n",
        "# print results\n",
        "print(\"Sample size needed:\", sample_size)\n"
      ],
      "metadata": {
        "colab": {
          "base_uri": "https://localhost:8080/"
        },
        "id": "P9byuqKzVnuK",
        "outputId": "61a72d81-0078-45c3-c3c4-3586a5edb5a4"
      },
      "execution_count": 15,
      "outputs": [
        {
          "output_type": "stream",
          "name": "stdout",
          "text": [
            "Sample size needed: 63.765610587854056\n"
          ]
        },
        {
          "output_type": "stream",
          "name": "stderr",
          "text": [
            "/usr/local/lib/python3.9/dist-packages/scipy/stats/_continuous_distns.py:6832: RuntimeWarning: invalid value encountered in _nct_sf\n",
            "  return np.clip(_boost._nct_sf(x, df, nc), 0, 1)\n",
            "/usr/local/lib/python3.9/dist-packages/scipy/stats/_continuous_distns.py:6826: RuntimeWarning: invalid value encountered in _nct_cdf\n",
            "  return np.clip(_boost._nct_cdf(x, df, nc), 0, 1)\n"
          ]
        }
      ]
    },
    {
      "cell_type": "code",
      "source": [
        "import numpy as np\n",
        "from statsmodels.stats.proportion import proportions_ztest\n",
        "\n",
        "# create a sample dataset\n",
        "num_successes = 20\n",
        "num_trials = 100\n",
        "null_prop = 0.5\n",
        "\n",
        "# conduct z-test\n",
        "z_statistic, p_value = proportions_ztest(num_successes, num_trials, null_prop)\n",
        "\n",
        "# print results\n",
        "print(\"z-statistic:\", z_statistic)\n",
        "print(\"p-value:\", p_value)\n"
      ],
      "metadata": {
        "colab": {
          "base_uri": "https://localhost:8080/"
        },
        "id": "KcVBOUFwVqo0",
        "outputId": "5ac28799-0c0c-408d-a6a1-85cff239af85"
      },
      "execution_count": 16,
      "outputs": [
        {
          "output_type": "stream",
          "name": "stdout",
          "text": [
            "z-statistic: -7.5\n",
            "p-value: 6.381783345821769e-14\n"
          ]
        }
      ]
    },
    {
      "cell_type": "code",
      "source": [
        "import numpy as np\n",
        "from scipy.stats import ttest_ind\n",
        "\n",
        "# create two sample datasets\n",
        "data1 = np.random.normal(0, 1, 100)\n",
        "data2 = np.random.normal(1, 1, 100)\n",
        "\n",
        "# conduct t-test\n",
        "t_statistic, p_value = ttest_ind(data1, data2)\n",
        "\n",
        "# print results\n",
        "print(\"t-statistic:\", t_statistic)\n",
        "print(\"p-value:\", p_value)\n"
      ],
      "metadata": {
        "colab": {
          "base_uri": "https://localhost:8080/"
        },
        "id": "wJcXT8OuVvQ3",
        "outputId": "5ff6fbba-ccb6-4f3e-e517-c181af422527"
      },
      "execution_count": 17,
      "outputs": [
        {
          "output_type": "stream",
          "name": "stdout",
          "text": [
            "t-statistic: -6.2578119809840205\n",
            "p-value: 2.3686733961912495e-09\n"
          ]
        }
      ]
    },
    {
      "cell_type": "code",
      "source": [
        "# These are not specific code examples, but some additional resources for significance testing:\n",
        "\n",
        "# Khan Academy: https://www.khanacademy.org/math/ap-statistics/tests-significance-ap\n",
        "# Stat Trek: https://stattrek.com/hypothesis-test/hypothesis-testing.aspx\n",
        "# Real Python: https://realpython.com/python-hypothesis-testing/"
      ],
      "metadata": {
        "id": "MWYJu0hCV0-s"
      },
      "execution_count": null,
      "outputs": []
    },
    {
      "cell_type": "markdown",
      "source": [
        "Unit 11: Confidence intervals\n",
        "1. Introduction to confidence intervals: Confidence intervals\n",
        "2. Estimating a population proportion: Confidence intervals\n",
        "3. Estimating a population mean: Confidence intervals\n"
      ],
      "metadata": {
        "id": "FznUFOPFVNsx"
      }
    },
    {
      "cell_type": "code",
      "source": [
        "import numpy as np\n",
        "import scipy.stats as stats\n",
        "\n",
        "# generate a random sample of data\n",
        "data = np.random.normal(loc=10, scale=3, size=100)\n",
        "\n",
        "# calculate the sample mean and standard deviation\n",
        "sample_mean = np.mean(data)\n",
        "sample_std = np.std(data, ddof=1)\n",
        "\n",
        "# calculate the standard error of the mean\n",
        "sem = sample_std / np.sqrt(len(data))\n",
        "\n",
        "# calculate the margin of error\n",
        "z = stats.norm.ppf(0.975)  # z-score for 95% confidence interval\n",
        "margin_of_error = z * sem\n",
        "\n",
        "# calculate the lower and upper bounds of the confidence interval\n",
        "lower_bound = sample_mean - margin_of_error\n",
        "upper_bound = sample_mean + margin_of_error\n",
        "\n",
        "print(\"Sample Mean:\", sample_mean)\n",
        "print(\"Margin of Error:\", margin_of_error)\n",
        "print(\"Lower Bound:\", lower_bound)\n",
        "print(\"Upper Bound:\", upper_bound)\n"
      ],
      "metadata": {
        "colab": {
          "base_uri": "https://localhost:8080/"
        },
        "id": "Ns9J9l_oWle_",
        "outputId": "009e1594-a56a-470f-b422-1fe4565e39f5"
      },
      "execution_count": 20,
      "outputs": [
        {
          "output_type": "stream",
          "name": "stdout",
          "text": [
            "Sample Mean: 10.086198193975042\n",
            "Margin of Error: 0.6126537203944544\n",
            "Lower Bound: 9.473544473580587\n",
            "Upper Bound: 10.698851914369497\n"
          ]
        }
      ]
    },
    {
      "cell_type": "code",
      "source": [
        "import statsmodels.api as sm\n",
        "\n",
        "# create a dataset of binary data (0's and 1's)\n",
        "data = [1, 1, 1, 0, 0, 0, 0, 0, 0, 0]\n",
        "\n",
        "# calculate the sample proportion\n",
        "sample_proportion = sum(data) / len(data)\n",
        "\n",
        "# calculate the standard error of the proportion\n",
        "sem = np.sqrt(sample_proportion * (1 - sample_proportion) / len(data))\n",
        "\n",
        "# calculate the margin of error\n",
        "z = stats.norm.ppf(0.975)  # z-score for 95% confidence interval\n",
        "margin_of_error = z * sem\n",
        "\n",
        "# calculate the lower and upper bounds of the confidence interval\n",
        "lower_bound = sample_proportion - margin_of_error\n",
        "upper_bound = sample_proportion + margin_of_error\n",
        "\n",
        "print(\"Sample Proportion:\", sample_proportion)\n",
        "print(\"Margin of Error:\", margin_of_error)\n",
        "print(\"Lower Bound:\", lower_bound)\n",
        "print(\"Upper Bound:\", upper_bound)\n"
      ],
      "metadata": {
        "colab": {
          "base_uri": "https://localhost:8080/"
        },
        "id": "39GmrDNrWx0i",
        "outputId": "32df0c14-e06a-4ad9-9347-598195302d66"
      },
      "execution_count": 19,
      "outputs": [
        {
          "output_type": "stream",
          "name": "stdout",
          "text": [
            "Sample Proportion: 0.3\n",
            "Margin of Error: 0.28402576508932537\n",
            "Lower Bound: 0.015974234910674623\n",
            "Upper Bound: 0.5840257650893254\n"
          ]
        }
      ]
    },
    {
      "cell_type": "code",
      "source": [
        "import scipy.stats as stats\n",
        "\n",
        "# generate a random sample of data\n",
        "data = np.random.normal(loc=10, scale=3, size=100)\n",
        "\n",
        "# calculate the sample mean and standard deviation\n",
        "sample_mean = np.mean(data)\n",
        "sample_std = np.std(data, ddof=1)\n",
        "\n",
        "# calculate the standard error of the mean\n",
        "sem = sample_std / np.sqrt(len(data))\n",
        "\n",
        "# calculate the t-value for a 95% confidence interval with 99 degrees of freedom\n",
        "t = stats.t.ppf(0.975, df=99)\n",
        "\n",
        "# calculate the margin of error\n",
        "margin_of_error = t * sem\n",
        "\n",
        "# calculate the lower and upper bounds of the confidence interval\n",
        "lower_bound = sample_mean - margin_of_error\n",
        "upper_bound = sample_mean + margin_of_error\n",
        "\n",
        "print(\"Sample Mean:\", sample_mean)\n",
        "print(\"Margin of Error:\", margin_of_error)\n",
        "print(\"Lower Bound:\", lower_bound)\n",
        "print(\"Upper Bound:\", upper_bound)\n"
      ],
      "metadata": {
        "colab": {
          "base_uri": "https://localhost:8080/"
        },
        "id": "a-JPhIKmW1Sd",
        "outputId": "0853da45-940f-41fb-a23d-2d6d5d936b46"
      },
      "execution_count": 18,
      "outputs": [
        {
          "output_type": "stream",
          "name": "stdout",
          "text": [
            "Sample Mean: 10.136406478374736\n",
            "Margin of Error: 0.5475789814975726\n",
            "Lower Bound: 9.588827496877164\n",
            "Upper Bound: 10.683985459872309\n"
          ]
        }
      ]
    },
    {
      "cell_type": "code",
      "source": [
        "# Confidence Intervals\n",
        "# Here's an example Python code to calculate confidence intervals:\n",
        "\n",
        "import scipy.stats as stats\n",
        "import numpy as np\n",
        "\n",
        "# input data\n",
        "data = np.array([7, 6, 5, 9, 8, 7, 10, 11, 6, 8])\n",
        "\n",
        "# calculate the sample mean and standard deviation\n",
        "sample_mean = np.mean(data)\n",
        "sample_sd = np.std(data, ddof=1)\n",
        "\n",
        "# calculate the 95% confidence interval for the population mean\n",
        "n = len(data)\n",
        "t = stats.t.ppf(0.975, df=n-1)\n",
        "ci_low = sample_mean - t * sample_sd / np.sqrt(n)\n",
        "ci_high = sample_mean + t * sample_sd / np.sqrt(n)\n",
        "print(\"95% confidence interval for the population mean:\", (ci_low))\n",
        "print(\"95% confidence interval for the population mean:\", (ci_high))"
      ],
      "metadata": {
        "colab": {
          "base_uri": "https://localhost:8080/"
        },
        "id": "vusUh2NSXBDr",
        "outputId": "43d19a16-5179-4252-c552-81be652b5473"
      },
      "execution_count": 42,
      "outputs": [
        {
          "output_type": "stream",
          "name": "stdout",
          "text": [
            "95% confidence interval for the population mean: 6.349004085749307\n",
            "95% confidence interval for the population mean: 9.050995914250693\n"
          ]
        }
      ]
    },
    {
      "cell_type": "markdown",
      "source": [
        "Unit 10: Sampling distributions\n",
        "\n",
        "1. Sampling distribution of a sample proportion: Sampling distributions\n",
        "2. Sampling distribution of a sample mean"
      ],
      "metadata": {
        "id": "k43aex_3Wc-8"
      }
    },
    {
      "cell_type": "code",
      "source": [
        "#Sampling distributions\n",
        "\n",
        "#Simulating sampling distributions:\n",
        "\n",
        "import numpy as np\n",
        "\n",
        "population_data = np.random.normal(loc=0, scale=1, size=100)\n",
        "\n",
        "sample_data = np.random.choice(population_data, size=10)\n",
        "\n",
        "sample_mean = np.mean(sample_data)\n",
        "print(\"Sample DATA:\", sample_data)\n",
        "print(\"Sample MEAN:\", sample_mean)\n",
        "print(\"Population data:\", population_data)"
      ],
      "metadata": {
        "colab": {
          "base_uri": "https://localhost:8080/"
        },
        "id": "dMSiKH58Rjvu",
        "outputId": "e65e8654-4a51-4887-8015-243da8342829"
      },
      "execution_count": 28,
      "outputs": [
        {
          "output_type": "stream",
          "name": "stdout",
          "text": [
            "Sample DATA: [-0.31226276  1.26126365  2.07612596  2.07612596 -0.92238823  0.69716531\n",
            " -0.64428788 -0.06168241 -0.36684127  0.15079743]\n",
            "Sample MEAN: 0.3954015762244663\n",
            "Population data: [-0.54636925 -0.63607974 -0.36684127 -0.92238823  0.7253927   0.15079743\n",
            " -0.48144421  0.01508078 -0.58386075  0.73169793 -0.19576007 -1.57737203\n",
            "  0.73099994  1.02631824 -0.79444256  0.99986439 -0.63036227  1.08118641\n",
            "  0.43054747 -1.11159852  0.00502975 -1.42458164 -0.10501231  0.28567998\n",
            " -1.40997556 -1.23418613 -0.18746335 -0.27215041 -0.06168241 -0.31226276\n",
            "  1.35886755  0.82506525 -1.3191911  -0.34893581  0.36053764 -1.93692465\n",
            " -0.04958216  2.07612596  0.19443608 -1.48430947  0.13503913  0.55221788\n",
            "  1.26126365  0.51956425  0.51838238 -0.97218176  0.69716531 -0.72065691\n",
            " -0.55675381 -0.81646118  0.63146491 -0.56515449 -0.64428788 -0.45274317\n",
            "  1.37747312  0.76813196  1.26854663  1.31043853 -0.1305553   0.58631448\n",
            " -1.93887238 -0.81405899 -1.45987389  0.27154302  1.43808337  1.1603655\n",
            "  0.82674732 -0.98354077 -0.32839902 -0.50828692  0.15055492 -0.80766916\n",
            "  1.27073997 -0.38879927  1.60252026  1.94874219  0.41469706  0.26461513\n",
            "  1.66565316 -0.99683394 -0.1517292  -0.5830839  -0.02845591 -0.48971971\n",
            " -0.21823303 -0.18457812  0.8819639   0.15112772  1.31741127  0.7245207\n",
            "  0.25837388 -0.08070777  1.05115188 -0.46020156  0.23841544 -0.71661305\n",
            " -0.49006691 -0.23247983  1.4079735   1.2241204 ]\n"
          ]
        }
      ]
    },
    {
      "cell_type": "code",
      "source": [
        "#In this example, we set the population proportion to 0.6 and the sample size to 100. \n",
        "# We then simulate 10,000 samples of size 100 from the population using the numpy.random.binomial function, which simulates a binomial distribution. \n",
        "# We divide the resulting counts by the sample size to obtain the sample proportions.\n",
        "# Finally, we plot the resulting sampling distribution of the sample proportions using a histogram. \n",
        "# The resulting plot should show a normal distribution centered around the population proportion of 0.6.\n",
        "\n",
        "import numpy as np\n",
        "import matplotlib.pyplot as plt\n",
        "\n",
        "# Set population proportion and sample size\n",
        "pop_prop = 0.6\n",
        "sample_size = 100\n",
        "\n",
        "# Simulate 10000 samples of size 100 from the population\n",
        "num_samples = 10000\n",
        "samples = np.random.binomial(sample_size, pop_prop, size=num_samples) / sample_size\n",
        "\n",
        "# Plot the sampling distribution of the sample proportion\n",
        "plt.hist(samples, bins=30, density=True)\n",
        "plt.xlabel('Sample Proportion')\n",
        "plt.ylabel('Density')\n",
        "plt.title('Sampling Distribution of Sample Proportion')\n",
        "plt.show()\n"
      ],
      "metadata": {
        "colab": {
          "base_uri": "https://localhost:8080/",
          "height": 472
        },
        "id": "hr3yynZ6YSJH",
        "outputId": "077a6983-7852-46fc-8bae-6a24fd34486c"
      },
      "execution_count": 23,
      "outputs": [
        {
          "output_type": "display_data",
          "data": {
            "text/plain": [
              "<Figure size 640x480 with 1 Axes>"
            ],
            "image/png": "[encoded data removed]"
          },
          "metadata": {}
        }
      ]
    },
    {
      "cell_type": "code",
      "source": [
        "# This code generates a normal population with mean mu and standard deviation sigma. \n",
        "# It then generates num_samples samples of size n from this population and calculates the sample mean of each sample. \n",
        "# Finally, it plots the histogram of the sampling distribution of the sample means.\n",
        "\n",
        "import numpy as np\n",
        "import matplotlib.pyplot as plt\n",
        "\n",
        "# population parameters\n",
        "mu = 50\n",
        "sigma = 10\n",
        "\n",
        "# sample size\n",
        "n = 50\n",
        "\n",
        "# number of samples\n",
        "num_samples = 1000\n",
        "\n",
        "# generate random samples from population\n",
        "samples = np.random.normal(mu, sigma, (num_samples, n))\n",
        "\n",
        "# calculate sample means\n",
        "sample_means = np.mean(samples, axis=1)\n",
        "\n",
        "# plot sampling distribution of sample means\n",
        "plt.hist(sample_means, bins=20)\n",
        "plt.xlabel('Sample Mean')\n",
        "plt.ylabel('Frequency')\n",
        "plt.title('Sampling Distribution of Sample Mean')\n",
        "plt.show()\n"
      ],
      "metadata": {
        "colab": {
          "base_uri": "https://localhost:8080/",
          "height": 472
        },
        "id": "k1XjBaQRWMJb",
        "outputId": "b03eccd3-37cb-47ec-b95b-87ced86f72d5"
      },
      "execution_count": 22,
      "outputs": [
        {
          "output_type": "display_data",
          "data": {
            "text/plain": [
              "<Figure size 640x480 with 1 Axes>"
            ],
            "image/png": "[encoded data removed]"
          },
          "metadata": {}
        }
      ]
    },
    {
      "cell_type": "code",
      "source": [
        "# Sampling Distributions and Central Limit Theorem\n",
        "# Here's an example Python code to demonstrate the central limit theorem:\n",
        "\n",
        "import numpy as np\n",
        "import matplotlib.pyplot as plt\n",
        "\n",
        "# population data\n",
        "population = np.random.normal(loc=50, scale=10, size=100000)\n",
        "\n",
        "# calculate the means of random samples from the population\n",
        "sample_means = []\n",
        "for i in range(10000):\n",
        "    sample = np.random.choice(population, size=100)\n",
        "    sample_means.append(np.mean(sample))\n",
        "\n",
        "# plot the histogram of sample means\n",
        "plt.hist(sample_means, bins=50, density=True)\n",
        "\n",
        "# plot the normal distribution with the same mean and standard deviation as the population\n",
        "mu = np.mean(population)\n",
        "sigma = np.std(population) / np.sqrt(100)\n",
        "x = np.linspace(mu - 4*sigma, mu + 4*sigma, 100)\n",
        "plt.plot(x, 1/(sigma * np.sqrt(2 * np.pi)) * np.exp(-(x - mu)**2 / (2 * sigma**2)))\n",
        "\n",
        "plt.show()"
      ],
      "metadata": {
        "colab": {
          "base_uri": "https://localhost:8080/",
          "height": 430
        },
        "id": "bDGnTRB0Hgi3",
        "outputId": "1d28f0da-b658-42ec-9641-5b3356491d94"
      },
      "execution_count": 41,
      "outputs": [
        {
          "output_type": "display_data",
          "data": {
            "text/plain": [
              "<Figure size 640x480 with 1 Axes>"
            ],
            "image/png": "[encoded data removed]"
          },
          "metadata": {}
        }
      ]
    },
    {
      "cell_type": "markdown",
      "source": [
        "Unit 9: Random variables\n",
        "\n",
        "1. Discrete random variables: Random variables\n",
        "2. Continuous random variables: Random variables\n",
        "3. Transforming random variables: Random variables\n",
        "4. Combining random variables: Random variables\n",
        "5. Binomial random variables: Random variables\n",
        "6. Binomial mean and standard deviation formulas: Random variables\n",
        "7. Geometric random variables: Random variables\n",
        "8. More on expected value: Random variables\n",
        "9. Poisson distribution"
      ],
      "metadata": {
        "id": "hM3VJ3J3XY8a"
      }
    },
    {
      "cell_type": "code",
      "source": [
        "#1. To simulate rolling the die 10 times and store the results in a list, you can use the random module in python:\n",
        "\n",
        "# Discrete random variables\n",
        "# Example 1: Rolling a fair die\n",
        "# Suppose you roll a fair die. The probability of each outcome is the same and is given by 1/6. Let X be the number that appears on the die. Then X is a discrete random variable with a probability distribution given by:\n",
        "\n",
        "# x\tP(X=x)\n",
        "# 1\t1/6\n",
        "# 2\t1/6\n",
        "# 3\t1/6\n",
        "# 4\t1/6\n",
        "# 5\t1/6\n",
        "# 6\t1/6\n",
        "\n",
        "import random\n",
        "\n",
        "# Define the possible outcomes\n",
        "outcomes = [1, 2, 3, 4, 5, 6]\n",
        "\n",
        "# Simulate rolling the die 10 times\n",
        "results = [random.choice(outcomes) for i in range(10)]\n",
        "\n",
        "print(results) # print the results\n"
      ],
      "metadata": {
        "colab": {
          "base_uri": "https://localhost:8080/"
        },
        "id": "RzM_ISUvZJnn",
        "outputId": "d0886faf-10e0-4708-c852-07c858c95111"
      },
      "execution_count": 25,
      "outputs": [
        {
          "output_type": "stream",
          "name": "stdout",
          "text": [
            "[4, 1, 4, 5, 2, 2, 5, 4, 5, 6]\n"
          ]
        }
      ]
    },
    {
      "cell_type": "code",
      "source": [
        "#Example 2: Binomial distribution\n",
        "# Suppose you flip a fair coin 10 times. Let X be the number of heads that appear. \n",
        "# Then X is a binomial random variable with parameters n=10 and p=0.5. \n",
        "# The probability distribution of X is given by:\n",
        "# x\tP(X=x)\n",
        "# 0\t0.001\n",
        "# 1\t0.010\n",
        "# 2\t0.044\n",
        "# 3\t0.117\n",
        "# 4\t0.205\n",
        "# 5\t0.246\n",
        "# 6\t0.205\n",
        "# 7\t0.117\n",
        "# 8\t0.044\n",
        "# 9\t0.010\n",
        "# 10\t0.001\n",
        "# To simulate flipping a coin 10 times and counting the number of heads, you can use the random module in python:\n",
        "\n",
        "import random\n",
        "\n",
        "# Simulate flipping a coin 10 times\n",
        "flips = [random.choice(['H', 'T']) for i in range(10)]\n",
        "\n",
        "# Count the number of heads\n",
        "num_heads = flips.count('H')\n",
        "\n",
        "print(num_heads) # print the number of heads\n"
      ],
      "metadata": {
        "colab": {
          "base_uri": "https://localhost:8080/"
        },
        "id": "QhzJ4GyoaMvS",
        "outputId": "30cc8136-177f-4029-87a3-e6ad2f43bd87"
      },
      "execution_count": 26,
      "outputs": [
        {
          "output_type": "stream",
          "name": "stdout",
          "text": [
            "5\n"
          ]
        }
      ]
    },
    {
      "cell_type": "code",
      "source": [
        "#2. Continuous random variables\n",
        "# Example: Normal distribution\n",
        "# Suppose the weights of apples in a grocery store are normally distributed with a mean of 150 grams and a standard deviation of 20 grams. Let X be the weight of a randomly selected apple. Then X is a continuous random variable with a normal distribution:\n",
        "\n",
        "# X ~ N(150, 20^2)\n",
        "\n",
        "# To generate random numbers from a normal distribution in python, you can use the random module or the numpy module:\n",
        "\n",
        "\n",
        "import random\n",
        "import numpy as np\n",
        "\n",
        "# Generate a random number from a normal distribution\n",
        "x1 = random.normalvariate(150, 20)\n",
        "print(x1)\n",
        "\n",
        "# Generate an array of random numbers from a normal distribution\n",
        "x2 = np.random.normal(150, 20, size=10)\n",
        "print(x2)\n"
      ],
      "metadata": {
        "colab": {
          "base_uri": "https://localhost:8080/"
        },
        "id": "HnjQcDE7ajgn",
        "outputId": "bd6ff625-f70b-4fed-fc4f-cb859f31dffc"
      },
      "execution_count": 27,
      "outputs": [
        {
          "output_type": "stream",
          "name": "stdout",
          "text": [
            "149.32289524595117\n",
            "[139.70312618 156.70113181 168.00133628 153.8433396  181.42831984\n",
            " 143.39549108 145.85154304 128.88827233 118.4519502  134.02257526]\n"
          ]
        }
      ]
    },
    {
      "cell_type": "code",
      "source": [
        "#3. an example of transforming a random variable using Python:\n",
        "\n",
        "# Suppose we have a normally distributed random variable X with mean 5 and standard deviation 2, and we want to transform it into a new random variable Y = 2X + 3. \n",
        "# We can use the formula for transforming a random variable:\n",
        "# Y = aX + b\n",
        "# where a and b are constants. In this case, a = 2 and b = 3.\n",
        "# We can use the NumPy library in Python to generate a random sample from a normal distribution with mean 5 and standard deviation 2:\n",
        "\n",
        "import numpy as np\n",
        "\n",
        "np.random.seed(42) # set the seed for reproducibility\n",
        "X = np.random.normal(5, 2, 1000) # generate a random sample of size 1000 from a normal distribution with mean 5 and standard deviation 2\n",
        "\n",
        "#Next, we can apply the transformation to X to obtain Y:\n",
        "Y = 2*X + 3 # apply the transformation\n",
        "\n",
        "#We can then calculate the mean and standard deviation of Y:\n",
        "print(np.mean(Y)) # should be 13\n",
        "print(np.std(Y)) # should be 4\n",
        "\n",
        "#Note that the mean of Y is 2 times the mean of X plus 3, and the standard deviation of Y is 2 times the standard deviation of X.\n"
      ],
      "metadata": {
        "colab": {
          "base_uri": "https://localhost:8080/"
        },
        "id": "UG2DB5-mb3tg",
        "outputId": "8d911e9f-c023-4bd0-9769-d4f69e884e72"
      },
      "execution_count": 28,
      "outputs": [
        {
          "output_type": "stream",
          "name": "stdout",
          "text": [
            "13.077328223289303\n",
            "3.914904830989417\n"
          ]
        }
      ]
    },
    {
      "cell_type": "code",
      "source": [
        "#4. an example of combining two random variables in Python:\n",
        "# In this example, we define two random variables X and Y using the NumPy library's random.normal function. \n",
        "# We then define a new random variable Z as a linear combination of X and Y. \n",
        "# We can calculate the mean and standard deviation of Z using NumPy's mean and std functions.\n",
        "\n",
        "import numpy as np\n",
        "\n",
        "# Define two random variables\n",
        "X = np.random.normal(loc=10, scale=2, size=100)\n",
        "Y = np.random.normal(loc=5, scale=1, size=100)\n",
        "\n",
        "# Define a new random variable Z as a linear combination of X and Y\n",
        "Z = 2*X + 3*Y\n",
        "\n",
        "# Print the mean and standard deviation of Z\n",
        "print(\"Mean of Z:\", np.mean(Z))\n",
        "print(\"Standard deviation of Z:\", np.std(Z))\n"
      ],
      "metadata": {
        "colab": {
          "base_uri": "https://localhost:8080/"
        },
        "id": "xABJPZzbcqF7",
        "outputId": "e7b5f0a6-d6fd-4d8e-8205-d42af2a572af"
      },
      "execution_count": 29,
      "outputs": [
        {
          "output_type": "stream",
          "name": "stdout",
          "text": [
            "Mean of Z: 35.961972508566866\n",
            "Standard deviation of Z: 4.579556951718927\n"
          ]
        }
      ]
    },
    {
      "cell_type": "code",
      "source": [
        "# 5. an example Python code for generating a binomial random variable using the scipy.stats module:python\n",
        "\n",
        "#This code generates a binomial random variable with n=10 trials and p=0.5 probability of success. \n",
        "# The binom_rv object is an instance of the rv_discrete class in scipy.stats, which represents a discrete random variable with a probability mass function (PMF). \n",
        "# We then use the pmf() method of the binom_rv object to calculate the PMF values for k=0 to k=n. \n",
        "# The resulting pmf_values list contains the probabilities of observing k successes in n trials, for k=0 to k=n.\n",
        "\n",
        "from scipy.stats import binom\n",
        "\n",
        "# Set the parameters\n",
        "n = 10  # Number of trials\n",
        "p = 0.5  # Probability of success\n",
        "\n",
        "# Generate the binomial random variable\n",
        "binom_rv = binom(n, p)\n",
        "\n",
        "# Calculate the probability mass function (PMF) for k = 0, 1, ..., n\n",
        "pmf_values = [binom_rv.pmf(k) for k in range(n+1)]\n",
        "\n",
        "# Print the PMF values\n",
        "print(\"Binomial PMF values:\", pmf_values)\n"
      ],
      "metadata": {
        "colab": {
          "base_uri": "https://localhost:8080/"
        },
        "id": "gTMLs55MdI8S",
        "outputId": "7531b5fb-5258-44f9-8890-dbe32dca2d9c"
      },
      "execution_count": 30,
      "outputs": [
        {
          "output_type": "stream",
          "name": "stdout",
          "text": [
            "Binomial PMF values: [0.0009765625, 0.009765625000000002, 0.04394531250000004, 0.1171875, 0.2050781249999999, 0.24609375000000003, 0.2050781249999999, 0.11718749999999999, 0.04394531250000004, 0.009765625000000002, 0.0009765625]\n"
          ]
        }
      ]
    },
    {
      "cell_type": "code",
      "source": [
        "#6. Python code example for calculating the mean and standard deviation of a binomial distribution:\n",
        "# In this example, we assume a binomial distribution with n = 10 trials and a probability of success p = 0.5. \n",
        "# We then use the formulas for the mean and standard deviation of a binomial distribution to calculate the values, \n",
        "# and print the results to the console.\n",
        "\n",
        "import math\n",
        "\n",
        "# Define the number of trials and probability of success\n",
        "n = 10\n",
        "p = 0.5\n",
        "\n",
        "# Calculate the mean and standard deviation\n",
        "mean = n * p\n",
        "std_dev = math.sqrt(n * p * (1 - p))\n",
        "\n",
        "# Print the results\n",
        "print(\"Mean:\", mean)\n",
        "print(\"Standard deviation:\", std_dev)\n"
      ],
      "metadata": {
        "colab": {
          "base_uri": "https://localhost:8080/"
        },
        "id": "mMltM9mhdb8K",
        "outputId": "03b2c1fc-5d0e-4735-888d-6862edb544aa"
      },
      "execution_count": 31,
      "outputs": [
        {
          "output_type": "stream",
          "name": "stdout",
          "text": [
            "Mean: 5.0\n",
            "Standard deviation: 1.5811388300841898\n"
          ]
        }
      ]
    },
    {
      "cell_type": "code",
      "source": [
        "#7. An example code for generating and plotting the probability mass function (PMF) and cumulative distribution function (CDF) for a geometric random variable with parameter p:\n",
        "\n",
        "import numpy as np\n",
        "import matplotlib.pyplot as plt\n",
        "from scipy.stats import geom\n",
        "\n",
        "# Define the parameter p\n",
        "p = 0.3\n",
        "\n",
        "# Generate the values for the PMF and CDF\n",
        "x = np.arange(1, 11)\n",
        "pmf = geom.pmf(x, p)\n",
        "cdf = geom.cdf(x, p)\n",
        "\n",
        "# Plot the PMF and CDF\n",
        "fig, ax = plt.subplots(1, 2, figsize=(12, 4))\n",
        "ax[0].bar(x, pmf)\n",
        "ax[0].set_xlabel('x')\n",
        "ax[0].set_ylabel('P(X=x)')\n",
        "ax[0].set_title('PMF of Geometric({})'.format(p))\n",
        "ax[1].step(x, cdf)\n",
        "ax[1].set_xlabel('x')\n",
        "ax[1].set_ylabel('P(X≤x)')\n",
        "ax[1].set_title('CDF of Geometric({})'.format(p))\n",
        "plt.show()\n",
        "#The code uses the geom class from the scipy.stats module to generate the PMF and CDF values for a geometric distribution with parameter p. \n",
        "# It then plots the PMF and CDF using the matplotlib library. \n",
        "# The resulting plot shows the probability mass function of the geometric distribution and its cumulative distribution function."
      ],
      "metadata": {
        "colab": {
          "base_uri": "https://localhost:8080/",
          "height": 410
        },
        "id": "w7r8ZEvYd4EF",
        "outputId": "9bbc2189-9c9b-41f9-be7e-2ff091a11f5f"
      },
      "execution_count": 32,
      "outputs": [
        {
          "output_type": "display_data",
          "data": {
            "text/plain": [
              "<Figure size 1200x400 with 2 Axes>"
            ],
            "image/png": "[encoded data removed]"
          },
          "metadata": {}
        }
      ]
    },
    {
      "cell_type": "code",
      "source": [
        "#8. An example Python code for finding the expected value of a discrete random variable:\n",
        "\n",
        "# Define the probability distribution\n",
        "p = [0.1, 0.2, 0.3, 0.2, 0.1, 0.1] # Probability distribution of a discrete random variable X\n",
        "\n",
        "# Define the values of the random variable X\n",
        "x = [1, 2, 3, 4, 5, 6]\n",
        "\n",
        "# Calculate the expected value of X\n",
        "expected_value = sum([p[i] * x[i] for i in range(len(p))])\n",
        "\n",
        "print(\"Expected value of X:\", expected_value)\n",
        "# Note that in this example, we are assuming that p and x are already defined as the probability distribution and possible values of the random variable X. \n",
        "# We then use a list comprehension to calculate the product of each probability and corresponding value of X, and sum up these products to get the expected value."
      ],
      "metadata": {
        "colab": {
          "base_uri": "https://localhost:8080/"
        },
        "id": "OwxMrDsyeg3e",
        "outputId": "f5621bf6-9f94-451b-d764-4a9fa9cbf02c"
      },
      "execution_count": 37,
      "outputs": [
        {
          "output_type": "stream",
          "name": "stdout",
          "text": [
            "Expected value of X: 3.3000000000000003\n"
          ]
        }
      ]
    },
    {
      "cell_type": "code",
      "source": [
        "#9. Poisson distribution\n",
        "import numpy as np\n",
        "from scipy.stats import poisson\n",
        "\n",
        "# Parameters for Poisson distribution\n",
        "mu = 3\n",
        "\n",
        "# Generate a random sample from Poisson distribution\n",
        "sample_size = 1000\n",
        "sample = poisson.rvs(mu, size=sample_size)\n",
        "\n",
        "# Calculate mean and standard deviation of the sample\n",
        "sample_mean = np.mean(sample)\n",
        "sample_std = np.std(sample)\n",
        "\n",
        "# Calculate the probability of a certain value or range of values\n",
        "# P(X = k)\n",
        "k = 4\n",
        "prob_k = poisson.pmf(k, mu)\n",
        "\n",
        "# P(X <= k)\n",
        "cum_prob_k = poisson.cdf(k, mu)\n",
        "\n",
        "# P(k1 <= X <= k2)\n",
        "k1, k2 = 2, 5\n",
        "prob_range = poisson.cdf(k2, mu) - poisson.cdf(k1 - 1, mu)\n",
        "\n",
        "print(\"Sample mean:\", sample_mean)\n",
        "print(\"Sample standard deviation:\", sample_std)\n",
        "print(\"P(X = {}):\".format(k), prob_k)\n",
        "print(\"P(X <= {}):\".format(k), cum_prob_k)\n",
        "print(\"P({} <= X <= {}):\".format(k1, k2), prob_range)\n"
      ],
      "metadata": {
        "colab": {
          "base_uri": "https://localhost:8080/"
        },
        "id": "cmPqbv8yXtBN",
        "outputId": "43da8a03-a01c-421f-c07d-438ea07078ee"
      },
      "execution_count": 24,
      "outputs": [
        {
          "output_type": "stream",
          "name": "stdout",
          "text": [
            "Sample mean: 3.03\n",
            "Sample standard deviation: 1.7638310576696399\n",
            "P(X = 4): 0.16803135574154085\n",
            "P(X <= 4): 0.8152632445237722\n",
            "P(2 <= X <= 5): 0.7169337844972408\n"
          ]
        }
      ]
    },
    {
      "cell_type": "markdown",
      "source": [
        "Unit 8: Counting, permutations, and combinations\n",
        "\n",
        "1. Counting principle and factorial: Counting, permutations, and combinations\n",
        "2. Permutations: Counting, permutations, and combinations\n",
        "3. Combinations: Counting, permutations, and combinations\n",
        "4. Combinatorics and probability"
      ],
      "metadata": {
        "id": "n9eFlVR_YvON"
      }
    },
    {
      "cell_type": "code",
      "source": [
        "#Random variables\n",
        "\n",
        "#Calculating EXPECTED VALUE:\n",
        "\n",
        "import numpy as np\n",
        "\n",
        "x = np.array([1, 2, 3, 4, 5])\n",
        "p = np.array([0.1, 0.2, 0.3, 0.2, 0.2])\n",
        "\n",
        "expected_value = np.sum(x * p)\n",
        "print(expected_value)"
      ],
      "metadata": {
        "colab": {
          "base_uri": "https://localhost:8080/"
        },
        "id": "2nF0rLCia9Nh",
        "outputId": "e8c3ed85-5335-4d20-a16e-4e11db40d7fd"
      },
      "execution_count": 25,
      "outputs": [
        {
          "output_type": "stream",
          "name": "stdout",
          "text": [
            "3.2\n"
          ]
        }
      ]
    },
    {
      "cell_type": "code",
      "source": [
        "#16から8まではTitle別のコード終わり\n",
        "#1～7をTitle別コード検索<==ここからスタート\n",
        "#他は1～16の適当なコードを並べなおし（GPT)　Regresi"
      ],
      "metadata": {
        "id": "VYmMoZYNXk0T"
      },
      "execution_count": null,
      "outputs": []
    },
    {
      "cell_type": "markdown",
      "source": [
        "Unit 7: Probability\n",
        "\n",
        "1. Basic theoretical probability: Probability\n",
        "2. Probability using sample spaces: Probability\n",
        "3. Basic set operations: Probability\n",
        "4. Experimental probability: Probability\n",
        "5. Randomness, probability, and simulation: Probability\n",
        "6. Addition rule: Probability\n",
        "7. Multiplication rule for independent events: Probability\n",
        "8. Multiplication rule for dependent events: Probability\n",
        "9. Conditional probability and independence"
      ],
      "metadata": {
        "id": "lRdaaHSxZo_x"
      }
    },
    {
      "cell_type": "code",
      "source": [
        "#Probability\n",
        "\n",
        "#Simulating coin flips:\n",
        "\n",
        "import numpy as np\n",
        "\n",
        "num_flips = 10\n",
        "flips = np.random.choice(['H', 'T'], size=num_flips)\n",
        "\n",
        "num_heads = np.count_nonzero(flips == 'H')\n",
        "\n",
        "print(num_heads)"
      ],
      "metadata": {
        "colab": {
          "base_uri": "https://localhost:8080/"
        },
        "id": "atkthsvBQlj5",
        "outputId": "90c8e4f2-d634-416d-bf66-f316286076c5"
      },
      "execution_count": 24,
      "outputs": [
        {
          "output_type": "stream",
          "name": "stdout",
          "text": [
            "2\n"
          ]
        }
      ]
    },
    {
      "cell_type": "markdown",
      "source": [
        "Unit 6: Study design\n",
        "\n",
        "1. Statistical questions: Study design\n",
        "2. Sampling and observational studies: Study design\n",
        "3. Sampling methods: Study design\n",
        "4. Types of studies (experimental vs. observational): Study design Experiments"
      ],
      "metadata": {
        "id": "8q4hCO6SmzlU"
      }
    },
    {
      "cell_type": "code",
      "source": [
        "#Estimating correlation\n",
        "\n",
        "#Calculating correlation coefficients:\n",
        "\n",
        "import numpy as np\n",
        "from scipy.stats import pearsonr\n",
        "\n",
        "x = np.array([1, 2, 3, 4, 5])\n",
        "y = np.array([2, 4, 6, 8, 10])\n",
        "\n",
        "corr_coeff, p_value = pearsonr(x, y)\n",
        "\n",
        "print(corr_coeff, p_value)"
      ],
      "metadata": {
        "colab": {
          "base_uri": "https://localhost:8080/"
        },
        "id": "R4W5atI2QRML",
        "outputId": "f3308779-42fe-4f58-cf9a-921a66a58cb0"
      },
      "execution_count": 23,
      "outputs": [
        {
          "output_type": "stream",
          "name": "stdout",
          "text": [
            "1.0 0.0\n"
          ]
        }
      ]
    },
    {
      "cell_type": "markdown",
      "source": [
        "Unit 5: Exploring bivariate numerical data\n",
        "\n",
        "1. Introduction to scatterplots: Exploring bivariate numerical data\n",
        "2. Correlation coefficients: Exploring bivariate numerical data\n",
        "3. Introduction to trend lines: Exploring bivariate numerical data\n",
        "4. Least-squares regression equations: Exploring bivariate numerical data\n",
        "5. Assessing the fit in least-squares regression: Exploring bivariate numerical data\n",
        "6. More on regression"
      ],
      "metadata": {
        "id": "j8BnXloznBuS"
      }
    },
    {
      "cell_type": "code",
      "source": [
        "#Exploring bivariate numerical data\n",
        "\n",
        "#Creating scatter plots:\n",
        "\n",
        "import matplotlib.pyplot as plt\n",
        "import numpy as np\n",
        "\n",
        "x = np.array([1, 2, 3, 4, 5])\n",
        "y = np.array([2, 4, 6, 8, 10])\n",
        "\n",
        "plt.scatter(x, y)\n",
        "plt.show()"
      ],
      "metadata": {
        "colab": {
          "base_uri": "https://localhost:8080/",
          "height": 430
        },
        "id": "znik5Pg-QFk-",
        "outputId": "07e950b3-73e4-499e-b9b6-74fcda9dca2c"
      },
      "execution_count": 22,
      "outputs": [
        {
          "output_type": "display_data",
          "data": {
            "text/plain": [
              "<Figure size 640x480 with 1 Axes>"
            ],
            "image/png": "[encoded data removed]"
          },
          "metadata": {}
        }
      ]
    },
    {
      "cell_type": "markdown",
      "source": [
        "Unit 4: Modeling data distributions\n",
        "\n",
        "1. Percentiles: Modeling data distributions\n",
        "2. Z-scores: Modeling data distributions\n",
        "3. Effects of linear transformations: Modeling data distributions\n",
        "4. Density curves: Modeling data distributions\n",
        "5. Normal distributions and the empirical rule: Modeling data distributions\n",
        "6. Normal distribution calculations: Modeling data distributions\n",
        "7. More on normal distributions"
      ],
      "metadata": {
        "id": "wrtDpAXWnJaE"
      }
    },
    {
      "cell_type": "code",
      "source": [
        "#Modeling data distributions\n",
        "\n",
        "#Fitting a normal distribution:\n",
        "\n",
        "import numpy as np\n",
        "from scipy.stats import norm\n",
        "import matplotlib.pyplot as plt\n",
        "\n",
        "data = np.random.normal(loc=0, scale=1, size=1000)\n",
        "\n",
        "mu, std = norm.fit(data)\n",
        "\n",
        "plt.hist(data, bins=20, density=True, alpha=0.6, color='g')\n",
        "xmin, xmax = plt.xlim()\n",
        "x = np.linspace(xmin, xmax, 100)\n",
        "p = norm.pdf(x, mu, std)\n",
        "plt.plot(x, p, 'k', linewidth=2)\n",
        "plt.show()"
      ],
      "metadata": {
        "colab": {
          "base_uri": "https://localhost:8080/",
          "height": 430
        },
        "id": "HLbXc8A8Pvrn",
        "outputId": "f7e869b0-bc6e-4521-f27b-a4e3df362327"
      },
      "execution_count": 21,
      "outputs": [
        {
          "output_type": "display_data",
          "data": {
            "text/plain": [
              "<Figure size 640x480 with 1 Axes>"
            ],
            "image/png": "[encoded data removed]"
          },
          "metadata": {}
        }
      ]
    },
    {
      "cell_type": "markdown",
      "source": [
        "Unit 3: Summarizing quantitative data\n",
        "\n",
        "1. Measuring center in quantitative data: Summarizing quantitative data\n",
        "2. More on mean and median: Summarizing quantitative data\n",
        "3. Interquartile range (IQR): Summarizing quantitative data\n",
        "4. Variance and standard deviation of a population: Summarizing quantitative data\n",
        "5. Variance and standard deviation of a sample: Summarizing quantitative data\n",
        "6. More on standard deviation: Summarizing quantitative data\n",
        "7. Box and whisker plots: Summarizing quantitative data\n",
        "8. Other measures of spread"
      ],
      "metadata": {
        "id": "a_cP-LtZnTSX"
      }
    },
    {
      "cell_type": "code",
      "source": [
        "#Summarizing quantitative data\n",
        "\n",
        "#Calculating summary statistics:\n",
        "\n",
        "import numpy as np\n",
        "\n",
        "data = np.array([1, 2, 3, 4, 5])\n",
        "\n",
        "mean = np.mean(data)\n",
        "median = np.median(data)\n",
        "variance = np.var(data)\n",
        "std_deviation = np.std(data)\n",
        "\n",
        "print(\"Mean:\", mean)\n",
        "print(\"Median:\", median)\n",
        "print(\"Variance:\", variance)\n",
        "print(\"Standard deviation:\", std_deviation)"
      ],
      "metadata": {
        "colab": {
          "base_uri": "https://localhost:8080/"
        },
        "id": "J8aYYbK8PTjT",
        "outputId": "635f17b2-8cbd-461e-b6d3-27fab2b462b3"
      },
      "execution_count": 20,
      "outputs": [
        {
          "output_type": "stream",
          "name": "stdout",
          "text": [
            "Mean: 3.0\n",
            "Median: 3.0\n",
            "Variance: 2.0\n",
            "Standard deviation: 1.4142135623730951\n"
          ]
        }
      ]
    },
    {
      "cell_type": "markdown",
      "source": [
        "Unit 2: Displaying and comparing quantitative data\n",
        "\n",
        "1. Displaying quantitative data with graphs: Displaying and comparing quantitative data\n",
        "2. Describing and comparing distributions: Displaying and comparing quantitative data\n",
        "3. More on data displays"
      ],
      "metadata": {
        "id": "-oLI3_wWng0n"
      }
    },
    {
      "cell_type": "code",
      "source": [
        "#1. Displaying and comparing quantitative data\n",
        "\n",
        "#Creating histograms:\n",
        "\n",
        "import matplotlib.pyplot as plt\n",
        "import numpy as np\n",
        "\n",
        "data = np.random.normal(loc=0, scale=1, size=1000)\n",
        "\n",
        "plt.hist(data, bins=20)\n",
        "plt.show()\n"
      ],
      "metadata": {
        "colab": {
          "base_uri": "https://localhost:8080/",
          "height": 430
        },
        "id": "GmNe0i55O0gl",
        "outputId": "6e4f7ce9-39ae-4d77-fcc4-4a7eee8426f8"
      },
      "execution_count": 19,
      "outputs": [
        {
          "output_type": "display_data",
          "data": {
            "text/plain": [
              "<Figure size 640x480 with 1 Axes>"
            ],
            "image/png": "[encoded data removed]"
          },
          "metadata": {}
        }
      ]
    },
    {
      "cell_type": "markdown",
      "source": [
        "Unit 1: Analyzing categorical data\n",
        "\n",
        "1. Analyzing one categorical variable: Analyzing categorical data\n",
        "2. Two-way tables: Analyzing categorical data\n",
        "3. Distributions in two-way tables"
      ],
      "metadata": {
        "id": "i7bWXKVknsm6"
      }
    },
    {
      "cell_type": "code",
      "source": [
        "#Creating frequency tables:\n",
        "\n",
        "import pandas as pd\n",
        "\n",
        "data = {'fruit': ['apple', 'banana', 'orange', 'apple', 'banana', 'banana'],\n",
        "        'color': ['red', 'yellow', 'orange', 'green', 'yellow', 'yellow']}\n",
        "df = pd.DataFrame(data)\n",
        "\n",
        "freq_table = pd.crosstab(index=df['fruit'], columns=df['color'])\n",
        "print(freq_table)"
      ],
      "metadata": {
        "colab": {
          "base_uri": "https://localhost:8080/"
        },
        "id": "VvgfBjmCOanl",
        "outputId": "c9c895d7-4d36-4cf1-92c0-89cd9f735444"
      },
      "execution_count": 17,
      "outputs": [
        {
          "output_type": "stream",
          "name": "stdout",
          "text": [
            "color   green  orange  red  yellow\n",
            "fruit                             \n",
            "apple       1       0    1       0\n",
            "banana      0       0    0       3\n",
            "orange      0       1    0       0\n"
          ]
        }
      ]
    },
    {
      "cell_type": "code",
      "source": [],
      "metadata": {
        "id": "U0zJzt5XOrjt"
      },
      "execution_count": null,
      "outputs": []
    }
  ]
}