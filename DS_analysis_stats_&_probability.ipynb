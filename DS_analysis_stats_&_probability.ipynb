{
  "nbformat": 4,
  "nbformat_minor": 0,
  "metadata": {
    "colab": {
      "provenance": [],
      "authorship_tag": "ABX9TyPFJ2dkfZtNzpJ8n7XGKVMH",
      "include_colab_link": true
    },
    "kernelspec": {
      "name": "python3",
      "display_name": "Python 3"
    },
    "language_info": {
      "name": "python"
    }
  },
  "cells": [
    {
      "cell_type": "markdown",
      "metadata": {
        "id": "view-in-github",
        "colab_type": "text"
      },
      "source": [
        "<a href=\"https://colab.research.google.com/github/Emily20222022/blog_analytic_master/blob/master/DS_analysis_stats_%26_probability.ipynb\" target=\"_parent\"><img src=\"https://colab.research.google.com/assets/colab-badge.svg\" alt=\"Open In Colab\"/></a>"
      ]
    },
    {
      "cell_type": "code",
      "execution_count": 60,
      "metadata": {
        "colab": {
          "base_uri": "https://localhost:8080/"
        },
        "id": "ZyQnBZvqFu_O",
        "outputId": "ffb3a9ed-95ac-458b-e441-362775fdf0fd"
      },
      "outputs": [
        {
          "output_type": "stream",
          "name": "stdout",
          "text": [
            "One standard deviation range: (14.3, 17.7)\n",
            "Two standard deviation range: (12.6, 19.4)\n",
            "Three standard deviation range: (10.9, 21.1)\n"
          ]
        }
      ],
      "source": [
        "import numpy as np\n",
        "\n",
        "data = np.random.normal(loc=68, scale=95, size=100)\n",
        "\n",
        "mean = 16\n",
        "std_dev = 1.7\n",
        "\n",
        "one_std_dev_range = (mean - 1*std_dev, mean + 1*std_dev)\n",
        "two_std_dev_range = (mean - 2*std_dev, mean + 2*std_dev)\n",
        "three_std_dev_range = (mean - 3*std_dev, mean + 3*std_dev)\n",
        "\n",
        "print(f\"One standard deviation range: {one_std_dev_range}\")\n",
        "print(f\"Two standard deviation range: {two_std_dev_range}\")\n",
        "print(f\"Three standard deviation range: {three_std_dev_range}\")"
      ]
    },
    {
      "cell_type": "code",
      "source": [
        "x = 16\n",
        "df = 1.7\n",
        "\n",
        "data = np.random.normal(loc=68, scale=95, size=100)\n",
        "\n",
        "cdf_values = stats.norm.cdf(16, loc=68, scale = 100)\n",
        "\n",
        "cdf = stats.t.cdf(16, 1.7)\n",
        "print(cdf)"
      ],
      "metadata": {
        "id": "JtYZsVbJeaku",
        "outputId": "4a990fea-ede9-4c5d-d579-d0fa5989404e",
        "colab": {
          "base_uri": "https://localhost:8080/"
        }
      },
      "execution_count": 71,
      "outputs": [
        {
          "output_type": "stream",
          "name": "stdout",
          "text": [
            "0.996269834501572\n"
          ]
        }
      ]
    },
    {
      "cell_type": "code",
      "source": [
        "import pandas as pd\n",
        "\n",
        "data = pd.Series([1,7,14,21,28,35])\n",
        "prob = (data <14.3).mean()\n",
        "print(prob)"
      ],
      "metadata": {
        "id": "9ewMKfZvhRav",
        "outputId": "71a1ef52-da4f-4284-ae3b-2f43399fb250",
        "colab": {
          "base_uri": "https://localhost:8080/"
        }
      },
      "execution_count": 82,
      "outputs": [
        {
          "output_type": "stream",
          "name": "stdout",
          "text": [
            "0.5\n"
          ]
        }
      ]
    },
    {
      "cell_type": "code",
      "source": [
        "(100-68)*0.5"
      ],
      "metadata": {
        "id": "O3-389G5j1iU",
        "outputId": "a2281fa3-95dc-47ec-e891-50e4b02acfb0",
        "colab": {
          "base_uri": "https://localhost:8080/"
        }
      },
      "execution_count": 85,
      "outputs": [
        {
          "output_type": "execute_result",
          "data": {
            "text/plain": [
              "16.0"
            ]
          },
          "metadata": {},
          "execution_count": 85
        }
      ]
    },
    {
      "cell_type": "code",
      "source": [
        "import numpy as np\n",
        "import matplotlib.pyplot as plt\n",
        "\n",
        "data = [60,90,20,12,5,3,2]\n",
        "\n",
        "num_bins = 7\n",
        "\n",
        "plt.hist(data, bins=num_bins)\n",
        "plt.xlabel('Value')\n",
        "plt.ylabel('Frequency')\n",
        "plt.title('Histogram of Random Data')\n",
        "plt.show()\n",
        "\n",
        "p = 25\n",
        "\n",
        "percentile_value = np.percentile(data, p)\n"
      ],
      "metadata": {
        "id": "olD5UJUsj9IZ",
        "outputId": "1ad65f82-d7a8-439c-99be-48ce0af5b878",
        "colab": {
          "base_uri": "https://localhost:8080/",
          "height": 295
        }
      },
      "execution_count": 103,
      "outputs": [
        {
          "output_type": "display_data",
          "data": {
            "text/plain": [
              "<Figure size 432x288 with 1 Axes>"
            ],
            "image/png": "[encoded data removed]"
          },
          "metadata": {
            "needs_background": "light"
          }
        }
      ]
    },
    {
      "cell_type": "code",
      "source": [
        "192 * 0.25"
      ],
      "metadata": {
        "id": "mtiSSfJOl7hM",
        "outputId": "2831d88e-b392-4017-ca81-2484bc50d5aa",
        "colab": {
          "base_uri": "https://localhost:8080/"
        }
      },
      "execution_count": 104,
      "outputs": [
        {
          "output_type": "execute_result",
          "data": {
            "text/plain": [
              "48.0"
            ]
          },
          "metadata": {},
          "execution_count": 104
        }
      ]
    },
    {
      "cell_type": "code",
      "source": [
        "import numpy as np\n",
        "import pandas as pd\n",
        "import matplotlib.pyplot as plt\n",
        "\n",
        "np.random.seed(123)\n",
        "x = np.random.rand(20) \n",
        "y = -0.02 * x - 0.08 * np.random.randn(20)\n",
        "\n",
        "df = pd.DataFrame({'x':x,'y':y})\n",
        "\n",
        "plt.scatter(df['x'], df['y'])\n",
        "\n",
        "plt.xlabel('x')\n",
        "plt.ylabel('y')\n",
        "\n",
        "plt.title('Scatterplot of 20 random data points with r = -0.02')\n",
        "\n",
        "plt.show()"
      ],
      "metadata": {
        "id": "wGQC6DTGo97T",
        "outputId": "691878c5-7d89-4ab7-80d7-688a9dfeb0ee",
        "colab": {
          "base_uri": "https://localhost:8080/",
          "height": 295
        }
      },
      "execution_count": 121,
      "outputs": [
        {
          "output_type": "display_data",
          "data": {
            "text/plain": [
              "<Figure size 432x288 with 1 Axes>"
            ],
            "image/png": "[encoded data removed]"
          },
          "metadata": {
            "needs_background": "light"
          }
        }
      ]
    },
    {
      "cell_type": "code",
      "source": [
        "import numpy as np\n",
        "import pandas as pd\n",
        "import matplotlib.pyplot as plt\n",
        "\n",
        "np.random.seed(123)\n",
        "x = np.random.rand(20) \n",
        "y = -0.72 * x - 0.28 * np.random.randn(20)\n",
        "\n",
        "df = pd.DataFrame({'x':x,'y':y})\n",
        "\n",
        "plt.scatter(df['x'], df['y'])\n",
        "\n",
        "plt.xlabel('x')\n",
        "plt.ylabel('y')\n",
        "\n",
        "plt.title('Scatterplot of 20 random data points with r = -0.72')\n",
        "\n",
        "plt.show()"
      ],
      "metadata": {
        "id": "H72AoRTcrLyk",
        "outputId": "1e82c426-2a79-453f-a6e4-27460a8571d3",
        "colab": {
          "base_uri": "https://localhost:8080/",
          "height": 295
        }
      },
      "execution_count": 122,
      "outputs": [
        {
          "output_type": "display_data",
          "data": {
            "text/plain": [
              "<Figure size 432x288 with 1 Axes>"
            ],
            "image/png": "[encoded data removed]"
          },
          "metadata": {
            "needs_background": "light"
          }
        }
      ]
    },
    {
      "cell_type": "code",
      "source": [
        "import numpy as np\n",
        "import pandas as pd\n",
        "import matplotlib.pyplot as plt\n",
        "\n",
        "np.random.seed(123)\n",
        "x = np.random.rand(20) \n",
        "y = 0.84 * x + 0.16 * np.random.randn(20)\n",
        "\n",
        "df = pd.DataFrame({'x':x,'y':y})\n",
        "\n",
        "plt.scatter(df['x'], df['y'])\n",
        "\n",
        "plt.xlabel('x')\n",
        "plt.ylabel('y')\n",
        "\n",
        "plt.title('Scatterplot of 20 random data points with r = 0.84')\n",
        "\n",
        "plt.show()"
      ],
      "metadata": {
        "id": "Gzn6m4_9wqQM",
        "outputId": "0f4b8bfb-1a94-465a-86d4-04959be0c48b",
        "colab": {
          "base_uri": "https://localhost:8080/",
          "height": 295
        }
      },
      "execution_count": 119,
      "outputs": [
        {
          "output_type": "display_data",
          "data": {
            "text/plain": [
              "<Figure size 432x288 with 1 Axes>"
            ],
            "image/png": "[encoded data removed]"
          },
          "metadata": {
            "needs_background": "light"
          }
        }
      ]
    },
    {
      "cell_type": "code",
      "source": [
        "import numpy as np\n",
        "import pandas as pd\n",
        "import matplotlib.pyplot as plt\n",
        "\n",
        "np.random.seed(123)\n",
        "x = np.random.rand(20) \n",
        "y = 0.65 * x + 0.35 * np.random.randn(20)\n",
        "\n",
        "df = pd.DataFrame({'x':x,'y':y})\n",
        "\n",
        "plt.scatter(df['x'], df['y'])\n",
        "\n",
        "plt.xlabel('x')\n",
        "plt.ylabel('y')\n",
        "\n",
        "plt.title('Scatterplot of 20 random data points with r = 0.65')\n",
        "\n",
        "plt.show()"
      ],
      "metadata": {
        "id": "Dskc7_I9w1MH",
        "outputId": "b43f23cb-c2e9-4600-a57d-7fb2ec40673c",
        "colab": {
          "base_uri": "https://localhost:8080/",
          "height": 295
        }
      },
      "execution_count": 120,
      "outputs": [
        {
          "output_type": "display_data",
          "data": {
            "text/plain": [
              "<Figure size 432x288 with 1 Axes>"
            ],
            "image/png": "[encoded data removed]"
          },
          "metadata": {
            "needs_background": "light"
          }
        }
      ]
    },
    {
      "cell_type": "code",
      "source": [
        "96 / 200 "
      ],
      "metadata": {
        "id": "mp4QJEKgw98z",
        "outputId": "5b1d8577-bcee-40ff-87e1-a1735fdf609a",
        "colab": {
          "base_uri": "https://localhost:8080/"
        }
      },
      "execution_count": 123,
      "outputs": [
        {
          "output_type": "execute_result",
          "data": {
            "text/plain": [
              "0.48"
            ]
          },
          "metadata": {},
          "execution_count": 123
        }
      ]
    },
    {
      "cell_type": "code",
      "source": [
        "import matplotlib.pyplot as plt\n",
        "x_values = [1,2,5]\n",
        "y_values = [0,0.5,0]\n",
        "\n",
        "plt.plot(x_values, y_values)\n",
        "\n",
        "plt.xlabel('x')\n",
        "plt.ylabel('y')\n",
        "plt.title('Curve Plot')\n",
        "\n",
        "plt.show()"
      ],
      "metadata": {
        "id": "4kPcdGcm1ALL",
        "outputId": "50a1b1bc-0cca-4561-cbe9-baeff26604dc",
        "colab": {
          "base_uri": "https://localhost:8080/",
          "height": 295
        }
      },
      "execution_count": 126,
      "outputs": [
        {
          "output_type": "display_data",
          "data": {
            "text/plain": [
              "<Figure size 432x288 with 1 Axes>"
            ],
            "image/png": "[encoded data removed]"
          },
          "metadata": {
            "needs_background": "light"
          }
        }
      ]
    },
    {
      "cell_type": "code",
      "source": [
        "import scipy.integrate as spi\n",
        "def f(x):\n",
        "  return 0.5 * (x - 1)\n",
        "\n",
        "result, error = spi.quad(f, 1, 2)\n",
        "\n",
        "print(\"Probability of x < 2:\", result)"
      ],
      "metadata": {
        "id": "LPUKU34v4uR-",
        "outputId": "716142d5-77bd-4e8f-b21e-4f065c3265fc",
        "colab": {
          "base_uri": "https://localhost:8080/"
        }
      },
      "execution_count": 127,
      "outputs": [
        {
          "output_type": "stream",
          "name": "stdout",
          "text": [
            "Probability of x < 2: 0.25\n"
          ]
        }
      ]
    },
    {
      "cell_type": "code",
      "source": [],
      "metadata": {
        "id": "EMbSF8P4385T"
      },
      "execution_count": null,
      "outputs": []
    }
  ]
}