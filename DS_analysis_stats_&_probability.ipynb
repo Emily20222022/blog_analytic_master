{
  "nbformat": 4,
  "nbformat_minor": 0,
  "metadata": {
    "colab": {
      "provenance": [],
      "authorship_tag": "ABX9TyNM7H9N/y8gP0pJi6ppAKzV",
      "include_colab_link": true
    },
    "kernelspec": {
      "name": "python3",
      "display_name": "Python 3"
    },
    "language_info": {
      "name": "python"
    }
  },
  "cells": [
    {
      "cell_type": "markdown",
      "metadata": {
        "id": "view-in-github",
        "colab_type": "text"
      },
      "source": [
        "<a href=\"https://colab.research.google.com/github/Emily20222022/blog_analytic_master/blob/master/DS_analysis_stats_%26_probability.ipynb\" target=\"_parent\"><img src=\"https://colab.research.google.com/assets/colab-badge.svg\" alt=\"Open In Colab\"/></a>"
      ]
    },
    {
      "cell_type": "code",
      "execution_count": null,
      "metadata": {
        "colab": {
          "base_uri": "https://localhost:8080/"
        },
        "id": "ZyQnBZvqFu_O",
        "outputId": "ffb3a9ed-95ac-458b-e441-362775fdf0fd"
      },
      "outputs": [
        {
          "output_type": "stream",
          "name": "stdout",
          "text": [
            "One standard deviation range: (14.3, 17.7)\n",
            "Two standard deviation range: (12.6, 19.4)\n",
            "Three standard deviation range: (10.9, 21.1)\n"
          ]
        }
      ],
      "source": [
        "import numpy as np\n",
        "\n",
        "data = np.random.normal(loc=68, scale=95, size=100)\n",
        "\n",
        "mean = 16\n",
        "std_dev = 1.7\n",
        "\n",
        "one_std_dev_range = (mean - 1*std_dev, mean + 1*std_dev)\n",
        "two_std_dev_range = (mean - 2*std_dev, mean + 2*std_dev)\n",
        "three_std_dev_range = (mean - 3*std_dev, mean + 3*std_dev)\n",
        "\n",
        "print(f\"One standard deviation range: {one_std_dev_range}\")\n",
        "print(f\"Two standard deviation range: {two_std_dev_range}\")\n",
        "print(f\"Three standard deviation range: {three_std_dev_range}\")"
      ]
    },
    {
      "cell_type": "code",
      "source": [
        "import pandas as pd\n",
        "\n",
        "data = pd.Series([1,7,14,21,28,35])\n",
        "prob = (data <14.3).mean()\n",
        "print(prob)"
      ],
      "metadata": {
        "colab": {
          "base_uri": "https://localhost:8080/"
        },
        "id": "9ewMKfZvhRav",
        "outputId": "71a1ef52-da4f-4284-ae3b-2f43399fb250"
      },
      "execution_count": null,
      "outputs": [
        {
          "output_type": "stream",
          "name": "stdout",
          "text": [
            "0.5\n"
          ]
        }
      ]
    },
    {
      "cell_type": "code",
      "source": [
        "x = 16\n",
        "df = 1.7\n",
        "\n",
        "data = np.random.normal(loc=68, scale=95, size=100)\n",
        "\n",
        "cdf_values = stats.norm.cdf(16, loc=68, scale = 100)\n",
        "\n",
        "cdf = stats.t.cdf(16, 1.7)\n",
        "print(cdf)\n"
      ],
      "metadata": {
        "colab": {
          "base_uri": "https://localhost:8080/"
        },
        "id": "JtYZsVbJeaku",
        "outputId": "4a990fea-ede9-4c5d-d579-d0fa5989404e"
      },
      "execution_count": null,
      "outputs": [
        {
          "output_type": "stream",
          "name": "stdout",
          "text": [
            "0.996269834501572\n"
          ]
        }
      ]
    },
    {
      "cell_type": "code",
      "source": [
        "(100-68)*0.5\n"
      ],
      "metadata": {
        "colab": {
          "base_uri": "https://localhost:8080/"
        },
        "id": "O3-389G5j1iU",
        "outputId": "dd427429-bd20-42e4-e71c-688cdcaf50f3"
      },
      "execution_count": null,
      "outputs": [
        {
          "output_type": "execute_result",
          "data": {
            "text/plain": [
              "16.0"
            ]
          },
          "metadata": {},
          "execution_count": 19
        }
      ]
    },
    {
      "cell_type": "code",
      "source": [
        "import numpy as np\n",
        "import matplotlib.pyplot as plt\n",
        "\n",
        "data = [60,90,20,12,5,3,2]\n",
        "\n",
        "num_bins = 7\n",
        "\n",
        "plt.hist(data, bins=num_bins)\n",
        "plt.xlabel('Value')\n",
        "plt.ylabel('Frequency')\n",
        "plt.title('Histogram of Random Data')\n",
        "plt.show()\n",
        "\n",
        "p = 25\n",
        "\n",
        "percentile_value = np.percentile(data, p)\n"
      ],
      "metadata": {
        "colab": {
          "base_uri": "https://localhost:8080/",
          "height": 295
        },
        "id": "olD5UJUsj9IZ",
        "outputId": "1ad65f82-d7a8-439c-99be-48ce0af5b878"
      },
      "execution_count": null,
      "outputs": [
        {
          "output_type": "display_data",
          "data": {
            "text/plain": [
              "<Figure size 432x288 with 1 Axes>"
            ],
            "image/png": "[encoded data removed]"
          },
          "metadata": {
            "needs_background": "light"
          }
        }
      ]
    },
    {
      "cell_type": "code",
      "source": [
        "192 * 0.25"
      ],
      "metadata": {
        "colab": {
          "base_uri": "https://localhost:8080/"
        },
        "id": "mtiSSfJOl7hM",
        "outputId": "2831d88e-b392-4017-ca81-2484bc50d5aa"
      },
      "execution_count": null,
      "outputs": [
        {
          "output_type": "execute_result",
          "data": {
            "text/plain": [
              "48.0"
            ]
          },
          "metadata": {},
          "execution_count": 104
        }
      ]
    },
    {
      "cell_type": "code",
      "source": [
        "import numpy as np\n",
        "import pandas as pd\n",
        "import matplotlib.pyplot as plt\n",
        "\n",
        "np.random.seed(123)\n",
        "x = np.random.rand(20) \n",
        "y = -0.02 * x - 0.08 * np.random.randn(20)\n",
        "\n",
        "df = pd.DataFrame({'x':x,'y':y})\n",
        "\n",
        "plt.scatter(df['x'], df['y'])\n",
        "\n",
        "plt.xlabel('x')\n",
        "plt.ylabel('y')\n",
        "\n",
        "plt.title('Scatterplot of 20 random data points with r = -0.02')\n",
        "\n",
        "plt.show()"
      ],
      "metadata": {
        "colab": {
          "base_uri": "https://localhost:8080/",
          "height": 295
        },
        "id": "wGQC6DTGo97T",
        "outputId": "691878c5-7d89-4ab7-80d7-688a9dfeb0ee"
      },
      "execution_count": null,
      "outputs": [
        {
          "output_type": "display_data",
          "data": {
            "text/plain": [
              "<Figure size 432x288 with 1 Axes>"
            ],
            "image/png": "[encoded data removed]"
          },
          "metadata": {
            "needs_background": "light"
          }
        }
      ]
    },
    {
      "cell_type": "code",
      "source": [
        "import numpy as np\n",
        "import pandas as pd\n",
        "import matplotlib.pyplot as plt\n",
        "\n",
        "np.random.seed(123)\n",
        "x = np.random.rand(20) \n",
        "y = -0.72 * x - 0.28 * np.random.randn(20)\n",
        "\n",
        "df = pd.DataFrame({'x':x,'y':y})\n",
        "\n",
        "plt.scatter(df['x'], df['y'])\n",
        "\n",
        "plt.xlabel('x')\n",
        "plt.ylabel('y')\n",
        "\n",
        "plt.title('Scatterplot of 20 random data points with r = -0.72')\n",
        "\n",
        "plt.show()"
      ],
      "metadata": {
        "colab": {
          "base_uri": "https://localhost:8080/",
          "height": 295
        },
        "id": "H72AoRTcrLyk",
        "outputId": "1e82c426-2a79-453f-a6e4-27460a8571d3"
      },
      "execution_count": null,
      "outputs": [
        {
          "output_type": "display_data",
          "data": {
            "text/plain": [
              "<Figure size 432x288 with 1 Axes>"
            ],
            "image/png": "[encoded data removed]"
          },
          "metadata": {
            "needs_background": "light"
          }
        }
      ]
    },
    {
      "cell_type": "code",
      "source": [
        "import numpy as np\n",
        "import pandas as pd\n",
        "import matplotlib.pyplot as plt\n",
        "\n",
        "np.random.seed(123)\n",
        "x = np.random.rand(20) \n",
        "y = 0.84 * x + 0.16 * np.random.randn(20)\n",
        "\n",
        "df = pd.DataFrame({'x':x,'y':y})\n",
        "\n",
        "plt.scatter(df['x'], df['y'])\n",
        "\n",
        "plt.xlabel('x')\n",
        "plt.ylabel('y')\n",
        "\n",
        "plt.title('Scatterplot of 20 random data points with r = 0.84')\n",
        "\n",
        "plt.show()"
      ],
      "metadata": {
        "colab": {
          "base_uri": "https://localhost:8080/",
          "height": 295
        },
        "id": "Gzn6m4_9wqQM",
        "outputId": "0f4b8bfb-1a94-465a-86d4-04959be0c48b"
      },
      "execution_count": null,
      "outputs": [
        {
          "output_type": "display_data",
          "data": {
            "text/plain": [
              "<Figure size 432x288 with 1 Axes>"
            ],
            "image/png": "[encoded data removed]"
          },
          "metadata": {
            "needs_background": "light"
          }
        }
      ]
    },
    {
      "cell_type": "code",
      "source": [
        "import numpy as np\n",
        "import pandas as pd\n",
        "import matplotlib.pyplot as plt\n",
        "\n",
        "np.random.seed(123)\n",
        "x = np.random.rand(20) \n",
        "y = 0.65 * x + 0.35 * np.random.randn(20)\n",
        "\n",
        "df = pd.DataFrame({'x':x,'y':y})\n",
        "\n",
        "plt.scatter(df['x'], df['y'])\n",
        "\n",
        "plt.xlabel('x')\n",
        "plt.ylabel('y')\n",
        "\n",
        "plt.title('Scatterplot of 20 random data points with r = 0.65')\n",
        "\n",
        "plt.show()"
      ],
      "metadata": {
        "colab": {
          "base_uri": "https://localhost:8080/",
          "height": 295
        },
        "id": "Dskc7_I9w1MH",
        "outputId": "b43f23cb-c2e9-4600-a57d-7fb2ec40673c"
      },
      "execution_count": null,
      "outputs": [
        {
          "output_type": "display_data",
          "data": {
            "text/plain": [
              "<Figure size 432x288 with 1 Axes>"
            ],
            "image/png": "[encoded data removed]"
          },
          "metadata": {
            "needs_background": "light"
          }
        }
      ]
    },
    {
      "cell_type": "code",
      "source": [
        "96 / 200 "
      ],
      "metadata": {
        "colab": {
          "base_uri": "https://localhost:8080/"
        },
        "id": "mp4QJEKgw98z",
        "outputId": "5b1d8577-bcee-40ff-87e1-a1735fdf609a"
      },
      "execution_count": null,
      "outputs": [
        {
          "output_type": "execute_result",
          "data": {
            "text/plain": [
              "0.48"
            ]
          },
          "metadata": {},
          "execution_count": 123
        }
      ]
    },
    {
      "cell_type": "code",
      "source": [
        "import matplotlib.pyplot as plt\n",
        "x_values = [1,2,5]\n",
        "y_values = [0,0.5,0]\n",
        "\n",
        "plt.plot(x_values, y_values)\n",
        "\n",
        "plt.xlabel('x')\n",
        "plt.ylabel('y')\n",
        "plt.title('Curve Plot')\n",
        "\n",
        "plt.show()"
      ],
      "metadata": {
        "colab": {
          "base_uri": "https://localhost:8080/",
          "height": 295
        },
        "id": "4kPcdGcm1ALL",
        "outputId": "50a1b1bc-0cca-4561-cbe9-baeff26604dc"
      },
      "execution_count": null,
      "outputs": [
        {
          "output_type": "display_data",
          "data": {
            "text/plain": [
              "<Figure size 432x288 with 1 Axes>"
            ],
            "image/png": "[encoded data removed]"
          },
          "metadata": {
            "needs_background": "light"
          }
        }
      ]
    },
    {
      "cell_type": "code",
      "source": [
        "import scipy.integrate as spi\n",
        "def f(x):\n",
        "  return 0.5 * (x - 1)\n",
        "\n",
        "result, error = spi.quad(f, 1, 2)\n",
        "\n",
        "print(\"Probability of x < 2:\", result)"
      ],
      "metadata": {
        "colab": {
          "base_uri": "https://localhost:8080/"
        },
        "id": "LPUKU34v4uR-",
        "outputId": "716142d5-77bd-4e8f-b21e-4f065c3265fc"
      },
      "execution_count": null,
      "outputs": [
        {
          "output_type": "stream",
          "name": "stdout",
          "text": [
            "Probability of x < 2: 0.25\n"
          ]
        }
      ]
    },
    {
      "cell_type": "code",
      "source": [
        "import numpy as np\n",
        "import scipy.stats as stats\n",
        "\n",
        "speeds = [49,28,37,42]\n",
        "\n",
        "x_bar = np.mean(speeds)\n",
        "s = np.std(speeds, ddof=1)\n",
        "\n",
        "n= len(speeds)\n",
        "\n",
        "SE = s / np.sqrt(n)\n",
        "\n",
        "t = stats.t.ppf(1-0.05/2, n-1)\n",
        "\n",
        "ME = t * SE\n",
        "\n",
        "CI = (x_bar - ME, x_bar + ME)\n",
        "\n",
        "print(\"Sample mean: {:.2f}\".format(x_bar))\n",
        "print(\"Standard deviation: {:.2f}\".format(s))\n",
        "print(\"Standard error of the mean: {:.2f}\".format(SE))\n",
        "print(\"Margin of error: {:.2f}\".format(ME))\n",
        "print(\"95% Confidence interval: {:.2f},{:.2f})\".format(CI[0],CI[1]))\n"
      ],
      "metadata": {
        "colab": {
          "base_uri": "https://localhost:8080/"
        },
        "id": "EMbSF8P4385T",
        "outputId": "73089247-c13d-443c-952f-2acbb495bc41"
      },
      "execution_count": null,
      "outputs": [
        {
          "output_type": "stream",
          "name": "stdout",
          "text": [
            "Sample mean: 39.00\n",
            "Standard deviation: 8.83\n",
            "Standard error of the mean: 4.42\n",
            "Margin of error: 14.05\n",
            "95% Confidence interval: 24.95,53.05)\n"
          ]
        }
      ]
    },
    {
      "cell_type": "code",
      "source": [
        "P_A = 80/180 \n",
        "print(P_A)"
      ],
      "metadata": {
        "colab": {
          "base_uri": "https://localhost:8080/"
        },
        "id": "llh_wFTKgzbx",
        "outputId": "51127d66-20a6-423c-9830-ba7bdf2a383e"
      },
      "execution_count": null,
      "outputs": [
        {
          "output_type": "stream",
          "name": "stdout",
          "text": [
            "0.4444444444444444\n"
          ]
        }
      ]
    },
    {
      "cell_type": "code",
      "source": [
        "P_B = 90/180 \n",
        "print(P_B)"
      ],
      "metadata": {
        "colab": {
          "base_uri": "https://localhost:8080/"
        },
        "id": "EaKhgwpq_cu9",
        "outputId": "f6db344e-6331-480c-fe26-0068b59dfadf"
      },
      "execution_count": null,
      "outputs": [
        {
          "output_type": "stream",
          "name": "stdout",
          "text": [
            "0.5\n"
          ]
        }
      ]
    },
    {
      "cell_type": "code",
      "source": [
        "print(P_A + P_B)"
      ],
      "metadata": {
        "colab": {
          "base_uri": "https://localhost:8080/"
        },
        "id": "0_7YiCVv_wt2",
        "outputId": "f5034fd4-5eaa-4e1f-e251-ddbef03299f8"
      },
      "execution_count": null,
      "outputs": [
        {
          "output_type": "stream",
          "name": "stdout",
          "text": [
            "0.9444444444444444\n"
          ]
        }
      ]
    },
    {
      "cell_type": "code",
      "source": [
        "P_AB = 30/180\n",
        "print(P_AB)"
      ],
      "metadata": {
        "colab": {
          "base_uri": "https://localhost:8080/"
        },
        "id": "E_K6EcEC_5WP",
        "outputId": "666a9449-0afa-4667-97de-49a5e5f41b9e"
      },
      "execution_count": null,
      "outputs": [
        {
          "output_type": "stream",
          "name": "stdout",
          "text": [
            "0.16666666666666666\n"
          ]
        }
      ]
    },
    {
      "cell_type": "code",
      "source": [
        "print((P_A + P_B)/(P_A))"
      ],
      "metadata": {
        "colab": {
          "base_uri": "https://localhost:8080/"
        },
        "id": "rFSwHraEAJHn",
        "outputId": "0e0749ab-8290-4c39-b5a2-d9a6fb6d151f"
      },
      "execution_count": null,
      "outputs": [
        {
          "output_type": "stream",
          "name": "stdout",
          "text": [
            "2.125\n"
          ]
        }
      ]
    },
    {
      "cell_type": "code",
      "source": [
        "import matplotlib.pyplot as plt\n",
        "\n",
        "data = [100]*2 + [74]*20 +[12]*3+ [50]*10\n",
        "\n",
        "plt.boxplot(data)\n",
        "plt.title(\"Box plot data\")\n",
        "plt.xlabel(\"data\")\n",
        "plt.ylabel(\"values\")\n",
        "plt.show()"
      ],
      "metadata": {
        "colab": {
          "base_uri": "https://localhost:8080/",
          "height": 295
        },
        "id": "e7r4l4MZAcfk",
        "outputId": "b878897b-cfd4-43ca-9f6c-ca5f46d62b76"
      },
      "execution_count": null,
      "outputs": [
        {
          "output_type": "display_data",
          "data": {
            "text/plain": [
              "<Figure size 432x288 with 1 Axes>"
            ],
            "image/png": "[encoded data removed]"
          },
          "metadata": {
            "needs_background": "light"
          }
        }
      ]
    },
    {
      "cell_type": "code",
      "source": [
        "import matplotlib.pyplot as plt\n",
        "import numpy as np\n",
        "\n",
        "\n",
        "data = [100]*2 + [74]*20 +[12]*3+ [50]*10\n",
        "\n",
        "plt.plot(data)\n",
        "plt.title(\" plot data\")\n",
        "plt.xlabel(\"data\")\n",
        "plt.ylabel(\"values\")\n",
        "plt.show()"
      ],
      "metadata": {
        "colab": {
          "base_uri": "https://localhost:8080/",
          "height": 295
        },
        "id": "RkQtYXwX9q1h",
        "outputId": "ca65c046-efa8-4476-db98-2e14452b79eb"
      },
      "execution_count": null,
      "outputs": [
        {
          "output_type": "display_data",
          "data": {
            "text/plain": [
              "<Figure size 432x288 with 1 Axes>"
            ],
            "image/png": "[encoded data removed]"
          },
          "metadata": {
            "needs_background": "light"
          }
        }
      ]
    },
    {
      "cell_type": "code",
      "source": [
        "import numpy as np\n",
        "\n",
        "data = [12,15,14,16,8]\n",
        "\n",
        "Q1 = np.percentile(data, 25)\n",
        "\n",
        "Q3 = np.percentile(data, 75)\n",
        "\n",
        "IQR = Q3 -Q1\n",
        "print(\"Q1\", Q1)\n",
        "print(\"Q3\", Q3)\n",
        "print(\"IQR\", IQR)"
      ],
      "metadata": {
        "colab": {
          "base_uri": "https://localhost:8080/"
        },
        "id": "HwnS64KfAd1-",
        "outputId": "0fdd3fba-d90a-4710-f025-c5464d668abc"
      },
      "execution_count": null,
      "outputs": [
        {
          "output_type": "stream",
          "name": "stdout",
          "text": [
            "Q1 12.0\n",
            "Q3 15.0\n",
            "IQR 3.0\n"
          ]
        }
      ]
    },
    {
      "cell_type": "code",
      "source": [
        "from statistics import mean, median, mode\n",
        "\n",
        "data = [12,15,14,16,8,12,12,14,16]\n",
        "\n",
        "mean = mean(data)\n",
        "\n",
        "median = median(data)\n",
        "\n",
        "mode = mode(data)\n",
        "\n",
        "print(\"mean\", mean)\n",
        "print(\"median\", median)\n",
        "print(\"mode\", mode)\n"
      ],
      "metadata": {
        "id": "A4XggyJgidgk",
        "outputId": "b897d97e-d23b-40a1-fb17-cc7d84b5fdd6",
        "colab": {
          "base_uri": "https://localhost:8080/"
        }
      },
      "execution_count": null,
      "outputs": [
        {
          "output_type": "stream",
          "name": "stdout",
          "text": [
            "mean 13.222222222222221\n",
            "median 14\n",
            "mode 12\n"
          ]
        }
      ]
    },
    {
      "cell_type": "code",
      "source": [
        "import numpy as np\n",
        "\n",
        "# Define the numbers\n",
        "numbers = [9,5,3,11]\n",
        "\n",
        "# Calculate the mean\n",
        "mean = np.mean(numbers)\n",
        "standard_deviation = np.std(numbers)\n",
        "\n",
        "\n",
        "# Calculate the deviations from the mean\n",
        "deviations = [abs(num - mean) for num in numbers]\n",
        "\n",
        "# Calculate the MAD\n",
        "mad = np.mean(deviations)\n",
        "std = np.std(numbers)\n",
        "\n",
        "print(\"Mean absolute deviation:\", mad)\n",
        "print(\"Average:\", mean)\n",
        "print(\"Standard deviation:\", std)\n"
      ],
      "metadata": {
        "id": "hqJ87XKSjhP9",
        "colab": {
          "base_uri": "https://localhost:8080/"
        },
        "outputId": "235e25ac-c5fd-4009-c804-a464d6bd9a2a"
      },
      "execution_count": null,
      "outputs": [
        {
          "output_type": "stream",
          "name": "stdout",
          "text": [
            "Mean absolute deviation: 3.0\n",
            "Average: 7.0\n",
            "Standard deviation: 3.1622776601683795\n"
          ]
        }
      ]
    },
    {
      "cell_type": "code",
      "source": [
        "import numpy as np\n",
        "\n",
        "# Define a list of numbers\n",
        "numbers = [4,2,0,16,35,30,7]\n",
        "\n",
        "# Calculate the 35th percentile\n",
        "percentile_35 = np.percentile(numbers, 35)\n",
        "\n",
        "# Print the result\n",
        "print(\"35th percentile:\", percentile_35)\n"
      ],
      "metadata": {
        "colab": {
          "base_uri": "https://localhost:8080/"
        },
        "id": "EXnakic_Je9H",
        "outputId": "aa8666d4-7e34-4cfc-c9d0-6d83a2aeefad"
      },
      "execution_count": null,
      "outputs": [
        {
          "output_type": "stream",
          "name": "stdout",
          "text": [
            "35th percentile: 4.299999999999999\n"
          ]
        }
      ]
    },
    {
      "cell_type": "code",
      "source": [
        "import numpy as np\n",
        "\n",
        "# Define a list of numbers\n",
        "numbers = [7,8,9,10,11]\n",
        "\n",
        "# Calculate the IQR\n",
        "q1 = np.percentile(numbers, 25)\n",
        "q3 = np.percentile(numbers, 75)\n",
        "iqr = q3 - q1\n",
        "\n",
        "std = np.std(numbers)\n",
        "\n",
        "\n",
        "# Print the result\n",
        "print(\"Interquartile range:\", iqr)\n",
        "print(\"standard deviation:\", std)\n"
      ],
      "metadata": {
        "colab": {
          "base_uri": "https://localhost:8080/"
        },
        "id": "E5Ub8rtwRUPE",
        "outputId": "e67610c8-dab7-4f77-9ba0-d32b026f743b"
      },
      "execution_count": null,
      "outputs": [
        {
          "output_type": "stream",
          "name": "stdout",
          "text": [
            "Interquartile range: 2.0\n",
            "standard deviation: 1.4142135623730951\n"
          ]
        }
      ]
    },
    {
      "cell_type": "code",
      "source": [
        "import numpy as np\n",
        "import matplotlib.pyplot as plt\n",
        "from scipy.stats import norm\n",
        "\n",
        "# Set the mean and standard deviation\n",
        "mu = 170.4\n",
        "sigma = 10\n",
        "\n",
        "# Generate a range of x values for the graph\n",
        "x = np.arange(mu - 4*sigma, mu + 4*sigma, 0.1)\n",
        "\n",
        "# Calculate the y values for the normal distribution\n",
        "y = norm.pdf(x, mu, sigma)\n",
        "\n",
        "# Create a plot of the normal distribution\n",
        "plt.plot(x, y)\n",
        "\n",
        "# Label the x and y axes\n",
        "plt.xlabel('Height (cm)')\n",
        "plt.ylabel('Probability density')\n",
        "\n",
        "# Add a title to the plot\n",
        "plt.title('Normal Distribution of Heights')\n",
        "\n",
        "# Display the plot\n",
        "plt.show()\n",
        "\n",
        "\n",
        "# Calculate the CDF values for the lower and upper bounds\n",
        "cdf_lower = norm.cdf(170.5, mu, sigma)\n",
        "cdf_upper = norm.cdf(180.3, mu, sigma)\n",
        "\n",
        "# Calculate the probability of heights between the lower and upper bounds\n",
        "prob = cdf_upper - cdf_lower\n",
        "\n",
        "# Print the probability\n",
        "print('Probability of heights between 170.5 cm and 180.3 cm:', prob)\n",
        "\n"
      ],
      "metadata": {
        "colab": {
          "base_uri": "https://localhost:8080/",
          "height": 312
        },
        "id": "kOtcdh1YauCa",
        "outputId": "25171e7b-88e4-4680-ff99-a08e9ad8effb"
      },
      "execution_count": null,
      "outputs": [
        {
          "output_type": "display_data",
          "data": {
            "text/plain": [
              "<Figure size 432x288 with 1 Axes>"
            ],
            "image/png": "[encoded data removed]"
          },
          "metadata": {
            "needs_background": "light"
          }
        },
        {
          "output_type": "stream",
          "name": "stdout",
          "text": [
            "Probability of heights between 170.5 cm and 180.3 cm: 0.33492358417453794\n"
          ]
        }
      ]
    },
    {
      "cell_type": "code",
      "source": [
        "import numpy as np\n",
        "import matplotlib.pyplot as plt\n",
        "from scipy.stats import norm\n",
        "\n",
        "# Set the mean and standard deviation\n",
        "mu = 10.4\n",
        "sigma = 1.9\n",
        "\n",
        "# Generate a range of x values for the graph\n",
        "x = np.arange(mu - 4*sigma, mu + 4*sigma, 0.1)\n",
        "\n",
        "# Calculate the y values for the normal distribution\n",
        "y = norm.pdf(x, mu, sigma)\n",
        "\n",
        "# Create a plot of the normal distribution\n",
        "plt.plot(x, y)\n",
        "\n",
        "# Label the x and y axes\n",
        "plt.xlabel('Height (cm)')\n",
        "plt.ylabel('Probability density')\n",
        "\n",
        "# Add a title to the plot\n",
        "plt.title('Normal Distribution of Heights')\n",
        "\n",
        "# Display the plot\n",
        "plt.show()\n",
        "\n",
        "\n",
        "# Calculate the CDF values for the lower and upper bounds\n",
        "cdf_lower = norm.cdf(16.1, mu, sigma)\n",
        "\n",
        "\n",
        "# Calculate the probability of heights between the lower and upper bounds\n",
        "prob = cdf_lower\n",
        "\n",
        "# Print the probability\n",
        "print('Probability of 16.1:', prob)\n",
        "\n",
        "prob = norm.cdf(16.1, mu, sigma)\n",
        "\n",
        "# Print the probability of less than 16.1 cm\n",
        "print('Probability of less than 16.1 cm:', prob)"
      ],
      "metadata": {
        "id": "Fyjl9EFLtdQo",
        "colab": {
          "base_uri": "https://localhost:8080/",
          "height": 330
        },
        "outputId": "4ce4fa81-1abe-40c1-e982-632094f4d574"
      },
      "execution_count": null,
      "outputs": [
        {
          "output_type": "display_data",
          "data": {
            "text/plain": [
              "<Figure size 432x288 with 1 Axes>"
            ],
            "image/png": "[encoded data removed]"
          },
          "metadata": {
            "needs_background": "light"
          }
        },
        {
          "output_type": "stream",
          "name": "stdout",
          "text": [
            "Probability of 16.1: 0.9986501019683699\n",
            "Probability of less than 16.1 cm: 0.9986501019683699\n"
          ]
        }
      ]
    },
    {
      "cell_type": "code",
      "source": [
        "from scipy.stats import norm\n",
        "\n",
        "# Set the mean and standard deviation\n",
        "mu = 12.5\n",
        "sigma = 2.4\n",
        "\n",
        "# Calculate the CDF at 10.1 cm\n",
        "prob = norm.cdf(10.1, mu, sigma)\n",
        "\n",
        "# Print the probability of heights higher than 10.1 cm\n",
        "print('Probability of heights higher than 10.1 cm:', prob)\n"
      ],
      "metadata": {
        "colab": {
          "base_uri": "https://localhost:8080/"
        },
        "id": "d0o0Pbqmvebt",
        "outputId": "e3b33b35-63fa-4266-ad36-8d1b3ea4a174"
      },
      "execution_count": null,
      "outputs": [
        {
          "output_type": "stream",
          "name": "stdout",
          "text": [
            "Probability of heights higher than 10.1 cm: 0.15865525393145702\n"
          ]
        }
      ]
    },
    {
      "cell_type": "code",
      "source": [
        "from tabulate import tabulate\n",
        "\n",
        "# Define the data as a list of lists\n",
        "data = [['0-5', 4],\n",
        "        ['5-10', 2],\n",
        "        ['10-15', 0],\n",
        "        ['15-20', 16],\n",
        "        ['20-25', 35],\n",
        "        ['25-30', 30],\n",
        "        ['30-35', 7]]\n",
        "\n",
        "# Define the headers for the table\n",
        "headers = ['Range', 'Count']\n",
        "\n",
        "# Use the tabulate function to create the table\n",
        "table = tabulate(data, headers=headers)\n",
        "\n",
        "# Print the table\n",
        "print(table)\n"
      ],
      "metadata": {
        "colab": {
          "base_uri": "https://localhost:8080/"
        },
        "id": "QmPPKeeqw-qq",
        "outputId": "0358b4d0-7c31-44d2-8ab5-352719a9acc4"
      },
      "execution_count": null,
      "outputs": [
        {
          "output_type": "stream",
          "name": "stdout",
          "text": [
            "Range      Count\n",
            "-------  -------\n",
            "0-5            4\n",
            "5-10           2\n",
            "10-15          0\n",
            "15-20         16\n",
            "20-25         35\n",
            "25-30         30\n",
            "30-35          7\n"
          ]
        }
      ]
    },
    {
      "cell_type": "code",
      "source": [
        "import pandas as pd\n",
        "\n",
        "# Define the data as a list of values\n",
        "data = [4, 2, 0, 16, 35, 30, 7]\n",
        "\n",
        "# Define the range of values\n",
        "ranges = ['0-5', '5-10', '10-15', '15-20', '20-25', '25-30', '30-35']\n",
        "\n",
        "# Create a DataFrame with the data and ranges\n",
        "df = pd.DataFrame({'Range': ranges, 'Count': data})\n",
        "\n",
        "# Calculate the total count\n",
        "total = df['Count'].sum()\n",
        "\n",
        "# Calculate the frequency distribution\n",
        "df['Frequency'] = df['Count'] / total\n",
        "\n",
        "# Print the distribution table\n",
        "print(df.to_string(index=False))\n"
      ],
      "metadata": {
        "colab": {
          "base_uri": "https://localhost:8080/"
        },
        "id": "ayUR7j9Ay0xb",
        "outputId": "fde783f9-883f-41f2-e346-26cff89e021e"
      },
      "execution_count": null,
      "outputs": [
        {
          "output_type": "stream",
          "name": "stdout",
          "text": [
            "Range  Count  Frequency\n",
            "  0-5      4   0.042553\n",
            " 5-10      2   0.021277\n",
            "10-15      0   0.000000\n",
            "15-20     16   0.170213\n",
            "20-25     35   0.372340\n",
            "25-30     30   0.319149\n",
            "30-35      7   0.074468\n"
          ]
        }
      ]
    },
    {
      "cell_type": "code",
      "source": [
        "import numpy as np\n",
        "\n",
        "# Define the data as a list of values\n",
        "data = [4, 2, 0, 16, 35, 30, 7]\n",
        "\n",
        "# Calculate the 35th percentile\n",
        "percentile_35 = np.percentile(data, 35)\n",
        "\n",
        "# Print the 35th percentile value\n",
        "print('35th percentile:', percentile_35)\n"
      ],
      "metadata": {
        "colab": {
          "base_uri": "https://localhost:8080/"
        },
        "id": "ouj8FB8SzK5h",
        "outputId": "cc6f4840-7b86-44f0-aac7-c5d111c1b0e3"
      },
      "execution_count": null,
      "outputs": [
        {
          "output_type": "stream",
          "name": "stdout",
          "text": [
            "35th percentile: 4.299999999999999\n"
          ]
        }
      ]
    },
    {
      "cell_type": "code",
      "source": [
        "import numpy as np\n",
        "import matplotlib.pyplot as plt\n",
        "from scipy.stats import norm\n",
        "\n",
        "# Set the mean and standard deviation\n",
        "mu = 221\n",
        "sigma = 36\n",
        "\n",
        "# Generate a range of x values for the graph\n",
        "x = np.arange(mu - 4*sigma, mu + 4*sigma, 0.1)\n",
        "\n",
        "# Calculate the y values for the normal distribution\n",
        "y = norm.pdf(x, mu, sigma)\n",
        "\n",
        "# Create a plot of the normal distribution\n",
        "plt.plot(x, y)\n",
        "\n",
        "# Label the x and y axes\n",
        "plt.xlabel('Height (cm)')\n",
        "plt.ylabel('Probability density')\n",
        "\n",
        "# Add a title to the plot\n",
        "plt.title('Normal Distribution of Heights')\n",
        "\n",
        "# Display the plot\n",
        "plt.show()\n",
        "\n",
        "\n",
        "# Calculate the CDF values for the lower and upper bounds\n",
        "cdf_lower = norm.cdf(221, mu, sigma)\n",
        "\n",
        "\n",
        "# Calculate the probability of heights between the lower and upper bounds\n",
        "prob = cdf_lower\n",
        "\n",
        "# Print the probability\n",
        "print('Probability of 221:', prob)\n",
        "\n",
        "prob = norm.cdf(221, mu, sigma)\n",
        "\n",
        "# Print the probability of less than 16.1 cm\n",
        "print('Probability of less than 221:', prob)"
      ],
      "metadata": {
        "colab": {
          "base_uri": "https://localhost:8080/",
          "height": 330
        },
        "id": "z0RgCS3-zeoH",
        "outputId": "0a6e7902-79c4-4f9f-949e-f644bec4527d"
      },
      "execution_count": null,
      "outputs": [
        {
          "output_type": "display_data",
          "data": {
            "text/plain": [
              "<Figure size 432x288 with 1 Axes>"
            ],
            "image/png": "[encoded data removed]"
          },
          "metadata": {
            "needs_background": "light"
          }
        },
        {
          "output_type": "stream",
          "name": "stdout",
          "text": [
            "Probability of 221: 0.5\n",
            "Probability of less than 221: 0.5\n"
          ]
        }
      ]
    },
    {
      "cell_type": "code",
      "source": [
        "3/8"
      ],
      "metadata": {
        "colab": {
          "base_uri": "https://localhost:8080/"
        },
        "id": "VxfiR7p01IG5",
        "outputId": "f79718de-3b9b-4964-e2d9-75bcf503d6d0"
      },
      "execution_count": null,
      "outputs": [
        {
          "output_type": "execute_result",
          "data": {
            "text/plain": [
              "0.375"
            ]
          },
          "metadata": {},
          "execution_count": 13
        }
      ]
    },
    {
      "cell_type": "code",
      "source": [
        "import matplotlib.pyplot as plt\n",
        "import numpy as np\n",
        "\n",
        "# Define the age and internet use data as numpy arrays\n",
        "age = np.array([3, 10, 16, 22, 35, 55])\n",
        "internet_use = np.array([0.0, 1.0, 2.5, 4.0, 3.0, 0.5])\n",
        "\n",
        "# Create a scatter plot\n",
        "plt.scatter(age, internet_use)\n",
        "\n",
        "# Set the title and axis labels\n",
        "plt.title('Age vs. Internet Use')\n",
        "plt.xlabel('Age (years)')\n",
        "plt.ylabel('Internet Use (hours per day)')\n",
        "\n",
        "# Show the plot\n",
        "plt.show()\n",
        "\n",
        "import numpy as np\n",
        "\n",
        "# Define the age and internet use data as numpy arrays\n",
        "age = np.array([3, 10, 16, 22, 35, 55])\n",
        "internet_use = np.array([0.0, 1.0, 2.5, 4.0, 3.0, 0.5])\n",
        "\n",
        "# Calculate the Pearson correlation coefficient\n",
        "correlation_coef = np.corrcoef(age, internet_use)[0, 1]\n",
        "\n",
        "# Print the correlation coefficient value\n",
        "print('Correlation coefficient:', correlation_coef)\n",
        "\n"
      ],
      "metadata": {
        "colab": {
          "base_uri": "https://localhost:8080/",
          "height": 312
        },
        "id": "pz8oXC0A1wrW",
        "outputId": "4ddfdea1-0d59-44a7-8984-fc3da88dfa86"
      },
      "execution_count": null,
      "outputs": [
        {
          "output_type": "display_data",
          "data": {
            "text/plain": [
              "<Figure size 432x288 with 1 Axes>"
            ],
            "image/png": "[encoded data removed]"
          },
          "metadata": {
            "needs_background": "light"
          }
        },
        {
          "output_type": "stream",
          "name": "stdout",
          "text": [
            "Correlation coefficient: 0.08086509183787356\n"
          ]
        }
      ]
    },
    {
      "cell_type": "code",
      "source": [
        "# Define the two points (x1, y1) and (x2, y2)\n",
        "x1 = 2\n",
        "y1 = 5\n",
        "x2 = 5\n",
        "y2 = 9\n",
        "\n",
        "# Calculate the slope using the formula (y2 - y1) / (x2 - x1)\n",
        "slope = (y2 - y1) / (x2 - x1)\n",
        "\n",
        "# Print the slope\n",
        "print(\"The slope is:\", slope)\n"
      ],
      "metadata": {
        "colab": {
          "base_uri": "https://localhost:8080/"
        },
        "id": "bx46BI-P_9SO",
        "outputId": "429ba2cf-a566-47ac-c867-58b9f43f6c3a"
      },
      "execution_count": null,
      "outputs": [
        {
          "output_type": "stream",
          "name": "stdout",
          "text": [
            "The slope is: 1.3333333333333333\n"
          ]
        }
      ]
    },
    {
      "cell_type": "code",
      "source": [
        "import numpy as np\n",
        "\n",
        "# Define the parameters of the linear distribution\n",
        "x = np.linspace(0, 1, 100)\n",
        "pdf = 2 * (1 - x)\n",
        "cdf = np.cumsum(pdf)\n",
        "cdf = cdf / cdf[-1]\n",
        "\n",
        "# Generate 100 random numbers from the linear distribution\n",
        "random_numbers = np.interp(np.random.rand(100), cdf, x)\n",
        "\n",
        "# Print the random numbers\n",
        "print(random_numbers)\n",
        "slope = (y2 - y1) / (x2 - x1)\n",
        "\n",
        "# Print the slope\n",
        "print(\"The slope is:\", slope)\n",
        "plt.show()\n"
      ],
      "metadata": {
        "colab": {
          "base_uri": "https://localhost:8080/"
        },
        "id": "2jb7ZL7bQmRn",
        "outputId": "4fd0ba97-1200-40d5-bd15-45c65dbfa89b"
      },
      "execution_count": null,
      "outputs": [
        {
          "output_type": "stream",
          "name": "stdout",
          "text": [
            "[0.20129205 0.00190882 0.47886894 0.41831275 0.13165482 0.33034557\n",
            " 0.0726223  0.12196513 0.47277609 0.71582744 0.12370792 0.01683457\n",
            " 0.40149662 0.20231969 0.52065031 0.63891469 0.73893297 0.36995154\n",
            " 0.04863805 0.20315827 0.4137406  0.25902403 0.24326953 0.60234135\n",
            " 0.28263194 0.00233599 0.44787493 0.19576745 0.05909955 0.87371861\n",
            " 0.31457218 0.06384457 0.16863743 0.58611554 0.30301936 0.02368847\n",
            " 0.42488898 0.19293059 0.0416792  0.05192168 0.22839584 0.1486969\n",
            " 0.14054612 0.8881631  0.80948349 0.12431256 0.         0.02454211\n",
            " 0.24828795 0.19421446 0.31989152 0.46216728 0.07381479 0.47457496\n",
            " 0.59165087 0.47399999 0.52471484 0.49723985 0.59418841 0.00826672\n",
            " 0.22838904 0.37879972 0.21978595 0.01025155 0.65965143 0.53632787\n",
            " 0.62697334 0.11148878 0.24986394 0.         0.17180763 0.1495781\n",
            " 0.07242764 0.1097345  0.00113667 0.57297133 0.00552192 0.46450942\n",
            " 0.06985561 0.04820006 0.16309562 0.06599031 0.23462776 0.50516508\n",
            " 0.53569373 0.52466175 0.37490414 0.06905529 0.27175942 0.\n",
            " 0.41610472 0.2389348  0.69492354 0.05869174 0.39758109 0.1419981\n",
            " 0.41705304 0.33513462 0.71962743 0.05266396]\n",
            "The slope is: 1.3333333333333333\n"
          ]
        }
      ]
    },
    {
      "cell_type": "code",
      "source": [
        "\n",
        "x = np.linspace(0, 1, 100)\n",
        "pdf = 2 * (1 - x)\n",
        "y = np.linspace(0, 1, 100)\n",
        "pdf =  (1 - y)+1.2\n",
        "\n",
        "plt.scatter(x, y)\n",
        "plt.xlabel(\"Open\")\n",
        "plt.ylabel(\"Close\")\n",
        "plt.show()"
      ],
      "metadata": {
        "colab": {
          "base_uri": "https://localhost:8080/",
          "height": 279
        },
        "id": "1tnml_qqSpkQ",
        "outputId": "7956e81e-aa06-4b78-bdf2-df4d075cc661"
      },
      "execution_count": null,
      "outputs": [
        {
          "output_type": "display_data",
          "data": {
            "text/plain": [
              "<Figure size 432x288 with 1 Axes>"
            ],
            "image/png": "[encoded data removed]"
          },
          "metadata": {
            "needs_background": "light"
          }
        }
      ]
    },
    {
      "cell_type": "code",
      "source": [
        "import numpy as np\n",
        "import pandas as pd\n",
        "import matplotlib.pyplot as plt\n",
        "\n",
        "np.random.seed(123)\n",
        "x = np.random.rand(20) \n",
        "y = 0.65 * x + 0.35 * np.random.randn(20)\n",
        "\n",
        "df = pd.DataFrame({'x':x,'y':y})\n",
        "\n",
        "plt.scatter(df['x'], df['y'])\n",
        "\n",
        "plt.xlabel('x')\n",
        "plt.ylabel('y')\n",
        "\n",
        "plt.title('Scatterplot of 20 random data points with r = 0.65')\n",
        "\n",
        "plt.show()"
      ],
      "metadata": {
        "colab": {
          "base_uri": "https://localhost:8080/",
          "height": 295
        },
        "id": "4wogL96FWf8q",
        "outputId": "f0bce69c-800b-478a-9f9c-b615c3991e09"
      },
      "execution_count": null,
      "outputs": [
        {
          "output_type": "display_data",
          "data": {
            "text/plain": [
              "<Figure size 432x288 with 1 Axes>"
            ],
            "image/png": "[encoded data removed]"
          },
          "metadata": {
            "needs_background": "light"
          }
        }
      ]
    },
    {
      "cell_type": "code",
      "source": [
        "import seaborn as sns\n",
        "\n",
        "tips = sns.load_dataset(\"tips\")\n",
        "\n",
        "sns.lmplot(x=\"total_bill\", y=\"tip\", data=tips)"
      ],
      "metadata": {
        "colab": {
          "base_uri": "https://localhost:8080/",
          "height": 386
        },
        "id": "aM8bHT7iYEPj",
        "outputId": "3a4d6bfb-2294-458c-96e0-5e9bad7207f7"
      },
      "execution_count": null,
      "outputs": [
        {
          "output_type": "execute_result",
          "data": {
            "text/plain": [
              "<seaborn.axisgrid.FacetGrid at 0x7f5f8afbff10>"
            ]
          },
          "metadata": {},
          "execution_count": 61
        },
        {
          "output_type": "display_data",
          "data": {
            "text/plain": [
              "<Figure size 360x360 with 1 Axes>"
            ],
            "image/png": "[encoded data removed]"
          },
          "metadata": {
            "needs_background": "light"
          }
        }
      ]
    },
    {
      "cell_type": "code",
      "source": [
        "import seaborn as sns\n",
        "import numpy as np\n",
        "data = sns.load_dataset('tips')\n",
        "\n",
        "#formula to find correlation coefficient=r, slope=m \n",
        "r = np.corrcoef(data['total_bill'], data['tip'])[0, 1]\n",
        "m = np.polyfit(data['total_bill'], data['tip'],1)[0]\n",
        "\n",
        "print(f\"Correlation coefficient (r): {r:.2f}\")\n",
        "print(f\"Slope (m): {m:.2f}\")\n"
      ],
      "metadata": {
        "colab": {
          "base_uri": "https://localhost:8080/"
        },
        "id": "T893I49vgr_L",
        "outputId": "141cf5bb-d1c9-44d5-f479-9636f9195997"
      },
      "execution_count": null,
      "outputs": [
        {
          "output_type": "stream",
          "name": "stdout",
          "text": [
            "Correlation coefficient (r): 0.68\n",
            "Slope (m): 0.11\n"
          ]
        }
      ]
    },
    {
      "cell_type": "code",
      "source": [
        "import math\n",
        "\n",
        "# Given data\n",
        "x = 12.2\n",
        "sd_x = 5.2\n",
        "y = 1.1\n",
        "sd_y = 1.3\n",
        "r = 0.65\n",
        "\n",
        "# Calculate the slope of the regression line\n",
        "slope = (sd_y / sd_x) * r\n",
        "\n",
        "# Calculate the y-intercept of the regression line\n",
        "y_intercept = y - slope * x\n",
        "\n",
        "# Round the slope and y-intercept to two decimal places\n",
        "slope = round(slope, 2)\n",
        "y_intercept = round(y_intercept, 2)\n",
        "\n",
        "# Print the equation of the regression line\n",
        "print(f'y = {slope}x + {y_intercept}')\n"
      ],
      "metadata": {
        "id": "_4MKINdRlY3Q",
        "colab": {
          "base_uri": "https://localhost:8080/"
        },
        "outputId": "757f8b2b-9383-47a4-d6ec-04a3f3ab19a6"
      },
      "execution_count": 3,
      "outputs": [
        {
          "output_type": "stream",
          "name": "stdout",
          "text": [
            "y = 0.16x + -0.88\n"
          ]
        }
      ]
    },
    {
      "cell_type": "code",
      "source": [
        "import math\n",
        "\n",
        "# Given data\n",
        "x = 57.4\n",
        "sd_x = 30.8\n",
        "y = 69.9\n",
        "sd_y = 35\n",
        "r = 0.99\n",
        "\n",
        "# Calculate the slope of the regression line\n",
        "slope = (sd_y / sd_x) * r\n",
        "\n",
        "# Calculate the y-intercept of the regression line\n",
        "y_intercept = y - slope * x\n",
        "\n",
        "# Round the slope and y-intercept to three decimal places\n",
        "slope = round(slope, 3)\n",
        "y_intercept = round(y_intercept, 3)\n",
        "\n",
        "# Print the equation of the regression line\n",
        "print(f'y = {slope}x + {y_intercept}')\n"
      ],
      "metadata": {
        "colab": {
          "base_uri": "https://localhost:8080/"
        },
        "id": "2yIH7SILp8wL",
        "outputId": "8003340f-c3b8-48c3-e849-0a7f6fd2bcab"
      },
      "execution_count": 7,
      "outputs": [
        {
          "output_type": "stream",
          "name": "stdout",
          "text": [
            "y = 1.125x + 5.325\n"
          ]
        }
      ]
    },
    {
      "cell_type": "code",
      "source": [
        "import math\n",
        "\n",
        "# Given data\n",
        "x = 24.1\n",
        "sd_x = 12\n",
        "y = 12.9\n",
        "sd_y = 16.2\n",
        "r = 0.9\n",
        "\n",
        "# Calculate the slope of the regression line\n",
        "slope = (sd_y / sd_x) * r\n",
        "\n",
        "# Calculate the y-intercept of the regression line\n",
        "y_intercept = y - slope * x\n",
        "\n",
        "# Round the slope and y-intercept to three decimal places\n",
        "slope = round(slope, 3)\n",
        "y_intercept = round(y_intercept, 3)\n",
        "\n",
        "# Print the equation of the regression line\n",
        "print(f'y = {slope}x + {y_intercept}')\n"
      ],
      "metadata": {
        "colab": {
          "base_uri": "https://localhost:8080/"
        },
        "id": "pAq9Oo-Mqq1E",
        "outputId": "4ded486f-973f-49c9-c040-b089742ddb59"
      },
      "execution_count": 9,
      "outputs": [
        {
          "output_type": "stream",
          "name": "stdout",
          "text": [
            "y = 1.215x + -16.381\n"
          ]
        }
      ]
    },
    {
      "cell_type": "code",
      "source": [
        "import math\n",
        "\n",
        "# Given data\n",
        "x = 8.9\n",
        "sd_x = 4.8\n",
        "y = 74.3\n",
        "sd_y = 7.2\n",
        "r = -0.88\n",
        "\n",
        "# Calculate the slope of the regression line\n",
        "slope = (sd_y / sd_x) * r\n",
        "\n",
        "# Calculate the y-intercept of the regression line\n",
        "y_intercept = y - slope * x\n",
        "\n",
        "# Round the slope and y-intercept to three decimal places\n",
        "slope = round(slope, 3)\n",
        "y_intercept = round(y_intercept, 3)\n",
        "\n",
        "# Print the equation of the regression line\n",
        "print(f'y = {slope}x + {y_intercept}')\n"
      ],
      "metadata": {
        "colab": {
          "base_uri": "https://localhost:8080/"
        },
        "id": "dt7tK85mK7H9",
        "outputId": "bbd758ef-ed0b-4305-fe83-a96e86f28edf"
      },
      "execution_count": 5,
      "outputs": [
        {
          "output_type": "stream",
          "name": "stdout",
          "text": [
            "y = -1.32x + 86.048\n"
          ]
        }
      ]
    },
    {
      "cell_type": "code",
      "source": [
        "# Import combinations function from itertools module\n",
        "from itertools import combinations\n",
        "\n",
        "# Create a list of all possible outcomes\n",
        "outcomes = list(combinations(range(1, 6), 2))\n",
        "\n",
        "# Count the number of outcomes where the sum is 4 or higher\n",
        "count = sum(sum(outcome) >= 4 for outcome in outcomes)\n",
        "\n",
        "# Calculate the probability\n",
        "probability = count / len(outcomes)\n",
        "\n",
        "print(\"The probability of rolling a sum of 4 or higher is:\", probability)\n"
      ],
      "metadata": {
        "colab": {
          "base_uri": "https://localhost:8080/"
        },
        "id": "G-qP1_Eui-_E",
        "outputId": "bacdd68d-0cd7-4530-91db-f828c10d5598"
      },
      "execution_count": 10,
      "outputs": [
        {
          "output_type": "stream",
          "name": "stdout",
          "text": [
            "The probability of rolling a sum of 4 or higher is: 0.9\n"
          ]
        }
      ]
    },
    {
      "cell_type": "code",
      "source": [
        "# Import permutations function from itertools module\n",
        "from itertools import permutations\n",
        "\n",
        "# Define a list of numbers\n",
        "numbers = [1, 2, 3,4]\n",
        "\n",
        "# Calculate the permutations of the numbers with length 2\n",
        "perms = list(permutations(numbers, 2))\n",
        "\n",
        "# Count the number of permutations\n",
        "num_perms = len(perms)\n",
        "\n",
        "# Print the permutations and the number of permutations\n",
        "print(\"Permutations:\")\n",
        "for perm in perms:\n",
        "    print(perm)\n",
        "print(\"Number of permutations:\", num_perms)\n"
      ],
      "metadata": {
        "colab": {
          "base_uri": "https://localhost:8080/"
        },
        "id": "5-F1GcjE5YoJ",
        "outputId": "5cecdd09-648f-49c4-a605-4097588e8eb8"
      },
      "execution_count": 18,
      "outputs": [
        {
          "output_type": "stream",
          "name": "stdout",
          "text": [
            "Permutations:\n",
            "(1, 2)\n",
            "(1, 3)\n",
            "(1, 4)\n",
            "(2, 1)\n",
            "(2, 3)\n",
            "(2, 4)\n",
            "(3, 1)\n",
            "(3, 2)\n",
            "(3, 4)\n",
            "(4, 1)\n",
            "(4, 2)\n",
            "(4, 3)\n",
            "Number of permutations: 12\n"
          ]
        }
      ]
    },
    {
      "cell_type": "code",
      "source": [
        "import itertools\n",
        "import numpy as np\n",
        "\n",
        "# Define the list of reindeer\n",
        "reindeer = ['Lancer', 'Prancer', 'Gloopin', 'Bloopin']\n",
        "\n",
        "# Generate all possible permutations of the reindeer with length 4\n",
        "perms = list(itertools.permutations(reindeer, 4))\n",
        "\n",
        "# Filter out permutations where Lancer and Prancer are next to each other\n",
        "valid_perms = [perm for perm in perms if not ('Lancer', 'Prancer') in zip(perm, perm[1:])]\n",
        "\n",
        "# Print the valid permutations\n",
        "for perm in valid_perms:\n",
        "    print(perm)\n",
        "\n",
        "    # Count the number of permutations\n",
        "num_perms = len(perms)\n",
        "print(\"Number of permutations:\", num_perms)\n",
        "\n",
        "#perms = list(itertools.permutations(reindeer, 4))\n",
        "filtered_perms = []\n",
        "\n",
        "#to arrange Lancer and Prancer not to be adjacent to each other in permutations\n",
        "for perm in perms:\n",
        "  if \"Lancer\" not in perm or \"Prancer\" not in perm:\n",
        "    filtered_perms.append(perm)\n",
        "  else:\n",
        "    idx_Lancer = perm.index(\"Lancer\")\n",
        "    idx_Prancer = perm.index(\"Prancer\")\n",
        "    if abs(idx_Lancer - idx_Prancer) != 1:\n",
        "      filtered_perms.append(perm)\n",
        "\n",
        "#arrangements = []\n",
        "#for perm in filtered_perms:\n",
        " # perm_arrangements = list(itertools.permutations(perm))\n",
        "  #arrangements.extend(perm_arrangements)\n",
        "\n",
        "array = np.array(filtered_perms)\n",
        "\n",
        "#print(filtered_perms)\n",
        "print(array)\n",
        "print(len(filtered_perms))\n",
        "#print(arrangements)"
      ],
      "metadata": {
        "colab": {
          "base_uri": "https://localhost:8080/"
        },
        "id": "Y2eqFvr88_6Y",
        "outputId": "f3e4854d-5ad9-43a2-85d2-afedeed4bddb"
      },
      "execution_count": 109,
      "outputs": [
        {
          "output_type": "stream",
          "name": "stdout",
          "text": [
            "('Lancer', 'Gloopin', 'Prancer', 'Bloopin')\n",
            "('Lancer', 'Gloopin', 'Bloopin', 'Prancer')\n",
            "('Lancer', 'Bloopin', 'Prancer', 'Gloopin')\n",
            "('Lancer', 'Bloopin', 'Gloopin', 'Prancer')\n",
            "('Prancer', 'Lancer', 'Gloopin', 'Bloopin')\n",
            "('Prancer', 'Lancer', 'Bloopin', 'Gloopin')\n",
            "('Prancer', 'Gloopin', 'Lancer', 'Bloopin')\n",
            "('Prancer', 'Gloopin', 'Bloopin', 'Lancer')\n",
            "('Prancer', 'Bloopin', 'Lancer', 'Gloopin')\n",
            "('Prancer', 'Bloopin', 'Gloopin', 'Lancer')\n",
            "('Gloopin', 'Lancer', 'Bloopin', 'Prancer')\n",
            "('Gloopin', 'Prancer', 'Lancer', 'Bloopin')\n",
            "('Gloopin', 'Prancer', 'Bloopin', 'Lancer')\n",
            "('Gloopin', 'Bloopin', 'Prancer', 'Lancer')\n",
            "('Bloopin', 'Lancer', 'Gloopin', 'Prancer')\n",
            "('Bloopin', 'Prancer', 'Lancer', 'Gloopin')\n",
            "('Bloopin', 'Prancer', 'Gloopin', 'Lancer')\n",
            "('Bloopin', 'Gloopin', 'Prancer', 'Lancer')\n",
            "Number of permutations: 24\n",
            "[['Lancer' 'Gloopin' 'Prancer' 'Bloopin']\n",
            " ['Lancer' 'Gloopin' 'Bloopin' 'Prancer']\n",
            " ['Lancer' 'Bloopin' 'Prancer' 'Gloopin']\n",
            " ['Lancer' 'Bloopin' 'Gloopin' 'Prancer']\n",
            " ['Prancer' 'Gloopin' 'Lancer' 'Bloopin']\n",
            " ['Prancer' 'Gloopin' 'Bloopin' 'Lancer']\n",
            " ['Prancer' 'Bloopin' 'Lancer' 'Gloopin']\n",
            " ['Prancer' 'Bloopin' 'Gloopin' 'Lancer']\n",
            " ['Gloopin' 'Lancer' 'Bloopin' 'Prancer']\n",
            " ['Gloopin' 'Prancer' 'Bloopin' 'Lancer']\n",
            " ['Bloopin' 'Lancer' 'Gloopin' 'Prancer']\n",
            " ['Bloopin' 'Prancer' 'Gloopin' 'Lancer']]\n",
            "12\n"
          ]
        }
      ]
    },
    {
      "cell_type": "code",
      "source": [
        "import itertools\n",
        "import numpy as np\n",
        "\n",
        "names = [\"yellow\", \"green\", \"red\", \"blue\"]\n",
        "\n",
        "permutations = list(itertools.permutations(names))\n",
        "\n",
        "filtered_permutations = []\n",
        "\n",
        "#to arrange red and blue not to be adjacent to each other in permutations\n",
        "for perm in permutations:\n",
        "  if \"red\" not in perm or \"blue\" not in perm:\n",
        "    filtered_permutations.append(perm)\n",
        "  else:\n",
        "    idx_red = perm.index(\"red\")\n",
        "    idx_blue = perm.index(\"blue\")\n",
        "    if abs(idx_red - idx_blue) != 1:\n",
        "      filtered_permutations.append(perm)\n",
        "array = np.array(filtered_permutations)\n",
        "print(array)\n",
        "print(len(array))\n",
        "#print(filtered_permutations)\n",
        "#print(len(filtered_permutations))\n"
      ],
      "metadata": {
        "colab": {
          "base_uri": "https://localhost:8080/"
        },
        "id": "KP1f4jxc-4CB",
        "outputId": "46aa86de-8737-413c-e363-a33f63690f45"
      },
      "execution_count": 53,
      "outputs": [
        {
          "output_type": "stream",
          "name": "stdout",
          "text": [
            "[['yellow' 'red' 'green' 'blue']\n",
            " ['yellow' 'blue' 'green' 'red']\n",
            " ['green' 'red' 'yellow' 'blue']\n",
            " ['green' 'blue' 'yellow' 'red']\n",
            " ['red' 'yellow' 'green' 'blue']\n",
            " ['red' 'yellow' 'blue' 'green']\n",
            " ['red' 'green' 'yellow' 'blue']\n",
            " ['red' 'green' 'blue' 'yellow']\n",
            " ['blue' 'yellow' 'green' 'red']\n",
            " ['blue' 'yellow' 'red' 'green']\n",
            " ['blue' 'green' 'yellow' 'red']\n",
            " ['blue' 'green' 'red' 'yellow']]\n",
            "12\n"
          ]
        }
      ]
    },
    {
      "cell_type": "code",
      "source": [
        "import itertools\n",
        "import numpy as np\n",
        "\n",
        "word = \"CANNON\"\n",
        "\n",
        "letters = sorted(list(word))\n",
        "\n",
        "permutations = list(itertools.permutations(letters))\n",
        "num_permutations = len(permutations)\n",
        "\n",
        "#for perm in permutations:\n",
        "  #print(\"\".join(perm))\n",
        "  #print(\"Number of permutations:\", num_permutations)\n",
        "\n",
        "  #results too long 720 perms, thus not print#\n"
      ],
      "metadata": {
        "id": "BG-uxJZAaTxW"
      },
      "execution_count": 64,
      "outputs": []
    },
    {
      "cell_type": "code",
      "source": [
        "#CANNON letters perm by factorial method, unique count is to not count the 3 n of repeating same arrangement due to same letter n.\n",
        "\n",
        "import math\n",
        "import collections\n",
        "\n",
        "word = \"cannon\"\n",
        "letters = sorted(list(word))\n",
        "num_elements = len(word)\n",
        "num_permutations = math.factorial(num_elements)\n",
        "\n",
        "count = collections.Counter(letters)\n",
        "divisors = [math.factorial(count[letter]) for letter in count]\n",
        "\n",
        "num_unique_permutations = num_permutations / math.prod(divisors)\n",
        "\n",
        "print(\"Number of unique permutations:\", num_unique_permutations)\n",
        "\n",
        "print(\"Number of permutations:\", num_permutations)"
      ],
      "metadata": {
        "colab": {
          "base_uri": "https://localhost:8080/"
        },
        "id": "HL8keLYci7yb",
        "outputId": "94997095-d67c-4117-ac1d-bcc55ecf4a0e"
      },
      "execution_count": 68,
      "outputs": [
        {
          "output_type": "stream",
          "name": "stdout",
          "text": [
            "Number of unique permutations: 120.0\n",
            "Number of permutations: 720\n"
          ]
        }
      ]
    },
    {
      "cell_type": "code",
      "source": [
        "#CANNON letters perm by factorial method, unique count is to not count the 3 n of repeating same arrangement due to same letter n.\n",
        "\n",
        "import math\n",
        "import collections\n",
        "\n",
        "word = \"PRETTY\"\n",
        "letters = sorted(list(word))\n",
        "num_elements = len(word)\n",
        "num_permutations = math.factorial(num_elements)\n",
        "\n",
        "count = collections.Counter(letters)\n",
        "divisors = [math.factorial(count[letter]) for letter in count]\n",
        "\n",
        "num_unique_permutations = num_permutations / math.prod(divisors)\n",
        "\n",
        "print(\"Number of unique permutations:\", num_unique_permutations)\n",
        "\n",
        "print(\"Number of permutations:\", num_permutations)"
      ],
      "metadata": {
        "colab": {
          "base_uri": "https://localhost:8080/"
        },
        "id": "PJu-2xbiCI_4",
        "outputId": "cb0df4a2-9f3d-4673-8a45-51f4999744ba"
      },
      "execution_count": 136,
      "outputs": [
        {
          "output_type": "stream",
          "name": "stdout",
          "text": [
            "Number of unique permutations: 360.0\n",
            "Number of permutations: 720\n"
          ]
        }
      ]
    },
    {
      "cell_type": "code",
      "source": [
        "count = 0\n",
        "for num in range(1, 101): #1~100 inclusive means 1~101\n",
        "  if num % 9 == 0 or num % 4  == 0:\n",
        "    count += 1\n",
        "\n",
        "print(\"Number divisible by 9 or 4:\", count)"
      ],
      "metadata": {
        "colab": {
          "base_uri": "https://localhost:8080/"
        },
        "id": "AqJbLjvCn0jx",
        "outputId": "976f5eea-5676-47c9-d795-e9cf7d7ba9b9"
      },
      "execution_count": 139,
      "outputs": [
        {
          "output_type": "stream",
          "name": "stdout",
          "text": [
            "Number divisible by 9 or 4: 34\n"
          ]
        }
      ]
    },
    {
      "cell_type": "code",
      "source": [
        "count = 0\n",
        "for num in range(1, 101): #1~100 inclusive means 1~101\n",
        "  if num % 4 == 0:\n",
        "    count += 1\n",
        "\n",
        "print(\"Number divisible by 4:\", count)"
      ],
      "metadata": {
        "colab": {
          "base_uri": "https://localhost:8080/"
        },
        "id": "sPLXUWuTsw_2",
        "outputId": "15815575-1c29-4015-ad52-512e506eef49"
      },
      "execution_count": 140,
      "outputs": [
        {
          "output_type": "stream",
          "name": "stdout",
          "text": [
            "Number divisible by 4: 25\n"
          ]
        }
      ]
    },
    {
      "cell_type": "code",
      "source": [
        "count = 0\n",
        "for num in range(1, 101): #1~100 inclusive means 1~101\n",
        "  if num % 9 == 0:\n",
        "    count += 1\n",
        "\n",
        "print(\"Number divisible by 9:\", count)"
      ],
      "metadata": {
        "colab": {
          "base_uri": "https://localhost:8080/"
        },
        "id": "j5jrm6xbtFtH",
        "outputId": "33cba8cc-3100-41ff-d612-beb493817392"
      },
      "execution_count": 141,
      "outputs": [
        {
          "output_type": "stream",
          "name": "stdout",
          "text": [
            "Number divisible by 9: 11\n"
          ]
        }
      ]
    },
    {
      "cell_type": "code",
      "source": [
        "divisible_numbers4 = []\n",
        "\n",
        "for num in range (1, 101): #1~100 inclusive means 1~101\n",
        "  if num % 4 == 0:\n",
        "    divisible_numbers4.append(num)\n",
        "print (\"Integer divisible by 4:\", divisible_numbers4)"
      ],
      "metadata": {
        "colab": {
          "base_uri": "https://localhost:8080/"
        },
        "id": "awlN-NYZtJ9A",
        "outputId": "e98a20d4-8686-405e-852d-c903fac87069"
      },
      "execution_count": 142,
      "outputs": [
        {
          "output_type": "stream",
          "name": "stdout",
          "text": [
            "Integer divisible by 4: [4, 8, 12, 16, 20, 24, 28, 32, 36, 40, 44, 48, 52, 56, 60, 64, 68, 72, 76, 80, 84, 88, 92, 96, 100]\n"
          ]
        }
      ]
    },
    {
      "cell_type": "code",
      "source": [
        "divisible_numbers9 = []\n",
        "\n",
        "for num in range (1, 101): #1~100 inclusive means 1~101\n",
        "  if num % 9 == 0:\n",
        "    divisible_numbers9.append(num)\n",
        "print (\"Integer divisible by 9:\", divisible_numbers9)"
      ],
      "metadata": {
        "colab": {
          "base_uri": "https://localhost:8080/"
        },
        "id": "DlnEjg0Vt0Bq",
        "outputId": "44eabf63-a21d-4b37-d142-71d706d7aa3f"
      },
      "execution_count": 143,
      "outputs": [
        {
          "output_type": "stream",
          "name": "stdout",
          "text": [
            "Integer divisible by 9: [9, 18, 27, 36, 45, 54, 63, 72, 81, 90, 99]\n"
          ]
        }
      ]
    },
    {
      "cell_type": "code",
      "source": [
        "divisible_numbers = []\n",
        "\n",
        "for num in range (1, 101): #1~100 inclusive means 1~101\n",
        "  if num % 4 == 0 or num % 9 == 0:\n",
        "    divisible_numbers.append(num)\n",
        "print (\"Integer divisible by 9 or 4:\", divisible_numbers)\n",
        "print (len(divisible_numbers))"
      ],
      "metadata": {
        "colab": {
          "base_uri": "https://localhost:8080/"
        },
        "id": "WiwnSyy_t5BL",
        "outputId": "0cbb1ae7-ca95-44e5-a1fe-6e654903ce8d"
      },
      "execution_count": 144,
      "outputs": [
        {
          "output_type": "stream",
          "name": "stdout",
          "text": [
            "Integer divisible by 9 or 4: [4, 8, 9, 12, 16, 18, 20, 24, 27, 28, 32, 36, 40, 44, 45, 48, 52, 54, 56, 60, 63, 64, 68, 72, 76, 80, 81, 84, 88, 90, 92, 96, 99, 100]\n",
            "34\n"
          ]
        }
      ]
    },
    {
      "cell_type": "code",
      "source": [
        "list1 = [9, 18, 27, 36, 45, 54, 63, 72, 81, 90, 99]\n",
        "list2 = [4, 8, 12, 16, 20, 24, 28, 32, 36, 40, 44, 48, 52, 56, 60, 64, 68, 72, 76, 80, 84, 88, 92, 96,100]\n",
        "\n",
        "set1 = set(list1)\n",
        "set2 = set(list2)\n",
        "\n",
        "intersection = list(set1 & set2)\n",
        "union = list(set(list1)|set(list2))\n",
        "\n",
        "print(\"intersection of list1 and list2\", intersection)  # list1 n list2\n",
        "print(\"intersection of list1 and list2\", union) # list1 u list2\n",
        "print(len(union))"
      ],
      "metadata": {
        "colab": {
          "base_uri": "https://localhost:8080/"
        },
        "id": "G_-J5DzDvANn",
        "outputId": "8f071937-f557-4739-fac2-b9085a571a54"
      },
      "execution_count": 145,
      "outputs": [
        {
          "output_type": "stream",
          "name": "stdout",
          "text": [
            "intersection of list1 and list2 [72, 36]\n",
            "intersection of list1 and list2 [4, 8, 9, 12, 16, 18, 20, 24, 27, 28, 32, 36, 40, 44, 45, 48, 52, 54, 56, 60, 63, 64, 68, 72, 76, 80, 81, 84, 88, 90, 92, 96, 99, 100]\n",
            "34\n"
          ]
        }
      ]
    },
    {
      "cell_type": "code",
      "source": [
        "from itertools import permutations\n",
        "import math\n",
        "import numpy as np\n",
        "\n",
        "\n",
        "elements = [1,2,3,4,5]\n",
        "perms = permutations(elements)\n",
        "\n",
        "perms_with_2_3_together = [p for p in perms if abs(p.index(2) - p.index(3)) == 1 or abs(p.index(3) - p.index(2)) == 1]\n",
        "\n",
        "for p in perms_with_2_3_together:\n",
        "  array = np.array(len(perms_with_2_3_together))\n",
        "  print(p)\n",
        "  print(array)\n",
        "  \n",
        "  "
      ],
      "metadata": {
        "colab": {
          "base_uri": "https://localhost:8080/"
        },
        "id": "pg_sGSb4wXNS",
        "outputId": "4a000994-a739-4aca-ccdf-8eec02d856c3"
      },
      "execution_count": 146,
      "outputs": [
        {
          "output_type": "stream",
          "name": "stdout",
          "text": [
            "(1, 2, 3, 4, 5)\n",
            "48\n",
            "(1, 2, 3, 5, 4)\n",
            "48\n",
            "(1, 3, 2, 4, 5)\n",
            "48\n",
            "(1, 3, 2, 5, 4)\n",
            "48\n",
            "(1, 4, 2, 3, 5)\n",
            "48\n",
            "(1, 4, 3, 2, 5)\n",
            "48\n",
            "(1, 4, 5, 2, 3)\n",
            "48\n",
            "(1, 4, 5, 3, 2)\n",
            "48\n",
            "(1, 5, 2, 3, 4)\n",
            "48\n",
            "(1, 5, 3, 2, 4)\n",
            "48\n",
            "(1, 5, 4, 2, 3)\n",
            "48\n",
            "(1, 5, 4, 3, 2)\n",
            "48\n",
            "(2, 3, 1, 4, 5)\n",
            "48\n",
            "(2, 3, 1, 5, 4)\n",
            "48\n",
            "(2, 3, 4, 1, 5)\n",
            "48\n",
            "(2, 3, 4, 5, 1)\n",
            "48\n",
            "(2, 3, 5, 1, 4)\n",
            "48\n",
            "(2, 3, 5, 4, 1)\n",
            "48\n",
            "(3, 2, 1, 4, 5)\n",
            "48\n",
            "(3, 2, 1, 5, 4)\n",
            "48\n",
            "(3, 2, 4, 1, 5)\n",
            "48\n",
            "(3, 2, 4, 5, 1)\n",
            "48\n",
            "(3, 2, 5, 1, 4)\n",
            "48\n",
            "(3, 2, 5, 4, 1)\n",
            "48\n",
            "(4, 1, 2, 3, 5)\n",
            "48\n",
            "(4, 1, 3, 2, 5)\n",
            "48\n",
            "(4, 1, 5, 2, 3)\n",
            "48\n",
            "(4, 1, 5, 3, 2)\n",
            "48\n",
            "(4, 2, 3, 1, 5)\n",
            "48\n",
            "(4, 2, 3, 5, 1)\n",
            "48\n",
            "(4, 3, 2, 1, 5)\n",
            "48\n",
            "(4, 3, 2, 5, 1)\n",
            "48\n",
            "(4, 5, 1, 2, 3)\n",
            "48\n",
            "(4, 5, 1, 3, 2)\n",
            "48\n",
            "(4, 5, 2, 3, 1)\n",
            "48\n",
            "(4, 5, 3, 2, 1)\n",
            "48\n",
            "(5, 1, 2, 3, 4)\n",
            "48\n",
            "(5, 1, 3, 2, 4)\n",
            "48\n",
            "(5, 1, 4, 2, 3)\n",
            "48\n",
            "(5, 1, 4, 3, 2)\n",
            "48\n",
            "(5, 2, 3, 1, 4)\n",
            "48\n",
            "(5, 2, 3, 4, 1)\n",
            "48\n",
            "(5, 3, 2, 1, 4)\n",
            "48\n",
            "(5, 3, 2, 4, 1)\n",
            "48\n",
            "(5, 4, 1, 2, 3)\n",
            "48\n",
            "(5, 4, 1, 3, 2)\n",
            "48\n",
            "(5, 4, 2, 3, 1)\n",
            "48\n",
            "(5, 4, 3, 2, 1)\n",
            "48\n"
          ]
        }
      ]
    },
    {
      "cell_type": "code",
      "source": [
        "# Define the number of possible choices\n",
        "num_choices = 24\n",
        "\n",
        "# Compute the probability of guessing all 3 numbers in the correct order\n",
        "prob = 1 / num_choices * 1 / (num_choices - 1) * 1 / (num_choices - 2)/ (num_choices - 3)\n",
        "\n",
        "# Print the probability\n",
        "print(\"The probability of correctly identifying all 4 numbers in the correct order is:\", prob)\n"
      ],
      "metadata": {
        "colab": {
          "base_uri": "https://localhost:8080/"
        },
        "id": "w8SRkiJt2n1t",
        "outputId": "9491e2a2-06c9-4d2f-fc7d-b5ccd436f116"
      },
      "execution_count": 3,
      "outputs": [
        {
          "output_type": "stream",
          "name": "stdout",
          "text": [
            "The probability of correctly identifying all 4 numbers in the correct order is: 3.921199573373486e-06\n"
          ]
        }
      ]
    },
    {
      "cell_type": "code",
      "source": [
        "1/720"
      ],
      "metadata": {
        "colab": {
          "base_uri": "https://localhost:8080/"
        },
        "id": "npt46XtYsxW6",
        "outputId": "8d56db42-40e5-4efa-8316-451f2a8bc7f7"
      },
      "execution_count": 2,
      "outputs": [
        {
          "output_type": "execute_result",
          "data": {
            "text/plain": [
              "0.001388888888888889"
            ]
          },
          "metadata": {},
          "execution_count": 2
        }
      ]
    },
    {
      "cell_type": "code",
      "source": [
        "#Nia is 1of 24 students in a class. Every month, Nia's teacher randomly selects 4students from their class\n",
        "#to act as class president, vice president, secretary, and treasurer. No one student can hold two positions.\n",
        "#In a given month, what is the probability that Nia is chosen as president?\n",
        "#https://www.khanacademy.org/math/statistics-probability/counting-permutations-and-combinations/combinatorics-probability/e/probability_with_perm_comb\n",
        "\n",
        "import math\n",
        "\n",
        "# Define the values for n and r\n",
        "n1 = 23\n",
        "r1 = 3\n",
        "n2 = 24\n",
        "r2 = 4\n",
        "\n",
        "# Calculate nPr for n1 and r1\n",
        "nPr1 = math.perm(n1, r1)\n",
        "\n",
        "# Calculate nPr for n2 and r2\n",
        "nPr2 = math.perm(n2, r2)\n",
        "\n",
        "# Divide the two results to get the final probability\n",
        "probability = nPr1 / nPr2\n",
        "\n",
        "# Print the results\n",
        "print(\"n1Pr1 = \", nPr1)\n",
        "print(\"n2Pr2 = \", nPr2)\n",
        "print(\"Probability = \", probability)\n"
      ],
      "metadata": {
        "colab": {
          "base_uri": "https://localhost:8080/"
        },
        "id": "E0WF4MWEs3q5",
        "outputId": "6749eb4c-256d-48e6-8f61-6c5b3d27f1f9"
      },
      "execution_count": 4,
      "outputs": [
        {
          "output_type": "stream",
          "name": "stdout",
          "text": [
            "n1Pr1 =  10626\n",
            "n2Pr2 =  255024\n",
            "Probability =  0.041666666666666664\n"
          ]
        }
      ]
    },
    {
      "cell_type": "code",
      "source": [],
      "metadata": {
        "id": "BfAiHBKzuGgi"
      },
      "execution_count": null,
      "outputs": []
    }
  ]
}