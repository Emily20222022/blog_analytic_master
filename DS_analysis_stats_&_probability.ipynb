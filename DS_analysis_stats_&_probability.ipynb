{
  "nbformat": 4,
  "nbformat_minor": 0,
  "metadata": {
    "colab": {
      "provenance": [],
      "authorship_tag": "ABX9TyP398tLsm94vongYM8cKtwA",
      "include_colab_link": true
    },
    "kernelspec": {
      "name": "python3",
      "display_name": "Python 3"
    },
    "language_info": {
      "name": "python"
    }
  },
  "cells": [
    {
      "cell_type": "markdown",
      "metadata": {
        "id": "view-in-github",
        "colab_type": "text"
      },
      "source": [
        "<a href=\"https://colab.research.google.com/github/Emily20222022/blog_analytic_master/blob/master/DS_analysis_stats_%26_probability.ipynb\" target=\"_parent\"><img src=\"https://colab.research.google.com/assets/colab-badge.svg\" alt=\"Open In Colab\"/></a>"
      ]
    },
    {
      "cell_type": "code",
      "execution_count": null,
      "metadata": {
        "colab": {
          "base_uri": "https://localhost:8080/"
        },
        "id": "ZyQnBZvqFu_O",
        "outputId": "ffb3a9ed-95ac-458b-e441-362775fdf0fd"
      },
      "outputs": [
        {
          "output_type": "stream",
          "name": "stdout",
          "text": [
            "One standard deviation range: (14.3, 17.7)\n",
            "Two standard deviation range: (12.6, 19.4)\n",
            "Three standard deviation range: (10.9, 21.1)\n"
          ]
        }
      ],
      "source": [
        "import numpy as np\n",
        "\n",
        "data = np.random.normal(loc=68, scale=95, size=100)\n",
        "\n",
        "mean = 16\n",
        "std_dev = 1.7\n",
        "\n",
        "one_std_dev_range = (mean - 1*std_dev, mean + 1*std_dev)\n",
        "two_std_dev_range = (mean - 2*std_dev, mean + 2*std_dev)\n",
        "three_std_dev_range = (mean - 3*std_dev, mean + 3*std_dev)\n",
        "\n",
        "print(f\"One standard deviation range: {one_std_dev_range}\")\n",
        "print(f\"Two standard deviation range: {two_std_dev_range}\")\n",
        "print(f\"Three standard deviation range: {three_std_dev_range}\")"
      ]
    },
    {
      "cell_type": "code",
      "source": [
        "import pandas as pd\n",
        "\n",
        "data = pd.Series([1,7,14,21,28,35])\n",
        "prob = (data <14.3).mean()\n",
        "print(prob)"
      ],
      "metadata": {
        "colab": {
          "base_uri": "https://localhost:8080/"
        },
        "id": "9ewMKfZvhRav",
        "outputId": "71a1ef52-da4f-4284-ae3b-2f43399fb250"
      },
      "execution_count": null,
      "outputs": [
        {
          "output_type": "stream",
          "name": "stdout",
          "text": [
            "0.5\n"
          ]
        }
      ]
    },
    {
      "cell_type": "code",
      "source": [
        "x = 16\n",
        "df = 1.7\n",
        "\n",
        "data = np.random.normal(loc=68, scale=95, size=100)\n",
        "\n",
        "cdf_values = stats.norm.cdf(16, loc=68, scale = 100)\n",
        "\n",
        "cdf = stats.t.cdf(16, 1.7)\n",
        "print(cdf)\n"
      ],
      "metadata": {
        "colab": {
          "base_uri": "https://localhost:8080/"
        },
        "id": "JtYZsVbJeaku",
        "outputId": "4a990fea-ede9-4c5d-d579-d0fa5989404e"
      },
      "execution_count": null,
      "outputs": [
        {
          "output_type": "stream",
          "name": "stdout",
          "text": [
            "0.996269834501572\n"
          ]
        }
      ]
    },
    {
      "cell_type": "code",
      "source": [
        "(100-68)*0.5\n"
      ],
      "metadata": {
        "colab": {
          "base_uri": "https://localhost:8080/"
        },
        "id": "O3-389G5j1iU",
        "outputId": "dd427429-bd20-42e4-e71c-688cdcaf50f3"
      },
      "execution_count": null,
      "outputs": [
        {
          "output_type": "execute_result",
          "data": {
            "text/plain": [
              "16.0"
            ]
          },
          "metadata": {},
          "execution_count": 19
        }
      ]
    },
    {
      "cell_type": "code",
      "source": [
        "import numpy as np\n",
        "import matplotlib.pyplot as plt\n",
        "\n",
        "data = [60,90,20,12,5,3,2]\n",
        "\n",
        "num_bins = 7\n",
        "\n",
        "plt.hist(data, bins=num_bins)\n",
        "plt.xlabel('Value')\n",
        "plt.ylabel('Frequency')\n",
        "plt.title('Histogram of Random Data')\n",
        "plt.show()\n",
        "\n",
        "p = 25\n",
        "\n",
        "percentile_value = np.percentile(data, p)\n"
      ],
      "metadata": {
        "colab": {
          "base_uri": "https://localhost:8080/",
          "height": 295
        },
        "id": "olD5UJUsj9IZ",
        "outputId": "1ad65f82-d7a8-439c-99be-48ce0af5b878"
      },
      "execution_count": null,
      "outputs": [
        {
          "output_type": "display_data",
          "data": {
            "text/plain": [
              "<Figure size 432x288 with 1 Axes>"
            ],
            "image/png": "[encoded data removed]"
          },
          "metadata": {
            "needs_background": "light"
          }
        }
      ]
    },
    {
      "cell_type": "code",
      "source": [
        "192 * 0.25"
      ],
      "metadata": {
        "colab": {
          "base_uri": "https://localhost:8080/"
        },
        "id": "mtiSSfJOl7hM",
        "outputId": "2831d88e-b392-4017-ca81-2484bc50d5aa"
      },
      "execution_count": null,
      "outputs": [
        {
          "output_type": "execute_result",
          "data": {
            "text/plain": [
              "48.0"
            ]
          },
          "metadata": {},
          "execution_count": 104
        }
      ]
    },
    {
      "cell_type": "code",
      "source": [
        "import numpy as np\n",
        "import pandas as pd\n",
        "import matplotlib.pyplot as plt\n",
        "\n",
        "np.random.seed(123)\n",
        "x = np.random.rand(20) \n",
        "y = -0.02 * x - 0.08 * np.random.randn(20)\n",
        "\n",
        "df = pd.DataFrame({'x':x,'y':y})\n",
        "\n",
        "plt.scatter(df['x'], df['y'])\n",
        "\n",
        "plt.xlabel('x')\n",
        "plt.ylabel('y')\n",
        "\n",
        "plt.title('Scatterplot of 20 random data points with r = -0.02')\n",
        "\n",
        "plt.show()"
      ],
      "metadata": {
        "colab": {
          "base_uri": "https://localhost:8080/",
          "height": 295
        },
        "id": "wGQC6DTGo97T",
        "outputId": "691878c5-7d89-4ab7-80d7-688a9dfeb0ee"
      },
      "execution_count": null,
      "outputs": [
        {
          "output_type": "display_data",
          "data": {
            "text/plain": [
              "<Figure size 432x288 with 1 Axes>"
            ],
            "image/png": "[encoded data removed]"
          },
          "metadata": {
            "needs_background": "light"
          }
        }
      ]
    },
    {
      "cell_type": "code",
      "source": [
        "import numpy as np\n",
        "import pandas as pd\n",
        "import matplotlib.pyplot as plt\n",
        "\n",
        "np.random.seed(123)\n",
        "x = np.random.rand(20) \n",
        "y = -0.72 * x - 0.28 * np.random.randn(20)\n",
        "\n",
        "df = pd.DataFrame({'x':x,'y':y})\n",
        "\n",
        "plt.scatter(df['x'], df['y'])\n",
        "\n",
        "plt.xlabel('x')\n",
        "plt.ylabel('y')\n",
        "\n",
        "plt.title('Scatterplot of 20 random data points with r = -0.72')\n",
        "\n",
        "plt.show()"
      ],
      "metadata": {
        "colab": {
          "base_uri": "https://localhost:8080/",
          "height": 295
        },
        "id": "H72AoRTcrLyk",
        "outputId": "1e82c426-2a79-453f-a6e4-27460a8571d3"
      },
      "execution_count": null,
      "outputs": [
        {
          "output_type": "display_data",
          "data": {
            "text/plain": [
              "<Figure size 432x288 with 1 Axes>"
            ],
            "image/png": "[encoded data removed]"
          },
          "metadata": {
            "needs_background": "light"
          }
        }
      ]
    },
    {
      "cell_type": "code",
      "source": [
        "import numpy as np\n",
        "import pandas as pd\n",
        "import matplotlib.pyplot as plt\n",
        "\n",
        "np.random.seed(123)\n",
        "x = np.random.rand(20) \n",
        "y = 0.84 * x + 0.16 * np.random.randn(20)\n",
        "\n",
        "df = pd.DataFrame({'x':x,'y':y})\n",
        "\n",
        "plt.scatter(df['x'], df['y'])\n",
        "\n",
        "plt.xlabel('x')\n",
        "plt.ylabel('y')\n",
        "\n",
        "plt.title('Scatterplot of 20 random data points with r = 0.84')\n",
        "\n",
        "plt.show()"
      ],
      "metadata": {
        "colab": {
          "base_uri": "https://localhost:8080/",
          "height": 295
        },
        "id": "Gzn6m4_9wqQM",
        "outputId": "0f4b8bfb-1a94-465a-86d4-04959be0c48b"
      },
      "execution_count": null,
      "outputs": [
        {
          "output_type": "display_data",
          "data": {
            "text/plain": [
              "<Figure size 432x288 with 1 Axes>"
            ],
            "image/png": "[encoded data removed]"
          },
          "metadata": {
            "needs_background": "light"
          }
        }
      ]
    },
    {
      "cell_type": "code",
      "source": [
        "import numpy as np\n",
        "import pandas as pd\n",
        "import matplotlib.pyplot as plt\n",
        "\n",
        "np.random.seed(123)\n",
        "x = np.random.rand(20) \n",
        "y = 0.65 * x + 0.35 * np.random.randn(20)\n",
        "\n",
        "df = pd.DataFrame({'x':x,'y':y})\n",
        "\n",
        "plt.scatter(df['x'], df['y'])\n",
        "\n",
        "plt.xlabel('x')\n",
        "plt.ylabel('y')\n",
        "\n",
        "plt.title('Scatterplot of 20 random data points with r = 0.65')\n",
        "\n",
        "plt.show()"
      ],
      "metadata": {
        "colab": {
          "base_uri": "https://localhost:8080/",
          "height": 295
        },
        "id": "Dskc7_I9w1MH",
        "outputId": "b43f23cb-c2e9-4600-a57d-7fb2ec40673c"
      },
      "execution_count": null,
      "outputs": [
        {
          "output_type": "display_data",
          "data": {
            "text/plain": [
              "<Figure size 432x288 with 1 Axes>"
            ],
            "image/png": "[encoded data removed]"
          },
          "metadata": {
            "needs_background": "light"
          }
        }
      ]
    },
    {
      "cell_type": "code",
      "source": [
        "96 / 200 "
      ],
      "metadata": {
        "colab": {
          "base_uri": "https://localhost:8080/"
        },
        "id": "mp4QJEKgw98z",
        "outputId": "5b1d8577-bcee-40ff-87e1-a1735fdf609a"
      },
      "execution_count": null,
      "outputs": [
        {
          "output_type": "execute_result",
          "data": {
            "text/plain": [
              "0.48"
            ]
          },
          "metadata": {},
          "execution_count": 123
        }
      ]
    },
    {
      "cell_type": "code",
      "source": [
        "import matplotlib.pyplot as plt\n",
        "x_values = [1,2,5]\n",
        "y_values = [0,0.5,0]\n",
        "\n",
        "plt.plot(x_values, y_values)\n",
        "\n",
        "plt.xlabel('x')\n",
        "plt.ylabel('y')\n",
        "plt.title('Curve Plot')\n",
        "\n",
        "plt.show()"
      ],
      "metadata": {
        "colab": {
          "base_uri": "https://localhost:8080/",
          "height": 295
        },
        "id": "4kPcdGcm1ALL",
        "outputId": "50a1b1bc-0cca-4561-cbe9-baeff26604dc"
      },
      "execution_count": null,
      "outputs": [
        {
          "output_type": "display_data",
          "data": {
            "text/plain": [
              "<Figure size 432x288 with 1 Axes>"
            ],
            "image/png": "[encoded data removed]"
          },
          "metadata": {
            "needs_background": "light"
          }
        }
      ]
    },
    {
      "cell_type": "code",
      "source": [
        "import scipy.integrate as spi\n",
        "def f(x):\n",
        "  return 0.5 * (x - 1)\n",
        "\n",
        "result, error = spi.quad(f, 1, 2)\n",
        "\n",
        "print(\"Probability of x < 2:\", result)"
      ],
      "metadata": {
        "colab": {
          "base_uri": "https://localhost:8080/"
        },
        "id": "LPUKU34v4uR-",
        "outputId": "716142d5-77bd-4e8f-b21e-4f065c3265fc"
      },
      "execution_count": null,
      "outputs": [
        {
          "output_type": "stream",
          "name": "stdout",
          "text": [
            "Probability of x < 2: 0.25\n"
          ]
        }
      ]
    },
    {
      "cell_type": "code",
      "source": [
        "import numpy as np\n",
        "import scipy.stats as stats\n",
        "\n",
        "speeds = [49,28,37,42]\n",
        "\n",
        "x_bar = np.mean(speeds)\n",
        "s = np.std(speeds, ddof=1)\n",
        "\n",
        "n= len(speeds)\n",
        "\n",
        "SE = s / np.sqrt(n)\n",
        "\n",
        "t = stats.t.ppf(1-0.05/2, n-1)\n",
        "\n",
        "ME = t * SE\n",
        "\n",
        "CI = (x_bar - ME, x_bar + ME)\n",
        "\n",
        "print(\"Sample mean: {:.2f}\".format(x_bar))\n",
        "print(\"Standard deviation: {:.2f}\".format(s))\n",
        "print(\"Standard error of the mean: {:.2f}\".format(SE))\n",
        "print(\"Margin of error: {:.2f}\".format(ME))\n",
        "print(\"95% Confidence interval: {:.2f},{:.2f})\".format(CI[0],CI[1]))\n"
      ],
      "metadata": {
        "colab": {
          "base_uri": "https://localhost:8080/"
        },
        "id": "EMbSF8P4385T",
        "outputId": "73089247-c13d-443c-952f-2acbb495bc41"
      },
      "execution_count": null,
      "outputs": [
        {
          "output_type": "stream",
          "name": "stdout",
          "text": [
            "Sample mean: 39.00\n",
            "Standard deviation: 8.83\n",
            "Standard error of the mean: 4.42\n",
            "Margin of error: 14.05\n",
            "95% Confidence interval: 24.95,53.05)\n"
          ]
        }
      ]
    },
    {
      "cell_type": "code",
      "source": [
        "P_A = 80/180 \n",
        "print(P_A)"
      ],
      "metadata": {
        "colab": {
          "base_uri": "https://localhost:8080/"
        },
        "id": "llh_wFTKgzbx",
        "outputId": "51127d66-20a6-423c-9830-ba7bdf2a383e"
      },
      "execution_count": null,
      "outputs": [
        {
          "output_type": "stream",
          "name": "stdout",
          "text": [
            "0.4444444444444444\n"
          ]
        }
      ]
    },
    {
      "cell_type": "code",
      "source": [
        "P_B = 90/180 \n",
        "print(P_B)"
      ],
      "metadata": {
        "colab": {
          "base_uri": "https://localhost:8080/"
        },
        "id": "EaKhgwpq_cu9",
        "outputId": "f6db344e-6331-480c-fe26-0068b59dfadf"
      },
      "execution_count": null,
      "outputs": [
        {
          "output_type": "stream",
          "name": "stdout",
          "text": [
            "0.5\n"
          ]
        }
      ]
    },
    {
      "cell_type": "code",
      "source": [
        "print(P_A + P_B)"
      ],
      "metadata": {
        "colab": {
          "base_uri": "https://localhost:8080/"
        },
        "id": "0_7YiCVv_wt2",
        "outputId": "f5034fd4-5eaa-4e1f-e251-ddbef03299f8"
      },
      "execution_count": null,
      "outputs": [
        {
          "output_type": "stream",
          "name": "stdout",
          "text": [
            "0.9444444444444444\n"
          ]
        }
      ]
    },
    {
      "cell_type": "code",
      "source": [
        "P_AB = 30/180\n",
        "print(P_AB)"
      ],
      "metadata": {
        "colab": {
          "base_uri": "https://localhost:8080/"
        },
        "id": "E_K6EcEC_5WP",
        "outputId": "666a9449-0afa-4667-97de-49a5e5f41b9e"
      },
      "execution_count": null,
      "outputs": [
        {
          "output_type": "stream",
          "name": "stdout",
          "text": [
            "0.16666666666666666\n"
          ]
        }
      ]
    },
    {
      "cell_type": "code",
      "source": [
        "print((P_A + P_B)/(P_A))"
      ],
      "metadata": {
        "colab": {
          "base_uri": "https://localhost:8080/"
        },
        "id": "rFSwHraEAJHn",
        "outputId": "0e0749ab-8290-4c39-b5a2-d9a6fb6d151f"
      },
      "execution_count": null,
      "outputs": [
        {
          "output_type": "stream",
          "name": "stdout",
          "text": [
            "2.125\n"
          ]
        }
      ]
    },
    {
      "cell_type": "code",
      "source": [
        "import matplotlib.pyplot as plt\n",
        "\n",
        "data = [100]*2 + [74]*20 +[12]*3+ [50]*10\n",
        "\n",
        "plt.boxplot(data)\n",
        "plt.title(\"Box plot data\")\n",
        "plt.xlabel(\"data\")\n",
        "plt.ylabel(\"values\")\n",
        "plt.show()"
      ],
      "metadata": {
        "colab": {
          "base_uri": "https://localhost:8080/",
          "height": 295
        },
        "id": "e7r4l4MZAcfk",
        "outputId": "b878897b-cfd4-43ca-9f6c-ca5f46d62b76"
      },
      "execution_count": null,
      "outputs": [
        {
          "output_type": "display_data",
          "data": {
            "text/plain": [
              "<Figure size 432x288 with 1 Axes>"
            ],
            "image/png": "[encoded data removed]"
          },
          "metadata": {
            "needs_background": "light"
          }
        }
      ]
    },
    {
      "cell_type": "code",
      "source": [
        "import matplotlib.pyplot as plt\n",
        "import numpy as np\n",
        "\n",
        "\n",
        "data = [100]*2 + [74]*20 +[12]*3+ [50]*10\n",
        "\n",
        "plt.plot(data)\n",
        "plt.title(\" plot data\")\n",
        "plt.xlabel(\"data\")\n",
        "plt.ylabel(\"values\")\n",
        "plt.show()"
      ],
      "metadata": {
        "colab": {
          "base_uri": "https://localhost:8080/",
          "height": 295
        },
        "id": "RkQtYXwX9q1h",
        "outputId": "ca65c046-efa8-4476-db98-2e14452b79eb"
      },
      "execution_count": null,
      "outputs": [
        {
          "output_type": "display_data",
          "data": {
            "text/plain": [
              "<Figure size 432x288 with 1 Axes>"
            ],
            "image/png": "[encoded data removed]"
          },
          "metadata": {
            "needs_background": "light"
          }
        }
      ]
    },
    {
      "cell_type": "code",
      "source": [
        "import numpy as np\n",
        "\n",
        "data = [12,15,14,16,8]\n",
        "\n",
        "Q1 = np.percentile(data, 25)\n",
        "\n",
        "Q3 = np.percentile(data, 75)\n",
        "\n",
        "IQR = Q3 -Q1\n",
        "print(\"Q1\", Q1)\n",
        "print(\"Q3\", Q3)\n",
        "print(\"IQR\", IQR)"
      ],
      "metadata": {
        "colab": {
          "base_uri": "https://localhost:8080/"
        },
        "id": "HwnS64KfAd1-",
        "outputId": "0fdd3fba-d90a-4710-f025-c5464d668abc"
      },
      "execution_count": null,
      "outputs": [
        {
          "output_type": "stream",
          "name": "stdout",
          "text": [
            "Q1 12.0\n",
            "Q3 15.0\n",
            "IQR 3.0\n"
          ]
        }
      ]
    },
    {
      "cell_type": "code",
      "source": [
        "from statistics import mean, median, mode\n",
        "\n",
        "data = [12,15,14,16,8,12,12,14,16]\n",
        "\n",
        "mean = mean(data)\n",
        "\n",
        "median = median(data)\n",
        "\n",
        "mode = mode(data)\n",
        "\n",
        "print(\"mean\", mean)\n",
        "print(\"median\", median)\n",
        "print(\"mode\", mode)\n"
      ],
      "metadata": {
        "id": "A4XggyJgidgk",
        "outputId": "b897d97e-d23b-40a1-fb17-cc7d84b5fdd6",
        "colab": {
          "base_uri": "https://localhost:8080/"
        }
      },
      "execution_count": null,
      "outputs": [
        {
          "output_type": "stream",
          "name": "stdout",
          "text": [
            "mean 13.222222222222221\n",
            "median 14\n",
            "mode 12\n"
          ]
        }
      ]
    },
    {
      "cell_type": "code",
      "source": [
        "import numpy as np\n",
        "\n",
        "# Define the numbers\n",
        "numbers = [9,5,3,11]\n",
        "\n",
        "# Calculate the mean\n",
        "mean = np.mean(numbers)\n",
        "standard_deviation = np.std(numbers)\n",
        "\n",
        "\n",
        "# Calculate the deviations from the mean\n",
        "deviations = [abs(num - mean) for num in numbers]\n",
        "\n",
        "# Calculate the MAD\n",
        "mad = np.mean(deviations)\n",
        "std = np.std(numbers)\n",
        "\n",
        "print(\"Mean absolute deviation:\", mad)\n",
        "print(\"Average:\", mean)\n",
        "print(\"Standard deviation:\", std)\n"
      ],
      "metadata": {
        "id": "hqJ87XKSjhP9",
        "colab": {
          "base_uri": "https://localhost:8080/"
        },
        "outputId": "235e25ac-c5fd-4009-c804-a464d6bd9a2a"
      },
      "execution_count": null,
      "outputs": [
        {
          "output_type": "stream",
          "name": "stdout",
          "text": [
            "Mean absolute deviation: 3.0\n",
            "Average: 7.0\n",
            "Standard deviation: 3.1622776601683795\n"
          ]
        }
      ]
    },
    {
      "cell_type": "code",
      "source": [
        "import numpy as np\n",
        "\n",
        "# Define a list of numbers\n",
        "numbers = [4,2,0,16,35,30,7]\n",
        "\n",
        "# Calculate the 35th percentile\n",
        "percentile_35 = np.percentile(numbers, 35)\n",
        "\n",
        "# Print the result\n",
        "print(\"35th percentile:\", percentile_35)\n"
      ],
      "metadata": {
        "colab": {
          "base_uri": "https://localhost:8080/"
        },
        "id": "EXnakic_Je9H",
        "outputId": "aa8666d4-7e34-4cfc-c9d0-6d83a2aeefad"
      },
      "execution_count": 7,
      "outputs": [
        {
          "output_type": "stream",
          "name": "stdout",
          "text": [
            "35th percentile: 4.299999999999999\n"
          ]
        }
      ]
    },
    {
      "cell_type": "code",
      "source": [
        "import numpy as np\n",
        "\n",
        "# Define a list of numbers\n",
        "numbers = [7,8,9,10,11]\n",
        "\n",
        "# Calculate the IQR\n",
        "q1 = np.percentile(numbers, 25)\n",
        "q3 = np.percentile(numbers, 75)\n",
        "iqr = q3 - q1\n",
        "\n",
        "std = np.std(numbers)\n",
        "\n",
        "\n",
        "# Print the result\n",
        "print(\"Interquartile range:\", iqr)\n",
        "print(\"standard deviation:\", std)\n"
      ],
      "metadata": {
        "colab": {
          "base_uri": "https://localhost:8080/"
        },
        "id": "E5Ub8rtwRUPE",
        "outputId": "e67610c8-dab7-4f77-9ba0-d32b026f743b"
      },
      "execution_count": null,
      "outputs": [
        {
          "output_type": "stream",
          "name": "stdout",
          "text": [
            "Interquartile range: 2.0\n",
            "standard deviation: 1.4142135623730951\n"
          ]
        }
      ]
    },
    {
      "cell_type": "code",
      "source": [
        "import numpy as np\n",
        "import matplotlib.pyplot as plt\n",
        "from scipy.stats import norm\n",
        "\n",
        "# Set the mean and standard deviation\n",
        "mu = 170.4\n",
        "sigma = 10\n",
        "\n",
        "# Generate a range of x values for the graph\n",
        "x = np.arange(mu - 4*sigma, mu + 4*sigma, 0.1)\n",
        "\n",
        "# Calculate the y values for the normal distribution\n",
        "y = norm.pdf(x, mu, sigma)\n",
        "\n",
        "# Create a plot of the normal distribution\n",
        "plt.plot(x, y)\n",
        "\n",
        "# Label the x and y axes\n",
        "plt.xlabel('Height (cm)')\n",
        "plt.ylabel('Probability density')\n",
        "\n",
        "# Add a title to the plot\n",
        "plt.title('Normal Distribution of Heights')\n",
        "\n",
        "# Display the plot\n",
        "plt.show()\n",
        "\n",
        "\n",
        "# Calculate the CDF values for the lower and upper bounds\n",
        "cdf_lower = norm.cdf(170.5, mu, sigma)\n",
        "cdf_upper = norm.cdf(180.3, mu, sigma)\n",
        "\n",
        "# Calculate the probability of heights between the lower and upper bounds\n",
        "prob = cdf_upper - cdf_lower\n",
        "\n",
        "# Print the probability\n",
        "print('Probability of heights between 170.5 cm and 180.3 cm:', prob)\n",
        "\n"
      ],
      "metadata": {
        "colab": {
          "base_uri": "https://localhost:8080/",
          "height": 312
        },
        "id": "kOtcdh1YauCa",
        "outputId": "25171e7b-88e4-4680-ff99-a08e9ad8effb"
      },
      "execution_count": null,
      "outputs": [
        {
          "output_type": "display_data",
          "data": {
            "text/plain": [
              "<Figure size 432x288 with 1 Axes>"
            ],
            "image/png": "[encoded data removed]"
          },
          "metadata": {
            "needs_background": "light"
          }
        },
        {
          "output_type": "stream",
          "name": "stdout",
          "text": [
            "Probability of heights between 170.5 cm and 180.3 cm: 0.33492358417453794\n"
          ]
        }
      ]
    },
    {
      "cell_type": "code",
      "source": [
        "import numpy as np\n",
        "import matplotlib.pyplot as plt\n",
        "from scipy.stats import norm\n",
        "\n",
        "# Set the mean and standard deviation\n",
        "mu = 10.4\n",
        "sigma = 1.9\n",
        "\n",
        "# Generate a range of x values for the graph\n",
        "x = np.arange(mu - 4*sigma, mu + 4*sigma, 0.1)\n",
        "\n",
        "# Calculate the y values for the normal distribution\n",
        "y = norm.pdf(x, mu, sigma)\n",
        "\n",
        "# Create a plot of the normal distribution\n",
        "plt.plot(x, y)\n",
        "\n",
        "# Label the x and y axes\n",
        "plt.xlabel('Height (cm)')\n",
        "plt.ylabel('Probability density')\n",
        "\n",
        "# Add a title to the plot\n",
        "plt.title('Normal Distribution of Heights')\n",
        "\n",
        "# Display the plot\n",
        "plt.show()\n",
        "\n",
        "\n",
        "# Calculate the CDF values for the lower and upper bounds\n",
        "cdf_lower = norm.cdf(16.1, mu, sigma)\n",
        "\n",
        "\n",
        "# Calculate the probability of heights between the lower and upper bounds\n",
        "prob = cdf_lower\n",
        "\n",
        "# Print the probability\n",
        "print('Probability of 16.1:', prob)\n",
        "\n",
        "prob = norm.cdf(16.1, mu, sigma)\n",
        "\n",
        "# Print the probability of less than 16.1 cm\n",
        "print('Probability of less than 16.1 cm:', prob)"
      ],
      "metadata": {
        "id": "Fyjl9EFLtdQo",
        "colab": {
          "base_uri": "https://localhost:8080/",
          "height": 330
        },
        "outputId": "4ce4fa81-1abe-40c1-e982-632094f4d574"
      },
      "execution_count": 6,
      "outputs": [
        {
          "output_type": "display_data",
          "data": {
            "text/plain": [
              "<Figure size 432x288 with 1 Axes>"
            ],
            "image/png": "[encoded data removed]"
          },
          "metadata": {
            "needs_background": "light"
          }
        },
        {
          "output_type": "stream",
          "name": "stdout",
          "text": [
            "Probability of 16.1: 0.9986501019683699\n",
            "Probability of less than 16.1 cm: 0.9986501019683699\n"
          ]
        }
      ]
    },
    {
      "cell_type": "code",
      "source": [
        "from scipy.stats import norm\n",
        "\n",
        "# Set the mean and standard deviation\n",
        "mu = 12.5\n",
        "sigma = 2.4\n",
        "\n",
        "# Calculate the CDF at 10.1 cm\n",
        "prob = norm.cdf(10.1, mu, sigma)\n",
        "\n",
        "# Print the probability of heights higher than 10.1 cm\n",
        "print('Probability of heights higher than 10.1 cm:', prob)\n"
      ],
      "metadata": {
        "colab": {
          "base_uri": "https://localhost:8080/"
        },
        "id": "d0o0Pbqmvebt",
        "outputId": "e3b33b35-63fa-4266-ad36-8d1b3ea4a174"
      },
      "execution_count": 14,
      "outputs": [
        {
          "output_type": "stream",
          "name": "stdout",
          "text": [
            "Probability of heights higher than 10.1 cm: 0.15865525393145702\n"
          ]
        }
      ]
    },
    {
      "cell_type": "code",
      "source": [
        "from tabulate import tabulate\n",
        "\n",
        "# Define the data as a list of lists\n",
        "data = [['0-5', 4],\n",
        "        ['5-10', 2],\n",
        "        ['10-15', 0],\n",
        "        ['15-20', 16],\n",
        "        ['20-25', 35],\n",
        "        ['25-30', 30],\n",
        "        ['30-35', 7]]\n",
        "\n",
        "# Define the headers for the table\n",
        "headers = ['Range', 'Count']\n",
        "\n",
        "# Use the tabulate function to create the table\n",
        "table = tabulate(data, headers=headers)\n",
        "\n",
        "# Print the table\n",
        "print(table)\n"
      ],
      "metadata": {
        "colab": {
          "base_uri": "https://localhost:8080/"
        },
        "id": "QmPPKeeqw-qq",
        "outputId": "0358b4d0-7c31-44d2-8ab5-352719a9acc4"
      },
      "execution_count": 9,
      "outputs": [
        {
          "output_type": "stream",
          "name": "stdout",
          "text": [
            "Range      Count\n",
            "-------  -------\n",
            "0-5            4\n",
            "5-10           2\n",
            "10-15          0\n",
            "15-20         16\n",
            "20-25         35\n",
            "25-30         30\n",
            "30-35          7\n"
          ]
        }
      ]
    },
    {
      "cell_type": "code",
      "source": [
        "import pandas as pd\n",
        "\n",
        "# Define the data as a list of values\n",
        "data = [4, 2, 0, 16, 35, 30, 7]\n",
        "\n",
        "# Define the range of values\n",
        "ranges = ['0-5', '5-10', '10-15', '15-20', '20-25', '25-30', '30-35']\n",
        "\n",
        "# Create a DataFrame with the data and ranges\n",
        "df = pd.DataFrame({'Range': ranges, 'Count': data})\n",
        "\n",
        "# Calculate the total count\n",
        "total = df['Count'].sum()\n",
        "\n",
        "# Calculate the frequency distribution\n",
        "df['Frequency'] = df['Count'] / total\n",
        "\n",
        "# Print the distribution table\n",
        "print(df.to_string(index=False))\n"
      ],
      "metadata": {
        "colab": {
          "base_uri": "https://localhost:8080/"
        },
        "id": "ayUR7j9Ay0xb",
        "outputId": "fde783f9-883f-41f2-e346-26cff89e021e"
      },
      "execution_count": 10,
      "outputs": [
        {
          "output_type": "stream",
          "name": "stdout",
          "text": [
            "Range  Count  Frequency\n",
            "  0-5      4   0.042553\n",
            " 5-10      2   0.021277\n",
            "10-15      0   0.000000\n",
            "15-20     16   0.170213\n",
            "20-25     35   0.372340\n",
            "25-30     30   0.319149\n",
            "30-35      7   0.074468\n"
          ]
        }
      ]
    },
    {
      "cell_type": "code",
      "source": [
        "import numpy as np\n",
        "\n",
        "# Define the data as a list of values\n",
        "data = [4, 2, 0, 16, 35, 30, 7]\n",
        "\n",
        "# Calculate the 35th percentile\n",
        "percentile_35 = np.percentile(data, 35)\n",
        "\n",
        "# Print the 35th percentile value\n",
        "print('35th percentile:', percentile_35)\n"
      ],
      "metadata": {
        "colab": {
          "base_uri": "https://localhost:8080/"
        },
        "id": "ouj8FB8SzK5h",
        "outputId": "cc6f4840-7b86-44f0-aac7-c5d111c1b0e3"
      },
      "execution_count": 11,
      "outputs": [
        {
          "output_type": "stream",
          "name": "stdout",
          "text": [
            "35th percentile: 4.299999999999999\n"
          ]
        }
      ]
    },
    {
      "cell_type": "code",
      "source": [
        "import numpy as np\n",
        "import matplotlib.pyplot as plt\n",
        "from scipy.stats import norm\n",
        "\n",
        "# Set the mean and standard deviation\n",
        "mu = 221\n",
        "sigma = 36\n",
        "\n",
        "# Generate a range of x values for the graph\n",
        "x = np.arange(mu - 4*sigma, mu + 4*sigma, 0.1)\n",
        "\n",
        "# Calculate the y values for the normal distribution\n",
        "y = norm.pdf(x, mu, sigma)\n",
        "\n",
        "# Create a plot of the normal distribution\n",
        "plt.plot(x, y)\n",
        "\n",
        "# Label the x and y axes\n",
        "plt.xlabel('Height (cm)')\n",
        "plt.ylabel('Probability density')\n",
        "\n",
        "# Add a title to the plot\n",
        "plt.title('Normal Distribution of Heights')\n",
        "\n",
        "# Display the plot\n",
        "plt.show()\n",
        "\n",
        "\n",
        "# Calculate the CDF values for the lower and upper bounds\n",
        "cdf_lower = norm.cdf(221, mu, sigma)\n",
        "\n",
        "\n",
        "# Calculate the probability of heights between the lower and upper bounds\n",
        "prob = cdf_lower\n",
        "\n",
        "# Print the probability\n",
        "print('Probability of 221:', prob)\n",
        "\n",
        "prob = norm.cdf(221, mu, sigma)\n",
        "\n",
        "# Print the probability of less than 16.1 cm\n",
        "print('Probability of less than 221:', prob)"
      ],
      "metadata": {
        "colab": {
          "base_uri": "https://localhost:8080/",
          "height": 330
        },
        "id": "z0RgCS3-zeoH",
        "outputId": "0a6e7902-79c4-4f9f-949e-f644bec4527d"
      },
      "execution_count": 12,
      "outputs": [
        {
          "output_type": "display_data",
          "data": {
            "text/plain": [
              "<Figure size 432x288 with 1 Axes>"
            ],
            "image/png": "[encoded data removed]"
          },
          "metadata": {
            "needs_background": "light"
          }
        },
        {
          "output_type": "stream",
          "name": "stdout",
          "text": [
            "Probability of 221: 0.5\n",
            "Probability of less than 221: 0.5\n"
          ]
        }
      ]
    },
    {
      "cell_type": "code",
      "source": [
        "3/8"
      ],
      "metadata": {
        "colab": {
          "base_uri": "https://localhost:8080/"
        },
        "id": "VxfiR7p01IG5",
        "outputId": "f79718de-3b9b-4964-e2d9-75bcf503d6d0"
      },
      "execution_count": 13,
      "outputs": [
        {
          "output_type": "execute_result",
          "data": {
            "text/plain": [
              "0.375"
            ]
          },
          "metadata": {},
          "execution_count": 13
        }
      ]
    },
    {
      "cell_type": "code",
      "source": [],
      "metadata": {
        "id": "pz8oXC0A1wrW"
      },
      "execution_count": null,
      "outputs": []
    }
  ]
}