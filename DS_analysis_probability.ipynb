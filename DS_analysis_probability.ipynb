{
  "nbformat": 4,
  "nbformat_minor": 0,
  "metadata": {
    "colab": {
      "provenance": [],
      "authorship_tag": "ABX9TyPjarJNIi6Cdp0S+QKGTJv1",
      "include_colab_link": true
    },
    "kernelspec": {
      "name": "python3",
      "display_name": "Python 3"
    },
    "language_info": {
      "name": "python"
    }
  },
  "cells": [
    {
      "cell_type": "markdown",
      "metadata": {
        "id": "view-in-github",
        "colab_type": "text"
      },
      "source": [
        "<a href=\"https://colab.research.google.com/github/Emily20222022/blog_analytic_master/blob/master/DS_analysis_probability.ipynb\" target=\"_parent\"><img src=\"https://colab.research.google.com/assets/colab-badge.svg\" alt=\"Open In Colab\"/></a>"
      ]
    },
    {
      "cell_type": "code",
      "source": [
        "import scipy.integrate as spi\n",
        "def f(x):\n",
        "  return 0.5 * (x - 1)\n",
        "\n",
        "result, error = spi.quad(f, 1, 2)\n",
        "\n",
        "print(\"Probability of x < 2:\", result)"
      ],
      "metadata": {
        "colab": {
          "base_uri": "https://localhost:8080/"
        },
        "id": "LPUKU34v4uR-",
        "outputId": "716142d5-77bd-4e8f-b21e-4f065c3265fc"
      },
      "execution_count": null,
      "outputs": [
        {
          "output_type": "stream",
          "name": "stdout",
          "text": [
            "Probability of x < 2: 0.25\n"
          ]
        }
      ]
    },
    {
      "cell_type": "code",
      "source": [
        "P_B = 90/180 \n",
        "print(P_B)"
      ],
      "metadata": {
        "colab": {
          "base_uri": "https://localhost:8080/"
        },
        "id": "EaKhgwpq_cu9",
        "outputId": "f6db344e-6331-480c-fe26-0068b59dfadf"
      },
      "execution_count": null,
      "outputs": [
        {
          "output_type": "stream",
          "name": "stdout",
          "text": [
            "0.5\n"
          ]
        }
      ]
    },
    {
      "cell_type": "code",
      "source": [
        "print(P_A + P_B)"
      ],
      "metadata": {
        "colab": {
          "base_uri": "https://localhost:8080/"
        },
        "id": "0_7YiCVv_wt2",
        "outputId": "f5034fd4-5eaa-4e1f-e251-ddbef03299f8"
      },
      "execution_count": null,
      "outputs": [
        {
          "output_type": "stream",
          "name": "stdout",
          "text": [
            "0.9444444444444444\n"
          ]
        }
      ]
    },
    {
      "cell_type": "code",
      "source": [
        "P_AB = 30/180\n",
        "print(P_AB)"
      ],
      "metadata": {
        "colab": {
          "base_uri": "https://localhost:8080/"
        },
        "id": "E_K6EcEC_5WP",
        "outputId": "666a9449-0afa-4667-97de-49a5e5f41b9e"
      },
      "execution_count": null,
      "outputs": [
        {
          "output_type": "stream",
          "name": "stdout",
          "text": [
            "0.16666666666666666\n"
          ]
        }
      ]
    },
    {
      "cell_type": "code",
      "source": [
        "print((P_A + P_B)/(P_A))"
      ],
      "metadata": {
        "colab": {
          "base_uri": "https://localhost:8080/"
        },
        "id": "rFSwHraEAJHn",
        "outputId": "0e0749ab-8290-4c39-b5a2-d9a6fb6d151f"
      },
      "execution_count": null,
      "outputs": [
        {
          "output_type": "stream",
          "name": "stdout",
          "text": [
            "2.125\n"
          ]
        }
      ]
    },
    {
      "cell_type": "code",
      "source": [
        "import matplotlib.pyplot as plt\n",
        "\n",
        "data = [100]*2 + [74]*20 +[12]*3+ [50]*10\n",
        "\n",
        "plt.boxplot(data)\n",
        "plt.title(\"Box plot data\")\n",
        "plt.xlabel(\"data\")\n",
        "plt.ylabel(\"values\")\n",
        "plt.show()"
      ],
      "metadata": {
        "colab": {
          "base_uri": "https://localhost:8080/",
          "height": 295
        },
        "id": "e7r4l4MZAcfk",
        "outputId": "b878897b-cfd4-43ca-9f6c-ca5f46d62b76"
      },
      "execution_count": null,
      "outputs": [
        {
          "output_type": "display_data",
          "data": {
            "text/plain": [
              "<Figure size 432x288 with 1 Axes>"
            ],
            "image/png": "[encoded data removed]"
          },
          "metadata": {
            "needs_background": "light"
          }
        }
      ]
    },
    {
      "cell_type": "code",
      "source": [
        "import matplotlib.pyplot as plt\n",
        "import numpy as np\n",
        "\n",
        "\n",
        "data = [100]*2 + [74]*20 +[12]*3+ [50]*10\n",
        "\n",
        "plt.plot(data)\n",
        "plt.title(\" plot data\")\n",
        "plt.xlabel(\"data\")\n",
        "plt.ylabel(\"values\")\n",
        "plt.show()"
      ],
      "metadata": {
        "colab": {
          "base_uri": "https://localhost:8080/",
          "height": 295
        },
        "id": "RkQtYXwX9q1h",
        "outputId": "ca65c046-efa8-4476-db98-2e14452b79eb"
      },
      "execution_count": null,
      "outputs": [
        {
          "output_type": "display_data",
          "data": {
            "text/plain": [
              "<Figure size 432x288 with 1 Axes>"
            ],
            "image/png": "[encoded data removed]"
          },
          "metadata": {
            "needs_background": "light"
          }
        }
      ]
    },
    {
      "cell_type": "code",
      "source": [
        "import numpy as np\n",
        "\n",
        "# Define a list of numbers\n",
        "numbers = [4,2,0,16,35,30,7]\n",
        "\n",
        "# Calculate the 35th percentile\n",
        "percentile_35 = np.percentile(numbers, 35)\n",
        "\n",
        "# Print the result\n",
        "print(\"35th percentile:\", percentile_35)\n"
      ],
      "metadata": {
        "colab": {
          "base_uri": "https://localhost:8080/"
        },
        "id": "EXnakic_Je9H",
        "outputId": "aa8666d4-7e34-4cfc-c9d0-6d83a2aeefad"
      },
      "execution_count": null,
      "outputs": [
        {
          "output_type": "stream",
          "name": "stdout",
          "text": [
            "35th percentile: 4.299999999999999\n"
          ]
        }
      ]
    },
    {
      "cell_type": "code",
      "source": [
        "import numpy as np\n",
        "\n",
        "# Define a list of numbers\n",
        "numbers = [7,8,9,10,11]\n",
        "\n",
        "# Calculate the IQR\n",
        "q1 = np.percentile(numbers, 25)\n",
        "q3 = np.percentile(numbers, 75)\n",
        "iqr = q3 - q1\n",
        "\n",
        "std = np.std(numbers)\n",
        "\n",
        "\n",
        "# Print the result\n",
        "print(\"Interquartile range:\", iqr)\n",
        "print(\"standard deviation:\", std)\n"
      ],
      "metadata": {
        "colab": {
          "base_uri": "https://localhost:8080/"
        },
        "id": "E5Ub8rtwRUPE",
        "outputId": "e67610c8-dab7-4f77-9ba0-d32b026f743b"
      },
      "execution_count": null,
      "outputs": [
        {
          "output_type": "stream",
          "name": "stdout",
          "text": [
            "Interquartile range: 2.0\n",
            "standard deviation: 1.4142135623730951\n"
          ]
        }
      ]
    },
    {
      "cell_type": "code",
      "source": [
        "from scipy.stats import norm\n",
        "\n",
        "# Set the mean and standard deviation\n",
        "mu = 12.5\n",
        "sigma = 2.4\n",
        "\n",
        "# Calculate the CDF at 10.1 cm\n",
        "prob = norm.cdf(10.1, mu, sigma)\n",
        "\n",
        "# Print the probability of heights higher than 10.1 cm\n",
        "print('Probability of heights higher than 10.1 cm:', prob)\n"
      ],
      "metadata": {
        "colab": {
          "base_uri": "https://localhost:8080/"
        },
        "id": "d0o0Pbqmvebt",
        "outputId": "e3b33b35-63fa-4266-ad36-8d1b3ea4a174"
      },
      "execution_count": null,
      "outputs": [
        {
          "output_type": "stream",
          "name": "stdout",
          "text": [
            "Probability of heights higher than 10.1 cm: 0.15865525393145702\n"
          ]
        }
      ]
    },
    {
      "cell_type": "code",
      "source": [
        "from tabulate import tabulate\n",
        "\n",
        "# Define the data as a list of lists\n",
        "data = [['0-5', 4],\n",
        "        ['5-10', 2],\n",
        "        ['10-15', 0],\n",
        "        ['15-20', 16],\n",
        "        ['20-25', 35],\n",
        "        ['25-30', 30],\n",
        "        ['30-35', 7]]\n",
        "\n",
        "# Define the headers for the table\n",
        "headers = ['Range', 'Count']\n",
        "\n",
        "# Use the tabulate function to create the table\n",
        "table = tabulate(data, headers=headers)\n",
        "\n",
        "# Print the table\n",
        "print(table)\n"
      ],
      "metadata": {
        "colab": {
          "base_uri": "https://localhost:8080/"
        },
        "id": "QmPPKeeqw-qq",
        "outputId": "0358b4d0-7c31-44d2-8ab5-352719a9acc4"
      },
      "execution_count": null,
      "outputs": [
        {
          "output_type": "stream",
          "name": "stdout",
          "text": [
            "Range      Count\n",
            "-------  -------\n",
            "0-5            4\n",
            "5-10           2\n",
            "10-15          0\n",
            "15-20         16\n",
            "20-25         35\n",
            "25-30         30\n",
            "30-35          7\n"
          ]
        }
      ]
    },
    {
      "cell_type": "code",
      "source": [
        "import pandas as pd\n",
        "\n",
        "# Define the data as a list of values\n",
        "data = [4, 2, 0, 16, 35, 30, 7]\n",
        "\n",
        "# Define the range of values\n",
        "ranges = ['0-5', '5-10', '10-15', '15-20', '20-25', '25-30', '30-35']\n",
        "\n",
        "# Create a DataFrame with the data and ranges\n",
        "df = pd.DataFrame({'Range': ranges, 'Count': data})\n",
        "\n",
        "# Calculate the total count\n",
        "total = df['Count'].sum()\n",
        "\n",
        "# Calculate the frequency distribution\n",
        "df['Frequency'] = df['Count'] / total\n",
        "\n",
        "# Print the distribution table\n",
        "print(df.to_string(index=False))\n"
      ],
      "metadata": {
        "colab": {
          "base_uri": "https://localhost:8080/"
        },
        "id": "ayUR7j9Ay0xb",
        "outputId": "fde783f9-883f-41f2-e346-26cff89e021e"
      },
      "execution_count": null,
      "outputs": [
        {
          "output_type": "stream",
          "name": "stdout",
          "text": [
            "Range  Count  Frequency\n",
            "  0-5      4   0.042553\n",
            " 5-10      2   0.021277\n",
            "10-15      0   0.000000\n",
            "15-20     16   0.170213\n",
            "20-25     35   0.372340\n",
            "25-30     30   0.319149\n",
            "30-35      7   0.074468\n"
          ]
        }
      ]
    },
    {
      "cell_type": "code",
      "source": [
        "import numpy as np\n",
        "\n",
        "# Define the data as a list of values\n",
        "data = [4, 2, 0, 16, 35, 30, 7]\n",
        "\n",
        "# Calculate the 35th percentile\n",
        "percentile_35 = np.percentile(data, 35)\n",
        "\n",
        "# Print the 35th percentile value\n",
        "print('35th percentile:', percentile_35)\n"
      ],
      "metadata": {
        "colab": {
          "base_uri": "https://localhost:8080/"
        },
        "id": "ouj8FB8SzK5h",
        "outputId": "cc6f4840-7b86-44f0-aac7-c5d111c1b0e3"
      },
      "execution_count": null,
      "outputs": [
        {
          "output_type": "stream",
          "name": "stdout",
          "text": [
            "35th percentile: 4.299999999999999\n"
          ]
        }
      ]
    },
    {
      "cell_type": "code",
      "source": [
        "import numpy as np\n",
        "import matplotlib.pyplot as plt\n",
        "from scipy.stats import norm\n",
        "\n",
        "# Set the mean and standard deviation\n",
        "mu = 221\n",
        "sigma = 36\n",
        "\n",
        "# Generate a range of x values for the graph\n",
        "x = np.arange(mu - 4*sigma, mu + 4*sigma, 0.1)\n",
        "\n",
        "# Calculate the y values for the normal distribution\n",
        "y = norm.pdf(x, mu, sigma)\n",
        "\n",
        "# Create a plot of the normal distribution\n",
        "plt.plot(x, y)\n",
        "\n",
        "# Label the x and y axes\n",
        "plt.xlabel('Height (cm)')\n",
        "plt.ylabel('Probability density')\n",
        "\n",
        "# Add a title to the plot\n",
        "plt.title('Normal Distribution of Heights')\n",
        "\n",
        "# Display the plot\n",
        "plt.show()\n",
        "\n",
        "\n",
        "# Calculate the CDF values for the lower and upper bounds\n",
        "cdf_lower = norm.cdf(221, mu, sigma)\n",
        "\n",
        "\n",
        "# Calculate the probability of heights between the lower and upper bounds\n",
        "prob = cdf_lower\n",
        "\n",
        "# Print the probability\n",
        "print('Probability of 221:', prob)\n",
        "\n",
        "prob = norm.cdf(221, mu, sigma)\n",
        "\n",
        "# Print the probability of less than 16.1 cm\n",
        "print('Probability of less than 221:', prob)"
      ],
      "metadata": {
        "colab": {
          "base_uri": "https://localhost:8080/",
          "height": 330
        },
        "id": "z0RgCS3-zeoH",
        "outputId": "0a6e7902-79c4-4f9f-949e-f644bec4527d"
      },
      "execution_count": null,
      "outputs": [
        {
          "output_type": "display_data",
          "data": {
            "text/plain": [
              "<Figure size 432x288 with 1 Axes>"
            ],
            "image/png": "[encoded data removed]"
          },
          "metadata": {
            "needs_background": "light"
          }
        },
        {
          "output_type": "stream",
          "name": "stdout",
          "text": [
            "Probability of 221: 0.5\n",
            "Probability of less than 221: 0.5\n"
          ]
        }
      ]
    },
    {
      "cell_type": "code",
      "source": [
        "3/8"
      ],
      "metadata": {
        "colab": {
          "base_uri": "https://localhost:8080/"
        },
        "id": "VxfiR7p01IG5",
        "outputId": "f79718de-3b9b-4964-e2d9-75bcf503d6d0"
      },
      "execution_count": null,
      "outputs": [
        {
          "output_type": "execute_result",
          "data": {
            "text/plain": [
              "0.375"
            ]
          },
          "metadata": {},
          "execution_count": 13
        }
      ]
    },
    {
      "cell_type": "code",
      "source": [
        "import matplotlib.pyplot as plt\n",
        "import numpy as np\n",
        "\n",
        "# Define the age and internet use data as numpy arrays\n",
        "age = np.array([3, 10, 16, 22, 35, 55])\n",
        "internet_use = np.array([0.0, 1.0, 2.5, 4.0, 3.0, 0.5])\n",
        "\n",
        "# Create a scatter plot\n",
        "plt.scatter(age, internet_use)\n",
        "\n",
        "# Set the title and axis labels\n",
        "plt.title('Age vs. Internet Use')\n",
        "plt.xlabel('Age (years)')\n",
        "plt.ylabel('Internet Use (hours per day)')\n",
        "\n",
        "# Show the plot\n",
        "plt.show()\n",
        "\n",
        "import numpy as np\n",
        "\n",
        "# Define the age and internet use data as numpy arrays\n",
        "age = np.array([3, 10, 16, 22, 35, 55])\n",
        "internet_use = np.array([0.0, 1.0, 2.5, 4.0, 3.0, 0.5])\n",
        "\n",
        "# Calculate the Pearson correlation coefficient\n",
        "correlation_coef = np.corrcoef(age, internet_use)[0, 1]\n",
        "\n",
        "# Print the correlation coefficient value\n",
        "print('Correlation coefficient:', correlation_coef)\n",
        "\n"
      ],
      "metadata": {
        "colab": {
          "base_uri": "https://localhost:8080/",
          "height": 312
        },
        "id": "pz8oXC0A1wrW",
        "outputId": "4ddfdea1-0d59-44a7-8984-fc3da88dfa86"
      },
      "execution_count": null,
      "outputs": [
        {
          "output_type": "display_data",
          "data": {
            "text/plain": [
              "<Figure size 432x288 with 1 Axes>"
            ],
            "image/png": "[encoded data removed]"
          },
          "metadata": {
            "needs_background": "light"
          }
        },
        {
          "output_type": "stream",
          "name": "stdout",
          "text": [
            "Correlation coefficient: 0.08086509183787356\n"
          ]
        }
      ]
    },
    {
      "cell_type": "code",
      "source": [
        "# Define the two points (x1, y1) and (x2, y2)\n",
        "x1 = 2\n",
        "y1 = 5\n",
        "x2 = 5\n",
        "y2 = 9\n",
        "\n",
        "# Calculate the slope using the formula (y2 - y1) / (x2 - x1)\n",
        "slope = (y2 - y1) / (x2 - x1)\n",
        "\n",
        "# Print the slope\n",
        "print(\"The slope is:\", slope)\n"
      ],
      "metadata": {
        "colab": {
          "base_uri": "https://localhost:8080/"
        },
        "id": "bx46BI-P_9SO",
        "outputId": "429ba2cf-a566-47ac-c867-58b9f43f6c3a"
      },
      "execution_count": null,
      "outputs": [
        {
          "output_type": "stream",
          "name": "stdout",
          "text": [
            "The slope is: 1.3333333333333333\n"
          ]
        }
      ]
    },
    {
      "cell_type": "code",
      "source": [
        "import numpy as np\n",
        "\n",
        "# Define the parameters of the linear distribution\n",
        "x = np.linspace(0, 1, 100)\n",
        "pdf = 2 * (1 - x)\n",
        "cdf = np.cumsum(pdf)\n",
        "cdf = cdf / cdf[-1]\n",
        "\n",
        "# Generate 100 random numbers from the linear distribution\n",
        "random_numbers = np.interp(np.random.rand(100), cdf, x)\n",
        "\n",
        "# Print the random numbers\n",
        "print(random_numbers)\n",
        "slope = (y2 - y1) / (x2 - x1)\n",
        "\n",
        "# Print the slope\n",
        "print(\"The slope is:\", slope)\n",
        "plt.show()\n"
      ],
      "metadata": {
        "colab": {
          "base_uri": "https://localhost:8080/"
        },
        "id": "2jb7ZL7bQmRn",
        "outputId": "4fd0ba97-1200-40d5-bd15-45c65dbfa89b"
      },
      "execution_count": null,
      "outputs": [
        {
          "output_type": "stream",
          "name": "stdout",
          "text": [
            "[0.20129205 0.00190882 0.47886894 0.41831275 0.13165482 0.33034557\n",
            " 0.0726223  0.12196513 0.47277609 0.71582744 0.12370792 0.01683457\n",
            " 0.40149662 0.20231969 0.52065031 0.63891469 0.73893297 0.36995154\n",
            " 0.04863805 0.20315827 0.4137406  0.25902403 0.24326953 0.60234135\n",
            " 0.28263194 0.00233599 0.44787493 0.19576745 0.05909955 0.87371861\n",
            " 0.31457218 0.06384457 0.16863743 0.58611554 0.30301936 0.02368847\n",
            " 0.42488898 0.19293059 0.0416792  0.05192168 0.22839584 0.1486969\n",
            " 0.14054612 0.8881631  0.80948349 0.12431256 0.         0.02454211\n",
            " 0.24828795 0.19421446 0.31989152 0.46216728 0.07381479 0.47457496\n",
            " 0.59165087 0.47399999 0.52471484 0.49723985 0.59418841 0.00826672\n",
            " 0.22838904 0.37879972 0.21978595 0.01025155 0.65965143 0.53632787\n",
            " 0.62697334 0.11148878 0.24986394 0.         0.17180763 0.1495781\n",
            " 0.07242764 0.1097345  0.00113667 0.57297133 0.00552192 0.46450942\n",
            " 0.06985561 0.04820006 0.16309562 0.06599031 0.23462776 0.50516508\n",
            " 0.53569373 0.52466175 0.37490414 0.06905529 0.27175942 0.\n",
            " 0.41610472 0.2389348  0.69492354 0.05869174 0.39758109 0.1419981\n",
            " 0.41705304 0.33513462 0.71962743 0.05266396]\n",
            "The slope is: 1.3333333333333333\n"
          ]
        }
      ]
    },
    {
      "cell_type": "code",
      "source": [
        "\n",
        "x = np.linspace(0, 1, 100)\n",
        "pdf = 2 * (1 - x)\n",
        "y = np.linspace(0, 1, 100)\n",
        "pdf =  (1 - y)+1.2\n",
        "\n",
        "plt.scatter(x, y)\n",
        "plt.xlabel(\"Open\")\n",
        "plt.ylabel(\"Close\")\n",
        "plt.show()"
      ],
      "metadata": {
        "colab": {
          "base_uri": "https://localhost:8080/",
          "height": 279
        },
        "id": "1tnml_qqSpkQ",
        "outputId": "7956e81e-aa06-4b78-bdf2-df4d075cc661"
      },
      "execution_count": null,
      "outputs": [
        {
          "output_type": "display_data",
          "data": {
            "text/plain": [
              "<Figure size 432x288 with 1 Axes>"
            ],
            "image/png": "[encoded data removed]"
          },
          "metadata": {
            "needs_background": "light"
          }
        }
      ]
    },
    {
      "cell_type": "code",
      "source": [
        "import numpy as np\n",
        "import pandas as pd\n",
        "import matplotlib.pyplot as plt\n",
        "\n",
        "np.random.seed(123)\n",
        "x = np.random.rand(20) \n",
        "y = 0.65 * x + 0.35 * np.random.randn(20)\n",
        "\n",
        "df = pd.DataFrame({'x':x,'y':y})\n",
        "\n",
        "plt.scatter(df['x'], df['y'])\n",
        "\n",
        "plt.xlabel('x')\n",
        "plt.ylabel('y')\n",
        "\n",
        "plt.title('Scatterplot of 20 random data points with r = 0.65')\n",
        "\n",
        "plt.show()"
      ],
      "metadata": {
        "colab": {
          "base_uri": "https://localhost:8080/",
          "height": 295
        },
        "id": "4wogL96FWf8q",
        "outputId": "f0bce69c-800b-478a-9f9c-b615c3991e09"
      },
      "execution_count": null,
      "outputs": [
        {
          "output_type": "display_data",
          "data": {
            "text/plain": [
              "<Figure size 432x288 with 1 Axes>"
            ],
            "image/png": "[encoded data removed]"
          },
          "metadata": {
            "needs_background": "light"
          }
        }
      ]
    },
    {
      "cell_type": "code",
      "source": [
        "import seaborn as sns\n",
        "\n",
        "tips = sns.load_dataset(\"tips\")\n",
        "\n",
        "sns.lmplot(x=\"total_bill\", y=\"tip\", data=tips)"
      ],
      "metadata": {
        "colab": {
          "base_uri": "https://localhost:8080/",
          "height": 386
        },
        "id": "aM8bHT7iYEPj",
        "outputId": "3a4d6bfb-2294-458c-96e0-5e9bad7207f7"
      },
      "execution_count": null,
      "outputs": [
        {
          "output_type": "execute_result",
          "data": {
            "text/plain": [
              "<seaborn.axisgrid.FacetGrid at 0x7f5f8afbff10>"
            ]
          },
          "metadata": {},
          "execution_count": 61
        },
        {
          "output_type": "display_data",
          "data": {
            "text/plain": [
              "<Figure size 360x360 with 1 Axes>"
            ],
            "image/png": "[encoded data removed]"
          },
          "metadata": {
            "needs_background": "light"
          }
        }
      ]
    },
    {
      "cell_type": "code",
      "source": [
        "import seaborn as sns\n",
        "import numpy as np\n",
        "data = sns.load_dataset('tips')\n",
        "\n",
        "#formula to find correlation coefficient=r, slope=m \n",
        "r = np.corrcoef(data['total_bill'], data['tip'])[0, 1]\n",
        "m = np.polyfit(data['total_bill'], data['tip'],1)[0]\n",
        "\n",
        "print(f\"Correlation coefficient (r): {r:.2f}\")\n",
        "print(f\"Slope (m): {m:.2f}\")\n"
      ],
      "metadata": {
        "colab": {
          "base_uri": "https://localhost:8080/"
        },
        "id": "T893I49vgr_L",
        "outputId": "141cf5bb-d1c9-44d5-f479-9636f9195997"
      },
      "execution_count": null,
      "outputs": [
        {
          "output_type": "stream",
          "name": "stdout",
          "text": [
            "Correlation coefficient (r): 0.68\n",
            "Slope (m): 0.11\n"
          ]
        }
      ]
    },
    {
      "cell_type": "code",
      "source": [
        "import math\n",
        "\n",
        "# Given data\n",
        "x = 12.2\n",
        "sd_x = 5.2\n",
        "y = 1.1\n",
        "sd_y = 1.3\n",
        "r = 0.65\n",
        "\n",
        "# Calculate the slope of the regression line\n",
        "slope = (sd_y / sd_x) * r\n",
        "\n",
        "# Calculate the y-intercept of the regression line\n",
        "y_intercept = y - slope * x\n",
        "\n",
        "# Round the slope and y-intercept to two decimal places\n",
        "slope = round(slope, 2)\n",
        "y_intercept = round(y_intercept, 2)\n",
        "\n",
        "# Print the equation of the regression line\n",
        "print(f'y = {slope}x + {y_intercept}')\n"
      ],
      "metadata": {
        "id": "_4MKINdRlY3Q",
        "colab": {
          "base_uri": "https://localhost:8080/"
        },
        "outputId": "757f8b2b-9383-47a4-d6ec-04a3f3ab19a6"
      },
      "execution_count": null,
      "outputs": [
        {
          "output_type": "stream",
          "name": "stdout",
          "text": [
            "y = 0.16x + -0.88\n"
          ]
        }
      ]
    },
    {
      "cell_type": "code",
      "source": [
        "import math\n",
        "\n",
        "# Given data\n",
        "x = 57.4\n",
        "sd_x = 30.8\n",
        "y = 69.9\n",
        "sd_y = 35\n",
        "r = 0.99\n",
        "\n",
        "# Calculate the slope of the regression line\n",
        "slope = (sd_y / sd_x) * r\n",
        "\n",
        "# Calculate the y-intercept of the regression line\n",
        "y_intercept = y - slope * x\n",
        "\n",
        "# Round the slope and y-intercept to three decimal places\n",
        "slope = round(slope, 3)\n",
        "y_intercept = round(y_intercept, 3)\n",
        "\n",
        "# Print the equation of the regression line\n",
        "print(f'y = {slope}x + {y_intercept}')\n"
      ],
      "metadata": {
        "colab": {
          "base_uri": "https://localhost:8080/"
        },
        "id": "2yIH7SILp8wL",
        "outputId": "8003340f-c3b8-48c3-e849-0a7f6fd2bcab"
      },
      "execution_count": null,
      "outputs": [
        {
          "output_type": "stream",
          "name": "stdout",
          "text": [
            "y = 1.125x + 5.325\n"
          ]
        }
      ]
    },
    {
      "cell_type": "code",
      "source": [
        "import math\n",
        "\n",
        "# Given data\n",
        "x = 24.1\n",
        "sd_x = 12\n",
        "y = 12.9\n",
        "sd_y = 16.2\n",
        "r = 0.9\n",
        "\n",
        "# Calculate the slope of the regression line\n",
        "slope = (sd_y / sd_x) * r\n",
        "\n",
        "# Calculate the y-intercept of the regression line\n",
        "y_intercept = y - slope * x\n",
        "\n",
        "# Round the slope and y-intercept to three decimal places\n",
        "slope = round(slope, 3)\n",
        "y_intercept = round(y_intercept, 3)\n",
        "\n",
        "# Print the equation of the regression line\n",
        "print(f'y = {slope}x + {y_intercept}')\n"
      ],
      "metadata": {
        "colab": {
          "base_uri": "https://localhost:8080/"
        },
        "id": "pAq9Oo-Mqq1E",
        "outputId": "4ded486f-973f-49c9-c040-b089742ddb59"
      },
      "execution_count": null,
      "outputs": [
        {
          "output_type": "stream",
          "name": "stdout",
          "text": [
            "y = 1.215x + -16.381\n"
          ]
        }
      ]
    },
    {
      "cell_type": "code",
      "source": [
        "import math\n",
        "\n",
        "# Given data\n",
        "x = 8.9\n",
        "sd_x = 4.8\n",
        "y = 74.3\n",
        "sd_y = 7.2\n",
        "r = -0.88\n",
        "\n",
        "# Calculate the slope of the regression line\n",
        "slope = (sd_y / sd_x) * r\n",
        "\n",
        "# Calculate the y-intercept of the regression line\n",
        "y_intercept = y - slope * x\n",
        "\n",
        "# Round the slope and y-intercept to three decimal places\n",
        "slope = round(slope, 3)\n",
        "y_intercept = round(y_intercept, 3)\n",
        "\n",
        "# Print the equation of the regression line\n",
        "print(f'y = {slope}x + {y_intercept}')\n"
      ],
      "metadata": {
        "colab": {
          "base_uri": "https://localhost:8080/"
        },
        "id": "dt7tK85mK7H9",
        "outputId": "bbd758ef-ed0b-4305-fe83-a96e86f28edf"
      },
      "execution_count": null,
      "outputs": [
        {
          "output_type": "stream",
          "name": "stdout",
          "text": [
            "y = -1.32x + 86.048\n"
          ]
        }
      ]
    },
    {
      "cell_type": "code",
      "source": [
        "# Import combinations function from itertools module\n",
        "from itertools import combinations\n",
        "\n",
        "# Create a list of all possible outcomes\n",
        "outcomes = list(combinations(range(1, 6), 2))\n",
        "\n",
        "# Count the number of outcomes where the sum is 4 or higher\n",
        "count = sum(sum(outcome) >= 4 for outcome in outcomes)\n",
        "\n",
        "# Calculate the probability\n",
        "probability = count / len(outcomes)\n",
        "\n",
        "print(\"The probability of rolling a sum of 4 or higher is:\", probability)\n"
      ],
      "metadata": {
        "colab": {
          "base_uri": "https://localhost:8080/"
        },
        "id": "G-qP1_Eui-_E",
        "outputId": "bacdd68d-0cd7-4530-91db-f828c10d5598"
      },
      "execution_count": null,
      "outputs": [
        {
          "output_type": "stream",
          "name": "stdout",
          "text": [
            "The probability of rolling a sum of 4 or higher is: 0.9\n"
          ]
        }
      ]
    },
    {
      "cell_type": "code",
      "source": [
        "# Import permutations function from itertools module\n",
        "from itertools import permutations\n",
        "\n",
        "# Define a list of numbers\n",
        "numbers = [1, 2, 3,4]\n",
        "\n",
        "# Calculate the permutations of the numbers with length 2\n",
        "perms = list(permutations(numbers, 2))\n",
        "\n",
        "# Count the number of permutations\n",
        "num_perms = len(perms)\n",
        "\n",
        "# Print the permutations and the number of permutations\n",
        "print(\"Permutations:\")\n",
        "for perm in perms:\n",
        "    print(perm)\n",
        "print(\"Number of permutations:\", num_perms)\n"
      ],
      "metadata": {
        "colab": {
          "base_uri": "https://localhost:8080/"
        },
        "id": "5-F1GcjE5YoJ",
        "outputId": "5cecdd09-648f-49c4-a605-4097588e8eb8"
      },
      "execution_count": null,
      "outputs": [
        {
          "output_type": "stream",
          "name": "stdout",
          "text": [
            "Permutations:\n",
            "(1, 2)\n",
            "(1, 3)\n",
            "(1, 4)\n",
            "(2, 1)\n",
            "(2, 3)\n",
            "(2, 4)\n",
            "(3, 1)\n",
            "(3, 2)\n",
            "(3, 4)\n",
            "(4, 1)\n",
            "(4, 2)\n",
            "(4, 3)\n",
            "Number of permutations: 12\n"
          ]
        }
      ]
    },
    {
      "cell_type": "code",
      "source": [
        "import itertools\n",
        "import numpy as np\n",
        "\n",
        "# Define the list of reindeer\n",
        "reindeer = ['Lancer', 'Prancer', 'Gloopin', 'Bloopin']\n",
        "\n",
        "# Generate all possible permutations of the reindeer with length 4\n",
        "perms = list(itertools.permutations(reindeer, 4))\n",
        "\n",
        "# Filter out permutations where Lancer and Prancer are next to each other\n",
        "valid_perms = [perm for perm in perms if not ('Lancer', 'Prancer') in zip(perm, perm[1:])]\n",
        "\n",
        "# Print the valid permutations\n",
        "for perm in valid_perms:\n",
        "    print(perm)\n",
        "\n",
        "    # Count the number of permutations\n",
        "num_perms = len(perms)\n",
        "print(\"Number of permutations:\", num_perms)\n",
        "\n",
        "#perms = list(itertools.permutations(reindeer, 4))\n",
        "filtered_perms = []\n",
        "\n",
        "#to arrange Lancer and Prancer not to be adjacent to each other in permutations\n",
        "for perm in perms:\n",
        "  if \"Lancer\" not in perm or \"Prancer\" not in perm:\n",
        "    filtered_perms.append(perm)\n",
        "  else:\n",
        "    idx_Lancer = perm.index(\"Lancer\")\n",
        "    idx_Prancer = perm.index(\"Prancer\")\n",
        "    if abs(idx_Lancer - idx_Prancer) != 1:\n",
        "      filtered_perms.append(perm)\n",
        "\n",
        "#arrangements = []\n",
        "#for perm in filtered_perms:\n",
        " # perm_arrangements = list(itertools.permutations(perm))\n",
        "  #arrangements.extend(perm_arrangements)\n",
        "\n",
        "array = np.array(filtered_perms)\n",
        "\n",
        "#print(filtered_perms)\n",
        "print(array)\n",
        "print(len(filtered_perms))\n",
        "#print(arrangements)"
      ],
      "metadata": {
        "colab": {
          "base_uri": "https://localhost:8080/"
        },
        "id": "Y2eqFvr88_6Y",
        "outputId": "f3e4854d-5ad9-43a2-85d2-afedeed4bddb"
      },
      "execution_count": null,
      "outputs": [
        {
          "output_type": "stream",
          "name": "stdout",
          "text": [
            "('Lancer', 'Gloopin', 'Prancer', 'Bloopin')\n",
            "('Lancer', 'Gloopin', 'Bloopin', 'Prancer')\n",
            "('Lancer', 'Bloopin', 'Prancer', 'Gloopin')\n",
            "('Lancer', 'Bloopin', 'Gloopin', 'Prancer')\n",
            "('Prancer', 'Lancer', 'Gloopin', 'Bloopin')\n",
            "('Prancer', 'Lancer', 'Bloopin', 'Gloopin')\n",
            "('Prancer', 'Gloopin', 'Lancer', 'Bloopin')\n",
            "('Prancer', 'Gloopin', 'Bloopin', 'Lancer')\n",
            "('Prancer', 'Bloopin', 'Lancer', 'Gloopin')\n",
            "('Prancer', 'Bloopin', 'Gloopin', 'Lancer')\n",
            "('Gloopin', 'Lancer', 'Bloopin', 'Prancer')\n",
            "('Gloopin', 'Prancer', 'Lancer', 'Bloopin')\n",
            "('Gloopin', 'Prancer', 'Bloopin', 'Lancer')\n",
            "('Gloopin', 'Bloopin', 'Prancer', 'Lancer')\n",
            "('Bloopin', 'Lancer', 'Gloopin', 'Prancer')\n",
            "('Bloopin', 'Prancer', 'Lancer', 'Gloopin')\n",
            "('Bloopin', 'Prancer', 'Gloopin', 'Lancer')\n",
            "('Bloopin', 'Gloopin', 'Prancer', 'Lancer')\n",
            "Number of permutations: 24\n",
            "[['Lancer' 'Gloopin' 'Prancer' 'Bloopin']\n",
            " ['Lancer' 'Gloopin' 'Bloopin' 'Prancer']\n",
            " ['Lancer' 'Bloopin' 'Prancer' 'Gloopin']\n",
            " ['Lancer' 'Bloopin' 'Gloopin' 'Prancer']\n",
            " ['Prancer' 'Gloopin' 'Lancer' 'Bloopin']\n",
            " ['Prancer' 'Gloopin' 'Bloopin' 'Lancer']\n",
            " ['Prancer' 'Bloopin' 'Lancer' 'Gloopin']\n",
            " ['Prancer' 'Bloopin' 'Gloopin' 'Lancer']\n",
            " ['Gloopin' 'Lancer' 'Bloopin' 'Prancer']\n",
            " ['Gloopin' 'Prancer' 'Bloopin' 'Lancer']\n",
            " ['Bloopin' 'Lancer' 'Gloopin' 'Prancer']\n",
            " ['Bloopin' 'Prancer' 'Gloopin' 'Lancer']]\n",
            "12\n"
          ]
        }
      ]
    },
    {
      "cell_type": "code",
      "source": [
        "import itertools\n",
        "import numpy as np\n",
        "\n",
        "names = [\"yellow\", \"green\", \"red\", \"blue\"]\n",
        "\n",
        "permutations = list(itertools.permutations(names))\n",
        "\n",
        "filtered_permutations = []\n",
        "\n",
        "#to arrange red and blue not to be adjacent to each other in permutations\n",
        "for perm in permutations:\n",
        "  if \"red\" not in perm or \"blue\" not in perm:\n",
        "    filtered_permutations.append(perm)\n",
        "  else:\n",
        "    idx_red = perm.index(\"red\")\n",
        "    idx_blue = perm.index(\"blue\")\n",
        "    if abs(idx_red - idx_blue) != 1:\n",
        "      filtered_permutations.append(perm)\n",
        "array = np.array(filtered_permutations)\n",
        "print(array)\n",
        "print(len(array))\n",
        "#print(filtered_permutations)\n",
        "#print(len(filtered_permutations))\n"
      ],
      "metadata": {
        "colab": {
          "base_uri": "https://localhost:8080/"
        },
        "id": "KP1f4jxc-4CB",
        "outputId": "46aa86de-8737-413c-e363-a33f63690f45"
      },
      "execution_count": null,
      "outputs": [
        {
          "output_type": "stream",
          "name": "stdout",
          "text": [
            "[['yellow' 'red' 'green' 'blue']\n",
            " ['yellow' 'blue' 'green' 'red']\n",
            " ['green' 'red' 'yellow' 'blue']\n",
            " ['green' 'blue' 'yellow' 'red']\n",
            " ['red' 'yellow' 'green' 'blue']\n",
            " ['red' 'yellow' 'blue' 'green']\n",
            " ['red' 'green' 'yellow' 'blue']\n",
            " ['red' 'green' 'blue' 'yellow']\n",
            " ['blue' 'yellow' 'green' 'red']\n",
            " ['blue' 'yellow' 'red' 'green']\n",
            " ['blue' 'green' 'yellow' 'red']\n",
            " ['blue' 'green' 'red' 'yellow']]\n",
            "12\n"
          ]
        }
      ]
    },
    {
      "cell_type": "code",
      "source": [
        "import itertools\n",
        "import numpy as np\n",
        "\n",
        "word = \"CANNON\"\n",
        "\n",
        "letters = sorted(list(word))\n",
        "\n",
        "permutations = list(itertools.permutations(letters))\n",
        "num_permutations = len(permutations)\n",
        "\n",
        "#for perm in permutations:\n",
        "  #print(\"\".join(perm))\n",
        "  #print(\"Number of permutations:\", num_permutations)\n",
        "\n",
        "  #results too long 720 perms, thus not print#\n"
      ],
      "metadata": {
        "id": "BG-uxJZAaTxW"
      },
      "execution_count": null,
      "outputs": []
    },
    {
      "cell_type": "code",
      "source": [
        "#CANNON letters perm by factorial method, unique count is to not count the 3 n of repeating same arrangement due to same letter n.\n",
        "\n",
        "import math\n",
        "import collections\n",
        "\n",
        "word = \"cannon\"\n",
        "letters = sorted(list(word))\n",
        "num_elements = len(word)\n",
        "num_permutations = math.factorial(num_elements)\n",
        "\n",
        "count = collections.Counter(letters)\n",
        "divisors = [math.factorial(count[letter]) for letter in count]\n",
        "\n",
        "num_unique_permutations = num_permutations / math.prod(divisors)\n",
        "\n",
        "print(\"Number of unique permutations:\", num_unique_permutations)\n",
        "\n",
        "print(\"Number of permutations:\", num_permutations)"
      ],
      "metadata": {
        "colab": {
          "base_uri": "https://localhost:8080/"
        },
        "id": "HL8keLYci7yb",
        "outputId": "94997095-d67c-4117-ac1d-bcc55ecf4a0e"
      },
      "execution_count": null,
      "outputs": [
        {
          "output_type": "stream",
          "name": "stdout",
          "text": [
            "Number of unique permutations: 120.0\n",
            "Number of permutations: 720\n"
          ]
        }
      ]
    },
    {
      "cell_type": "code",
      "source": [
        "#CANNON letters perm by factorial method, unique count is to not count the 3 n of repeating same arrangement due to same letter n.\n",
        "\n",
        "import math\n",
        "import collections\n",
        "\n",
        "word = \"PRETTY\"\n",
        "letters = sorted(list(word))\n",
        "num_elements = len(word)\n",
        "num_permutations = math.factorial(num_elements)\n",
        "\n",
        "count = collections.Counter(letters)\n",
        "divisors = [math.factorial(count[letter]) for letter in count]\n",
        "\n",
        "num_unique_permutations = num_permutations / math.prod(divisors)\n",
        "\n",
        "print(\"Number of unique permutations:\", num_unique_permutations)\n",
        "\n",
        "print(\"Number of permutations:\", num_permutations)"
      ],
      "metadata": {
        "colab": {
          "base_uri": "https://localhost:8080/"
        },
        "id": "PJu-2xbiCI_4",
        "outputId": "cb0df4a2-9f3d-4673-8a45-51f4999744ba"
      },
      "execution_count": null,
      "outputs": [
        {
          "output_type": "stream",
          "name": "stdout",
          "text": [
            "Number of unique permutations: 360.0\n",
            "Number of permutations: 720\n"
          ]
        }
      ]
    },
    {
      "cell_type": "code",
      "source": [
        "count = 0\n",
        "for num in range(1, 101): #1~100 inclusive means 1~101\n",
        "  if num % 9 == 0 or num % 4  == 0:\n",
        "    count += 1\n",
        "\n",
        "print(\"Number divisible by 9 or 4:\", count)"
      ],
      "metadata": {
        "colab": {
          "base_uri": "https://localhost:8080/"
        },
        "id": "AqJbLjvCn0jx",
        "outputId": "976f5eea-5676-47c9-d795-e9cf7d7ba9b9"
      },
      "execution_count": null,
      "outputs": [
        {
          "output_type": "stream",
          "name": "stdout",
          "text": [
            "Number divisible by 9 or 4: 34\n"
          ]
        }
      ]
    },
    {
      "cell_type": "code",
      "source": [
        "count = 0\n",
        "for num in range(1, 101): #1~100 inclusive means 1~101\n",
        "  if num % 4 == 0:\n",
        "    count += 1\n",
        "\n",
        "print(\"Number divisible by 4:\", count)"
      ],
      "metadata": {
        "colab": {
          "base_uri": "https://localhost:8080/"
        },
        "id": "sPLXUWuTsw_2",
        "outputId": "15815575-1c29-4015-ad52-512e506eef49"
      },
      "execution_count": null,
      "outputs": [
        {
          "output_type": "stream",
          "name": "stdout",
          "text": [
            "Number divisible by 4: 25\n"
          ]
        }
      ]
    },
    {
      "cell_type": "code",
      "source": [
        "count = 0\n",
        "for num in range(1, 101): #1~100 inclusive means 1~101\n",
        "  if num % 9 == 0:\n",
        "    count += 1\n",
        "\n",
        "print(\"Number divisible by 9:\", count)"
      ],
      "metadata": {
        "colab": {
          "base_uri": "https://localhost:8080/"
        },
        "id": "j5jrm6xbtFtH",
        "outputId": "33cba8cc-3100-41ff-d612-beb493817392"
      },
      "execution_count": null,
      "outputs": [
        {
          "output_type": "stream",
          "name": "stdout",
          "text": [
            "Number divisible by 9: 11\n"
          ]
        }
      ]
    },
    {
      "cell_type": "code",
      "source": [
        "divisible_numbers4 = []\n",
        "\n",
        "for num in range (1, 101): #1~100 inclusive means 1~101\n",
        "  if num % 4 == 0:\n",
        "    divisible_numbers4.append(num)\n",
        "print (\"Integer divisible by 4:\", divisible_numbers4)"
      ],
      "metadata": {
        "colab": {
          "base_uri": "https://localhost:8080/"
        },
        "id": "awlN-NYZtJ9A",
        "outputId": "e98a20d4-8686-405e-852d-c903fac87069"
      },
      "execution_count": null,
      "outputs": [
        {
          "output_type": "stream",
          "name": "stdout",
          "text": [
            "Integer divisible by 4: [4, 8, 12, 16, 20, 24, 28, 32, 36, 40, 44, 48, 52, 56, 60, 64, 68, 72, 76, 80, 84, 88, 92, 96, 100]\n"
          ]
        }
      ]
    },
    {
      "cell_type": "code",
      "source": [
        "divisible_numbers9 = []\n",
        "\n",
        "for num in range (1, 101): #1~100 inclusive means 1~101\n",
        "  if num % 9 == 0:\n",
        "    divisible_numbers9.append(num)\n",
        "print (\"Integer divisible by 9:\", divisible_numbers9)"
      ],
      "metadata": {
        "colab": {
          "base_uri": "https://localhost:8080/"
        },
        "id": "DlnEjg0Vt0Bq",
        "outputId": "44eabf63-a21d-4b37-d142-71d706d7aa3f"
      },
      "execution_count": null,
      "outputs": [
        {
          "output_type": "stream",
          "name": "stdout",
          "text": [
            "Integer divisible by 9: [9, 18, 27, 36, 45, 54, 63, 72, 81, 90, 99]\n"
          ]
        }
      ]
    },
    {
      "cell_type": "code",
      "source": [
        "divisible_numbers = []\n",
        "\n",
        "for num in range (1, 101): #1~100 inclusive means 1~101\n",
        "  if num % 4 == 0 or num % 9 == 0:\n",
        "    divisible_numbers.append(num)\n",
        "print (\"Integer divisible by 9 or 4:\", divisible_numbers)\n",
        "print (len(divisible_numbers))"
      ],
      "metadata": {
        "colab": {
          "base_uri": "https://localhost:8080/"
        },
        "id": "WiwnSyy_t5BL",
        "outputId": "0cbb1ae7-ca95-44e5-a1fe-6e654903ce8d"
      },
      "execution_count": null,
      "outputs": [
        {
          "output_type": "stream",
          "name": "stdout",
          "text": [
            "Integer divisible by 9 or 4: [4, 8, 9, 12, 16, 18, 20, 24, 27, 28, 32, 36, 40, 44, 45, 48, 52, 54, 56, 60, 63, 64, 68, 72, 76, 80, 81, 84, 88, 90, 92, 96, 99, 100]\n",
            "34\n"
          ]
        }
      ]
    },
    {
      "cell_type": "code",
      "source": [
        "list1 = [9, 18, 27, 36, 45, 54, 63, 72, 81, 90, 99]\n",
        "list2 = [4, 8, 12, 16, 20, 24, 28, 32, 36, 40, 44, 48, 52, 56, 60, 64, 68, 72, 76, 80, 84, 88, 92, 96,100]\n",
        "\n",
        "set1 = set(list1)\n",
        "set2 = set(list2)\n",
        "\n",
        "intersection = list(set1 & set2)\n",
        "union = list(set(list1)|set(list2))\n",
        "\n",
        "print(\"intersection of list1 and list2\", intersection)  # list1 n list2\n",
        "print(\"intersection of list1 and list2\", union) # list1 u list2\n",
        "print(len(union))"
      ],
      "metadata": {
        "colab": {
          "base_uri": "https://localhost:8080/"
        },
        "id": "G_-J5DzDvANn",
        "outputId": "8f071937-f557-4739-fac2-b9085a571a54"
      },
      "execution_count": null,
      "outputs": [
        {
          "output_type": "stream",
          "name": "stdout",
          "text": [
            "intersection of list1 and list2 [72, 36]\n",
            "intersection of list1 and list2 [4, 8, 9, 12, 16, 18, 20, 24, 27, 28, 32, 36, 40, 44, 45, 48, 52, 54, 56, 60, 63, 64, 68, 72, 76, 80, 81, 84, 88, 90, 92, 96, 99, 100]\n",
            "34\n"
          ]
        }
      ]
    },
    {
      "cell_type": "code",
      "source": [
        "from itertools import permutations\n",
        "import math\n",
        "import numpy as np\n",
        "\n",
        "\n",
        "elements = [1,2,3,4,5]\n",
        "perms = permutations(elements)\n",
        "\n",
        "perms_with_2_3_together = [p for p in perms if abs(p.index(2) - p.index(3)) == 1 or abs(p.index(3) - p.index(2)) == 1]\n",
        "\n",
        "for p in perms_with_2_3_together:\n",
        "  array = np.array(len(perms_with_2_3_together))\n",
        "  print(p)\n",
        "  print(array)\n",
        "  \n",
        "  "
      ],
      "metadata": {
        "colab": {
          "base_uri": "https://localhost:8080/"
        },
        "id": "pg_sGSb4wXNS",
        "outputId": "4a000994-a739-4aca-ccdf-8eec02d856c3"
      },
      "execution_count": null,
      "outputs": [
        {
          "output_type": "stream",
          "name": "stdout",
          "text": [
            "(1, 2, 3, 4, 5)\n",
            "48\n",
            "(1, 2, 3, 5, 4)\n",
            "48\n",
            "(1, 3, 2, 4, 5)\n",
            "48\n",
            "(1, 3, 2, 5, 4)\n",
            "48\n",
            "(1, 4, 2, 3, 5)\n",
            "48\n",
            "(1, 4, 3, 2, 5)\n",
            "48\n",
            "(1, 4, 5, 2, 3)\n",
            "48\n",
            "(1, 4, 5, 3, 2)\n",
            "48\n",
            "(1, 5, 2, 3, 4)\n",
            "48\n",
            "(1, 5, 3, 2, 4)\n",
            "48\n",
            "(1, 5, 4, 2, 3)\n",
            "48\n",
            "(1, 5, 4, 3, 2)\n",
            "48\n",
            "(2, 3, 1, 4, 5)\n",
            "48\n",
            "(2, 3, 1, 5, 4)\n",
            "48\n",
            "(2, 3, 4, 1, 5)\n",
            "48\n",
            "(2, 3, 4, 5, 1)\n",
            "48\n",
            "(2, 3, 5, 1, 4)\n",
            "48\n",
            "(2, 3, 5, 4, 1)\n",
            "48\n",
            "(3, 2, 1, 4, 5)\n",
            "48\n",
            "(3, 2, 1, 5, 4)\n",
            "48\n",
            "(3, 2, 4, 1, 5)\n",
            "48\n",
            "(3, 2, 4, 5, 1)\n",
            "48\n",
            "(3, 2, 5, 1, 4)\n",
            "48\n",
            "(3, 2, 5, 4, 1)\n",
            "48\n",
            "(4, 1, 2, 3, 5)\n",
            "48\n",
            "(4, 1, 3, 2, 5)\n",
            "48\n",
            "(4, 1, 5, 2, 3)\n",
            "48\n",
            "(4, 1, 5, 3, 2)\n",
            "48\n",
            "(4, 2, 3, 1, 5)\n",
            "48\n",
            "(4, 2, 3, 5, 1)\n",
            "48\n",
            "(4, 3, 2, 1, 5)\n",
            "48\n",
            "(4, 3, 2, 5, 1)\n",
            "48\n",
            "(4, 5, 1, 2, 3)\n",
            "48\n",
            "(4, 5, 1, 3, 2)\n",
            "48\n",
            "(4, 5, 2, 3, 1)\n",
            "48\n",
            "(4, 5, 3, 2, 1)\n",
            "48\n",
            "(5, 1, 2, 3, 4)\n",
            "48\n",
            "(5, 1, 3, 2, 4)\n",
            "48\n",
            "(5, 1, 4, 2, 3)\n",
            "48\n",
            "(5, 1, 4, 3, 2)\n",
            "48\n",
            "(5, 2, 3, 1, 4)\n",
            "48\n",
            "(5, 2, 3, 4, 1)\n",
            "48\n",
            "(5, 3, 2, 1, 4)\n",
            "48\n",
            "(5, 3, 2, 4, 1)\n",
            "48\n",
            "(5, 4, 1, 2, 3)\n",
            "48\n",
            "(5, 4, 1, 3, 2)\n",
            "48\n",
            "(5, 4, 2, 3, 1)\n",
            "48\n",
            "(5, 4, 3, 2, 1)\n",
            "48\n"
          ]
        }
      ]
    },
    {
      "cell_type": "code",
      "source": [
        "# Define the number of possible choices\n",
        "num_choices = 24\n",
        "\n",
        "# Compute the probability of guessing all 3 numbers in the correct order\n",
        "prob = 1 / num_choices * 1 / (num_choices - 1) * 1 / (num_choices - 2)/ (num_choices - 3)\n",
        "\n",
        "# Print the probability\n",
        "print(\"The probability of correctly identifying all 4 numbers in the correct order is:\", prob)\n"
      ],
      "metadata": {
        "colab": {
          "base_uri": "https://localhost:8080/"
        },
        "id": "w8SRkiJt2n1t",
        "outputId": "9491e2a2-06c9-4d2f-fc7d-b5ccd436f116"
      },
      "execution_count": null,
      "outputs": [
        {
          "output_type": "stream",
          "name": "stdout",
          "text": [
            "The probability of correctly identifying all 4 numbers in the correct order is: 3.921199573373486e-06\n"
          ]
        }
      ]
    },
    {
      "cell_type": "code",
      "source": [
        "1/720"
      ],
      "metadata": {
        "colab": {
          "base_uri": "https://localhost:8080/"
        },
        "id": "npt46XtYsxW6",
        "outputId": "8d56db42-40e5-4efa-8316-451f2a8bc7f7"
      },
      "execution_count": null,
      "outputs": [
        {
          "output_type": "execute_result",
          "data": {
            "text/plain": [
              "0.001388888888888889"
            ]
          },
          "metadata": {},
          "execution_count": 2
        }
      ]
    },
    {
      "cell_type": "code",
      "source": [
        "#Nia is 1of 24 students in a class. Every month, Nia's teacher randomly selects 4students from their class\n",
        "#to act as class president, vice president, secretary, and treasurer. No one student can hold two positions.\n",
        "#In a given month, what is the probability that Nia is chosen as president?\n",
        "#https://www.khanacademy.org/math/statistics-probability/counting-permutations-and-combinations/combinatorics-probability/e/probability_with_perm_comb\n",
        "\n",
        "import math\n",
        "\n",
        "# Define the values for n and r\n",
        "n1 = 23 #sinc no one student has no two positions 24-1=23, since 1 is selected 4-1=3\n",
        "r1 = 3\n",
        "n2 = 24\n",
        "r2 = 4\n",
        "\n",
        "# Calculate nPr for n1 and r1\n",
        "nPr1 = math.perm(n1, r1)\n",
        "\n",
        "# Calculate nPr for n2 and r2\n",
        "nPr2 = math.perm(n2, r2)\n",
        "\n",
        "# Divide the two results to get the final probability\n",
        "probability = nPr1 / nPr2\n",
        "\n",
        "# Print the results\n",
        "print(\"n1Pr1 = \", nPr1)\n",
        "print(\"n2Pr2 = \", nPr2)\n",
        "print(\"Probability = \", probability)"
      ],
      "metadata": {
        "colab": {
          "base_uri": "https://localhost:8080/"
        },
        "id": "E0WF4MWEs3q5",
        "outputId": "deaa0baf-247b-4be1-d165-bb1b0a828fea"
      },
      "execution_count": null,
      "outputs": [
        {
          "output_type": "stream",
          "name": "stdout",
          "text": [
            "n1Pr1 =  10626\n",
            "n2Pr2 =  255024\n",
            "Probability =  0.041666666666666664\n"
          ]
        }
      ]
    },
    {
      "cell_type": "code",
      "source": [
        "import math\n",
        "\n",
        "# Calculate 23P3 / 24P4\n",
        "n = 23\n",
        "r = 3\n",
        "nPr1 = math.perm(n, r)\n",
        "\n",
        "# Print the result\n",
        "print(\"23P3 =\", nPr1)\n",
        "\n",
        "n = 24\n",
        "r = 4\n",
        "nPr2 = math.perm(n, r)\n",
        "\n",
        "# Print the result\n",
        "print(\"24P4 =\", nPr2)\n",
        "\n",
        "print(nPr1/nPr2)\n"
      ],
      "metadata": {
        "colab": {
          "base_uri": "https://localhost:8080/"
        },
        "id": "MYivXFD5yzRK",
        "outputId": "7508f2bf-23b7-4733-b58f-6af4b298eb9a"
      },
      "execution_count": null,
      "outputs": [
        {
          "output_type": "stream",
          "name": "stdout",
          "text": [
            "23P3 = 10626\n",
            "24P4 = 255024\n",
            "0.041666666666666664\n"
          ]
        }
      ]
    },
    {
      "cell_type": "code",
      "source": [
        "#Lin and Kai are friends that work together on a team of 12 total people. \n",
        "#Their manager is going to randomly select 2 people from the team of 12to attend a conference.\n",
        "#What is the probability that Lin and Kai are the 2people chosen?\n",
        "#The probability that Lin is selected as one of the two people is 1/12, since there are 12 people in total and the selection is random. \n",
        "#After Lin is selected, the probability that Kai is selected as the other person is 1/11, since there are only 11 people remaining to choose from.\n",
        "\n",
        "# Define the number of people on the team\n",
        "num_people = 12\n",
        "\n",
        "# Calculate the probability of Lin being selected as one of the two people\n",
        "prob_lin = 1 / num_people\n",
        "\n",
        "# Calculate the probability of Kai being selected as the other person after Lin is selected\n",
        "prob_kai_given_lin = 1 / (num_people - 1)\n",
        "\n",
        "# Calculate the probability of both Lin and Kai being selected\n",
        "prob_lin_and_kai = prob_lin * prob_kai_given_lin\n",
        "\n",
        "# Print the probability\n",
        "print(\"The probability of Lin and Kai being selected is:\", prob_lin_and_kai)\n"
      ],
      "metadata": {
        "colab": {
          "base_uri": "https://localhost:8080/"
        },
        "id": "itEG_HZDvNux",
        "outputId": "e4e2ba5b-2a71-49bd-a84a-9a4c05364c93"
      },
      "execution_count": null,
      "outputs": [
        {
          "output_type": "stream",
          "name": "stdout",
          "text": [
            "The probability of Lin and Kai being selected is: 0.007575757575757576\n"
          ]
        }
      ]
    },
    {
      "cell_type": "code",
      "source": [
        "(1/12) * (1/11)"
      ],
      "metadata": {
        "colab": {
          "base_uri": "https://localhost:8080/"
        },
        "id": "BfAiHBKzuGgi",
        "outputId": "0b2263f2-9872-4c98-ead2-5d3a2189f0f2"
      },
      "execution_count": null,
      "outputs": [
        {
          "output_type": "execute_result",
          "data": {
            "text/plain": [
              "0.007575757575757576"
            ]
          },
          "metadata": {},
          "execution_count": 17
        }
      ]
    },
    {
      "cell_type": "code",
      "source": [
        "#Lin and Kai are friends that work together on a team of \n",
        "#12 total people. Their manager is going to randomly select \n",
        "#2 people from the team of 12 to attend a conference.\n",
        "#What is the probability that Lin and Kai are the 2 people chosen?\n",
        "#12C2 = 12! / (2! * (12 - 2)!)\n",
        " #    = 12! / (2! * 10!)\n",
        "  #   = (12 * 11) / 2\n",
        "   #  = 66\n",
        "\n",
        "\n",
        "import math\n",
        "\n",
        "# Calculate 12C2 (Since it is randomly selected, not Perm but Cr for combination method)\n",
        "n = 12\n",
        "r = 2 #number of selected people is 2.\n",
        "nCr = math.comb(n, r)\n",
        "\n",
        "# Print the result\n",
        "print(\"12C2 =\", nCr)\n"
      ],
      "metadata": {
        "colab": {
          "base_uri": "https://localhost:8080/"
        },
        "id": "vZj37hTPxgEI",
        "outputId": "18e81527-ab14-4853-9d3d-2c58c7a64729"
      },
      "execution_count": null,
      "outputs": [
        {
          "output_type": "stream",
          "name": "stdout",
          "text": [
            "12C2 = 66\n"
          ]
        }
      ]
    },
    {
      "cell_type": "code",
      "source": [
        "x = [0, 50, 100, 150]\n",
        "p = [0.2, 0.15, 0.45, 0.2]\n",
        "\n",
        "expected_value = sum([x[i] * p[i] for i in range(len(x))])\n",
        "\n",
        "print(expected_value)\n"
      ],
      "metadata": {
        "colab": {
          "base_uri": "https://localhost:8080/"
        },
        "id": "7ZeArbt5xwYV",
        "outputId": "9c6f6ffe-4d8d-4e02-9801-9b554a91877a"
      },
      "execution_count": null,
      "outputs": [
        {
          "output_type": "stream",
          "name": "stdout",
          "text": [
            "82.5\n"
          ]
        }
      ]
    },
    {
      "cell_type": "code",
      "source": [
        "#X is a discrete random variable. The table below defines a probability distribution for X.\n",
        "#What is the expected value of X?\n",
        "\n",
        "x = [0,1,2,3]\n",
        "p = [0.17,0.14,0.36,0.33]\n",
        "\n",
        "expected_value = sum([x[i] * p[i] for i in range(len(x))]) #p(X=x) is expected value\n",
        "\n",
        "print(expected_value)"
      ],
      "metadata": {
        "colab": {
          "base_uri": "https://localhost:8080/"
        },
        "id": "QTqp0x-VqEoV",
        "outputId": "1b6443ab-95ac-4db4-9c16-ea71bda27ff0"
      },
      "execution_count": null,
      "outputs": [
        {
          "output_type": "stream",
          "name": "stdout",
          "text": [
            "1.85\n"
          ]
        }
      ]
    },
    {
      "cell_type": "code",
      "source": [
        "#X is a discrete random variable. The table below defines a probability distribution for X.\n",
        "#What is the expected value of X?\n",
        "\n",
        "x = [0,1,2,3]\n",
        "p = [0.35,0.35,0.15,0.15]\n",
        "\n",
        "expected_value = sum([x[i] * p[i] for i in range(len(x))]) #p(X=x) is expected value\n",
        "\n",
        "print(expected_value)"
      ],
      "metadata": {
        "colab": {
          "base_uri": "https://localhost:8080/"
        },
        "id": "FYW8_DEOuutD",
        "outputId": "5ffbe7d8-a22a-4a4a-ded0-bbe43e436cea"
      },
      "execution_count": null,
      "outputs": [
        {
          "output_type": "stream",
          "name": "stdout",
          "text": [
            "1.0999999999999999\n"
          ]
        }
      ]
    },
    {
      "cell_type": "code",
      "source": [
        "#X is a discrete random variable. The table below defines a probability distribution for X.\n",
        "#What is the expected value of X?\n",
        "\n",
        "x = [1,2,3]\n",
        "p = [0.5,0.25,0.25]\n",
        "\n",
        "expected_value = sum([x[i] * p[i] for i in range(len(x))]) #p(X=x) is expected value\n",
        "\n",
        "print(expected_value)"
      ],
      "metadata": {
        "colab": {
          "base_uri": "https://localhost:8080/"
        },
        "id": "P7FhayXzxX2V",
        "outputId": "2f07d73d-0b4d-4c10-8b06-27b14c093044"
      },
      "execution_count": null,
      "outputs": [
        {
          "output_type": "stream",
          "name": "stdout",
          "text": [
            "1.75\n"
          ]
        }
      ]
    },
    {
      "cell_type": "code",
      "source": [
        "(1/2*1*0.25)+(1*0.25)"
      ],
      "metadata": {
        "colab": {
          "base_uri": "https://localhost:8080/"
        },
        "id": "c9ljtRKRyl5i",
        "outputId": "abf33db5-f378-44c6-c5bb-55da98aff02b"
      },
      "execution_count": null,
      "outputs": [
        {
          "output_type": "execute_result",
          "data": {
            "text/plain": [
              "0.375"
            ]
          },
          "metadata": {},
          "execution_count": 23
        }
      ]
    },
    {
      "cell_type": "code",
      "source": [
        "#A set of middle school student heights are normally distributed with a mean of \n",
        "#150 centimeters and a standard deviation of 20 centimeters. \n",
        "#Let X= the height of a randomly selected student from this set.\n",
        "#Find (130<X<150). \n",
        "\n",
        "from scipy.stats import norm\n",
        "\n",
        "mean = 70\n",
        "std_dev = 6\n",
        "\n",
        "# Calculate the CDF value at X = 130 and X = 150\n",
        "cdf_at_64 = norm.cdf(64, mean, std_dev)\n",
        "cdf_at_76 = norm.cdf(76, mean, std_dev)\n",
        "\n",
        "# Calculate the probability that 130 < X < 150\n",
        "prob_between_64_76 = cdf_at_76 - cdf_at_64\n",
        "\n",
        "print(\"The probability that a randomly selected student's height falls between 130 and 150 centimeters is:\", prob_between_64_76)\n"
      ],
      "metadata": {
        "colab": {
          "base_uri": "https://localhost:8080/"
        },
        "id": "JHkU5bQyAJBI",
        "outputId": "6a43b917-0b93-42ff-8ae1-57fe862e0877"
      },
      "execution_count": null,
      "outputs": [
        {
          "output_type": "stream",
          "name": "stdout",
          "text": [
            "The probability that a randomly selected student's height falls between 130 and 150 centimeters is: 0.6826894921370859\n"
          ]
        }
      ]
    },
    {
      "cell_type": "code",
      "source": [
        "#A set of middle school student heights are normally distributed with a mean of \n",
        "#70 centimeters and a standard deviation of 6 centimeters. \n",
        "#Let X= the height of a randomly selected student from this set.\n",
        "#Find (X>61). \n",
        "\n",
        "from scipy.stats import norm\n",
        "\n",
        "mean = 70\n",
        "std_dev = 6\n",
        "\n",
        "# Calculate the CDF value at X = 70 and X = 61\n",
        "#cdf_at_130 = norm.cdf(70, mean, std_dev)\n",
        "#cdf_at_150 = norm.cdf(61, mean, std_dev)\n",
        "\n",
        "# Calculate the probability that  X > 61\n",
        "prob_greater_than_61 = norm.sf(61, mean, std_dev)\n",
        "\n",
        "print(\"The probability that a randomly selected student's height is greater than 61 centimeters is:\", prob_greater_than_61)\n"
      ],
      "metadata": {
        "colab": {
          "base_uri": "https://localhost:8080/"
        },
        "id": "QM7gEflqBa9R",
        "outputId": "fba51a54-2a81-4472-b7be-a12ba06879be"
      },
      "execution_count": null,
      "outputs": [
        {
          "output_type": "stream",
          "name": "stdout",
          "text": [
            "The probability that a randomly selected student's height is greater than 61 centimeters is: 0.9331927987311419\n"
          ]
        }
      ]
    },
    {
      "cell_type": "code",
      "source": [
        "#Some nations require their students to pass an exam before earning their primary school degrees or diplomas. \n",
        "#A certain nation gives students an exam whose scores are normally distributed with a mean of 41 points and a standard deviation of 9 points.\n",
        "#Suppose we select 2 of these testers at random, and define the random variable \n",
        "#D as the difference between their scores. We can assume that their scores are independent.\n",
        "#Find the probability that their scores differ by more than 15 points.\n",
        "#You may round your answer to two decimal places. code for combining random variation\n",
        "\n",
        "import scipy.stats\n",
        "\n",
        "mean = 41\n",
        "std_dev = 9\n",
        "\n",
        "# Probability of getting a score difference of more than 15 points\n",
        "p = 1 - scipy.stats.norm.cdf(15, loc=0, scale=(2 * std_dev))\n",
        "\n",
        "print(round(p, 4))\n"
      ],
      "metadata": {
        "colab": {
          "base_uri": "https://localhost:8080/"
        },
        "id": "9ZSphAUItypw",
        "outputId": "87adc7f4-9b68-4116-9874-bebe7c912e74"
      },
      "execution_count": null,
      "outputs": [
        {
          "output_type": "stream",
          "name": "stdout",
          "text": [
            "0.2023\n"
          ]
        }
      ]
    },
    {
      "cell_type": "code",
      "source": [
        "#Suppose that populations of men and women have the following summary statistics for their heights (in centimeters):\n",
        "#Both distributions are approximately normal. Suppose we randomly select a man and a woman from each population, \n",
        "#and calculate the difference between their heights. We can assume that their heights are independent.\n",
        "#Find the probability that the woman is taller than the man as given means and sigmas data below.\n",
        "#You may round your answer to two decimal places. \n",
        "\n",
        "import scipy.stats\n",
        "\n",
        "mean1 = 172\n",
        "sigma1 = 7.2\n",
        "mean2 = 162\n",
        "sigma2 = 5.4\n",
        "\n",
        "# Calculate the Z-score for the difference in height between men and women\n",
        "z = (mean2 - mean1) / ((sigma1**2 + sigma2**2)**0.5)\n",
        "\n",
        "# Calculate the probability of a man being taller than a woman\n",
        "p = 1 - scipy.stats.norm.cdf(z) #1 is total, 1-woman p is man\n",
        "\n",
        "print(round(p, 4))\n"
      ],
      "metadata": {
        "colab": {
          "base_uri": "https://localhost:8080/"
        },
        "id": "cQKgumcEu_Oc",
        "outputId": "7e5dd6eb-619a-4dad-d7d0-1bd4296dc1db"
      },
      "execution_count": null,
      "outputs": [
        {
          "output_type": "stream",
          "name": "stdout",
          "text": [
            "0.8667\n"
          ]
        }
      ]
    },
    {
      "cell_type": "code",
      "source": [
        "import scipy.stats\n",
        "\n",
        "mean1 = 172\n",
        "sigma1 = 7.2\n",
        "mean2 = 162\n",
        "sigma2 = 5.4\n",
        "\n",
        "# Calculate the Z-score for the difference in height between men and women\n",
        "z = (mean2 - mean1) / ((sigma1**2 + sigma2**2)**0.5)\n",
        "\n",
        "# Calculate the probability of a WOMAN being taller than a MAN\n",
        "p = scipy.stats.norm.cdf(z) #no need to substract from 1, since man mean data is taller, women is lower bound, ie. p should be select the shorter side of p\n",
        "\n",
        "print(round(p, 4))\n"
      ],
      "metadata": {
        "colab": {
          "base_uri": "https://localhost:8080/"
        },
        "id": "4E_0eHswy68W",
        "outputId": "e15aa4de-7670-4a92-d33e-b2fd07c50c6f"
      },
      "execution_count": null,
      "outputs": [
        {
          "output_type": "stream",
          "name": "stdout",
          "text": [
            "0.1333\n"
          ]
        }
      ]
    },
    {
      "cell_type": "code",
      "source": [
        "1-0.8667"
      ],
      "metadata": {
        "colab": {
          "base_uri": "https://localhost:8080/"
        },
        "id": "TZE_AzhFzGMq",
        "outputId": "c1a631a4-5164-4745-e59e-c86faa4392b2"
      },
      "execution_count": null,
      "outputs": [
        {
          "output_type": "execute_result",
          "data": {
            "text/plain": [
              "0.13329999999999997"
            ]
          },
          "metadata": {},
          "execution_count": 10
        }
      ]
    },
    {
      "cell_type": "code",
      "source": [
        "#A carnival ride has cars that each hold 4 adult passengers. \n",
        "#The weights of the passengers for this ride are normally distributed with a mean of 65kg\n",
        "# and a standard deviation of 12kg. \n",
        "#Assume that the weights of passengers are independent from each other.\n",
        "#Let T= 4 randomly selected adult passengers for this ride.\n",
        "#Find the probability that the total weight exceeds 290kg.\n",
        "#You may round your answer to two decimal places.\n",
        "\n",
        "import scipy.stats\n",
        "import math\n",
        "\n",
        "d = (12**2)+(12**2)+(12**2)+(12**2) #square is ^ but ** is ok to use with no error..\n",
        "sqrt_d = math.sqrt(x)\n",
        "sqrt_d = std_dev\n",
        "print(\"Deviation =\", std_dev)\n",
        "\n",
        "m = 65*4\n",
        "m = mean\n",
        "print(\"Mean =\", m)   \n",
        "\n",
        "mean = 260\n",
        "std_dev = 24\n",
        "x = 290\n",
        "\n",
        "# Calculate the z-score\n",
        "z = (x - mean) / std_dev\n",
        "\n",
        "# Calculate the probability of the total weight exceeding 290 kg\n",
        "p = 1 - scipy.stats.norm.cdf(z)\n",
        "\n",
        "print(\"The probability of the total weight exceeding 290 kg=\", round(p, 4))\n"
      ],
      "metadata": {
        "colab": {
          "base_uri": "https://localhost:8080/"
        },
        "id": "-JGtJIe7zIK_",
        "outputId": "1e77054f-44a4-4cb7-d054-d777c267d66e"
      },
      "execution_count": null,
      "outputs": [
        {
          "output_type": "stream",
          "name": "stdout",
          "text": [
            "Deviation = 24\n",
            "Mean = 260\n",
            "The probability of the total weight exceeding 290 kg= 0.1056\n"
          ]
        }
      ]
    },
    {
      "cell_type": "code",
      "source": [
        "#A company produces and sells homemade candles and accessories. \n",
        "#Their customers commonly order a large candle and a matching candle stand. \n",
        "# The weights of these candles have a mean of 500g\n",
        "#  and a standard deviation of 15g. \n",
        "#  The weights of the candle stands have a mean of 200g and a standard deviation of 8g. \n",
        "#  Both distributions are approximately normal.\n",
        "# Let T=the total weight of a randomly selected candle and a randomly selected stand, and assume that the two weights are independent.\n",
        "# If the total weight T of the two items is under 683g the company gets a discount on shipping.\n",
        "# Find the probability that the total weight is under 683g.\n",
        "# You may round your answer to two decimal places.\n",
        "\n",
        "import scipy.stats as stats\n",
        "\n",
        "mu1 = 500\n",
        "sigma1 = 15\n",
        "mu2 = 200\n",
        "sigma2 = 8\n",
        "\n",
        "mu_T = mu1 + mu2  # mean of T\n",
        "sigma_T = (sigma1**2 + sigma2**2)**0.5  # standard deviation of T\n",
        "\n",
        "# Calculate the probability of the total weight is under 683\n",
        "z = (683 - mu_T) / sigma_T \n",
        "p = scipy.stats.norm.cdf(z) \n",
        "\n",
        "print(\"Mean =\", mu_T)\n",
        "print(\"Deviation =\", sigma_T)\n",
        "print(\"The probability that the total weight is under 683g is:\", round(p, 4))"
      ],
      "metadata": {
        "colab": {
          "base_uri": "https://localhost:8080/"
        },
        "id": "s5CTNudd2QEu",
        "outputId": "9d4e3315-0505-4628-bacb-e7f3e1e3b80c"
      },
      "execution_count": null,
      "outputs": [
        {
          "output_type": "stream",
          "name": "stdout",
          "text": [
            "Mean = 700\n",
            "Deviation = 17.0\n",
            "The probability that the total weight is under 683g is: 0.1587\n"
          ]
        }
      ]
    },
    {
      "cell_type": "code",
      "source": [
        "# Layla has a coin that has a 60% chance of showing heads each time it is flipped. \n",
        "# She is going to flip the coin 5 times. \n",
        "# Let X represent the number of heads she gets.\n",
        "# What is the probability that she gets more than 3heads.\n",
        "\n",
        "#binom = binomial probability\n",
        "\n",
        "\n",
        "from scipy.stats import binom\n",
        "\n",
        "n = 5\n",
        "p = 0.6\n",
        "k = 4,5 #greater than 3 out of 5\n",
        "\n",
        "# Probability of getting 4 or 5 heads\n",
        "prob = binom.pmf(4, n, p) + binom.pmf(5, n, p)\n",
        "\n",
        "print(f\"The probability of getting more than 3 heads is: {prob:.2f}\")\n",
        "\n",
        "\n"
      ],
      "metadata": {
        "colab": {
          "base_uri": "https://localhost:8080/"
        },
        "id": "kFDfxzKf9HYF",
        "outputId": "a9577155-7c0b-4e50-dc4f-8b7f2bfdc67e"
      },
      "execution_count": null,
      "outputs": [
        {
          "output_type": "stream",
          "name": "stdout",
          "text": [
            "The probability of getting more than 3 heads is: 0.34\n"
          ]
        }
      ]
    },
    {
      "cell_type": "code",
      "source": [
        "# Heather has a coin that has a 60% chance of showing heads each time it is flipped. \n",
        "# She is going to flip the coin 5 times. \n",
        "# Let X represent the number of heads she gets.\n",
        "# What is the probability that she gets exactly 3heads?\n",
        "# You may round your answer to the nearest hundredth.\n",
        "\n",
        "from scipy.stats import binom\n",
        "\n",
        "n = 5\n",
        "p = 0.6\n",
        "\n",
        "# Probability of getting 3 heads\n",
        "prob = binom.pmf(3, n, p) \n",
        "\n",
        "print(f\"The probability of getting exactly 3 heads is: {prob:.2f}\")\n"
      ],
      "metadata": {
        "colab": {
          "base_uri": "https://localhost:8080/"
        },
        "id": "LbIkS18GC-0g",
        "outputId": "63d16e7d-3ccb-4293-be99-b03b0b86a3b8"
      },
      "execution_count": null,
      "outputs": [
        {
          "output_type": "stream",
          "name": "stdout",
          "text": [
            "The probability of getting exactly 3 heads is: 0.35\n"
          ]
        }
      ]
    },
    {
      "cell_type": "code",
      "source": [
        "# Ira ran out of time while taking a multiple-choice test and plans to guess on the last 6 questions. \n",
        "# Each question has 4 possible choices, one of which is correct. \n",
        "# Let X= the number of answers Ira correctly guesses in the last 6 questions.\n",
        "# What is the probability that he answers fewer than 2 questions correctly in the last 6 questions?\n",
        "\n",
        "from scipy.stats import binom\n",
        "n = 6\n",
        "p = 1/4\n",
        "k = 0,1\n",
        "\n",
        "# Probability of getting lower than 2 answers correctly ie. answer 1 is 0,n,p and answer 2 is 1,n,p\n",
        "prob = binom.pmf(0, n, p) + binom.pmf(1, n, p)\n",
        "\n",
        "print(f\"The probability of getting lower than 2 correct answers is: {prob:.2f}\")\n"
      ],
      "metadata": {
        "colab": {
          "base_uri": "https://localhost:8080/"
        },
        "id": "__2Nh9OQDlMr",
        "outputId": "136f8249-32e0-4683-b6fc-0a9581472600"
      },
      "execution_count": null,
      "outputs": [
        {
          "output_type": "stream",
          "name": "stdout",
          "text": [
            "The probability of getting lower than 2 correct answers is: 0.53\n"
          ]
        }
      ]
    },
    {
      "cell_type": "code",
      "source": [
        "# Steph makes 90% of the free throws she attempts. She is going to shoot 3 free throws. \n",
        "# Assume that the results of free throws are independent from each other. \n",
        "# Let X represent the number of free throws she makes.\n",
        "# Find the probability that Steph makes exactly 1 of the 3 free throws.\n",
        "\n",
        "from scipy.stats import binom\n",
        "n = 3\n",
        "p = 0.9\n",
        "k = 1\n",
        "\n",
        "# Probability of getting the probability that Steph makes exactly 1 of the 3 free throws\n",
        "prob = binom.pmf(1, n, p) \n",
        "\n",
        "print(f\"The probability of the probability that Steph makes exactly 1 of the 3 free throws: {prob:.2f}\")\n"
      ],
      "metadata": {
        "colab": {
          "base_uri": "https://localhost:8080/"
        },
        "id": "iY0VIlzvEIy_",
        "outputId": "b6df553d-54a8-4a0a-e1b7-b1fe21fdafb5"
      },
      "execution_count": null,
      "outputs": [
        {
          "output_type": "stream",
          "name": "stdout",
          "text": [
            "The probability of the probability that Steph makes exactly 1 of the 3 free throws: 0.03\n"
          ]
        }
      ]
    },
    {
      "cell_type": "code",
      "source": [
        "# 60%, percent of a certain species of tomato live after transplanting from pot to garden. \n",
        "# Eli transplants 16 of these tomato plants in a garden each month. \n",
        "# Assume that the plants live independently of each other. \n",
        "# Let X equals the number of tomato plants that live each month.\n",
        "# Find the mean and standard deviation of X.\n",
        "\n",
        "import math\n",
        "\n",
        "n = 16\n",
        "p = 0.6\n",
        "\n",
        "mean = n * p\n",
        "std_dev = math.sqrt(n * p * (1 - p))\n",
        "\n",
        "print(\"Mean:\", mean)\n",
        "print(\"Standard deviation:\", round(std_dev, 2))"
      ],
      "metadata": {
        "colab": {
          "base_uri": "https://localhost:8080/"
        },
        "id": "GOIb0S5pHPR4",
        "outputId": "af819a9a-cf19-4830-b109-aae9877ce927"
      },
      "execution_count": null,
      "outputs": [
        {
          "output_type": "stream",
          "name": "stdout",
          "text": [
            "Mean: 9.6\n",
            "Standard deviation: 1.96\n"
          ]
        }
      ]
    },
    {
      "cell_type": "code",
      "source": [
        "# A company produces processing chips for cell phones. \n",
        "# At one of its large factories, 2%, percent of the chips produced are defective in some way. \n",
        "# A quality check involves randomly selecting and testing 500 chips.\n",
        "# What are the mean and standard deviation of the number of defective processing chips in these samples?\n",
        "\n",
        "import math\n",
        "\n",
        "n = 500\n",
        "p = 0.02\n",
        "\n",
        "mean = n * p\n",
        "std_dev = math.sqrt(n * p * (1 - p))\n",
        "\n",
        "print(\"Mean:\", mean)\n",
        "print(\"Standard deviation:\", round(std_dev, 2))"
      ],
      "metadata": {
        "colab": {
          "base_uri": "https://localhost:8080/"
        },
        "id": "chrpXEAqJRpT",
        "outputId": "be7237f5-8042-4e58-da07-e7126de9b1a2"
      },
      "execution_count": null,
      "outputs": [
        {
          "output_type": "stream",
          "name": "stdout",
          "text": [
            "Mean: 10.0\n",
            "Standard deviation: 3.13\n"
          ]
        }
      ]
    },
    {
      "cell_type": "code",
      "source": [
        "# A large fast-food chain runs a promotion where 1-in-4 boxes of french fries include a coupon for a free box of french fries. \n",
        "# Suppose that some location sells 100 of these boxes of fries per day. \n",
        "# Let X, equals the number of coupons won per day.\n",
        "# Find the mean and standard deviation of X.\n",
        "\n",
        "import math\n",
        "\n",
        "n = 100\n",
        "p = 0.25\n",
        "\n",
        "mean = n * p\n",
        "std_dev = math.sqrt(n * p * (1 - p))\n",
        "\n",
        "print(\"Mean:\", mean)\n",
        "print(\"Standard deviation:\", round(std_dev, 2))"
      ],
      "metadata": {
        "colab": {
          "base_uri": "https://localhost:8080/"
        },
        "id": "FfFhIeRzKgEH",
        "outputId": "2461a58a-d100-49e2-c11d-5fa08c076cc7"
      },
      "execution_count": null,
      "outputs": [
        {
          "output_type": "stream",
          "name": "stdout",
          "text": [
            "Mean: 25.0\n",
            "Standard deviation: 4.33\n"
          ]
        }
      ]
    },
    {
      "cell_type": "code",
      "source": [
        "# A television show tests the abilities of alleged psychics by presenting contestants with a set of 4 cards placed upside down, \n",
        "# 1 of which has a star printed on it. Each contestant attempts to identify which card has the star on it for a series of 50 trials.\n",
        "# Assuming that the contestants are purely guessing, what are the mean and standard deviation of the number of trials where the contestant guesses correctly?\n",
        "\n",
        "import math\n",
        "\n",
        "n = 50\n",
        "p = 0.25\n",
        "\n",
        "mean = n * p\n",
        "std_dev = math.sqrt(n * p * (1 - p))\n",
        "\n",
        "print(\"Mean:\", mean)\n",
        "print(\"Standard deviation:\", round(std_dev, 2))\n"
      ],
      "metadata": {
        "colab": {
          "base_uri": "https://localhost:8080/"
        },
        "id": "cp6CK0hOLRHq",
        "outputId": "279eb4e6-622d-40a7-bd72-c4933beb8bdc"
      },
      "execution_count": null,
      "outputs": [
        {
          "output_type": "stream",
          "name": "stdout",
          "text": [
            "Mean: 12.5\n",
            "Standard deviation: 3.06\n"
          ]
        }
      ]
    },
    {
      "cell_type": "code",
      "source": [
        "# Fatima conducts emissions inspections on cars. \n",
        "# She finds that 6%, percent of the cars fail the inspection. \n",
        "# Let C be the number of cars Fatima inspects until a car fails an inspection. \n",
        "# Assume that the results of each inspection are independent.\n",
        "# Find the probability that the first failed inspection occurs on Fatima's 5th inspection.\n",
        "\n",
        "p = 0.06 # probability of a car failing the inspection\n",
        "n = 5 # number of inspections until the first failed inspection\n",
        "\n",
        "# probability of passing the inspection for the first n-1 inspections\n",
        "prob_pass = (1-p)**(n-1)\n",
        "\n",
        "# probability of failing the inspection on the nth inspection\n",
        "prob_fail = p\n",
        "\n",
        "# probability of the first failed inspection occurring on the 5th inspection\n",
        "prob = prob_pass * prob_fail\n",
        "\n",
        "print(\"Probability of the first failed inspection occurring on the 5th inspection:\", round(prob, 4))\n"
      ],
      "metadata": {
        "colab": {
          "base_uri": "https://localhost:8080/"
        },
        "id": "Awb6GLVKLhVM",
        "outputId": "ea390ee6-196e-44f7-d5a8-7783f819f73d"
      },
      "execution_count": null,
      "outputs": [
        {
          "output_type": "stream",
          "name": "stdout",
          "text": [
            "Probability of the first failed inspection occurring on the 5th inspection: 0.0468\n"
          ]
        }
      ]
    },
    {
      "cell_type": "code",
      "source": [
        "#New New visitors to a certain website have a 0.15 probability of creating an account on their first visit. \n",
        "#Let V be the number of new visitors who visit the site until the first one of them creates an account. \n",
        "#Assume that each visitor's decision to create an account or not is independent.\n",
        "#Find the probability that the 6th new visitor is the first to create an account.\n",
        "\n",
        "p = 0.15 # probability of a car failing the inspection\n",
        "n = 6 # number of inspections until the first failed inspection\n",
        "\n",
        "# probability of passing the inspection for the first n-1 inspections\n",
        "prob_pass = (1-p)**(n-1)\n",
        "\n",
        "# probability of failing the inspection on the nth inspection\n",
        "prob_fail = p\n",
        "\n",
        "# probability of the first failed inspection occurring on the 5th inspection\n",
        "prob = prob_pass * prob_fail\n",
        "\n",
        "print(\"Probability of the first failed inspection occurring on the 5th inspection:\", round(prob, 4))\n",
        "\n"
      ],
      "metadata": {
        "id": "BLJ2-2e0O3Yv",
        "colab": {
          "base_uri": "https://localhost:8080/"
        },
        "outputId": "5a12fa35-77e3-430c-9039-74f647300588"
      },
      "execution_count": 1,
      "outputs": [
        {
          "output_type": "stream",
          "name": "stdout",
          "text": [
            "Probability of the first failed inspection occurring on the 5th inspection: 0.0666\n"
          ]
        }
      ]
    },
    {
      "cell_type": "code",
      "source": [
        "# Nuan is using a faulty barcode scanner that misreads barcodes 5%, percent of the time. \n",
        "# Let B = the number of barcodes Nuan scans until the scanner misreads one. \n",
        "# Assume the success of each scan is independent.\n",
        "# Find the probability that Nuan scans greater than 10 barcodes before the scanner misreads one.\n",
        "# You may round your answer to the nearest hundredth.\n",
        "\n",
        "p = 0.06 # probability of registering a leased vehicle\n",
        "q = 0.94 # probability of registering a non-leased vehicle\n",
        "\n",
        "k = 3 # number of vehicles until Minenhle registers a leased vehicle\n",
        "\n",
        "prob = 1 - q**k # probability of registering a leased vehicle within the first k vehicles\n",
        "\n",
        "print(\"The probability that Minenhle registers a leased vehicle within the first 3 vehicles of the day is {:.3f}\".format(prob))\n"
      ],
      "metadata": {
        "colab": {
          "base_uri": "https://localhost:8080/"
        },
        "id": "X4sRopK_3UTw",
        "outputId": "bd98006a-2fcd-477b-e7c3-5106531631a4"
      },
      "execution_count": 30,
      "outputs": [
        {
          "output_type": "stream",
          "name": "stdout",
          "text": [
            "The probability that Minenhle registers a leased vehicle within the first 3 vehicles of the day is 0.169\n"
          ]
        }
      ]
    },
    {
      "cell_type": "code",
      "source": [
        "p = 0.25 # probability of making a three-point shot\n",
        "q = 0.75 # probability of missing a three-point shot\n",
        "\n",
        "k = 3 # number of attempts before making the first shot\n",
        "\n",
        "prob = 1 - q**k # probability of making the first shot within the first k attempts\n",
        "\n",
        "print(\"The probability that it takes Jeremiah fewer than 4 attempts to make his first shot is {:.3f}\".format(prob))\n"
      ],
      "metadata": {
        "colab": {
          "base_uri": "https://localhost:8080/"
        },
        "id": "6-RSo5mA9rJ8",
        "outputId": "87dc00f7-b89e-40e4-f78a-9b2edb9a4fb5"
      },
      "execution_count": 35,
      "outputs": [
        {
          "output_type": "stream",
          "name": "stdout",
          "text": [
            "The probability that it takes Jeremiah fewer than 4 attempts to make his first shot is 0.578\n"
          ]
        }
      ]
    },
    {
      "cell_type": "code",
      "source": [
        "p = 0.12 # probability of making a three-point shot\n",
        "q = 0.88 # probability of missing a three-point shot\n",
        "\n",
        "k = 4 # number of attempts before making the first shot\n",
        "\n",
        "prob = 1 - q**k # probability of making the first shot within the first k attempts\n",
        "\n",
        "print(\"The probability that it takes Jeremiah fewer than 4 attempts to make his first shot is {:.3f}\".format(prob))\n"
      ],
      "metadata": {
        "colab": {
          "base_uri": "https://localhost:8080/"
        },
        "id": "jlpZNGNB_9zL",
        "outputId": "751e30ac-97e7-41c2-8164-03fa9e0a9759"
      },
      "execution_count": 38,
      "outputs": [
        {
          "output_type": "stream",
          "name": "stdout",
          "text": [
            "The probability that it takes Jeremiah fewer than 4 attempts to make his first shot is 0.000\n"
          ]
        }
      ]
    },
    {
      "cell_type": "code",
      "source": [
        "#poisson process python code example for traffic forecast\n",
        "\n",
        "import numpy as np\n",
        "import matplotlib.pyplot as plt\n",
        "\n",
        "# Set the time period of interest\n",
        "T = 100\n",
        "\n",
        "# Set the rate parameter lambda\n",
        "lam = 0.5\n",
        "\n",
        "# Generate a Poisson process with rate lambda\n",
        "t = 10\n",
        "n = 1\n",
        "arrivals = []\n",
        "while t < T:\n",
        "    t += np.random.exponential(1/lam)\n",
        "    if t < T:\n",
        "        arrivals.append(t)\n",
        "        n += 1\n",
        "\n",
        "# Plot the Poisson process\n",
        "fig, ax = plt.subplots()\n",
        "ax.eventplot(arrivals, linewidths=2)\n",
        "ax.set_xlabel('Time')\n",
        "ax.set_ylabel('Number of arrivals')\n",
        "ax.set_title(f'Poisson process with rate lambda={lam}')\n",
        "plt.show()\n"
      ],
      "metadata": {
        "colab": {
          "base_uri": "https://localhost:8080/",
          "height": 472
        },
        "id": "4sJiFz3ZCMLq",
        "outputId": "9d1686cf-80a4-48f6-b6b5-3da31a7f4a53"
      },
      "execution_count": 43,
      "outputs": [
        {
          "output_type": "display_data",
          "data": {
            "text/plain": [
              "<Figure size 640x480 with 1 Axes>"
            ],
            "image/png": "[encoded data removed]"
          },
          "metadata": {}
        }
      ]
    },
    {
      "cell_type": "code",
      "source": [
        "import scipy.stats as stats\n",
        "\n",
        "# Sample data\n",
        "sample_mean = 80\n",
        "sample_std = 10\n",
        "sample_size = 100\n",
        "\n",
        "# Calculate the standard error\n",
        "std_error = sample_std / (sample_size ** 0.5)\n",
        "\n",
        "# Calculate the t-value for a 95% confidence level with n-1 degrees of freedom\n",
        "t_value = stats.t.ppf(0.975, sample_size - 1)\n",
        "\n",
        "# Calculate the confidence interval\n",
        "lower = sample_mean - t_value * std_error\n",
        "upper = sample_mean + t_value * std_error\n",
        "\n",
        "# Print the results\n",
        "print(f\"95% confidence interval: [{lower:.2f}, {upper:.2f}]\")\n"
      ],
      "metadata": {
        "colab": {
          "base_uri": "https://localhost:8080/"
        },
        "id": "ExkrewGhFP4M",
        "outputId": "de84cc9b-3a31-4f5e-d66d-de38e01e8ef3"
      },
      "execution_count": 45,
      "outputs": [
        {
          "output_type": "stream",
          "name": "stdout",
          "text": [
            "95% confidence interval: [78.02, 81.98]\n"
          ]
        }
      ]
    },
    {
      "cell_type": "code",
      "source": [
        "#What is the confidece level of z* 1.476?\n",
        "\n",
        "import scipy.stats as stats\n",
        "\n",
        "z_star = 1.476  # given critical value\n",
        "\n",
        "# find area to the right of z_star\n",
        "p_value = 1 - stats.norm.cdf(z_star)\n",
        "\n",
        "# convert to confidence level\n",
        "confidence_level = round((1 - p_value) * 100, 4)\n",
        "\n",
        "print(f\"Emer used a {confidence_level}% confidence level.\")\n"
      ],
      "metadata": {
        "colab": {
          "base_uri": "https://localhost:8080/"
        },
        "id": "b01z66fkHAXH",
        "outputId": "2e2be515-76dd-43fc-dc58-50c78aee8d71"
      },
      "execution_count": 53,
      "outputs": [
        {
          "output_type": "stream",
          "name": "stdout",
          "text": [
            "Emer used a 93.0028% confidence level.\n"
          ]
        }
      ]
    },
    {
      "cell_type": "code",
      "source": [
        "#What is the critical value z * for constructing an 85% confidence interval?\n",
        "\n",
        "from scipy.stats import norm\n",
        "\n",
        "z_star = norm.ppf(0.925)\n",
        "print(z_star)"
      ],
      "metadata": {
        "colab": {
          "base_uri": "https://localhost:8080/"
        },
        "id": "4hkVD-taHosM",
        "outputId": "f1be9976-9a33-4f47-d09b-096640fe741c"
      },
      "execution_count": 49,
      "outputs": [
        {
          "output_type": "stream",
          "name": "stdout",
          "text": [
            "1.4395314709384563\n"
          ]
        }
      ]
    },
    {
      "cell_type": "code",
      "source": [
        "from scipy.stats import norm\n",
        "\n",
        "# find the critical value z* for a confidence level of 94%\n",
        "z_star = norm.ppf(0.97)\n",
        "\n",
        "print(\"Critical value z*:\", z_star)\n"
      ],
      "metadata": {
        "colab": {
          "base_uri": "https://localhost:8080/"
        },
        "id": "CYkcsWwfIms1",
        "outputId": "f6d77178-1130-4203-c353-0847057ca513"
      },
      "execution_count": 51,
      "outputs": [
        {
          "output_type": "stream",
          "name": "stdout",
          "text": [
            "Critical value z*: 1.8807936081512509\n"
          ]
        }
      ]
    },
    {
      "cell_type": "code",
      "source": [
        "import math\n",
        "\n",
        "p = 20/80  # sample proportion\n",
        "n = 1000   # sample size\n",
        "z_star = 1.96  # critical value for 95% confidence interval\n",
        "\n",
        "se = math.sqrt((p*(1-p))/n)  # standard error\n",
        "\n",
        "lower_bound = p - z_star*se  # lower bound of confidence interval\n",
        "upper_bound = p + z_star*se  # upper bound of confidence interval\n",
        "\n",
        "print(f\"({lower_bound:.3f}, {upper_bound:.3f})\")\n"
      ],
      "metadata": {
        "colab": {
          "base_uri": "https://localhost:8080/"
        },
        "id": "XcJ0PL39JgYO",
        "outputId": "2126db94-e1c9-4a15-e3e7-4979d213c49e"
      },
      "execution_count": 54,
      "outputs": [
        {
          "output_type": "stream",
          "name": "stdout",
          "text": [
            "(0.223, 0.277)\n"
          ]
        }
      ]
    },
    {
      "cell_type": "code",
      "source": [
        "import math\n",
        "\n",
        "n = 80\n",
        "p = 20/80\n",
        "z_star = 1.96\n",
        "\n",
        "standard_error = math.sqrt(p*(1-p)/n)\n",
        "margin_of_error = z_star * standard_error\n",
        "lower_bound = p - margin_of_error\n",
        "upper_bound = p + margin_of_error\n",
        "\n",
        "print(\"Lower bound:\", lower_bound)\n",
        "print(\"Upper bound:\", upper_bound)\n",
        "print(f\"({lower_bound:.3f}, {upper_bound:.3f})\")"
      ],
      "metadata": {
        "colab": {
          "base_uri": "https://localhost:8080/"
        },
        "id": "hZGy3w-mLQh2",
        "outputId": "cc90667c-7ae5-46d6-bd2e-8fb804bc27e9"
      },
      "execution_count": 57,
      "outputs": [
        {
          "output_type": "stream",
          "name": "stdout",
          "text": [
            "Lower bound: 0.1551119080179183\n",
            "Upper bound: 0.3448880919820817\n",
            "(0.155, 0.345)\n"
          ]
        }
      ]
    },
    {
      "cell_type": "code",
      "source": [
        "import math\n",
        "\n",
        "# Given values\n",
        "z_star = 2.576  # for 99% confidence level\n",
        "p_hat = 0.06\n",
        "m = 0.03\n",
        "\n",
        "# Calculate the minimum sample size\n",
        "n = ((z_star**2) * p_hat * (1 - p_hat)) / (m**2)\n",
        "n = math.ceil(n)\n",
        "\n",
        "print(\"Minimum sample size:\", n)\n"
      ],
      "metadata": {
        "colab": {
          "base_uri": "https://localhost:8080/"
        },
        "id": "wDjn-EK1MpUg",
        "outputId": "cf665294-dab4-4351-8c51-7ae3febfcc6d"
      },
      "execution_count": 58,
      "outputs": [
        {
          "output_type": "stream",
          "name": "stdout",
          "text": [
            "Minimum sample size: 416\n"
          ]
        }
      ]
    },
    {
      "cell_type": "code",
      "source": [
        "#  Jeremiah wants to estimate the mean age of students at his large university. \n",
        "# He'll sample n students and make a 95% confidence interval for the mean age. \n",
        "# He is willing to use σ=3sigma, equals, 3 years as an estimate of the standard deviation, \n",
        "# and he wants the margin of error to be no more than 1year.\n",
        "# Which of these is the smallest approximate sample size required to obtain the desired margin of error?\n",
        "\n",
        "import math\n",
        "\n",
        "z = 1.96 #Z table figure for 95%\n",
        "sigma = 3\n",
        "E = 1\n",
        "\n",
        "n = math.ceil(((z * sigma) / E) ** 2)\n",
        "\n",
        "print(\"Smallest approximate sample size required:\", n)\n"
      ],
      "metadata": {
        "colab": {
          "base_uri": "https://localhost:8080/"
        },
        "id": "NB-Bg2aQN1AT",
        "outputId": "8d61a44a-5b88-4cbf-b470-c394723ad69a"
      },
      "execution_count": 61,
      "outputs": [
        {
          "output_type": "stream",
          "name": "stdout",
          "text": [
            "Smallest approximate sample size required: 35\n"
          ]
        }
      ]
    },
    {
      "cell_type": "code",
      "source": [
        "#Sample size and margin of error in a confidence interval for a mean\n",
        "\n",
        "# Dr. Ashby is studying the heart rate of adult men. \n",
        "# Preliminary data suggests that the standard deviation of heart rates for adult men is σ=7.5 beats per minute (bpm). \n",
        "# He plans on taking a sample of n men to construct a 99% confidence interval for the mean heart rate. \n",
        "# He wants the margin of error to be no more than 3bpm.\n",
        "# Which of these is the smallest approximate sample size required to obtain the desired margin of error?\n",
        "\n",
        "import math\n",
        "import scipy.stats as stats\n",
        "\n",
        "alpha = 1 - 0.99  # calculate alpha level\n",
        "z_score = stats.norm.ppf(1 - alpha/2)  # calculate z-score\n",
        "print(z_score)\n",
        "\n",
        "\n",
        "z = z_score  # z-score for 99% confidence level\n",
        "σ = 7.5  # standard deviation of heart rates for adult men\n",
        "E = 3  # desired margin of error\n",
        "\n",
        "n = math.ceil(((z * σ) / E) ** 2)\n",
        "\n",
        "print(n)\n",
        "\n"
      ],
      "metadata": {
        "colab": {
          "base_uri": "https://localhost:8080/"
        },
        "id": "OcLa72uSONEi",
        "outputId": "4fdc69ea-267b-4b5b-a94a-26035bcece83"
      },
      "execution_count": 70,
      "outputs": [
        {
          "output_type": "stream",
          "name": "stdout",
          "text": [
            "2.5758293035489004\n",
            "42\n"
          ]
        }
      ]
    },
    {
      "cell_type": "code",
      "source": [
        "#formula for 90% confident z_score\n",
        "\n",
        "import scipy.stats as stats\n",
        "\n",
        "alpha = 1 - 0.90  # calculate alpha level\n",
        "z_score = stats.norm.ppf(1 - alpha/2)  # calculate z-score\n",
        "print(z_score)\n"
      ],
      "metadata": {
        "colab": {
          "base_uri": "https://localhost:8080/"
        },
        "id": "bLYeZdQhPcpx",
        "outputId": "34953afd-788e-4b3b-897c-d021b3e329d7"
      },
      "execution_count": 69,
      "outputs": [
        {
          "output_type": "stream",
          "name": "stdout",
          "text": [
            "1.6448536269514722\n"
          ]
        }
      ]
    },
    {
      "cell_type": "code",
      "source": [
        "#Sample size and margin of error in a confidence interval for a mean\n",
        "\n",
        "# Jessa works at a potato chip factory and would like to estimate the mean weight in grams of the factory's potato chip bags for quality control purposes. \n",
        "# She'll sample n bags of chips to build a 90% confidence interval for the mean with a margin of error of no more than 15g. \n",
        "# Preliminary data suggests thatσ=60 g is a reasonable estimate for the standard deviation of these weights.\n",
        "# Which of these is the smallest approximate sample size required to obtain the desired margin of error?\n",
        "\n",
        "import math\n",
        "import scipy.stats as stats\n",
        "\n",
        "alpha = 1 - 0.90  # calculate alpha level\n",
        "z_score = stats.norm.ppf(1 - alpha/2)  # calculate z-score\n",
        "print(z_score)\n",
        "\n",
        "\n",
        "z = z_score  # z-score for 99% confidence level\n",
        "σ = 60  # standard deviation of heart rates for adult men\n",
        "E = 15  # desired margin of error\n",
        "\n",
        "n = math.ceil(((z * σ) / E) ** 2)\n",
        "\n",
        "print(n)\n",
        "\n"
      ],
      "metadata": {
        "colab": {
          "base_uri": "https://localhost:8080/"
        },
        "id": "ykKE9ATTQlS5",
        "outputId": "3250dd1b-d5be-4a2b-dac1-a72e16e1457e"
      },
      "execution_count": 71,
      "outputs": [
        {
          "output_type": "stream",
          "name": "stdout",
          "text": [
            "1.6448536269514722\n",
            "44\n"
          ]
        }
      ]
    },
    {
      "cell_type": "code",
      "source": [
        "import math\n",
        "import scipy.stats as stats\n",
        "\n",
        "alpha = 1 - 0.95  # calculate alpha level\n",
        "z_score = stats.norm.ppf(1 - alpha/2)  # calculate z-score\n",
        "print(z_score)\n",
        "\n",
        "\n",
        "z = z_score  # z-score for 99% confidence level\n",
        "σ = 15  # standard deviation of heart rates for adult men\n",
        "E = 5  # desired margin of error\n",
        "\n",
        "n = math.ceil(((z * σ) / E) ** 2)\n",
        "\n",
        "print(n)"
      ],
      "metadata": {
        "colab": {
          "base_uri": "https://localhost:8080/"
        },
        "id": "MaJOOaB7Svk1",
        "outputId": "a30e868b-5687-42ce-8d8a-72fed4061054"
      },
      "execution_count": 72,
      "outputs": [
        {
          "output_type": "stream",
          "name": "stdout",
          "text": [
            "1.959963984540054\n",
            "35\n"
          ]
        }
      ]
    },
    {
      "cell_type": "code",
      "source": [
        "#Simple hypothesis sample code sample\n",
        "\n",
        "# Joy's Toys Company received a huge shipment of rubber duckies from a factory. \n",
        "#The factory guaranteed Joy that the percentage of defective toys won’t exceed 1.5% but Joy suspects it does. \n",
        "# She took a random sample of 200 duckies, and found that 4% of them were defective.\n",
        "# Let's test the hypothesis that the actual percentage of defective duckies is 1.5% versus the alternative \n",
        "# that the actual percentage is higher than that.\n",
        "# The table below sums up the results of 1000 simulations, each simulating a sample of 200 duckies, \n",
        "# assuming there are 1.5% defective duckies.\n",
        "# According to the simulations, what is the probability of getting a sample with 4% defective duckies or more?\n",
        "\n",
        "import numpy as np\n",
        "\n",
        "# set the null hypothesis percentage\n",
        "null_perc = 1.5\n",
        "\n",
        "# set the sample size\n",
        "n = 200\n",
        "\n",
        "# set the observed percentage of defective toys\n",
        "obs_perc = 4\n",
        "\n",
        "# simulate 1000 samples under the null hypothesis\n",
        "simulated_perc = np.random.normal(null_perc, np.sqrt(null_perc*(100-null_perc)/n), 1000)\n",
        "\n",
        "# calculate the proportion of simulated samples with a percentage of defectives greater than or equal to the observed percentage\n",
        "p_value = np.sum(simulated_perc >= obs_perc)/1000\n",
        "\n",
        "# check if p-value is less than 0.01, and if so, reject the null hypothesis\n",
        "if p_value < 0.01:\n",
        "    print(\"We should reject the hypothesis.\")\n",
        "else:\n",
        "    print(\"We cannot reject the hypothesis.\")\n",
        "    \n",
        "print(\"p-value:\", p_value)\n"
      ],
      "metadata": {
        "colab": {
          "base_uri": "https://localhost:8080/"
        },
        "id": "mYy6m53mV8VU",
        "outputId": "139cc135-fe1d-41c7-9b08-4f0e015be49e"
      },
      "execution_count": 88,
      "outputs": [
        {
          "output_type": "stream",
          "name": "stdout",
          "text": [
            "We should reject the hypothesis.\n",
            "p-value: 0.001\n"
          ]
        }
      ]
    },
    {
      "cell_type": "code",
      "source": [
        "#Olga has a pair of dogs, and she noticed they usually breed more male puppies than females. \n",
        "# To check that, she bred them again and obtained 4 puppies, and all of them were males.\n",
        "# Let's test the hypothesis that each puppy has an equal chance of \n",
        "# 50% of being either male or female versus the alternative that the chance of a male puppy is greater.\n",
        "# Assuming the hypothesis is correct, what is the probability of having \n",
        "# 4 male puppies out of 4? Round your answer, if necessary, to the nearest tenth of a percent. \n",
        "\n",
        "# python code for simple hypothesis sampling\n",
        "\n",
        "import random\n",
        "\n",
        "# Define the null hypothesis\n",
        "null_hypothesis = 0.5\n",
        "\n",
        "# Define the number of puppies\n",
        "n_puppies = 4\n",
        "\n",
        "# Simulate 10000 trials assuming the null hypothesis\n",
        "n_trials = 10000\n",
        "n_male_puppies = []\n",
        "for i in range(n_trials):\n",
        "    male_puppies = 0\n",
        "    for j in range(n_puppies):\n",
        "        if random.random() < null_hypothesis:\n",
        "            male_puppies += 1\n",
        "    n_male_puppies.append(male_puppies)\n",
        "\n",
        "# Calculate the probability of getting 4 male puppies or more\n",
        "n_successes = sum(1 for x in n_male_puppies if x >= 4)\n",
        "probability = n_successes / n_trials * 100\n",
        "\n",
        "# Print the result\n",
        "print(\"The probability of having 4 male puppies out of 4 assuming the null hypothesis is {:.1f}%\".format(probability))\n"
      ],
      "metadata": {
        "colab": {
          "base_uri": "https://localhost:8080/"
        },
        "id": "mkzXLnntWhgx",
        "outputId": "3c1a0b59-ec25-48f8-827d-1a28d14fbaf1"
      },
      "execution_count": 99,
      "outputs": [
        {
          "output_type": "stream",
          "name": "stdout",
          "text": [
            "The probability of having 4 male puppies out of 4 assuming the null hypothesis is 6.4%\n"
          ]
        }
      ]
    },
    {
      "cell_type": "code",
      "source": [
        "# Ellie read an article claiming that 10% of people in her county were senior citizens, \n",
        "# and she thought that it may be higher for residents in her city. \n",
        "# She took a random sample of 225 people from her city and found that 36 of them were senior citizens.\n",
        "# She wants to test H0:p=0.10 versus Ha:p>0.10, where \n",
        "# p is the proportion of people in her city that are senior citizens.\n",
        "# Assuming that the conditions for inference have been met, calculate the test statistic for Ellie's significance test.\n",
        "# You may round to two decimal places.\n",
        "\n",
        "import math\n",
        "\n",
        "p_hat = 36/225\n",
        "p = 0.10\n",
        "n = 225\n",
        "\n",
        "z = (p_hat - p) / math.sqrt(p * (1 - p) / n)\n",
        "\n",
        "print(round(z, 2))\n"
      ],
      "metadata": {
        "colab": {
          "base_uri": "https://localhost:8080/"
        },
        "id": "BQYLn3PhZlGq",
        "outputId": "97eb0ca1-1c15-4be8-fcab-8f8f6fd2cc4e"
      },
      "execution_count": 102,
      "outputs": [
        {
          "output_type": "stream",
          "name": "stdout",
          "text": [
            "3.0\n"
          ]
        }
      ]
    },
    {
      "cell_type": "code",
      "source": [
        "import math\n",
        "\n",
        "p_hat = n/240\n",
        "p = 0.06\n",
        "n = 240*0.36\n",
        "\n",
        "z = (p_hat - p) / math.sqrt(p * (1 - p) / n)\n",
        "\n",
        "print(round(z, 3))"
      ],
      "metadata": {
        "colab": {
          "base_uri": "https://localhost:8080/"
        },
        "id": "Y5kQR94qeRcK",
        "outputId": "4daac212-c9af-44db-99b7-4973cfc82783"
      },
      "execution_count": 107,
      "outputs": [
        {
          "output_type": "stream",
          "name": "stdout",
          "text": [
            "13.96\n"
          ]
        }
      ]
    },
    {
      "cell_type": "code",
      "source": [
        "#Elliot read a report from a previous year saying that 6% of adults in his city biked to work. \n",
        "# He wanted to test whether this had changed, so he took a random sample of 240 adults in his city to test \n",
        "# H0:p=0.06 versus Ha:p!=0.06,where p is the proportion of adults in Elliot's city that bike to work.\n",
        "# he sample results showed 21 adults who biked to work, and the corresponding test statistic was z≈1.79.\n",
        "# Assuming that the necessary conditions are met, what is the approximate P-value for Elliot's significance test?\n",
        "\n",
        "from scipy.stats import norm\n",
        "\n",
        "p_hat = 21/240\n",
        "p_null = 0.06\n",
        "n = 240\n",
        "z = (p_hat - p_null) / ( (p_null * (1 - p_null)) / n )**(1/2)\n",
        "p_value = 2 * (1 - norm.cdf(abs(z)))\n",
        "\n",
        "print(round(p_value, 3)) # Output: 0.074"
      ],
      "metadata": {
        "colab": {
          "base_uri": "https://localhost:8080/"
        },
        "id": "dTL_vZcjfmfx",
        "outputId": "75e218e6-7a87-43c4-bbb5-07dfd677ed33"
      },
      "execution_count": 115,
      "outputs": [
        {
          "output_type": "stream",
          "name": "stdout",
          "text": [
            "0.073\n"
          ]
        }
      ]
    },
    {
      "cell_type": "code",
      "source": [
        "# The mayor of a town read an article that claimed the national unemployment rate was 8%. \n",
        "# They suspected that the unemployment rate was lower in their town, so they took a sample of 128 residents to test \n",
        "# H0:p=0.08,versus Ha:p<0.08, where p is the proportion of residents that are unemployed.\n",
        "# They found that 6 residents in the sample were unemployed, and the corresponding test statistic was z≈−1.38.\n",
        "# Assuming that the necessary conditions are met, what is the approximate P-value for this significance test?\n",
        "from scipy.stats import norm\n",
        "\n",
        "n = 128\n",
        "p_null = 0.08\n",
        "x = 6\n",
        "se = (p_null*(1-p_null)/n)**0.5\n",
        "z = (x/n - p_null) / se\n",
        "p_value = norm.cdf(z)\n",
        "\n",
        "print(\"P-value:\", round(p_value, 3))\n"
      ],
      "metadata": {
        "colab": {
          "base_uri": "https://localhost:8080/"
        },
        "id": "XF8pgW6ThbWv",
        "outputId": "dafc1815-b964-485c-afe0-ce785e30c662"
      },
      "execution_count": 117,
      "outputs": [
        {
          "output_type": "stream",
          "name": "stdout",
          "text": [
            "P-value: 0.084\n"
          ]
        }
      ]
    },
    {
      "cell_type": "code",
      "source": [
        "# In 2011, 51% of cell phone owners in a country reported that their cell phone was a smartphone. \n",
        "# The following year, the researchers wanted to test H 0:p=0.51 versus H a:p>0.51 where p is the proportion of cell phone owners in that country who have a smartphone.\n",
        "# They surveyed a random sample of 934 cell phone owners in that country and found that 501 of them had a smartphone. \n",
        "# The test statistic for these results was z≈1.61.\n",
        "# Assuming that the necessary conditions are met, what is the approximate P-value for their significance test?\n",
        "# You may round to three decimal places.\n",
        "\n",
        "from scipy.stats import norm\n",
        "\n",
        "p_hat = 501/934\n",
        "p_null = 0.51\n",
        "n = 934\n",
        "\n",
        "z = (p_hat - p_null) / (p_null*(1-p_null) / n)**0.5\n",
        "\n",
        "p_value = 1 - norm.cdf(z)\n",
        "\n",
        "print(round(p_value, 3))\n",
        "\n"
      ],
      "metadata": {
        "colab": {
          "base_uri": "https://localhost:8080/"
        },
        "id": "otjUEL47lDdG",
        "outputId": "1f03cabc-e815-49a1-d9bb-8849a0c435ac"
      },
      "execution_count": 119,
      "outputs": [
        {
          "output_type": "stream",
          "name": "stdout",
          "text": [
            "0.053\n"
          ]
        }
      ]
    },
    {
      "cell_type": "code",
      "source": [
        "# Omar is a quality control expert at a factory that paints car parts. \n",
        "# He knew that 20% of parts were being painted with an error, so he made a change in the painting process. \n",
        "# After the change, he wanted to test H0:p=0.2 versus Ha:p<0.2 where p is the proportion of parts that were being painted with an error.\n",
        "# Omar took a sample of 400 parts and found that 16% of them had an error. \n",
        "# He used these results to calculate a test statistic of z=−2.00 and a P-value of approximately 0.023. \n",
        "# Assume that the conditions for inference were met.\n",
        "# Is there sufficient evidence at the α=0.05  level to conclude that less than 20% of the parts are being painted with an error?\n",
        "\n",
        "import scipy.stats as stats\n",
        "\n",
        "p_hat = 0.16\n",
        "p_null = 0.2\n",
        "n = 400\n",
        "alpha = 0.05\n",
        "\n",
        "z = (p_hat - p_null) / ( (p_null * (1 - p_null) / n) ** 0.5 )\n",
        "p_value = stats.norm.cdf(z)\n",
        "\n",
        "print(p_value)\n",
        "\n",
        "if p_value < alpha:\n",
        "    print(\"Reject the null hypothesis.\")\n",
        "else:\n",
        "    print(\"Fail to reject the null hypothesis.\")\n",
        "\n"
      ],
      "metadata": {
        "colab": {
          "base_uri": "https://localhost:8080/"
        },
        "id": "j5ejWOQVmYBx",
        "outputId": "64fcb878-de57-448e-98f7-b04f7b5f8cf9"
      },
      "execution_count": 121,
      "outputs": [
        {
          "output_type": "stream",
          "name": "stdout",
          "text": [
            "0.022750131948179177\n",
            "Reject the null hypothesis.\n"
          ]
        }
      ]
    },
    {
      "cell_type": "code",
      "source": [
        "# Problem Ava read an article claiming that 10% of people in her county were senior citizens, \n",
        "# and she wondered if this held true for residents in her city. She took a random sample of \n",
        "# 225 people from her city to test H0:p=0.10 versus Ha:p=0.10 where p is the proportion of people in her city that are senior citizens.\n",
        "# Ava found that approximately 14% of those sampled were senior citizens. \n",
        "# She conducted an appropriate significance test, and the resulting test statistic was z≈1.89 with a corresponding P-value of approximately 0.06. \n",
        "# Assume that the conditions for inference were met.\n",
        "# Is there sufficient evidence at the α=0.05 level to conclude that the proportion of people in her city that are senior citizens is not 10%?\n",
        "\n",
        "import scipy.stats as stats\n",
        "\n",
        "# population proportion\n",
        "p0 = 0.10\n",
        "\n",
        "# sample proportion\n",
        "p = 0.14\n",
        "\n",
        "# sample size\n",
        "n = 225\n",
        "\n",
        "# calculate the test statistic\n",
        "z = (p - p0) / ( (p0*(1-p0))**0.5 / (n**0.5) )\n",
        "\n",
        "# calculate the two-tailed p-value\n",
        "p_value = 2 * (1 - stats.norm.cdf(abs(z)))\n",
        "\n",
        "# check if p-value is less than alpha\n",
        "alpha = 0.05\n",
        "if p_value < alpha:\n",
        "    print(\"There is sufficient evidence to reject H0.\")\n",
        "else:\n",
        "    print(\"There is not sufficient evidence to reject H0.\")\n",
        "\n",
        "print(z)\n",
        "print(p_value)\n",
        "\n"
      ],
      "metadata": {
        "colab": {
          "base_uri": "https://localhost:8080/"
        },
        "id": "wR0hfduypMKa",
        "outputId": "5ab694e0-e153-4a9a-9ab6-2c5e11d87891"
      },
      "execution_count": 124,
      "outputs": [
        {
          "output_type": "stream",
          "name": "stdout",
          "text": [
            "There is sufficient evidence to reject H0.\n",
            "2.0\n",
            "0.04550026389635842\n"
          ]
        }
      ]
    },
    {
      "cell_type": "code",
      "source": [
        "#Calculating the P-value in a t test for a mean\n",
        "\n",
        "# Adam is a golfer who thinks that his drives have an average length of more than 200m. \n",
        "# He decided to test H0:μ=200m versus Ha:μ>200m using a sample of 49 drives. \n",
        "# His sample mean distance was 208m　and his sample standard deviation was 25m.\n",
        "# Adam wants to use these sample data to conduct a t test on the mean. \n",
        "# Assume that all conditions for inference have been met.\n",
        "# Calculate the test statistic for Adam's test.\n",
        "\n",
        "import math\n",
        "\n",
        "# Given data\n",
        "n = 49\n",
        "sample_mean = 208\n",
        "sample_sd = 25\n",
        "pop_mean = 200\n",
        "\n",
        "# Calculate the t-score\n",
        "t_score = (sample_mean - pop_mean) / (sample_sd / math.sqrt(n))\n",
        "\n",
        "# Round the t-score to two decimal places\n",
        "t_score = round(t_score, 2)\n",
        "\n",
        "# Print the t-score\n",
        "print(f'The t-score is: {t_score}')\n"
      ],
      "metadata": {
        "colab": {
          "base_uri": "https://localhost:8080/"
        },
        "id": "6sAHHZWJqAwc",
        "outputId": "f8d59fb3-50cb-42d0-855b-45044e561ac0"
      },
      "execution_count": 4,
      "outputs": [
        {
          "output_type": "stream",
          "name": "stdout",
          "text": [
            "The t-score is: 2.24\n"
          ]
        }
      ]
    },
    {
      "cell_type": "code",
      "source": [
        "#Calculating the P-value in a t test for a mean\n",
        "\n",
        "import math\n",
        "\n",
        "# Given data\n",
        "n = 16\n",
        "sample_mean = 2.8\n",
        "sample_sd = 0.8\n",
        "pop_mean = 2.5\n",
        "\n",
        "# Calculate the t-score\n",
        "t_score = (sample_mean - pop_mean) / (sample_sd / math.sqrt(n))\n",
        "\n",
        "# Round the t-score to two decimal places\n",
        "t_score = round(t_score, 2)\n",
        "\n",
        "# Print the t-score\n",
        "print(f'The t-score is: {t_score}')"
      ],
      "metadata": {
        "colab": {
          "base_uri": "https://localhost:8080/"
        },
        "id": "LbKGCys0viPD",
        "outputId": "1acffbd3-4d90-48cb-e814-e9a0fd919a0e"
      },
      "execution_count": 6,
      "outputs": [
        {
          "output_type": "stream",
          "name": "stdout",
          "text": [
            "The t-score is: 1.5\n"
          ]
        }
      ]
    },
    {
      "cell_type": "code",
      "source": [
        "#Calculating the P-value in a t test for a mean\n",
        "\n",
        "# Evelynn was testing H0:μ=52 versus Ha:μ<52 with a sample of 9 observations. \n",
        "# Her test statistic was t=−2.83. \n",
        "# Assume that the conditions for inference were met.\n",
        "# What is the approximate P-value for Evelynn's test?\n",
        "\n",
        "from scipy.stats import t\n",
        "\n",
        "# Given data\n",
        "n = 9\n",
        "t_score = -2.83\n",
        "\n",
        "# Degrees of freedom\n",
        "df = n - 1\n",
        "\n",
        "# Calculate the p-value\n",
        "p_value = t.cdf(t_score, df)\n",
        "\n",
        "# Round the p-value to four decimal places\n",
        "p_value = round(p_value, 4)\n",
        "\n",
        "# Print the p-value\n",
        "print(f'The approximate p-value is: {p_value}')\n"
      ],
      "metadata": {
        "colab": {
          "base_uri": "https://localhost:8080/"
        },
        "id": "PSHb09pswKft",
        "outputId": "a7eb1843-a5ae-43bd-a119-d2ec10d65c3c"
      },
      "execution_count": 8,
      "outputs": [
        {
          "output_type": "stream",
          "name": "stdout",
          "text": [
            "The approximate p-value is: 0.0111\n"
          ]
        }
      ]
    },
    {
      "cell_type": "code",
      "source": [
        "from scipy.stats import t\n",
        "\n",
        "# Given data\n",
        "n = 11\n",
        "t_score = 1.368\n",
        "\n",
        "# Degrees of freedom\n",
        "df = n - 1\n",
        "\n",
        "# Calculate the p-value\n",
        "p_value = t.cdf(t_score, df)\n",
        "\n",
        "# Round the p-value to four decimal places\n",
        "p_value = round(p_value, 4)\n",
        "\n",
        "# Print the p-value\n",
        "print(f'The approximate p-value is: {p_value}')\n",
        "\n",
        "1-p_value\n"
      ],
      "metadata": {
        "colab": {
          "base_uri": "https://localhost:8080/"
        },
        "id": "37i2MW8Xx7kX",
        "outputId": "b7460953-f536-4677-f6c6-615d47bb8ac0"
      },
      "execution_count": 11,
      "outputs": [
        {
          "output_type": "stream",
          "name": "stdout",
          "text": [
            "The approximate p-value is: 0.8994\n"
          ]
        },
        {
          "output_type": "execute_result",
          "data": {
            "text/plain": [
              "0.10060000000000002"
            ]
          },
          "metadata": {},
          "execution_count": 11
        }
      ]
    },
    {
      "cell_type": "code",
      "source": [],
      "metadata": {
        "id": "Hs3gpibUyYbD"
      },
      "execution_count": null,
      "outputs": []
    }
  ]
}