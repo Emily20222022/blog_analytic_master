{
  "nbformat": 4,
  "nbformat_minor": 0,
  "metadata": {
    "colab": {
      "provenance": [],
      "authorship_tag": "ABX9TyOyjisn8s1S6xjrAbRG7FQ5",
      "include_colab_link": true
    },
    "kernelspec": {
      "name": "python3",
      "display_name": "Python 3"
    },
    "language_info": {
      "name": "python"
    },
    "gpuClass": "standard",
    "accelerator": "GPU"
  },
  "cells": [
    {
      "cell_type": "markdown",
      "metadata": {
        "id": "view-in-github",
        "colab_type": "text"
      },
      "source": [
        "<a href=\"https://colab.research.google.com/github/Emily20222022/blog_analytic_master/blob/master/dash_app_for_DS.ipynb\" target=\"_parent\"><img src=\"https://colab.research.google.com/assets/colab-badge.svg\" alt=\"Open In Colab\"/></a>"
      ]
    },
    {
      "cell_type": "code",
      "execution_count": 6,
      "metadata": {
        "colab": {
          "base_uri": "https://localhost:8080/"
        },
        "id": "duhAl7y7aaof",
        "outputId": "08716efd-957d-40bc-cc45-4c14b5a0ddea"
      },
      "outputs": [
        {
          "output_type": "stream",
          "name": "stdout",
          "text": [
            "Looking in indexes: https://pypi.org/simple, https://us-python.pkg.dev/colab-wheels/public/simple/\n",
            "Collecting jupyter-dash\n",
            "  Downloading jupyter_dash-0.4.2-py3-none-any.whl (23 kB)\n",
            "Requirement already satisfied: requests in /usr/local/lib/python3.9/dist-packages (from jupyter-dash) (2.27.1)\n",
            "Requirement already satisfied: flask in /usr/local/lib/python3.9/dist-packages (from jupyter-dash) (2.2.3)\n",
            "Requirement already satisfied: ipykernel in /usr/local/lib/python3.9/dist-packages (from jupyter-dash) (5.5.6)\n",
            "Requirement already satisfied: nest-asyncio in /usr/local/lib/python3.9/dist-packages (from jupyter-dash) (1.5.6)\n",
            "Collecting dash\n",
            "  Downloading dash-2.9.2-py3-none-any.whl (10.2 MB)\n",
            "\u001b[2K     \u001b[90m━━━━━━━━━━━━━━━━━━━━━━━━━━━━━━━━━━━━━━━━\u001b[0m \u001b[32m10.2/10.2 MB\u001b[0m \u001b[31m54.9 MB/s\u001b[0m eta \u001b[36m0:00:00\u001b[0m\n",
            "\u001b[?25hRequirement already satisfied: ipython in /usr/local/lib/python3.9/dist-packages (from jupyter-dash) (7.34.0)\n",
            "Collecting retrying\n",
            "  Downloading retrying-1.3.4-py3-none-any.whl (11 kB)\n",
            "Collecting ansi2html\n",
            "  Downloading ansi2html-1.8.0-py3-none-any.whl (16 kB)\n",
            "Collecting dash-html-components==2.0.0\n",
            "  Downloading dash_html_components-2.0.0-py3-none-any.whl (4.1 kB)\n",
            "Collecting dash-table==5.0.0\n",
            "  Downloading dash_table-5.0.0-py3-none-any.whl (3.9 kB)\n",
            "Collecting dash-core-components==2.0.0\n",
            "  Downloading dash_core_components-2.0.0-py3-none-any.whl (3.8 kB)\n",
            "Requirement already satisfied: plotly>=5.0.0 in /usr/local/lib/python3.9/dist-packages (from dash->jupyter-dash) (5.13.1)\n",
            "Requirement already satisfied: Werkzeug>=2.2.2 in /usr/local/lib/python3.9/dist-packages (from flask->jupyter-dash) (2.2.3)\n",
            "Requirement already satisfied: Jinja2>=3.0 in /usr/local/lib/python3.9/dist-packages (from flask->jupyter-dash) (3.1.2)\n",
            "Requirement already satisfied: itsdangerous>=2.0 in /usr/local/lib/python3.9/dist-packages (from flask->jupyter-dash) (2.1.2)\n",
            "Requirement already satisfied: importlib-metadata>=3.6.0 in /usr/local/lib/python3.9/dist-packages (from flask->jupyter-dash) (6.1.0)\n",
            "Requirement already satisfied: click>=8.0 in /usr/local/lib/python3.9/dist-packages (from flask->jupyter-dash) (8.1.3)\n",
            "Requirement already satisfied: jupyter-client in /usr/local/lib/python3.9/dist-packages (from ipykernel->jupyter-dash) (6.1.12)\n",
            "Requirement already satisfied: traitlets>=4.1.0 in /usr/local/lib/python3.9/dist-packages (from ipykernel->jupyter-dash) (5.7.1)\n",
            "Requirement already satisfied: ipython-genutils in /usr/local/lib/python3.9/dist-packages (from ipykernel->jupyter-dash) (0.2.0)\n",
            "Requirement already satisfied: tornado>=4.2 in /usr/local/lib/python3.9/dist-packages (from ipykernel->jupyter-dash) (6.2)\n",
            "Requirement already satisfied: pygments in /usr/local/lib/python3.9/dist-packages (from ipython->jupyter-dash) (2.14.0)\n",
            "Collecting jedi>=0.16\n",
            "  Downloading jedi-0.18.2-py2.py3-none-any.whl (1.6 MB)\n",
            "\u001b[2K     \u001b[90m━━━━━━━━━━━━━━━━━━━━━━━━━━━━━━━━━━━━━━━━\u001b[0m \u001b[32m1.6/1.6 MB\u001b[0m \u001b[31m80.1 MB/s\u001b[0m eta \u001b[36m0:00:00\u001b[0m\n",
            "\u001b[?25hRequirement already satisfied: pickleshare in /usr/local/lib/python3.9/dist-packages (from ipython->jupyter-dash) (0.7.5)\n",
            "Requirement already satisfied: prompt-toolkit!=3.0.0,!=3.0.1,<3.1.0,>=2.0.0 in /usr/local/lib/python3.9/dist-packages (from ipython->jupyter-dash) (3.0.38)\n",
            "Requirement already satisfied: backcall in /usr/local/lib/python3.9/dist-packages (from ipython->jupyter-dash) (0.2.0)\n",
            "Requirement already satisfied: setuptools>=18.5 in /usr/local/lib/python3.9/dist-packages (from ipython->jupyter-dash) (67.6.1)\n",
            "Requirement already satisfied: decorator in /usr/local/lib/python3.9/dist-packages (from ipython->jupyter-dash) (4.4.2)\n",
            "Requirement already satisfied: matplotlib-inline in /usr/local/lib/python3.9/dist-packages (from ipython->jupyter-dash) (0.1.6)\n",
            "Requirement already satisfied: pexpect>4.3 in /usr/local/lib/python3.9/dist-packages (from ipython->jupyter-dash) (4.8.0)\n",
            "Requirement already satisfied: urllib3<1.27,>=1.21.1 in /usr/local/lib/python3.9/dist-packages (from requests->jupyter-dash) (1.26.15)\n",
            "Requirement already satisfied: charset-normalizer~=2.0.0 in /usr/local/lib/python3.9/dist-packages (from requests->jupyter-dash) (2.0.12)\n",
            "Requirement already satisfied: idna<4,>=2.5 in /usr/local/lib/python3.9/dist-packages (from requests->jupyter-dash) (3.4)\n",
            "Requirement already satisfied: certifi>=2017.4.17 in /usr/local/lib/python3.9/dist-packages (from requests->jupyter-dash) (2022.12.7)\n",
            "Requirement already satisfied: six>=1.7.0 in /usr/local/lib/python3.9/dist-packages (from retrying->jupyter-dash) (1.16.0)\n",
            "Requirement already satisfied: zipp>=0.5 in /usr/local/lib/python3.9/dist-packages (from importlib-metadata>=3.6.0->flask->jupyter-dash) (3.15.0)\n",
            "Requirement already satisfied: parso<0.9.0,>=0.8.0 in /usr/local/lib/python3.9/dist-packages (from jedi>=0.16->ipython->jupyter-dash) (0.8.3)\n",
            "Requirement already satisfied: MarkupSafe>=2.0 in /usr/local/lib/python3.9/dist-packages (from Jinja2>=3.0->flask->jupyter-dash) (2.1.2)\n",
            "Requirement already satisfied: ptyprocess>=0.5 in /usr/local/lib/python3.9/dist-packages (from pexpect>4.3->ipython->jupyter-dash) (0.7.0)\n",
            "Requirement already satisfied: tenacity>=6.2.0 in /usr/local/lib/python3.9/dist-packages (from plotly>=5.0.0->dash->jupyter-dash) (8.2.2)\n",
            "Requirement already satisfied: wcwidth in /usr/local/lib/python3.9/dist-packages (from prompt-toolkit!=3.0.0,!=3.0.1,<3.1.0,>=2.0.0->ipython->jupyter-dash) (0.2.6)\n",
            "Requirement already satisfied: pyzmq>=13 in /usr/local/lib/python3.9/dist-packages (from jupyter-client->ipykernel->jupyter-dash) (23.2.1)\n",
            "Requirement already satisfied: jupyter-core>=4.6.0 in /usr/local/lib/python3.9/dist-packages (from jupyter-client->ipykernel->jupyter-dash) (5.3.0)\n",
            "Requirement already satisfied: python-dateutil>=2.1 in /usr/local/lib/python3.9/dist-packages (from jupyter-client->ipykernel->jupyter-dash) (2.8.2)\n",
            "Requirement already satisfied: platformdirs>=2.5 in /usr/local/lib/python3.9/dist-packages (from jupyter-core>=4.6.0->jupyter-client->ipykernel->jupyter-dash) (3.2.0)\n",
            "Installing collected packages: dash-table, dash-html-components, dash-core-components, retrying, jedi, ansi2html, dash, jupyter-dash\n",
            "Successfully installed ansi2html-1.8.0 dash-2.9.2 dash-core-components-2.0.0 dash-html-components-2.0.0 dash-table-5.0.0 jedi-0.18.2 jupyter-dash-0.4.2 retrying-1.3.4\n"
          ]
        }
      ],
      "source": [
        "!pip install jupyter-dash "
      ]
    },
    {
      "cell_type": "code",
      "source": [
        "import dash\n",
        "import dash_core_components as dcc\n",
        "import dash_html_components as html\n",
        "from jupyter_dash import JupyterDash\n",
        "\n",
        "app = JupyterDash(__name__)\n",
        "\n",
        "app.layout = html.Div([\n",
        "    dcc.Input(id='input', value='Hello Dash, this time please make it real to me...', type='text'),\n",
        "    html.Div(id='output')\n",
        "])\n",
        "\n",
        "@app.callback(\n",
        "    dash.dependencies.Output('output', 'children'),\n",
        "    [dash.dependencies.Input('input', 'value')])\n",
        "def update_output(value):\n",
        "    return 'You have entered \"{}\"'.format(value)\n",
        "\n",
        "if __name__ == '__main__':\n",
        "    app.run_server(mode='inline')\n"
      ],
      "metadata": {
        "colab": {
          "base_uri": "https://localhost:8080/",
          "height": 880
        },
        "id": "IAFUOTroaulq",
        "outputId": "5a3ce900-1738-4c0a-b3f3-b6526d1caa22"
      },
      "execution_count": 7,
      "outputs": [
        {
          "output_type": "stream",
          "name": "stdout",
          "text": [
            "Dash is running on http://127.0.0.1:8050/\n",
            "\n"
          ]
        },
        {
          "output_type": "stream",
          "name": "stderr",
          "text": [
            "<ipython-input-7-117ea04b9297>:2: UserWarning: \n",
            "The dash_core_components package is deprecated. Please replace\n",
            "`import dash_core_components as dcc` with `from dash import dcc`\n",
            "  import dash_core_components as dcc\n",
            "<ipython-input-7-117ea04b9297>:3: UserWarning: \n",
            "The dash_html_components package is deprecated. Please replace\n",
            "`import dash_html_components as html` with `from dash import html`\n",
            "  import dash_html_components as html\n",
            "INFO:dash.dash:Dash is running on http://127.0.0.1:8050/\n",
            "\n"
          ]
        },
        {
          "output_type": "display_data",
          "data": {
            "text/plain": [
              "<IPython.core.display.Javascript object>"
            ],
            "application/javascript": [
              "(async (port, path, width, height, cache, element) => {\n",
              "    if (!google.colab.kernel.accessAllowed && !cache) {\n",
              "      return;\n",
              "    }\n",
              "    element.appendChild(document.createTextNode(''));\n",
              "    const url = await google.colab.kernel.proxyPort(port, {cache});\n",
              "    const iframe = document.createElement('iframe');\n",
              "    iframe.src = new URL(path, url).toString();\n",
              "    iframe.height = height;\n",
              "    iframe.width = width;\n",
              "    iframe.style.border = 0;\n",
              "    iframe.allow = [\n",
              "        'accelerometer',\n",
              "        'autoplay',\n",
              "        'camera',\n",
              "        'clipboard-read',\n",
              "        'clipboard-write',\n",
              "        'gyroscope',\n",
              "        'magnetometer',\n",
              "        'microphone',\n",
              "        'serial',\n",
              "        'usb',\n",
              "        'xr-spatial-tracking',\n",
              "    ].join('; ');\n",
              "    element.appendChild(iframe);\n",
              "  })(8050, \"/\", \"100%\", 650, false, window.element)"
            ]
          },
          "metadata": {}
        }
      ]
    },
    {
      "cell_type": "code",
      "source": [
        "import dash\n",
        "from jupyter_dash import jupyter_dash\n",
        "import dash_core_components as dcc\n",
        "import dash_html_components as html\n",
        "# from dash import dcc\n",
        "# from dash import html\n",
        "\n",
        "import plotly.express as px\n",
        "\n",
        "df = px.data.tips()\n",
        "\n",
        "app = JupyterDash(__name__)\n",
        "\n",
        "print(app)"
      ],
      "metadata": {
        "colab": {
          "base_uri": "https://localhost:8080/"
        },
        "id": "LmQnCAQfeDCA",
        "outputId": "0ce744e7-710b-49d1-8d73-e81c2436d073"
      },
      "execution_count": 29,
      "outputs": [
        {
          "output_type": "stream",
          "name": "stdout",
          "text": [
            "<jupyter_dash.jupyter_app.JupyterDash object at 0x7fa8249ea190>\n"
          ]
        }
      ]
    },
    {
      "cell_type": "code",
      "source": [
        "app.layout = html.Div([\n",
        "                      html.H1(\"My Dash App\"),\n",
        "                      html.P(\"Welcome\"),\n",
        "                      dcc.Graph(id=\"graph\")\n",
        "])\n",
        "\n",
        "app.run_server(mode=\"inline\")"
      ],
      "metadata": {
        "colab": {
          "base_uri": "https://localhost:8080/",
          "height": 741
        },
        "id": "oDf4gYZkbPiI",
        "outputId": "90924f23-523b-4562-af95-b28719b78258"
      },
      "execution_count": 30,
      "outputs": [
        {
          "output_type": "stream",
          "name": "stdout",
          "text": [
            "Dash is running on http://127.0.0.1:8050/\n",
            "\n"
          ]
        },
        {
          "output_type": "stream",
          "name": "stderr",
          "text": [
            "INFO:dash.dash:Dash is running on http://127.0.0.1:8050/\n",
            "\n"
          ]
        },
        {
          "output_type": "display_data",
          "data": {
            "text/plain": [
              "<IPython.core.display.Javascript object>"
            ],
            "application/javascript": [
              "(async (port, path, width, height, cache, element) => {\n",
              "    if (!google.colab.kernel.accessAllowed && !cache) {\n",
              "      return;\n",
              "    }\n",
              "    element.appendChild(document.createTextNode(''));\n",
              "    const url = await google.colab.kernel.proxyPort(port, {cache});\n",
              "    const iframe = document.createElement('iframe');\n",
              "    iframe.src = new URL(path, url).toString();\n",
              "    iframe.height = height;\n",
              "    iframe.width = width;\n",
              "    iframe.style.border = 0;\n",
              "    iframe.allow = [\n",
              "        'accelerometer',\n",
              "        'autoplay',\n",
              "        'camera',\n",
              "        'clipboard-read',\n",
              "        'clipboard-write',\n",
              "        'gyroscope',\n",
              "        'magnetometer',\n",
              "        'microphone',\n",
              "        'serial',\n",
              "        'usb',\n",
              "        'xr-spatial-tracking',\n",
              "    ].join('; ');\n",
              "    element.appendChild(iframe);\n",
              "  })(8050, \"/\", \"100%\", 650, false, window.element)"
            ]
          },
          "metadata": {}
        }
      ]
    },
    {
      "cell_type": "code",
      "source": [
        "import dash\n",
        "from jupyter_dash import JupyterDash\n",
        "import dash_core_components as dcc\n",
        "import dash_html_components as html\n",
        "import plotly.express as px\n",
        "import pandas as pd\n",
        "\n",
        "import csv\n",
        "\n",
        "# Sample data\n",
        "data = [\n",
        "    {\"x\": 1, \"y\": 2, \"color\": \"red\"},\n",
        "    {\"x\": 3, \"y\": 4, \"color\": \"blue\"},\n",
        "    {\"x\": 5, \"y\": 6, \"color\": \"green\"},\n",
        "    {\"x\": 7, \"y\": 8, \"color\": \"yellow\"}\n",
        "]\n",
        "\n",
        "# Create the CSV file\n",
        "with open(\"data.csv\", mode=\"w\") as file:\n",
        "    writer = csv.DictWriter(file, fieldnames=[\"x\", \"y\", \"color\"])\n",
        "    writer.writeheader()\n",
        "    for d in data:\n",
        "        writer.writerow(d)\n",
        "\n",
        "\n",
        "# load data from csv file\n",
        "df = pd.read_csv('data.csv')\n",
        "\n",
        "# create JupyterDash app\n",
        "app = JupyterDash(__name__)\n",
        "\n",
        "# define app layout\n",
        "app.layout = html.Div([\n",
        "    html.H1(\"My Dash App\"),\n",
        "    html.P(\"Welcome\"),\n",
        "    dcc.Graph(\n",
        "        id=\"graph}\",\n",
        "        figure=px.scatter(df, x=\"x\", y=\"y\", color=\"color\")\n",
        "    )\n",
        "])\n",
        "\n",
        "# run the app\n",
        "app.run_server(mode=\"inline\")"
      ],
      "metadata": {
        "colab": {
          "base_uri": "https://localhost:8080/",
          "height": 741
        },
        "id": "mbCetim_f_wL",
        "outputId": "d24fbd55-70e3-43b4-e4a8-ca6143da06dd"
      },
      "execution_count": 34,
      "outputs": [
        {
          "output_type": "stream",
          "name": "stdout",
          "text": [
            "Dash is running on http://127.0.0.1:8050/\n",
            "\n"
          ]
        },
        {
          "output_type": "stream",
          "name": "stderr",
          "text": [
            "INFO:dash.dash:Dash is running on http://127.0.0.1:8050/\n",
            "\n"
          ]
        },
        {
          "output_type": "display_data",
          "data": {
            "text/plain": [
              "<IPython.core.display.Javascript object>"
            ],
            "application/javascript": [
              "(async (port, path, width, height, cache, element) => {\n",
              "    if (!google.colab.kernel.accessAllowed && !cache) {\n",
              "      return;\n",
              "    }\n",
              "    element.appendChild(document.createTextNode(''));\n",
              "    const url = await google.colab.kernel.proxyPort(port, {cache});\n",
              "    const iframe = document.createElement('iframe');\n",
              "    iframe.src = new URL(path, url).toString();\n",
              "    iframe.height = height;\n",
              "    iframe.width = width;\n",
              "    iframe.style.border = 0;\n",
              "    iframe.allow = [\n",
              "        'accelerometer',\n",
              "        'autoplay',\n",
              "        'camera',\n",
              "        'clipboard-read',\n",
              "        'clipboard-write',\n",
              "        'gyroscope',\n",
              "        'magnetometer',\n",
              "        'microphone',\n",
              "        'serial',\n",
              "        'usb',\n",
              "        'xr-spatial-tracking',\n",
              "    ].join('; ');\n",
              "    element.appendChild(iframe);\n",
              "  })(8050, \"/\", \"100%\", 650, false, window.element)"
            ]
          },
          "metadata": {}
        }
      ]
    },
    {
      "cell_type": "code",
      "source": [
        "import matplotlib.pyplot as plt\n",
        "import numpy as np\n",
        "\n",
        "\n",
        "economy = {'Ancient': 60, 'Medieval': 30, 'Early Modern': 40, 'Industrial': 80, 'World Wars': 50, 'Post-War': 70, 'Contemporary': 90,}\n",
        "\n",
        "health = {'Ancient': 50, 'Medieval': 20, 'Early Modern': 30, 'Industrial': 70, 'World Wars': 40, 'Post-War': 60, 'Contemporary': 80}\n",
        "\n",
        "mental = {'Ancient': 40, 'Medieval': 10, 'Early Modern': 20, 'Industrial': 60, 'World Wars': 30, 'Post-War': 50, 'Contemporary': 70}\n",
        "\n",
        "social = {'Ancient': 80, 'Medieval': 50, 'Early Modern': 60, 'Industrial': 85, 'World Wars ': 70, 'Post-War': 90, 'Contemporary': 95}\n",
        "\n",
        "technology = {'Ancient': 20, 'Medieval': 10, 'Early Modern': 30, 'Industrial': 90, 'World Wars ': 50, 'Post-War': 80, 'Contemporary': 100}\n",
        "\n",
        "labels = list(economy.keys())\n",
        "x = np.arange(len(labels))\n",
        "\n",
        "fig, ax = plt.subplots(figsize=(10,6))\n",
        "ax.bar(x - 0.4, list(economy.values()), width=0.2, color='b', align='center', label='Economy')\n",
        "ax.bar(x - 0.2, list(health.values()), width=0.2, color='g', align='center', label='Health')\n",
        "ax.bar(x, list(mental.values()), width=0.2, color='r', align='center', label='Mental')\n",
        "ax.bar(x + 0.2, list(social.values()), width=0.2, color='y', align='center', label='Social')\n",
        "ax.bar(x + 0.4, list(technology.values()), width=0.2, color='purple', align='center', label='Technology')\n",
        "\n",
        "ax.set_xticks(x)\n",
        "ax.set_xticklabels(labels)\n",
        "ax.legend()\n",
        "\n",
        "plt.show()\n",
        "\n",
        "# import pandas as pd\n",
        "\n",
        "# # create a sample dataframe\n",
        "# data = {'Era': ['Ancient', 'Medieval', 'Modern', 'Industrial', 'Wars', 'Post-World', 'Contemporary'],\n",
        "#         'Economy': [5, 6, 7, 8, 9, 8, 9],\n",
        "#         'Health': [4, 5, 6, 7, 8, 9, 9],\n",
        "#         'Mental': [6, 7, 8, 7, 6, 8, 9],\n",
        "#         'Social': [7, 6, 8, 9, 7, 8, 9]}\n",
        "# df = pd.DataFrame(data)\n",
        "\n",
        "# # save the dataframe to a CSV file\n",
        "# df.to_csv('history_data.csv', index=False)\n",
        "\n",
        "\n"
      ],
      "metadata": {
        "colab": {
          "base_uri": "https://localhost:8080/",
          "height": 522
        },
        "id": "2Ii-EEbfFWK2",
        "outputId": "198e67bd-a6ef-4b7a-8697-2f04455c4b09"
      },
      "execution_count": 1,
      "outputs": [
        {
          "output_type": "display_data",
          "data": {
            "text/plain": [
              "<Figure size 1000x600 with 1 Axes>"
            ],
            "image/png": "[encoded data removed]"
          },
          "metadata": {}
        }
      ]
    },
    {
      "cell_type": "code",
      "source": [
        "import nltk\n",
        "import nltk\n",
        "nltk.download('punkt')\n",
        "nltk.download('vader_lexicon')\n",
        "from nltk.tokenize import word_tokenize\n",
        "from nltk.probability import FreqDist\n",
        "from nltk.sentiment.vader import SentimentIntensityAnalyzer\n",
        "with open('exploring-a-century-back.txt', 'r') as file:\n",
        "    text = file.read()\n",
        "\n",
        "tokens = word_tokenize(text)\n",
        "freq_dist = FreqDist(tokens)\n",
        "print(freq_dist.most_common(10))\n",
        "analyzer = SentimentIntensityAnalyzer()\n",
        "sentiment_score = analyzer.polarity_scores(text)\n"
      ],
      "metadata": {
        "id": "QAlYPWMJQr0-",
        "outputId": "7150da22-4327-4018-f7e1-0c83d57110d1",
        "colab": {
          "base_uri": "https://localhost:8080/"
        }
      },
      "execution_count": 16,
      "outputs": [
        {
          "output_type": "stream",
          "name": "stderr",
          "text": [
            "[nltk_data] Downloading package punkt to /root/nltk_data...\n",
            "[nltk_data]   Package punkt is already up-to-date!\n",
            "[nltk_data] Downloading package vader_lexicon to /root/nltk_data...\n",
            "[nltk_data]   Package vader_lexicon is already up-to-date!\n"
          ]
        },
        {
          "output_type": "stream",
          "name": "stdout",
          "text": [
            "[(',', 972), ('the', 965), ('and', 904), ('of', 712), ('.', 543), ('to', 304), ('The', 242), ('in', 238), ('a', 179), ('significant', 166)]\n"
          ]
        }
      ]
    },
    {
      "cell_type": "code",
      "source": [
        "import nltk\n",
        "nltk.download('punkt')\n",
        "nltk.download('vader_lexicon')\n",
        "from nltk.tokenize import word_tokenize\n",
        "from nltk.probability import FreqDist\n",
        "from nltk.sentiment.vader import SentimentIntensityAnalyzer\n",
        "import spacy\n",
        "from collections import defaultdict\n",
        "from heapq import nlargest\n",
        "from nltk.corpus import stopwords\n",
        "\n",
        "\n",
        "# Load text file\n",
        "with open('exploring-a-century-back.txt', 'r', encoding='utf-8') as file:\n",
        "\n",
        "    text = file.read()\n",
        "\n",
        "# Tokenize and get frequency distribution of words\n",
        "tokens = word_tokenize(text)\n",
        "freq_dist = FreqDist(tokens)\n",
        "print(freq_dist.most_common(10))\n",
        "\n",
        "# Analyze sentiment using VADER\n",
        "analyzer = SentimentIntensityAnalyzer()\n",
        "sentiment_score = analyzer.polarity_scores(text)\n",
        "\n",
        "# Define function to get top n keywords\n",
        "nlp = spacy.load('en_core_web_sm')\n",
        "def get_top_n_keywords(text, n):\n",
        "    doc = nlp(text)\n",
        "    word_frequencies = defaultdict(int)\n",
        "    for word in doc:\n",
        "        if not word.is_stop and not word.is_punct and not word.is_space:\n",
        "            word_frequencies[str(word.lemma_).lower()] += 1\n",
        "\n",
        "    max_frequency = max(word_frequencies.values())\n",
        "    for word in word_frequencies.keys():\n",
        "        word_frequencies[word] = (word_frequencies[word]/max_frequency)\n",
        "\n",
        "    sentence_list = [sentence for sentence in doc.sents]\n",
        "\n",
        "    word_scores = defaultdict(int)\n",
        "    for sentence in sentence_list:\n",
        "        for word in sentence:\n",
        "            if str(word.lemma_).lower() in word_frequencies.keys():\n",
        "                word_scores[str(word.lemma_).lower()] += word_frequencies[str(word.lemma_).lower()]\n",
        "\n",
        "    top_keywords = nlargest(n, word_scores, key=word_scores.get)\n",
        "    return top_keywords\n",
        "\n",
        "\n",
        "# Get top 5 keywords in the text\n",
        "top_keywords = get_top_n_keywords(text, 5)\n",
        "print(top_keywords)\n",
        "\n"
      ],
      "metadata": {
        "id": "sT4oAVnXSQrj",
        "outputId": "225140e4-3295-400f-c644-b58fbd993d28",
        "colab": {
          "base_uri": "https://localhost:8080/"
        }
      },
      "execution_count": 39,
      "outputs": [
        {
          "output_type": "stream",
          "name": "stderr",
          "text": [
            "[nltk_data] Downloading package punkt to /root/nltk_data...\n",
            "[nltk_data]   Package punkt is already up-to-date!\n",
            "[nltk_data] Downloading package vader_lexicon to /root/nltk_data...\n",
            "[nltk_data]   Package vader_lexicon is already up-to-date!\n"
          ]
        },
        {
          "output_type": "stream",
          "name": "stdout",
          "text": [
            "[(',', 972), ('the', 965), ('and', 904), ('of', 712), ('.', 543), ('to', 304), ('The', 242), ('in', 238), ('a', 179), ('significant', 166)]\n",
            "['world', 'significant', 'health', 'social', 'war']\n"
          ]
        }
      ]
    },
    {
      "cell_type": "code",
      "source": [
        "import spacy\n",
        "from collections import defaultdict\n",
        "from heapq import nlargest\n",
        "\n",
        "nlp = spacy.load('en_core_web_sm')\n",
        "\n",
        "def get_top_n_keywords(text, n):\n",
        "    doc = nlp(text)\n",
        "    word_frequencies = defaultdict(int)\n",
        "    for word in doc:\n",
        "        if not word.is_stop and not word.is_punct and not word.is_space:\n",
        "            word_frequencies[str(word.lemma_).lower()] += 1\n",
        "\n",
        "    max_frequency = max(word_frequencies.values())\n",
        "    for word in word_frequencies.keys():\n",
        "        word_frequencies[word] = (word_frequencies[word]/max_frequency)\n",
        "\n",
        "    sentence_list = [sentence for sentence in doc.sents]\n",
        "\n",
        "    word_scores = defaultdict(int)\n",
        "    for sentence in sentence_list:\n",
        "        for word in sentence:\n",
        "            if str(word.lemma_).lower() in word_frequencies.keys():\n",
        "                word_scores[str(word.lemma_).lower()] += word_frequencies[str(word.lemma_).lower()]\n",
        "\n",
        "    top_keywords = nlargest(n, word_scores, key=word_scores.get)\n",
        "    return top_keywords\n",
        "\n",
        "\n",
        "with open('exploring-a-century-back.txt', 'r', encoding='utf-8') as file:\n",
        "    ancient_text = file.read()\n",
        "with open('exploring-a-century-back.txt', 'r', encoding='utf-8') as file:\n",
        "    medieval_text = file.read()\n",
        "with open('exploring-a-century-back.txt', 'r', encoding='utf-8') as file:\n",
        "    early_modern_text = file.read()\n",
        "with open('exploring-a-century-back.txt', 'r', encoding='utf-8') as file:\n",
        "    industrial_text = file.read()\n",
        "with open('exploring-a-century-back.txt', 'r', encoding='utf-8') as file:\n",
        "    world_wars_text = file.read()\n",
        "with open('exploring-a-century-back.txt', 'r', encoding='utf-8') as file:\n",
        "    post_war_text = file.read()\n",
        "with open('exploring-a-century-back.txt', 'r', encoding='utf-8') as file:\n",
        "    contemporary_text = file.read()\n",
        "\n",
        "ancient_keywords = get_top_n_keywords(ancient_text, 10)\n",
        "medieval_keywords = get_top_n_keywords(medieval_text, 10)\n",
        "early_modern_keywords = get_top_n_keywords(early_modern_text, 10)\n",
        "industrial_keywords = get_top_n_keywords(industrial_text, 10)\n",
        "world_wars_keywords = get_top_n_keywords(world_wars_text, 10)\n",
        "post_war_keywords = get_top_n_keywords(post_war_text, 10)\n",
        "contemporary_keywords = get_top_n_keywords(contemporary_text, 10)\n",
        "\n",
        "print(\"Ancient era keywords:\", ancient_keywords)\n",
        "print(\"Medieval era keywords:\", medieval_keywords)\n",
        "print(\"Early modern era keywords:\", early_modern_keywords)\n",
        "print(\"Industrial era keywords:\", industrial_keywords)\n",
        "print(\"World Wars era keywords:\", world_wars_keywords)\n",
        "print(\"Post-war era keywords:\", post_war_keywords)\n",
        "print(\"Contemporary era keywords:\", contemporary_keywords)\n"
      ],
      "metadata": {
        "id": "yrPmzIXeWZMW",
        "outputId": "1cb6d99a-d69f-4e15-b65d-c7e174d92d04",
        "colab": {
          "base_uri": "https://localhost:8080/"
        }
      },
      "execution_count": 40,
      "outputs": [
        {
          "output_type": "stream",
          "name": "stdout",
          "text": [
            "Ancient era keywords: ['world', 'significant', 'health', 'social', 'war', 'chapter', 'development', 'mental', 'era', 'lead']\n",
            "Medieval era keywords: ['world', 'significant', 'health', 'social', 'war', 'chapter', 'development', 'mental', 'era', 'lead']\n",
            "Early modern era keywords: ['world', 'significant', 'health', 'social', 'war', 'chapter', 'development', 'mental', 'era', 'lead']\n",
            "Industrial era keywords: ['world', 'significant', 'health', 'social', 'war', 'chapter', 'development', 'mental', 'era', 'lead']\n",
            "World Wars era keywords: ['world', 'significant', 'health', 'social', 'war', 'chapter', 'development', 'mental', 'era', 'lead']\n",
            "Post-war era keywords: ['world', 'significant', 'health', 'social', 'war', 'chapter', 'development', 'mental', 'era', 'lead']\n",
            "Contemporary era keywords: ['world', 'significant', 'health', 'social', 'war', 'chapter', 'development', 'mental', 'era', 'lead']\n"
          ]
        }
      ]
    },
    {
      "cell_type": "code",
      "source": [
        "import nltk\n",
        "nltk.download('punkt')\n",
        "nltk.download('vader_lexicon')\n",
        "from nltk.tokenize import word_tokenize\n",
        "from nltk.probability import FreqDist\n",
        "from nltk.sentiment.vader import SentimentIntensityAnalyzer\n",
        "import spacy\n",
        "from collections import defaultdict\n",
        "from heapq import nlargest\n",
        "from nltk.corpus import stopwords\n",
        "\n",
        "\n",
        "# Load text file\n",
        "with open('exploring-a-century-back.txt', 'r', encoding='utf-8') as file:\n",
        "\n",
        "    text = file.read()\n",
        "\n",
        "import spacy\n",
        "from collections import defaultdict\n",
        "from heapq import nlargest\n",
        "\n",
        "nlp = spacy.load('en_core_web_sm')\n",
        "\n",
        "def get_top_n_keywords(chapter_text, n):\n",
        "    doc = nlp(chapter_text)\n",
        "    word_frequencies = defaultdict(int)\n",
        "    for word in doc:\n",
        "        if not word.is_stop and not word.is_punct and not word.is_space:\n",
        "            word_frequencies[str(word.lemma_).lower()] += 1\n",
        "\n",
        "    max_frequency = max(word_frequencies.values())\n",
        "    for word in word_frequencies.keys():\n",
        "        word_frequencies[word] = (word_frequencies[word]/max_frequency)\n",
        "\n",
        "    sentence_list = [sentence for sentence in doc.sents]\n",
        "\n",
        "    word_scores = defaultdict(int)\n",
        "    for sentence in sentence_list:\n",
        "        for word in sentence:\n",
        "            if str(word.lemma_).lower() in word_frequencies.keys():\n",
        "                word_scores[str(word.lemma_).lower()] += word_frequencies[str(word.lemma_).lower()]\n",
        "\n",
        "    top_keywords = nlargest(n, word_scores, key=word_scores.get)\n",
        "    return top_keywords\n",
        "\n",
        "print(\"Ancient era keywords:\", ancient_keywords)\n",
        "print(\"Medieval era keywords:\", medieval_keywords)\n",
        "print(\"Early modern era keywords:\", early_modern_keywords)\n",
        "print(\"Industrial era keywords:\", industrial_keywords)\n",
        "print(\"World Wars era keywords:\", world_wars_keywords)\n",
        "print(\"Post-war era keywords:\", post_war_keywords)\n",
        "print(\"Contemporary era keywords:\", contemporary_keywords)"
      ],
      "metadata": {
        "colab": {
          "base_uri": "https://localhost:8080/"
        },
        "id": "7a-zwSqTJEXN",
        "outputId": "81bb8dab-fb40-4b16-a79c-a79ae4865924"
      },
      "execution_count": 42,
      "outputs": [
        {
          "output_type": "stream",
          "name": "stderr",
          "text": [
            "[nltk_data] Downloading package punkt to /root/nltk_data...\n",
            "[nltk_data]   Package punkt is already up-to-date!\n",
            "[nltk_data] Downloading package vader_lexicon to /root/nltk_data...\n",
            "[nltk_data]   Package vader_lexicon is already up-to-date!\n"
          ]
        },
        {
          "output_type": "stream",
          "name": "stdout",
          "text": [
            "Ancient era keywords: ['world', 'significant', 'health', 'social', 'war', 'chapter', 'development', 'mental', 'era', 'lead']\n",
            "Medieval era keywords: ['world', 'significant', 'health', 'social', 'war', 'chapter', 'development', 'mental', 'era', 'lead']\n",
            "Early modern era keywords: ['world', 'significant', 'health', 'social', 'war', 'chapter', 'development', 'mental', 'era', 'lead']\n",
            "Industrial era keywords: ['world', 'significant', 'health', 'social', 'war', 'chapter', 'development', 'mental', 'era', 'lead']\n",
            "World Wars era keywords: ['world', 'significant', 'health', 'social', 'war', 'chapter', 'development', 'mental', 'era', 'lead']\n",
            "Post-war era keywords: ['world', 'significant', 'health', 'social', 'war', 'chapter', 'development', 'mental', 'era', 'lead']\n",
            "Contemporary era keywords: ['world', 'significant', 'health', 'social', 'war', 'chapter', 'development', 'mental', 'era', 'lead']\n"
          ]
        }
      ]
    }
  ]
}